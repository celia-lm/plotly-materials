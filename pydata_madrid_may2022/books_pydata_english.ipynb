{
 "cells": [
  {
   "cell_type": "code",
   "execution_count": 45,
   "metadata": {},
   "outputs": [],
   "source": [
    "import pandas as pd\n",
    "import numpy as np\n",
    "\n",
    "import plotly.express as px\n",
    "import plotly.graph_objects as go\n",
    "import plotly.io as pio"
   ]
  },
  {
   "cell_type": "markdown",
   "metadata": {},
   "source": [
    "# Reading data\n",
    "The book data used in this notebook have been extracted from [Goodreads](https://www.goodreads.com/) by webscraping with a modified version of the `goodreads_scraper` code by Maria Antoniak and Melanie Walsh publicly available at: https://github.com/maria-antoniak/goodreads-scraper.\n",
    "\n",
    "The most relevant variables of the book dataframes we are going to deal with are:\n",
    "* `title`: Title of the book.\n",
    "* `series_name`: Name of the saga/series.\n",
    "* `series_n`: Order of the book within the saga/series.\n",
    "* `num_ratings`: Total number of ratings of the book in Goodreads.\n",
    "* `average_rating`: Average rating of the book on Goodreads. The range is 1-5.\n",
    "* `hist_rating`: Weighted average rating of the saga/book it belongs to. It is calculated by making a weighted average (by the number of ratings) of the ratings of the book in question and the previous ones. For example, to calculate `hist_rating` of the 3rd book of a saga of 7, the average score of books 1, 2 and 3 is taken into account, weighted by the number of people who have rated each of them. This variable is only in the `sanderson_df` dataframe.\n"
   ]
  },
  {
   "cell_type": "code",
   "execution_count": 48,
   "metadata": {},
   "outputs": [
    {
     "data": {
      "text/html": [
       "<div>\n",
       "<style scoped>\n",
       "    .dataframe tbody tr th:only-of-type {\n",
       "        vertical-align: middle;\n",
       "    }\n",
       "\n",
       "    .dataframe tbody tr th {\n",
       "        vertical-align: top;\n",
       "    }\n",
       "\n",
       "    .dataframe thead th {\n",
       "        text-align: right;\n",
       "    }\n",
       "</style>\n",
       "<table border=\"1\" class=\"dataframe\">\n",
       "  <thead>\n",
       "    <tr style=\"text-align: right;\">\n",
       "      <th></th>\n",
       "      <th>title</th>\n",
       "      <th>series_name</th>\n",
       "      <th>series_n</th>\n",
       "      <th>year_first_published</th>\n",
       "      <th>author_name</th>\n",
       "      <th>num_pages</th>\n",
       "      <th>num_ratings</th>\n",
       "      <th>num_reviews</th>\n",
       "      <th>average_rating</th>\n",
       "      <th>main_genre</th>\n",
       "      <th>saga</th>\n",
       "    </tr>\n",
       "  </thead>\n",
       "  <tbody>\n",
       "    <tr>\n",
       "      <th>0</th>\n",
       "      <td>Harry Potter and the Sorcerer's Stone</td>\n",
       "      <td>Harry Potter</td>\n",
       "      <td>1.0</td>\n",
       "      <td>2003.0</td>\n",
       "      <td>J.K. Rowling</td>\n",
       "      <td>309.0</td>\n",
       "      <td>8491079</td>\n",
       "      <td>134158</td>\n",
       "      <td>4.48</td>\n",
       "      <td>Fantasy</td>\n",
       "      <td>Saga (first book)</td>\n",
       "    </tr>\n",
       "    <tr>\n",
       "      <th>1</th>\n",
       "      <td>Harry Potter and the Chamber of Secrets</td>\n",
       "      <td>Harry Potter</td>\n",
       "      <td>2.0</td>\n",
       "      <td>1999.0</td>\n",
       "      <td>J.K. Rowling</td>\n",
       "      <td>341.0</td>\n",
       "      <td>3277548</td>\n",
       "      <td>64524</td>\n",
       "      <td>4.43</td>\n",
       "      <td>Fantasy</td>\n",
       "      <td>Saga (continuation)</td>\n",
       "    </tr>\n",
       "    <tr>\n",
       "      <th>2</th>\n",
       "      <td>Harry Potter and the Prisoner of Azkaban</td>\n",
       "      <td>Harry Potter</td>\n",
       "      <td>3.0</td>\n",
       "      <td>2004.0</td>\n",
       "      <td>J.K. Rowling</td>\n",
       "      <td>435.0</td>\n",
       "      <td>3439727</td>\n",
       "      <td>67846</td>\n",
       "      <td>4.58</td>\n",
       "      <td>Fantasy</td>\n",
       "      <td>Saga (continuation)</td>\n",
       "    </tr>\n",
       "    <tr>\n",
       "      <th>3</th>\n",
       "      <td>Harry Potter and the Goblet of Fire</td>\n",
       "      <td>Harry Potter</td>\n",
       "      <td>4.0</td>\n",
       "      <td>2002.0</td>\n",
       "      <td>J.K. Rowling</td>\n",
       "      <td>734.0</td>\n",
       "      <td>3057818</td>\n",
       "      <td>56382</td>\n",
       "      <td>4.57</td>\n",
       "      <td>Fantasy</td>\n",
       "      <td>Saga (continuation)</td>\n",
       "    </tr>\n",
       "    <tr>\n",
       "      <th>4</th>\n",
       "      <td>Harry Potter and the Order of the Phoenix</td>\n",
       "      <td>Harry Potter</td>\n",
       "      <td>5.0</td>\n",
       "      <td>2004.0</td>\n",
       "      <td>J.K. Rowling</td>\n",
       "      <td>870.0</td>\n",
       "      <td>2927014</td>\n",
       "      <td>51572</td>\n",
       "      <td>4.50</td>\n",
       "      <td>Fantasy</td>\n",
       "      <td>Saga (continuation)</td>\n",
       "    </tr>\n",
       "  </tbody>\n",
       "</table>\n",
       "</div>"
      ],
      "text/plain": [
       "                                       title   series_name  series_n  \\\n",
       "0      Harry Potter and the Sorcerer's Stone  Harry Potter       1.0   \n",
       "1    Harry Potter and the Chamber of Secrets  Harry Potter       2.0   \n",
       "2   Harry Potter and the Prisoner of Azkaban  Harry Potter       3.0   \n",
       "3        Harry Potter and the Goblet of Fire  Harry Potter       4.0   \n",
       "4  Harry Potter and the Order of the Phoenix  Harry Potter       5.0   \n",
       "\n",
       "   year_first_published   author_name  num_pages  num_ratings  num_reviews  \\\n",
       "0                2003.0  J.K. Rowling      309.0      8491079       134158   \n",
       "1                1999.0  J.K. Rowling      341.0      3277548        64524   \n",
       "2                2004.0  J.K. Rowling      435.0      3439727        67846   \n",
       "3                2002.0  J.K. Rowling      734.0      3057818        56382   \n",
       "4                2004.0  J.K. Rowling      870.0      2927014        51572   \n",
       "\n",
       "   average_rating main_genre                 saga  \n",
       "0            4.48    Fantasy    Saga (first book)  \n",
       "1            4.43    Fantasy  Saga (continuation)  \n",
       "2            4.58    Fantasy  Saga (continuation)  \n",
       "3            4.57    Fantasy  Saga (continuation)  \n",
       "4            4.50    Fantasy  Saga (continuation)  "
      ]
     },
     "execution_count": 48,
     "metadata": {},
     "output_type": "execute_result"
    }
   ],
   "source": [
    "books_df_scatter = pd.read_csv('books_df_scatter.csv')\n",
    "books_df_scatter.head()"
   ]
  },
  {
   "cell_type": "markdown",
   "metadata": {},
   "source": [
    "# Plots"
   ]
  },
  {
   "cell_type": "markdown",
   "metadata": {},
   "source": [
    "### Example 1: Basic structure. Scatterplot + changing appearance + adding lines and annotations"
   ]
  },
  {
   "cell_type": "code",
   "execution_count": 49,
   "metadata": {},
   "outputs": [
    {
     "data": {
      "application/vnd.plotly.v1+json": {
       "config": {
        "plotlyServerURL": "https://plot.ly"
       },
       "data": [
        {
         "hovertemplate": "num_ratings=%{x}<br>average_rating=%{y}<extra></extra>",
         "legendgroup": "",
         "marker": {
          "color": "#636efa",
          "symbol": "circle"
         },
         "mode": "markers",
         "name": "",
         "orientation": "v",
         "showlegend": false,
         "type": "scatter",
         "x": [
          8491079,
          3277548,
          3439727,
          3057818,
          2927014,
          2834974,
          3240578,
          860531,
          2435307,
          926344,
          842907,
          888106,
          813022,
          29395,
          2228706,
          850748,
          713213,
          673951,
          599808,
          9595,
          1980,
          506701,
          351248,
          323920,
          165193,
          105732,
          94533,
          1725,
          287741,
          7363176,
          2964748,
          2722872,
          5728651,
          1686872,
          1610973,
          1506265,
          179392,
          3361620,
          2570023,
          821282,
          769676,
          3425949,
          1334873,
          941426,
          89567,
          326,
          271609,
          249315,
          199482,
          160721,
          148857,
          143385,
          123324,
          438,
          1232,
          113781,
          656,
          138462,
          4015,
          976193,
          694719,
          554931,
          301489,
          378925,
          263111,
          174939,
          84523,
          828685,
          486794,
          4156,
          6703,
          2284,
          1474,
          9676,
          4244,
          2501,
          1727,
          763799,
          506662,
          400610,
          650934,
          436727,
          832328,
          507366,
          429949,
          373289,
          310439,
          217513,
          232197,
          272933,
          186010,
          130396,
          43324,
          1594348,
          397900,
          335448,
          242968,
          1272470,
          514937,
          391895,
          250003,
          93532,
          71641,
          323822,
          178253,
          144698,
          126504,
          107811,
          39608,
          61573,
          24246,
          18503,
          720290,
          452745,
          383772,
          607976,
          378411,
          331235,
          786992,
          280433,
          188090,
          118946,
          197291,
          137266,
          128228,
          75341,
          50232,
          41785,
          272436,
          169437,
          134575,
          149065,
          166,
          197291,
          137266,
          128228,
          75341,
          50232,
          41785,
          258037,
          126793,
          95482,
          2385,
          100,
          64,
          65,
          274973,
          101890,
          102513,
          42793,
          22538,
          22758,
          272370,
          147153,
          119108,
          32913,
          14001,
          105,
          1635203,
          257529,
          213955,
          157788,
          120413,
          30025,
          111610,
          55376,
          49286,
          41763,
          37191,
          30061,
          21510,
          16110,
          3938,
          1068746,
          197787,
          139544,
          84961,
          65238,
          54787,
          14488,
          12276,
          216416,
          123886,
          104411,
          84427,
          75664,
          62210,
          52023,
          46441,
          28435,
          1249770,
          237388,
          149369,
          102346,
          47152,
          2809,
          474592,
          180647,
          164909,
          79142,
          63749,
          78137,
          50476,
          213667,
          92917,
          71852,
          944368,
          584015,
          3808026,
          2014586,
          1636073,
          3105169,
          57669,
          20596,
          190497,
          86075,
          18097,
          219407,
          840495,
          633817,
          402680,
          841418,
          661290,
          25490,
          23038,
          12681,
          15849,
          820521,
          23428,
          15518,
          285067,
          16896
         ],
         "xaxis": "x",
         "y": [
          4.48,
          4.43,
          4.58,
          4.57,
          4.5,
          4.57,
          4.62,
          3.54,
          4.28,
          4.24,
          4.36,
          4.41,
          4.52,
          4.26,
          4.44,
          4.41,
          4.54,
          4.14,
          4.32,
          4.4,
          4.37,
          4.46,
          4.37,
          4.5,
          4.21,
          4.29,
          4.41,
          4.35,
          3.82,
          4.32,
          4.3,
          4.06,
          3.63,
          3.57,
          3.71,
          3.72,
          3.72,
          4.28,
          4.38,
          4.46,
          4.55,
          4.16,
          4,
          3.61,
          4.04,
          3.6,
          4.25,
          4.26,
          4.26,
          4.17,
          4.16,
          4.05,
          3.92,
          4.13,
          4.14,
          4.16,
          4.34,
          4.44,
          4.55,
          4.19,
          4.61,
          4.43,
          4.4,
          4.64,
          4.75,
          4.6,
          4.62,
          4.52,
          4.55,
          3.62,
          3.79,
          3.93,
          3.95,
          3.74,
          3.9,
          3.9,
          4.05,
          4.32,
          4.43,
          4.56,
          4.49,
          4.61,
          4.19,
          4.36,
          4.46,
          4.55,
          4.55,
          4.28,
          4.6,
          4.31,
          4.45,
          4.25,
          4.05,
          3.92,
          4,
          4.06,
          4.11,
          4.04,
          3.9,
          3.78,
          3.52,
          3.91,
          4.14,
          4.05,
          4.22,
          4.26,
          4.25,
          4.2,
          4.29,
          3.9,
          4.06,
          4.03,
          3.96,
          3.86,
          4.03,
          4.1,
          4.34,
          4.37,
          4.04,
          3.84,
          3.95,
          3.86,
          4.18,
          4.32,
          4.3,
          4.19,
          4.31,
          4.31,
          4.17,
          4.24,
          4.19,
          4.29,
          4.27,
          4.18,
          4.32,
          4.3,
          4.19,
          4.31,
          4.31,
          4.28,
          4.24,
          4.21,
          4.29,
          4.19,
          4.16,
          3.94,
          4,
          4.1,
          4.12,
          3.98,
          4.07,
          4.16,
          4.07,
          4.24,
          4.34,
          3.96,
          4.22,
          4.17,
          4.22,
          4.21,
          4.19,
          4.09,
          3.96,
          3.57,
          3.87,
          4.09,
          4.15,
          4.17,
          4.2,
          4.22,
          4.25,
          4.12,
          4.45,
          4.25,
          3.89,
          3.95,
          3.87,
          3.88,
          3.91,
          3.66,
          3.66,
          4.27,
          4.36,
          4.26,
          4.2,
          4.42,
          4.24,
          4.37,
          4.57,
          4.54,
          4.3,
          4.08,
          3.8,
          3.77,
          3.91,
          3.67,
          4.17,
          4.22,
          4.26,
          4.15,
          4.06,
          4.14,
          4.15,
          4.07,
          4.41,
          4.42,
          4.05,
          4.23,
          4.19,
          3.98,
          3.99,
          3.81,
          3.88,
          3.81,
          3.61,
          3.96,
          3.98,
          3.84,
          4.11,
          4.25,
          4.09,
          4.26,
          4.26,
          3.91,
          3.7,
          3.06,
          4.08,
          4.03,
          3.79,
          3.64,
          4.46,
          3.86
         ],
         "yaxis": "y"
        }
       ],
       "layout": {
        "height": 500,
        "legend": {
         "tracegroupgap": 0
        },
        "margin": {
         "t": 60
        },
        "template": {
         "data": {
          "bar": [
           {
            "error_x": {
             "color": "#2a3f5f"
            },
            "error_y": {
             "color": "#2a3f5f"
            },
            "marker": {
             "line": {
              "color": "#E5ECF6",
              "width": 0.5
             },
             "pattern": {
              "fillmode": "overlay",
              "size": 10,
              "solidity": 0.2
             }
            },
            "type": "bar"
           }
          ],
          "barpolar": [
           {
            "marker": {
             "line": {
              "color": "#E5ECF6",
              "width": 0.5
             },
             "pattern": {
              "fillmode": "overlay",
              "size": 10,
              "solidity": 0.2
             }
            },
            "type": "barpolar"
           }
          ],
          "carpet": [
           {
            "aaxis": {
             "endlinecolor": "#2a3f5f",
             "gridcolor": "white",
             "linecolor": "white",
             "minorgridcolor": "white",
             "startlinecolor": "#2a3f5f"
            },
            "baxis": {
             "endlinecolor": "#2a3f5f",
             "gridcolor": "white",
             "linecolor": "white",
             "minorgridcolor": "white",
             "startlinecolor": "#2a3f5f"
            },
            "type": "carpet"
           }
          ],
          "choropleth": [
           {
            "colorbar": {
             "outlinewidth": 0,
             "ticks": ""
            },
            "type": "choropleth"
           }
          ],
          "contour": [
           {
            "colorbar": {
             "outlinewidth": 0,
             "ticks": ""
            },
            "colorscale": [
             [
              0,
              "#0d0887"
             ],
             [
              0.1111111111111111,
              "#46039f"
             ],
             [
              0.2222222222222222,
              "#7201a8"
             ],
             [
              0.3333333333333333,
              "#9c179e"
             ],
             [
              0.4444444444444444,
              "#bd3786"
             ],
             [
              0.5555555555555556,
              "#d8576b"
             ],
             [
              0.6666666666666666,
              "#ed7953"
             ],
             [
              0.7777777777777778,
              "#fb9f3a"
             ],
             [
              0.8888888888888888,
              "#fdca26"
             ],
             [
              1,
              "#f0f921"
             ]
            ],
            "type": "contour"
           }
          ],
          "contourcarpet": [
           {
            "colorbar": {
             "outlinewidth": 0,
             "ticks": ""
            },
            "type": "contourcarpet"
           }
          ],
          "heatmap": [
           {
            "colorbar": {
             "outlinewidth": 0,
             "ticks": ""
            },
            "colorscale": [
             [
              0,
              "#0d0887"
             ],
             [
              0.1111111111111111,
              "#46039f"
             ],
             [
              0.2222222222222222,
              "#7201a8"
             ],
             [
              0.3333333333333333,
              "#9c179e"
             ],
             [
              0.4444444444444444,
              "#bd3786"
             ],
             [
              0.5555555555555556,
              "#d8576b"
             ],
             [
              0.6666666666666666,
              "#ed7953"
             ],
             [
              0.7777777777777778,
              "#fb9f3a"
             ],
             [
              0.8888888888888888,
              "#fdca26"
             ],
             [
              1,
              "#f0f921"
             ]
            ],
            "type": "heatmap"
           }
          ],
          "heatmapgl": [
           {
            "colorbar": {
             "outlinewidth": 0,
             "ticks": ""
            },
            "colorscale": [
             [
              0,
              "#0d0887"
             ],
             [
              0.1111111111111111,
              "#46039f"
             ],
             [
              0.2222222222222222,
              "#7201a8"
             ],
             [
              0.3333333333333333,
              "#9c179e"
             ],
             [
              0.4444444444444444,
              "#bd3786"
             ],
             [
              0.5555555555555556,
              "#d8576b"
             ],
             [
              0.6666666666666666,
              "#ed7953"
             ],
             [
              0.7777777777777778,
              "#fb9f3a"
             ],
             [
              0.8888888888888888,
              "#fdca26"
             ],
             [
              1,
              "#f0f921"
             ]
            ],
            "type": "heatmapgl"
           }
          ],
          "histogram": [
           {
            "marker": {
             "pattern": {
              "fillmode": "overlay",
              "size": 10,
              "solidity": 0.2
             }
            },
            "type": "histogram"
           }
          ],
          "histogram2d": [
           {
            "colorbar": {
             "outlinewidth": 0,
             "ticks": ""
            },
            "colorscale": [
             [
              0,
              "#0d0887"
             ],
             [
              0.1111111111111111,
              "#46039f"
             ],
             [
              0.2222222222222222,
              "#7201a8"
             ],
             [
              0.3333333333333333,
              "#9c179e"
             ],
             [
              0.4444444444444444,
              "#bd3786"
             ],
             [
              0.5555555555555556,
              "#d8576b"
             ],
             [
              0.6666666666666666,
              "#ed7953"
             ],
             [
              0.7777777777777778,
              "#fb9f3a"
             ],
             [
              0.8888888888888888,
              "#fdca26"
             ],
             [
              1,
              "#f0f921"
             ]
            ],
            "type": "histogram2d"
           }
          ],
          "histogram2dcontour": [
           {
            "colorbar": {
             "outlinewidth": 0,
             "ticks": ""
            },
            "colorscale": [
             [
              0,
              "#0d0887"
             ],
             [
              0.1111111111111111,
              "#46039f"
             ],
             [
              0.2222222222222222,
              "#7201a8"
             ],
             [
              0.3333333333333333,
              "#9c179e"
             ],
             [
              0.4444444444444444,
              "#bd3786"
             ],
             [
              0.5555555555555556,
              "#d8576b"
             ],
             [
              0.6666666666666666,
              "#ed7953"
             ],
             [
              0.7777777777777778,
              "#fb9f3a"
             ],
             [
              0.8888888888888888,
              "#fdca26"
             ],
             [
              1,
              "#f0f921"
             ]
            ],
            "type": "histogram2dcontour"
           }
          ],
          "mesh3d": [
           {
            "colorbar": {
             "outlinewidth": 0,
             "ticks": ""
            },
            "type": "mesh3d"
           }
          ],
          "parcoords": [
           {
            "line": {
             "colorbar": {
              "outlinewidth": 0,
              "ticks": ""
             }
            },
            "type": "parcoords"
           }
          ],
          "pie": [
           {
            "automargin": true,
            "type": "pie"
           }
          ],
          "scatter": [
           {
            "marker": {
             "colorbar": {
              "outlinewidth": 0,
              "ticks": ""
             }
            },
            "type": "scatter"
           }
          ],
          "scatter3d": [
           {
            "line": {
             "colorbar": {
              "outlinewidth": 0,
              "ticks": ""
             }
            },
            "marker": {
             "colorbar": {
              "outlinewidth": 0,
              "ticks": ""
             }
            },
            "type": "scatter3d"
           }
          ],
          "scattercarpet": [
           {
            "marker": {
             "colorbar": {
              "outlinewidth": 0,
              "ticks": ""
             }
            },
            "type": "scattercarpet"
           }
          ],
          "scattergeo": [
           {
            "marker": {
             "colorbar": {
              "outlinewidth": 0,
              "ticks": ""
             }
            },
            "type": "scattergeo"
           }
          ],
          "scattergl": [
           {
            "marker": {
             "colorbar": {
              "outlinewidth": 0,
              "ticks": ""
             }
            },
            "type": "scattergl"
           }
          ],
          "scattermapbox": [
           {
            "marker": {
             "colorbar": {
              "outlinewidth": 0,
              "ticks": ""
             }
            },
            "type": "scattermapbox"
           }
          ],
          "scatterpolar": [
           {
            "marker": {
             "colorbar": {
              "outlinewidth": 0,
              "ticks": ""
             }
            },
            "type": "scatterpolar"
           }
          ],
          "scatterpolargl": [
           {
            "marker": {
             "colorbar": {
              "outlinewidth": 0,
              "ticks": ""
             }
            },
            "type": "scatterpolargl"
           }
          ],
          "scatterternary": [
           {
            "marker": {
             "colorbar": {
              "outlinewidth": 0,
              "ticks": ""
             }
            },
            "type": "scatterternary"
           }
          ],
          "surface": [
           {
            "colorbar": {
             "outlinewidth": 0,
             "ticks": ""
            },
            "colorscale": [
             [
              0,
              "#0d0887"
             ],
             [
              0.1111111111111111,
              "#46039f"
             ],
             [
              0.2222222222222222,
              "#7201a8"
             ],
             [
              0.3333333333333333,
              "#9c179e"
             ],
             [
              0.4444444444444444,
              "#bd3786"
             ],
             [
              0.5555555555555556,
              "#d8576b"
             ],
             [
              0.6666666666666666,
              "#ed7953"
             ],
             [
              0.7777777777777778,
              "#fb9f3a"
             ],
             [
              0.8888888888888888,
              "#fdca26"
             ],
             [
              1,
              "#f0f921"
             ]
            ],
            "type": "surface"
           }
          ],
          "table": [
           {
            "cells": {
             "fill": {
              "color": "#EBF0F8"
             },
             "line": {
              "color": "white"
             }
            },
            "header": {
             "fill": {
              "color": "#C8D4E3"
             },
             "line": {
              "color": "white"
             }
            },
            "type": "table"
           }
          ]
         },
         "layout": {
          "annotationdefaults": {
           "arrowcolor": "#2a3f5f",
           "arrowhead": 0,
           "arrowwidth": 1
          },
          "autotypenumbers": "strict",
          "coloraxis": {
           "colorbar": {
            "outlinewidth": 0,
            "ticks": ""
           }
          },
          "colorscale": {
           "diverging": [
            [
             0,
             "#8e0152"
            ],
            [
             0.1,
             "#c51b7d"
            ],
            [
             0.2,
             "#de77ae"
            ],
            [
             0.3,
             "#f1b6da"
            ],
            [
             0.4,
             "#fde0ef"
            ],
            [
             0.5,
             "#f7f7f7"
            ],
            [
             0.6,
             "#e6f5d0"
            ],
            [
             0.7,
             "#b8e186"
            ],
            [
             0.8,
             "#7fbc41"
            ],
            [
             0.9,
             "#4d9221"
            ],
            [
             1,
             "#276419"
            ]
           ],
           "sequential": [
            [
             0,
             "#0d0887"
            ],
            [
             0.1111111111111111,
             "#46039f"
            ],
            [
             0.2222222222222222,
             "#7201a8"
            ],
            [
             0.3333333333333333,
             "#9c179e"
            ],
            [
             0.4444444444444444,
             "#bd3786"
            ],
            [
             0.5555555555555556,
             "#d8576b"
            ],
            [
             0.6666666666666666,
             "#ed7953"
            ],
            [
             0.7777777777777778,
             "#fb9f3a"
            ],
            [
             0.8888888888888888,
             "#fdca26"
            ],
            [
             1,
             "#f0f921"
            ]
           ],
           "sequentialminus": [
            [
             0,
             "#0d0887"
            ],
            [
             0.1111111111111111,
             "#46039f"
            ],
            [
             0.2222222222222222,
             "#7201a8"
            ],
            [
             0.3333333333333333,
             "#9c179e"
            ],
            [
             0.4444444444444444,
             "#bd3786"
            ],
            [
             0.5555555555555556,
             "#d8576b"
            ],
            [
             0.6666666666666666,
             "#ed7953"
            ],
            [
             0.7777777777777778,
             "#fb9f3a"
            ],
            [
             0.8888888888888888,
             "#fdca26"
            ],
            [
             1,
             "#f0f921"
            ]
           ]
          },
          "colorway": [
           "#636efa",
           "#EF553B",
           "#00cc96",
           "#ab63fa",
           "#FFA15A",
           "#19d3f3",
           "#FF6692",
           "#B6E880",
           "#FF97FF",
           "#FECB52"
          ],
          "font": {
           "color": "#2a3f5f"
          },
          "geo": {
           "bgcolor": "white",
           "lakecolor": "white",
           "landcolor": "#E5ECF6",
           "showlakes": true,
           "showland": true,
           "subunitcolor": "white"
          },
          "hoverlabel": {
           "align": "left"
          },
          "hovermode": "closest",
          "mapbox": {
           "style": "light"
          },
          "paper_bgcolor": "white",
          "plot_bgcolor": "#E5ECF6",
          "polar": {
           "angularaxis": {
            "gridcolor": "white",
            "linecolor": "white",
            "ticks": ""
           },
           "bgcolor": "#E5ECF6",
           "radialaxis": {
            "gridcolor": "white",
            "linecolor": "white",
            "ticks": ""
           }
          },
          "scene": {
           "xaxis": {
            "backgroundcolor": "#E5ECF6",
            "gridcolor": "white",
            "gridwidth": 2,
            "linecolor": "white",
            "showbackground": true,
            "ticks": "",
            "zerolinecolor": "white"
           },
           "yaxis": {
            "backgroundcolor": "#E5ECF6",
            "gridcolor": "white",
            "gridwidth": 2,
            "linecolor": "white",
            "showbackground": true,
            "ticks": "",
            "zerolinecolor": "white"
           },
           "zaxis": {
            "backgroundcolor": "#E5ECF6",
            "gridcolor": "white",
            "gridwidth": 2,
            "linecolor": "white",
            "showbackground": true,
            "ticks": "",
            "zerolinecolor": "white"
           }
          },
          "shapedefaults": {
           "line": {
            "color": "#2a3f5f"
           }
          },
          "ternary": {
           "aaxis": {
            "gridcolor": "white",
            "linecolor": "white",
            "ticks": ""
           },
           "baxis": {
            "gridcolor": "white",
            "linecolor": "white",
            "ticks": ""
           },
           "bgcolor": "#E5ECF6",
           "caxis": {
            "gridcolor": "white",
            "linecolor": "white",
            "ticks": ""
           }
          },
          "title": {
           "x": 0.05
          },
          "xaxis": {
           "automargin": true,
           "gridcolor": "white",
           "linecolor": "white",
           "ticks": "",
           "title": {
            "standoff": 15
           },
           "zerolinecolor": "white",
           "zerolinewidth": 2
          },
          "yaxis": {
           "automargin": true,
           "gridcolor": "white",
           "linecolor": "white",
           "ticks": "",
           "title": {
            "standoff": 15
           },
           "zerolinecolor": "white",
           "zerolinewidth": 2
          }
         }
        },
        "width": 800,
        "xaxis": {
         "anchor": "y",
         "domain": [
          0,
          1
         ],
         "title": {
          "text": "num_ratings"
         }
        },
        "yaxis": {
         "anchor": "x",
         "domain": [
          0,
          1
         ],
         "title": {
          "text": "average_rating"
         }
        }
       }
      }
     },
     "metadata": {},
     "output_type": "display_data"
    }
   ],
   "source": [
    "fig_scatter_simple = px.scatter(books_df_scatter, x=\"num_ratings\", y=\"average_rating\", height=500, width=800)\n",
    "fig_scatter_simple.show()"
   ]
  },
  {
   "cell_type": "code",
   "execution_count": 50,
   "metadata": {},
   "outputs": [
    {
     "name": "stdout",
     "output_type": "stream",
     "text": [
      "<class 'plotly.graph_objs._figure.Figure'>\n",
      "Figure({\n",
      "    'data': [{'hovertemplate': 'num_ratings=%{x}<br>average_rating=%{y}<extra></extra>',\n",
      "              'legendgroup': '',\n",
      "              'marker': {'color': '#636efa', 'symbol': 'circle'},\n",
      "              'mode': 'markers',\n",
      "              'name': '',\n",
      "              'orientation': 'v',\n",
      "              'showlegend': False,\n",
      "              'type': 'scatter',\n",
      "              'x': array([8491079, 3277548, 3439727, ...,   15518,  285067,   16896]),\n",
      "              'xaxis': 'x',\n",
      "              'y': array([4.48, 4.43, 4.58, ..., 3.64, 4.46, 3.86]),\n",
      "              'yaxis': 'y'}],\n",
      "    'layout': {'height': 500,\n",
      "               'legend': {'tracegroupgap': 0},\n",
      "               'margin': {'t': 60},\n",
      "               'template': '...',\n",
      "               'width': 800,\n",
      "               'xaxis': {'anchor': 'y', 'domain': [0.0, 1.0], 'title': {'text': 'num_ratings'}},\n",
      "               'yaxis': {'anchor': 'x', 'domain': [0.0, 1.0], 'title': {'text': 'average_rating'}}}\n",
      "})\n"
     ]
    }
   ],
   "source": [
    "print(type(fig_scatter_simple))\n",
    "print(fig_scatter_simple)\n"
   ]
  },
  {
   "cell_type": "markdown",
   "metadata": {},
   "source": [
    "The object type of the plot is `plotly.graph_objs._figure.Figure`. On a practical level it is very similar to a dictionary (dict) with two key-value pairs: \n",
    "* `data`: quantitative data -e.g. value on x-axis- and related qualitative data -e.g. group/color.\n",
    "* `layout`: appearance information: colors/palette, text, limits, etc.\n",
    "\n",
    "`hovertemplate` is in data instead of layout (it could be considered a part of the appearance) because it may include other data from the dataframe that does not appear in the plot axes.\n",
    "\n",
    "The structure of `go.Figure` is similar: nested dictionaries.\n",
    "* The value of `data` is a list of dictionaries. In Data there are as many dictionaries as `traces`.\n",
    "* The value of `layout` is a single dictionary.\n",
    "\n",
    "More information: https://plotly.com/python/creating-and-updating-figures/"
   ]
  },
  {
   "cell_type": "code",
   "execution_count": 51,
   "metadata": {},
   "outputs": [
    {
     "data": {
      "application/vnd.plotly.v1+json": {
       "config": {
        "plotlyServerURL": "https://plot.ly"
       },
       "data": [
        {
         "customdata": [
          [
           "Harry Potter and the Sorcerer's Stone",
           "Harry Potter",
           1
          ],
          [
           "The Lightning Thief",
           "Percy Jackson and the Olympians",
           1
          ],
          [
           "A Game of Thrones",
           "A Song of Ice and Fire",
           1
          ],
          [
           "The Final Empire",
           "The Mistborn Saga",
           1
          ],
          [
           "The Hunger Games",
           "The Hunger Games",
           1
          ],
          [
           "Twilight",
           "The Twilight Saga",
           1
          ],
          [
           "The Fellowship of the Ring",
           "The Lord of the Rings",
           1
          ],
          [
           "Divergent",
           "Divergent",
           1
          ],
          [
           "Earlier-Ravens",
           "The Wheel of Time",
           1
          ],
          [
           "A Court of Thorns and Roses",
           "A Court of Thorns and Roses",
           1
          ],
          [
           "The Way of Kings",
           "The Stormlight Archive",
           1
          ],
          [
           "The Name of the Wind",
           "The Kingkiller Chronicle",
           1
          ],
          [
           "The Just City",
           "Thessaly",
           1
          ],
          [
           "The Black Tides of Heaven",
           "Tensorate",
           1
          ],
          [
           "Clockwork Angel",
           "The Infernal Devices",
           1
          ],
          [
           "Six of Crows",
           "Six of Crows",
           1
          ],
          [
           "Throne of Glass",
           "Throne of Glass",
           1
          ],
          [
           "From Blood and Ash",
           "Blood and Ash",
           1
          ],
          [
           "Eragon",
           "The Inheritance Cycle",
           1
          ],
          [
           "The Maze Runner",
           "The Maze Runner",
           1
          ],
          [
           "The Magicians",
           "The Magicians",
           1
          ],
          [
           "The Raven Boys",
           "The Raven Cycle",
           1
          ],
          [
           "Parable of the Sower",
           "Earthseed",
           1
          ],
          [
           "Binti",
           "Binti",
           1
          ],
          [
           "Shadow and Bone",
           "The Shadow and Bone Trilogy",
           1
          ],
          [
           "The Cruel Prince",
           "The Folk of the Air",
           1
          ],
          [
           "Red Queen",
           "Red Queen",
           1
          ],
          [
           "The Blade Itself",
           "The First Law",
           1
          ],
          [
           "Assassin's Apprentice",
           "The Farseer Trilogy",
           1
          ],
          [
           "Warbreaker",
           "Warbreaker",
           1
          ],
          [
           "The Blade Itself",
           "The First Law",
           1
          ],
          [
           "The Lies of Locke Lamora",
           "Gentleman Bastard",
           1
          ],
          [
           "A Wizard of Earthsea",
           "Earthsea Cycle",
           1
          ],
          [
           "A Darker Shade of Magic",
           "Shades of Magic",
           1
          ],
          [
           "The Archived",
           "The Archived",
           1
          ],
          [
           "The Hitchhiker's Guide to the Galaxy",
           "The Hitchhiker's Guide to the Galaxy",
           1
          ],
          [
           "Rivers of London",
           "Rivers of London",
           1
          ],
          [
           "Dune",
           "Dune",
           1
          ],
          [
           "Leviathan Wakes",
           "The Expanse",
           1
          ],
          [
           "Ender's Game",
           "Ender's Saga",
           1
          ],
          [
           "Foundation",
           "Foundation (Publication Order",
           1
          ],
          [
           "The Three-Body Problem",
           "Remembrance of Earth's Past",
           1
          ]
         ],
         "hovertemplate": "saga=Saga (first book)<br>num_ratings=%{x}<br>average_rating=%{y}<br>title=%{customdata[0]}<br>series_name=%{customdata[1]}<br>series_n=%{customdata[2]}<extra></extra>",
         "legendgroup": "Saga (first book)",
         "marker": {
          "color": "#636efa",
          "symbol": "circle"
         },
         "mode": "markers",
         "name": "Saga (first book)",
         "orientation": "v",
         "showlegend": true,
         "type": "scatter",
         "x": [
          8491079,
          2435307,
          2228706,
          506701,
          7363176,
          5728651,
          2570023,
          3425949,
          326,
          976193,
          378925,
          828685,
          6703,
          9676,
          763799,
          650934,
          832328,
          272933,
          1594348,
          1272470,
          250003,
          323822,
          107811,
          61573,
          720290,
          607976,
          786992,
          197291,
          272436,
          149065,
          197291,
          258037,
          274973,
          272370,
          32913,
          1635203,
          111610,
          1068746,
          216416,
          1249770,
          474592,
          213667
         ],
         "xaxis": "x",
         "y": [
          4.48,
          4.28,
          4.44,
          4.46,
          4.32,
          3.63,
          4.38,
          4.16,
          3.6,
          4.19,
          4.64,
          4.52,
          3.79,
          3.74,
          4.32,
          4.49,
          4.19,
          4.31,
          3.92,
          4.04,
          3.52,
          4.05,
          4.2,
          3.9,
          3.96,
          4.1,
          4.04,
          4.18,
          4.17,
          4.29,
          4.18,
          4.28,
          4,
          4.07,
          3.96,
          4.22,
          3.87,
          4.25,
          4.27,
          4.3,
          4.17,
          4.07
         ],
         "yaxis": "y"
        },
        {
         "customdata": [
          [
           "Harry Potter and the Chamber of Secrets",
           "Harry Potter",
           2
          ],
          [
           "Harry Potter and the Prisoner of Azkaban",
           "Harry Potter",
           3
          ],
          [
           "Harry Potter and the Goblet of Fire",
           "Harry Potter",
           4
          ],
          [
           "Harry Potter and the Order of the Phoenix",
           "Harry Potter",
           5
          ],
          [
           "Harry Potter and the Half-Blood Prince",
           "Harry Potter",
           6
          ],
          [
           "Harry Potter and the Deathly Hallows",
           "Harry Potter",
           7
          ],
          [
           "Harry Potter and the Cursed Child: Parts One and Two",
           "Harry Potter",
           8
          ],
          [
           "The Sea of Monsters",
           "Percy Jackson and the Olympians",
           2
          ],
          [
           "The Titan's Curse",
           "Percy Jackson and the Olympians",
           3
          ],
          [
           "The Battle of the Labyrinth",
           "Percy Jackson and the Olympians",
           4
          ],
          [
           "The Last Olympian",
           "Percy Jackson and the Olympians",
           5
          ],
          [
           "The World of Ice & Fire: The Untold History of Westeros and the Game of Thrones",
           "A Song of Ice and Fire",
           0
          ],
          [
           "A Clash of Kings",
           "A Song of Ice and Fire",
           2
          ],
          [
           "A Storm of Swords",
           "A Song of Ice and Fire",
           3
          ],
          [
           "A Feast for Crows",
           "A Song of Ice and Fire",
           4
          ],
          [
           "A Dance with Dragons",
           "A Song of Ice and Fire",
           5
          ],
          [
           "The Winds of Winter",
           "A Song of Ice and Fire",
           6
          ],
          [
           "A Dream of Spring",
           "A Song of Ice and Fire",
           7
          ],
          [
           "The Well of Ascension",
           "The Mistborn Saga",
           2
          ],
          [
           "The Hero of Ages",
           "The Mistborn Saga",
           3
          ],
          [
           "The Alloy of Law",
           "The Mistborn Saga",
           4
          ],
          [
           "Shadows of Self",
           "The Mistborn Saga",
           5
          ],
          [
           "The Bands of Mourning",
           "The Mistborn Saga",
           6
          ],
          [
           "The Lost Metal",
           "The Mistborn Saga",
           7
          ],
          [
           "The Ballad of Songbirds and Snakes",
           "The Hunger Games",
           0
          ],
          [
           "Catching Fire",
           "The Hunger Games",
           2
          ],
          [
           "Mockingjay",
           "The Hunger Games",
           3
          ],
          [
           "New Moon",
           "The Twilight Saga",
           2
          ],
          [
           "Eclipse",
           "The Twilight Saga",
           3
          ],
          [
           "Breaking Dawn",
           "The Twilight Saga",
           4
          ],
          [
           "Midnight Sun",
           "The Twilight Saga",
           5
          ],
          [
           "The Hobbit",
           "The Lord of the Rings",
           0
          ],
          [
           "The Two Towers",
           "The Lord of the Rings",
           2
          ],
          [
           "The Return of the King",
           "The Lord of the Rings",
           3
          ],
          [
           "Insurgent",
           "Divergent",
           2
          ],
          [
           "Allegiant",
           "Divergent",
           3
          ],
          [
           "New Spring",
           "The Wheel of Time",
           0
          ],
          [
           "The Great Hunt",
           "The Wheel of Time",
           2
          ],
          [
           "The Dragon Reborn",
           "The Wheel of Time",
           3
          ],
          [
           "The Shadow Rising",
           "The Wheel of Time",
           4
          ],
          [
           "The Fires of Heaven",
           "The Wheel of Time",
           5
          ],
          [
           "Lord of Chaos",
           "The Wheel of Time",
           6
          ],
          [
           "A Crown of Swords",
           "The Wheel of Time",
           7
          ],
          [
           "The Path of Daggers",
           "The Wheel of Time",
           8
          ],
          [
           "Snow: The Prologue to Winter's Heart",
           "The Wheel of Time",
           9
          ],
          [
           "Glimmers: Prologue to Crossroads of Twilight",
           "The Wheel of Time",
           10
          ],
          [
           "Knife of Dreams",
           "The Wheel of Time",
           11
          ],
          [
           "What the Storm Means: Prologue to The Gathering Storm",
           "The Wheel of Time",
           12
          ],
          [
           "Towers of Midnight",
           "The Wheel of Time",
           13
          ],
          [
           "By Grace and Banners Fallen: Prologue to A Memory of Light",
           "The Wheel of Time",
           14
          ],
          [
           "A Court of Mist and Fury",
           "A Court of Thorns and Roses",
           2
          ],
          [
           "A Court of Wings and Ruin",
           "A Court of Thorns and Roses",
           3
          ],
          [
           "A ​Court of Silver Flames",
           "A Court of Thorns and Roses",
           4
          ],
          [
           "Words of Radiance",
           "The Stormlight Archive",
           2
          ],
          [
           "Oathbringer",
           "The Stormlight Archive",
           3
          ],
          [
           "Rhythm of War",
           "The Stormlight Archive",
           4
          ],
          [
           "The Wise Man's Fear",
           "The Kingkiller Chronicle",
           2
          ],
          [
           "The Doors of Stone",
           "The Kingkiller Chronicle",
           3
          ],
          [
           "The Philosopher Kings",
           "Thessaly",
           2
          ],
          [
           "Necessity",
           "Thessaly",
           3
          ],
          [
           "The Red Threads of Fortune",
           "Tensorate",
           2
          ],
          [
           "The Descent of Monsters",
           "Tensorate",
           3
          ],
          [
           "The Ascent to Godhood",
           "Tensorate",
           4
          ],
          [
           "Clockwork Prince",
           "The Infernal Devices",
           2
          ],
          [
           "Clockwork Princess",
           "The Infernal Devices",
           3
          ],
          [
           "Crooked Kingdom",
           "Six of Crows",
           2
          ],
          [
           "Crown of Midnight",
           "Throne of Glass",
           2
          ],
          [
           "Heir of Fire",
           "Throne of Glass",
           3
          ],
          [
           "Queen of Shadows",
           "Throne of Glass",
           4
          ],
          [
           "Empire of Storms",
           "Throne of Glass",
           5
          ],
          [
           "Tower of Dawn",
           "Throne of Glass",
           6
          ],
          [
           "Kingdom of Ash",
           "Throne of Glass",
           7
          ],
          [
           "A Kingdom of Flesh and Fire",
           "Blood and Ash",
           2
          ],
          [
           "The ​Crown of Gilded Bones",
           "Blood and Ash",
           3
          ],
          [
           "The War of Two Queens",
           "Blood and Ash",
           4
          ],
          [
           "Eldest",
           "The Inheritance Cycle",
           2
          ],
          [
           "Brisingr",
           "The Inheritance Cycle",
           3
          ],
          [
           "Inheritance",
           "The Inheritance Cycle",
           4
          ],
          [
           "The Scorch Trials",
           "The Maze Runner",
           2
          ],
          [
           "The Death Cure",
           "The Maze Runner",
           3
          ],
          [
           "The Magician King",
           "The Magicians",
           2
          ],
          [
           "The Magician's Land",
           "The Magicians",
           3
          ],
          [
           "The Dream Thieves",
           "The Raven Cycle",
           2
          ],
          [
           "Blue Lily, Lily Blue",
           "The Raven Cycle",
           3
          ],
          [
           "The Raven King",
           "The Raven Cycle",
           4
          ],
          [
           "Parable of the Talents",
           "Earthseed",
           2
          ],
          [
           "Home",
           "Binti",
           2
          ],
          [
           "The Night Masquerade",
           "Binti",
           3
          ],
          [
           "Siege and Storm",
           "The Shadow and Bone Trilogy",
           2
          ],
          [
           "Ruin and Rising",
           "The Shadow and Bone Trilogy",
           3
          ],
          [
           "The Wicked King",
           "The Folk of the Air",
           2
          ],
          [
           "The Queen of Nothing",
           "The Folk of the Air",
           3
          ],
          [
           "Glass Sword",
           "Red Queen",
           2
          ],
          [
           "King's Cage",
           "Red Queen",
           3
          ],
          [
           "War Storm",
           "Red Queen",
           4
          ],
          [
           "Before They Are Hanged",
           "The First Law",
           2
          ],
          [
           "Last Argument of Kings",
           "The First Law",
           3
          ],
          [
           "Best Served Cold",
           "The First Law",
           4
          ],
          [
           "The Heroes",
           "The First Law",
           5
          ],
          [
           "Red Country",
           "The First Law",
           6
          ],
          [
           "Royal Assassin",
           "The Farseer Trilogy",
           2
          ],
          [
           "Assassin's Quest",
           "The Farseer Trilogy",
           3
          ],
          [
           "Nightblood",
           "Warbreaker",
           2
          ],
          [
           "Before They Are Hanged",
           "The First Law",
           2
          ],
          [
           "Last Argument of Kings",
           "The First Law",
           3
          ],
          [
           "Best Served Cold",
           "The First Law",
           4
          ],
          [
           "The Heroes",
           "The First Law",
           5
          ],
          [
           "Red Country",
           "The First Law",
           6
          ],
          [
           "Red Seas Under Red Skies",
           "Gentleman Bastard",
           2
          ],
          [
           "The Republic of Thieves",
           "Gentleman Bastard",
           3
          ],
          [
           "The Thorn of Emberlain",
           "Gentleman Bastard",
           4
          ],
          [
           "The Ministry of Necessity",
           "Gentleman Bastard",
           5
          ],
          [
           "The Mage and the Master Spy",
           "Gentleman Bastard",
           6
          ],
          [
           "Inherit the Night",
           "Gentleman Bastard",
           7
          ],
          [
           "The Tombs of Atuan",
           "Earthsea Cycle",
           2
          ],
          [
           "The Farthest Shore",
           "Earthsea Cycle",
           3
          ],
          [
           "Tehanu",
           "Earthsea Cycle",
           4
          ],
          [
           "Tales from Earthsea",
           "Earthsea Cycle",
           5
          ],
          [
           "The Other Wind",
           "Earthsea Cycle",
           6
          ],
          [
           "A Gathering of Shadows",
           "Shades of Magic",
           2
          ],
          [
           "A Conjuring of Light",
           "Shades of Magic",
           3
          ],
          [
           "The Unbound",
           "The Archived",
           2
          ],
          [
           "The Returned",
           "The Archived",
           3
          ],
          [
           "The Restaurant at the End of the Universe",
           "The Hitchhiker's Guide to the Galaxy",
           2
          ],
          [
           "Life, the Universe and Everything",
           "The Hitchhiker's Guide to the Galaxy",
           3
          ],
          [
           "So Long, and Thanks for All the Fish",
           "The Hitchhiker's Guide to the Galaxy",
           4
          ],
          [
           "Mostly Harmless",
           "The Hitchhiker's Guide to the Galaxy",
           5
          ],
          [
           "And Another Thing...",
           "The Hitchhiker's Guide to the Galaxy",
           6
          ],
          [
           "Moon Over Soho",
           "Rivers of London",
           2
          ],
          [
           "Whispers Under Ground",
           "Rivers of London",
           3
          ],
          [
           "Broken Homes",
           "Rivers of London",
           4
          ],
          [
           "Foxglove Summer",
           "Rivers of London",
           5
          ],
          [
           "The Hanging Tree",
           "Rivers of London",
           6
          ],
          [
           "Lies Sleeping",
           "Rivers of London",
           7
          ],
          [
           "False Value",
           "Rivers of London",
           8
          ],
          [
           "Amongst Our Weapons",
           "Rivers of London",
           9
          ],
          [
           "Dune Messiah",
           "Dune",
           2
          ],
          [
           "Children of Dune",
           "Dune",
           3
          ],
          [
           "God Emperor of Dune",
           "Dune",
           4
          ],
          [
           "Heretics of Dune",
           "Dune",
           5
          ],
          [
           "Chapterhouse: Dune",
           "Dune",
           6
          ],
          [
           "Hunters of Dune",
           "Dune",
           7
          ],
          [
           "Sandworms of Dune",
           "Dune",
           8
          ],
          [
           "Caliban's War",
           "The Expanse",
           2
          ],
          [
           "Abaddon's Gate",
           "The Expanse",
           3
          ],
          [
           "Cibola Burn",
           "The Expanse",
           4
          ],
          [
           "Nemesis Games",
           "The Expanse",
           5
          ],
          [
           "Babylon's Ashes",
           "The Expanse",
           6
          ],
          [
           "Persepolis Rising",
           "The Expanse",
           7
          ],
          [
           "Tiamat's Wrath",
           "The Expanse",
           8
          ],
          [
           "Leviathan Falls",
           "The Expanse",
           9
          ],
          [
           "Speaker for the Dead",
           "Ender's Saga",
           2
          ],
          [
           "Xenocide",
           "Ender's Saga",
           3
          ],
          [
           "Children of the Mind",
           "Ender's Saga",
           4
          ],
          [
           "Ender in Exile",
           "Ender's Saga",
           5
          ],
          [
           "The Last Shadow",
           "Ender's Saga",
           6
          ],
          [
           "Foundation and Empire",
           "Foundation (Publication Order",
           2
          ],
          [
           "Second Foundation",
           "Foundation (Publication Order",
           3
          ],
          [
           "Foundation's Edge",
           "Foundation (Publication Order",
           4
          ],
          [
           "Foundation and Earth",
           "Foundation (Publication Order",
           5
          ],
          [
           "Prelude to Foundation",
           "Foundation (Publication Order",
           6
          ],
          [
           "Forward the Foundation",
           "Foundation (Publication Order",
           7
          ],
          [
           "The Dark Forest",
           "Remembrance of Earth's Past",
           2
          ],
          [
           "Death's End",
           "Remembrance of Earth's Past",
           3
          ]
         ],
         "hovertemplate": "saga=Saga (continuation)<br>num_ratings=%{x}<br>average_rating=%{y}<br>title=%{customdata[0]}<br>series_name=%{customdata[1]}<br>series_n=%{customdata[2]}<extra></extra>",
         "legendgroup": "Saga (continuation)",
         "marker": {
          "color": "#EF553B",
          "symbol": "circle"
         },
         "mode": "markers",
         "name": "Saga (continuation)",
         "orientation": "v",
         "showlegend": true,
         "type": "scatter",
         "x": [
          3277548,
          3439727,
          3057818,
          2927014,
          2834974,
          3240578,
          860531,
          926344,
          842907,
          888106,
          813022,
          29395,
          850748,
          713213,
          673951,
          599808,
          9595,
          1980,
          351248,
          323920,
          165193,
          105732,
          94533,
          1725,
          287741,
          2964748,
          2722872,
          1686872,
          1610973,
          1506265,
          179392,
          3361620,
          821282,
          769676,
          1334873,
          941426,
          89567,
          271609,
          249315,
          199482,
          160721,
          148857,
          143385,
          123324,
          438,
          1232,
          113781,
          656,
          138462,
          4015,
          694719,
          554931,
          301489,
          263111,
          174939,
          84523,
          486794,
          4156,
          2284,
          1474,
          4244,
          2501,
          1727,
          506662,
          400610,
          436727,
          507366,
          429949,
          373289,
          310439,
          217513,
          232197,
          186010,
          130396,
          43324,
          397900,
          335448,
          242968,
          514937,
          391895,
          93532,
          71641,
          178253,
          144698,
          126504,
          39608,
          24246,
          18503,
          452745,
          383772,
          378411,
          331235,
          280433,
          188090,
          118946,
          137266,
          128228,
          75341,
          50232,
          41785,
          169437,
          134575,
          166,
          137266,
          128228,
          75341,
          50232,
          41785,
          126793,
          95482,
          2385,
          100,
          64,
          65,
          101890,
          102513,
          42793,
          22538,
          22758,
          147153,
          119108,
          14001,
          105,
          257529,
          213955,
          157788,
          120413,
          30025,
          55376,
          49286,
          41763,
          37191,
          30061,
          21510,
          16110,
          3938,
          197787,
          139544,
          84961,
          65238,
          54787,
          14488,
          12276,
          123886,
          104411,
          84427,
          75664,
          62210,
          52023,
          46441,
          28435,
          237388,
          149369,
          102346,
          47152,
          2809,
          180647,
          164909,
          79142,
          63749,
          78137,
          50476,
          92917,
          71852
         ],
         "xaxis": "x",
         "y": [
          4.43,
          4.58,
          4.57,
          4.5,
          4.57,
          4.62,
          3.54,
          4.24,
          4.36,
          4.41,
          4.52,
          4.26,
          4.41,
          4.54,
          4.14,
          4.32,
          4.4,
          4.37,
          4.37,
          4.5,
          4.21,
          4.29,
          4.41,
          4.35,
          3.82,
          4.3,
          4.06,
          3.57,
          3.71,
          3.72,
          3.72,
          4.28,
          4.46,
          4.55,
          4,
          3.61,
          4.04,
          4.25,
          4.26,
          4.26,
          4.17,
          4.16,
          4.05,
          3.92,
          4.13,
          4.14,
          4.16,
          4.34,
          4.44,
          4.55,
          4.61,
          4.43,
          4.4,
          4.75,
          4.6,
          4.62,
          4.55,
          3.62,
          3.93,
          3.95,
          3.9,
          3.9,
          4.05,
          4.43,
          4.56,
          4.61,
          4.36,
          4.46,
          4.55,
          4.55,
          4.28,
          4.6,
          4.45,
          4.25,
          4.05,
          4,
          4.06,
          4.11,
          3.9,
          3.78,
          3.91,
          4.14,
          4.22,
          4.26,
          4.25,
          4.29,
          4.06,
          4.03,
          3.86,
          4.03,
          4.34,
          4.37,
          3.84,
          3.95,
          3.86,
          4.32,
          4.3,
          4.19,
          4.31,
          4.31,
          4.24,
          4.19,
          4.27,
          4.32,
          4.3,
          4.19,
          4.31,
          4.31,
          4.24,
          4.21,
          4.29,
          4.19,
          4.16,
          3.94,
          4.1,
          4.12,
          3.98,
          4.07,
          4.16,
          4.24,
          4.34,
          4.22,
          4.17,
          4.21,
          4.19,
          4.09,
          3.96,
          3.57,
          4.09,
          4.15,
          4.17,
          4.2,
          4.22,
          4.25,
          4.12,
          4.45,
          3.89,
          3.95,
          3.87,
          3.88,
          3.91,
          3.66,
          3.66,
          4.36,
          4.26,
          4.2,
          4.42,
          4.24,
          4.37,
          4.57,
          4.54,
          4.08,
          3.8,
          3.77,
          3.91,
          3.67,
          4.22,
          4.26,
          4.15,
          4.06,
          4.14,
          4.15,
          4.41,
          4.42
         ],
         "yaxis": "y"
        },
        {
         "customdata": [
          [
           "The Midnight Library",
           null,
           null
          ],
          [
           "The Invisible Life of Addie LaRue",
           null,
           null
          ],
          [
           "1984",
           null,
           null
          ],
          [
           "Fahrenheit 451",
           null,
           null
          ],
          [
           "Brave New World",
           null,
           null
          ],
          [
           "The Catcher in the Rye",
           null,
           null
          ],
          [
           "The Binding",
           null,
           null
          ],
          [
           "All the Crooked Saints",
           null,
           null
          ],
          [
           "The Man in the High Castle",
           null,
           null
          ],
          [
           "This Is How You Lose the Time War",
           null,
           null
          ],
          [
           "Deathless",
           null,
           null
          ],
          [
           "Jonathan Strange & Mr Norrell",
           null,
           null
          ],
          [
           "American Gods",
           "American Gods",
           null
          ],
          [
           "Good Omens: The Nice and Accurate Prophecies of Agnes Nutter, Witch",
           null,
           null
          ],
          [
           "Stardust",
           null,
           null
          ],
          [
           "The Princess Bride",
           null,
           null
          ],
          [
           "Circe",
           null,
           null
          ],
          [
           "Gallant",
           null,
           null
          ],
          [
           "Among Others",
           null,
           null
          ],
          [
           "Gingerbread",
           null,
           null
          ],
          [
           "The Forgotten Beasts of Eld",
           null,
           null
          ],
          [
           "The Night Circus",
           null,
           null
          ],
          [
           "The Deep",
           null,
           null
          ],
          [
           "Upright Women Wanted",
           null,
           null
          ],
          [
           "The House in the Cerulean Sea",
           null,
           null
          ],
          [
           "Winterwood",
           null,
           null
          ]
         ],
         "hovertemplate": "saga=Standalone<br>num_ratings=%{x}<br>average_rating=%{y}<br>title=%{customdata[0]}<br>series_name=%{customdata[1]}<br>series_n=%{customdata[2]}<extra></extra>",
         "legendgroup": "Standalone",
         "marker": {
          "color": "#00cc96",
          "symbol": "circle"
         },
         "mode": "markers",
         "name": "Standalone",
         "orientation": "v",
         "showlegend": true,
         "type": "scatter",
         "x": [
          944368,
          584015,
          3808026,
          2014586,
          1636073,
          3105169,
          57669,
          20596,
          190497,
          86075,
          18097,
          219407,
          840495,
          633817,
          402680,
          841418,
          661290,
          25490,
          23038,
          12681,
          15849,
          820521,
          23428,
          15518,
          285067,
          16896
         ],
         "xaxis": "x",
         "y": [
          4.05,
          4.23,
          4.19,
          3.98,
          3.99,
          3.81,
          3.88,
          3.81,
          3.61,
          3.96,
          3.98,
          3.84,
          4.11,
          4.25,
          4.09,
          4.26,
          4.26,
          3.91,
          3.7,
          3.06,
          4.08,
          4.03,
          3.79,
          3.64,
          4.46,
          3.86
         ],
         "yaxis": "y"
        }
       ],
       "layout": {
        "height": 500,
        "legend": {
         "title": {
          "text": "saga"
         },
         "tracegroupgap": 0
        },
        "margin": {
         "t": 60
        },
        "template": {
         "data": {
          "bar": [
           {
            "error_x": {
             "color": "#2a3f5f"
            },
            "error_y": {
             "color": "#2a3f5f"
            },
            "marker": {
             "line": {
              "color": "#E5ECF6",
              "width": 0.5
             },
             "pattern": {
              "fillmode": "overlay",
              "size": 10,
              "solidity": 0.2
             }
            },
            "type": "bar"
           }
          ],
          "barpolar": [
           {
            "marker": {
             "line": {
              "color": "#E5ECF6",
              "width": 0.5
             },
             "pattern": {
              "fillmode": "overlay",
              "size": 10,
              "solidity": 0.2
             }
            },
            "type": "barpolar"
           }
          ],
          "carpet": [
           {
            "aaxis": {
             "endlinecolor": "#2a3f5f",
             "gridcolor": "white",
             "linecolor": "white",
             "minorgridcolor": "white",
             "startlinecolor": "#2a3f5f"
            },
            "baxis": {
             "endlinecolor": "#2a3f5f",
             "gridcolor": "white",
             "linecolor": "white",
             "minorgridcolor": "white",
             "startlinecolor": "#2a3f5f"
            },
            "type": "carpet"
           }
          ],
          "choropleth": [
           {
            "colorbar": {
             "outlinewidth": 0,
             "ticks": ""
            },
            "type": "choropleth"
           }
          ],
          "contour": [
           {
            "colorbar": {
             "outlinewidth": 0,
             "ticks": ""
            },
            "colorscale": [
             [
              0,
              "#0d0887"
             ],
             [
              0.1111111111111111,
              "#46039f"
             ],
             [
              0.2222222222222222,
              "#7201a8"
             ],
             [
              0.3333333333333333,
              "#9c179e"
             ],
             [
              0.4444444444444444,
              "#bd3786"
             ],
             [
              0.5555555555555556,
              "#d8576b"
             ],
             [
              0.6666666666666666,
              "#ed7953"
             ],
             [
              0.7777777777777778,
              "#fb9f3a"
             ],
             [
              0.8888888888888888,
              "#fdca26"
             ],
             [
              1,
              "#f0f921"
             ]
            ],
            "type": "contour"
           }
          ],
          "contourcarpet": [
           {
            "colorbar": {
             "outlinewidth": 0,
             "ticks": ""
            },
            "type": "contourcarpet"
           }
          ],
          "heatmap": [
           {
            "colorbar": {
             "outlinewidth": 0,
             "ticks": ""
            },
            "colorscale": [
             [
              0,
              "#0d0887"
             ],
             [
              0.1111111111111111,
              "#46039f"
             ],
             [
              0.2222222222222222,
              "#7201a8"
             ],
             [
              0.3333333333333333,
              "#9c179e"
             ],
             [
              0.4444444444444444,
              "#bd3786"
             ],
             [
              0.5555555555555556,
              "#d8576b"
             ],
             [
              0.6666666666666666,
              "#ed7953"
             ],
             [
              0.7777777777777778,
              "#fb9f3a"
             ],
             [
              0.8888888888888888,
              "#fdca26"
             ],
             [
              1,
              "#f0f921"
             ]
            ],
            "type": "heatmap"
           }
          ],
          "heatmapgl": [
           {
            "colorbar": {
             "outlinewidth": 0,
             "ticks": ""
            },
            "colorscale": [
             [
              0,
              "#0d0887"
             ],
             [
              0.1111111111111111,
              "#46039f"
             ],
             [
              0.2222222222222222,
              "#7201a8"
             ],
             [
              0.3333333333333333,
              "#9c179e"
             ],
             [
              0.4444444444444444,
              "#bd3786"
             ],
             [
              0.5555555555555556,
              "#d8576b"
             ],
             [
              0.6666666666666666,
              "#ed7953"
             ],
             [
              0.7777777777777778,
              "#fb9f3a"
             ],
             [
              0.8888888888888888,
              "#fdca26"
             ],
             [
              1,
              "#f0f921"
             ]
            ],
            "type": "heatmapgl"
           }
          ],
          "histogram": [
           {
            "marker": {
             "pattern": {
              "fillmode": "overlay",
              "size": 10,
              "solidity": 0.2
             }
            },
            "type": "histogram"
           }
          ],
          "histogram2d": [
           {
            "colorbar": {
             "outlinewidth": 0,
             "ticks": ""
            },
            "colorscale": [
             [
              0,
              "#0d0887"
             ],
             [
              0.1111111111111111,
              "#46039f"
             ],
             [
              0.2222222222222222,
              "#7201a8"
             ],
             [
              0.3333333333333333,
              "#9c179e"
             ],
             [
              0.4444444444444444,
              "#bd3786"
             ],
             [
              0.5555555555555556,
              "#d8576b"
             ],
             [
              0.6666666666666666,
              "#ed7953"
             ],
             [
              0.7777777777777778,
              "#fb9f3a"
             ],
             [
              0.8888888888888888,
              "#fdca26"
             ],
             [
              1,
              "#f0f921"
             ]
            ],
            "type": "histogram2d"
           }
          ],
          "histogram2dcontour": [
           {
            "colorbar": {
             "outlinewidth": 0,
             "ticks": ""
            },
            "colorscale": [
             [
              0,
              "#0d0887"
             ],
             [
              0.1111111111111111,
              "#46039f"
             ],
             [
              0.2222222222222222,
              "#7201a8"
             ],
             [
              0.3333333333333333,
              "#9c179e"
             ],
             [
              0.4444444444444444,
              "#bd3786"
             ],
             [
              0.5555555555555556,
              "#d8576b"
             ],
             [
              0.6666666666666666,
              "#ed7953"
             ],
             [
              0.7777777777777778,
              "#fb9f3a"
             ],
             [
              0.8888888888888888,
              "#fdca26"
             ],
             [
              1,
              "#f0f921"
             ]
            ],
            "type": "histogram2dcontour"
           }
          ],
          "mesh3d": [
           {
            "colorbar": {
             "outlinewidth": 0,
             "ticks": ""
            },
            "type": "mesh3d"
           }
          ],
          "parcoords": [
           {
            "line": {
             "colorbar": {
              "outlinewidth": 0,
              "ticks": ""
             }
            },
            "type": "parcoords"
           }
          ],
          "pie": [
           {
            "automargin": true,
            "type": "pie"
           }
          ],
          "scatter": [
           {
            "marker": {
             "colorbar": {
              "outlinewidth": 0,
              "ticks": ""
             }
            },
            "type": "scatter"
           }
          ],
          "scatter3d": [
           {
            "line": {
             "colorbar": {
              "outlinewidth": 0,
              "ticks": ""
             }
            },
            "marker": {
             "colorbar": {
              "outlinewidth": 0,
              "ticks": ""
             }
            },
            "type": "scatter3d"
           }
          ],
          "scattercarpet": [
           {
            "marker": {
             "colorbar": {
              "outlinewidth": 0,
              "ticks": ""
             }
            },
            "type": "scattercarpet"
           }
          ],
          "scattergeo": [
           {
            "marker": {
             "colorbar": {
              "outlinewidth": 0,
              "ticks": ""
             }
            },
            "type": "scattergeo"
           }
          ],
          "scattergl": [
           {
            "marker": {
             "colorbar": {
              "outlinewidth": 0,
              "ticks": ""
             }
            },
            "type": "scattergl"
           }
          ],
          "scattermapbox": [
           {
            "marker": {
             "colorbar": {
              "outlinewidth": 0,
              "ticks": ""
             }
            },
            "type": "scattermapbox"
           }
          ],
          "scatterpolar": [
           {
            "marker": {
             "colorbar": {
              "outlinewidth": 0,
              "ticks": ""
             }
            },
            "type": "scatterpolar"
           }
          ],
          "scatterpolargl": [
           {
            "marker": {
             "colorbar": {
              "outlinewidth": 0,
              "ticks": ""
             }
            },
            "type": "scatterpolargl"
           }
          ],
          "scatterternary": [
           {
            "marker": {
             "colorbar": {
              "outlinewidth": 0,
              "ticks": ""
             }
            },
            "type": "scatterternary"
           }
          ],
          "surface": [
           {
            "colorbar": {
             "outlinewidth": 0,
             "ticks": ""
            },
            "colorscale": [
             [
              0,
              "#0d0887"
             ],
             [
              0.1111111111111111,
              "#46039f"
             ],
             [
              0.2222222222222222,
              "#7201a8"
             ],
             [
              0.3333333333333333,
              "#9c179e"
             ],
             [
              0.4444444444444444,
              "#bd3786"
             ],
             [
              0.5555555555555556,
              "#d8576b"
             ],
             [
              0.6666666666666666,
              "#ed7953"
             ],
             [
              0.7777777777777778,
              "#fb9f3a"
             ],
             [
              0.8888888888888888,
              "#fdca26"
             ],
             [
              1,
              "#f0f921"
             ]
            ],
            "type": "surface"
           }
          ],
          "table": [
           {
            "cells": {
             "fill": {
              "color": "#EBF0F8"
             },
             "line": {
              "color": "white"
             }
            },
            "header": {
             "fill": {
              "color": "#C8D4E3"
             },
             "line": {
              "color": "white"
             }
            },
            "type": "table"
           }
          ]
         },
         "layout": {
          "annotationdefaults": {
           "arrowcolor": "#2a3f5f",
           "arrowhead": 0,
           "arrowwidth": 1
          },
          "autotypenumbers": "strict",
          "coloraxis": {
           "colorbar": {
            "outlinewidth": 0,
            "ticks": ""
           }
          },
          "colorscale": {
           "diverging": [
            [
             0,
             "#8e0152"
            ],
            [
             0.1,
             "#c51b7d"
            ],
            [
             0.2,
             "#de77ae"
            ],
            [
             0.3,
             "#f1b6da"
            ],
            [
             0.4,
             "#fde0ef"
            ],
            [
             0.5,
             "#f7f7f7"
            ],
            [
             0.6,
             "#e6f5d0"
            ],
            [
             0.7,
             "#b8e186"
            ],
            [
             0.8,
             "#7fbc41"
            ],
            [
             0.9,
             "#4d9221"
            ],
            [
             1,
             "#276419"
            ]
           ],
           "sequential": [
            [
             0,
             "#0d0887"
            ],
            [
             0.1111111111111111,
             "#46039f"
            ],
            [
             0.2222222222222222,
             "#7201a8"
            ],
            [
             0.3333333333333333,
             "#9c179e"
            ],
            [
             0.4444444444444444,
             "#bd3786"
            ],
            [
             0.5555555555555556,
             "#d8576b"
            ],
            [
             0.6666666666666666,
             "#ed7953"
            ],
            [
             0.7777777777777778,
             "#fb9f3a"
            ],
            [
             0.8888888888888888,
             "#fdca26"
            ],
            [
             1,
             "#f0f921"
            ]
           ],
           "sequentialminus": [
            [
             0,
             "#0d0887"
            ],
            [
             0.1111111111111111,
             "#46039f"
            ],
            [
             0.2222222222222222,
             "#7201a8"
            ],
            [
             0.3333333333333333,
             "#9c179e"
            ],
            [
             0.4444444444444444,
             "#bd3786"
            ],
            [
             0.5555555555555556,
             "#d8576b"
            ],
            [
             0.6666666666666666,
             "#ed7953"
            ],
            [
             0.7777777777777778,
             "#fb9f3a"
            ],
            [
             0.8888888888888888,
             "#fdca26"
            ],
            [
             1,
             "#f0f921"
            ]
           ]
          },
          "colorway": [
           "#636efa",
           "#EF553B",
           "#00cc96",
           "#ab63fa",
           "#FFA15A",
           "#19d3f3",
           "#FF6692",
           "#B6E880",
           "#FF97FF",
           "#FECB52"
          ],
          "font": {
           "color": "#2a3f5f"
          },
          "geo": {
           "bgcolor": "white",
           "lakecolor": "white",
           "landcolor": "#E5ECF6",
           "showlakes": true,
           "showland": true,
           "subunitcolor": "white"
          },
          "hoverlabel": {
           "align": "left"
          },
          "hovermode": "closest",
          "mapbox": {
           "style": "light"
          },
          "paper_bgcolor": "white",
          "plot_bgcolor": "#E5ECF6",
          "polar": {
           "angularaxis": {
            "gridcolor": "white",
            "linecolor": "white",
            "ticks": ""
           },
           "bgcolor": "#E5ECF6",
           "radialaxis": {
            "gridcolor": "white",
            "linecolor": "white",
            "ticks": ""
           }
          },
          "scene": {
           "xaxis": {
            "backgroundcolor": "#E5ECF6",
            "gridcolor": "white",
            "gridwidth": 2,
            "linecolor": "white",
            "showbackground": true,
            "ticks": "",
            "zerolinecolor": "white"
           },
           "yaxis": {
            "backgroundcolor": "#E5ECF6",
            "gridcolor": "white",
            "gridwidth": 2,
            "linecolor": "white",
            "showbackground": true,
            "ticks": "",
            "zerolinecolor": "white"
           },
           "zaxis": {
            "backgroundcolor": "#E5ECF6",
            "gridcolor": "white",
            "gridwidth": 2,
            "linecolor": "white",
            "showbackground": true,
            "ticks": "",
            "zerolinecolor": "white"
           }
          },
          "shapedefaults": {
           "line": {
            "color": "#2a3f5f"
           }
          },
          "ternary": {
           "aaxis": {
            "gridcolor": "white",
            "linecolor": "white",
            "ticks": ""
           },
           "baxis": {
            "gridcolor": "white",
            "linecolor": "white",
            "ticks": ""
           },
           "bgcolor": "#E5ECF6",
           "caxis": {
            "gridcolor": "white",
            "linecolor": "white",
            "ticks": ""
           }
          },
          "title": {
           "x": 0.05
          },
          "xaxis": {
           "automargin": true,
           "gridcolor": "white",
           "linecolor": "white",
           "ticks": "",
           "title": {
            "standoff": 15
           },
           "zerolinecolor": "white",
           "zerolinewidth": 2
          },
          "yaxis": {
           "automargin": true,
           "gridcolor": "white",
           "linecolor": "white",
           "ticks": "",
           "title": {
            "standoff": 15
           },
           "zerolinecolor": "white",
           "zerolinewidth": 2
          }
         }
        },
        "width": 800,
        "xaxis": {
         "anchor": "y",
         "domain": [
          0,
          1
         ],
         "title": {
          "text": "num_ratings"
         }
        },
        "yaxis": {
         "anchor": "x",
         "domain": [
          0,
          1
         ],
         "title": {
          "text": "average_rating"
         }
        }
       }
      }
     },
     "metadata": {},
     "output_type": "display_data"
    }
   ],
   "source": [
    "fig_scatter = px.scatter(\n",
    "    books_df_scatter, x=\"num_ratings\", y=\"average_rating\", color=\"saga\", \n",
    "    hover_data=[\"title\", \"series_name\", \"series_n\"],\n",
    "    height=500, width=800\n",
    "    )\n",
    "fig_scatter.show()"
   ]
  },
  {
   "cell_type": "code",
   "execution_count": 52,
   "metadata": {},
   "outputs": [
    {
     "name": "stdout",
     "output_type": "stream",
     "text": [
      "3\n"
     ]
    }
   ],
   "source": [
    "# len = 3: each color group is a 'trace'\n",
    "print(len(fig_scatter['data']))\n"
   ]
  },
  {
   "cell_type": "markdown",
   "metadata": {},
   "source": [
    "In the lower cell we use the module `pio` to access the templates and create a new one. Templates are sets of pre-defined layout settings (e.g. background color, borders, color palette for each trace). Default templates are available (e.g. `'plotly_white`), but we can also create our own with `go.layout.Template`. In the `borders` template we add borders to the plot.\n",
    "\n",
    "Templates can be combined using `'+'`. In fact, in the next plots we will we specify the combination `'plotly_white+borders'` as a template."
   ]
  },
  {
   "cell_type": "code",
   "execution_count": 53,
   "metadata": {},
   "outputs": [],
   "source": [
    "import plotly.io as pio\n",
    "pio.templates[\"borders\"] = go.layout.Template(\n",
    "    layout = dict(\n",
    "        xaxis = dict(\n",
    "            mirror=True,\n",
    "            ticks='outside',\n",
    "            showline=True,\n",
    "            linecolor='black'\n",
    "        ),\n",
    "        yaxis = dict(\n",
    "            mirror=True,\n",
    "            ticks='outside',\n",
    "            showline=True,\n",
    "            linecolor='black'\n",
    "        )\n",
    "    )\n",
    ")"
   ]
  },
  {
   "cell_type": "markdown",
   "metadata": {},
   "source": [
    "In the next cell we modify the appearance of `fig_scatter` with `.update_layout()`. When we make these modifications it is **not** necessary to reassign the result to the `fig_scatter` object.\n",
    "For layout modifications there are multiple ways to access the elements we are interested in. Apart from accessing them as nested dictionaries, they can be accessed by using `_` to chain successive names. That is `xaxis={'title':'Number of ratings'}` is equivalent to `xaxis_title='Number of ratings'`. \n",
    "\n",
    "For more information on this: https://plotly.com/python/reference/index/ "
   ]
  },
  {
   "cell_type": "code",
   "execution_count": 54,
   "metadata": {},
   "outputs": [
    {
     "data": {
      "application/vnd.plotly.v1+json": {
       "config": {
        "plotlyServerURL": "https://plot.ly"
       },
       "data": [
        {
         "customdata": [
          [
           "Harry Potter and the Sorcerer's Stone",
           "Harry Potter",
           1
          ],
          [
           "The Lightning Thief",
           "Percy Jackson and the Olympians",
           1
          ],
          [
           "A Game of Thrones",
           "A Song of Ice and Fire",
           1
          ],
          [
           "The Final Empire",
           "The Mistborn Saga",
           1
          ],
          [
           "The Hunger Games",
           "The Hunger Games",
           1
          ],
          [
           "Twilight",
           "The Twilight Saga",
           1
          ],
          [
           "The Fellowship of the Ring",
           "The Lord of the Rings",
           1
          ],
          [
           "Divergent",
           "Divergent",
           1
          ],
          [
           "Earlier-Ravens",
           "The Wheel of Time",
           1
          ],
          [
           "A Court of Thorns and Roses",
           "A Court of Thorns and Roses",
           1
          ],
          [
           "The Way of Kings",
           "The Stormlight Archive",
           1
          ],
          [
           "The Name of the Wind",
           "The Kingkiller Chronicle",
           1
          ],
          [
           "The Just City",
           "Thessaly",
           1
          ],
          [
           "The Black Tides of Heaven",
           "Tensorate",
           1
          ],
          [
           "Clockwork Angel",
           "The Infernal Devices",
           1
          ],
          [
           "Six of Crows",
           "Six of Crows",
           1
          ],
          [
           "Throne of Glass",
           "Throne of Glass",
           1
          ],
          [
           "From Blood and Ash",
           "Blood and Ash",
           1
          ],
          [
           "Eragon",
           "The Inheritance Cycle",
           1
          ],
          [
           "The Maze Runner",
           "The Maze Runner",
           1
          ],
          [
           "The Magicians",
           "The Magicians",
           1
          ],
          [
           "The Raven Boys",
           "The Raven Cycle",
           1
          ],
          [
           "Parable of the Sower",
           "Earthseed",
           1
          ],
          [
           "Binti",
           "Binti",
           1
          ],
          [
           "Shadow and Bone",
           "The Shadow and Bone Trilogy",
           1
          ],
          [
           "The Cruel Prince",
           "The Folk of the Air",
           1
          ],
          [
           "Red Queen",
           "Red Queen",
           1
          ],
          [
           "The Blade Itself",
           "The First Law",
           1
          ],
          [
           "Assassin's Apprentice",
           "The Farseer Trilogy",
           1
          ],
          [
           "Warbreaker",
           "Warbreaker",
           1
          ],
          [
           "The Blade Itself",
           "The First Law",
           1
          ],
          [
           "The Lies of Locke Lamora",
           "Gentleman Bastard",
           1
          ],
          [
           "A Wizard of Earthsea",
           "Earthsea Cycle",
           1
          ],
          [
           "A Darker Shade of Magic",
           "Shades of Magic",
           1
          ],
          [
           "The Archived",
           "The Archived",
           1
          ],
          [
           "The Hitchhiker's Guide to the Galaxy",
           "The Hitchhiker's Guide to the Galaxy",
           1
          ],
          [
           "Rivers of London",
           "Rivers of London",
           1
          ],
          [
           "Dune",
           "Dune",
           1
          ],
          [
           "Leviathan Wakes",
           "The Expanse",
           1
          ],
          [
           "Ender's Game",
           "Ender's Saga",
           1
          ],
          [
           "Foundation",
           "Foundation (Publication Order",
           1
          ],
          [
           "The Three-Body Problem",
           "Remembrance of Earth's Past",
           1
          ]
         ],
         "hovertemplate": "saga=Saga (first book)<br>num_ratings=%{x}<br>average_rating=%{y}<br>title=%{customdata[0]}<br>series_name=%{customdata[1]}<br>series_n=%{customdata[2]}<extra></extra>",
         "legendgroup": "Saga (first book)",
         "marker": {
          "color": "#636efa",
          "symbol": "circle"
         },
         "mode": "markers",
         "name": "Saga (first book)",
         "orientation": "v",
         "showlegend": true,
         "type": "scatter",
         "x": [
          8491079,
          2435307,
          2228706,
          506701,
          7363176,
          5728651,
          2570023,
          3425949,
          326,
          976193,
          378925,
          828685,
          6703,
          9676,
          763799,
          650934,
          832328,
          272933,
          1594348,
          1272470,
          250003,
          323822,
          107811,
          61573,
          720290,
          607976,
          786992,
          197291,
          272436,
          149065,
          197291,
          258037,
          274973,
          272370,
          32913,
          1635203,
          111610,
          1068746,
          216416,
          1249770,
          474592,
          213667
         ],
         "xaxis": "x",
         "y": [
          4.48,
          4.28,
          4.44,
          4.46,
          4.32,
          3.63,
          4.38,
          4.16,
          3.6,
          4.19,
          4.64,
          4.52,
          3.79,
          3.74,
          4.32,
          4.49,
          4.19,
          4.31,
          3.92,
          4.04,
          3.52,
          4.05,
          4.2,
          3.9,
          3.96,
          4.1,
          4.04,
          4.18,
          4.17,
          4.29,
          4.18,
          4.28,
          4,
          4.07,
          3.96,
          4.22,
          3.87,
          4.25,
          4.27,
          4.3,
          4.17,
          4.07
         ],
         "yaxis": "y"
        },
        {
         "customdata": [
          [
           "Harry Potter and the Chamber of Secrets",
           "Harry Potter",
           2
          ],
          [
           "Harry Potter and the Prisoner of Azkaban",
           "Harry Potter",
           3
          ],
          [
           "Harry Potter and the Goblet of Fire",
           "Harry Potter",
           4
          ],
          [
           "Harry Potter and the Order of the Phoenix",
           "Harry Potter",
           5
          ],
          [
           "Harry Potter and the Half-Blood Prince",
           "Harry Potter",
           6
          ],
          [
           "Harry Potter and the Deathly Hallows",
           "Harry Potter",
           7
          ],
          [
           "Harry Potter and the Cursed Child: Parts One and Two",
           "Harry Potter",
           8
          ],
          [
           "The Sea of Monsters",
           "Percy Jackson and the Olympians",
           2
          ],
          [
           "The Titan's Curse",
           "Percy Jackson and the Olympians",
           3
          ],
          [
           "The Battle of the Labyrinth",
           "Percy Jackson and the Olympians",
           4
          ],
          [
           "The Last Olympian",
           "Percy Jackson and the Olympians",
           5
          ],
          [
           "The World of Ice & Fire: The Untold History of Westeros and the Game of Thrones",
           "A Song of Ice and Fire",
           0
          ],
          [
           "A Clash of Kings",
           "A Song of Ice and Fire",
           2
          ],
          [
           "A Storm of Swords",
           "A Song of Ice and Fire",
           3
          ],
          [
           "A Feast for Crows",
           "A Song of Ice and Fire",
           4
          ],
          [
           "A Dance with Dragons",
           "A Song of Ice and Fire",
           5
          ],
          [
           "The Winds of Winter",
           "A Song of Ice and Fire",
           6
          ],
          [
           "A Dream of Spring",
           "A Song of Ice and Fire",
           7
          ],
          [
           "The Well of Ascension",
           "The Mistborn Saga",
           2
          ],
          [
           "The Hero of Ages",
           "The Mistborn Saga",
           3
          ],
          [
           "The Alloy of Law",
           "The Mistborn Saga",
           4
          ],
          [
           "Shadows of Self",
           "The Mistborn Saga",
           5
          ],
          [
           "The Bands of Mourning",
           "The Mistborn Saga",
           6
          ],
          [
           "The Lost Metal",
           "The Mistborn Saga",
           7
          ],
          [
           "The Ballad of Songbirds and Snakes",
           "The Hunger Games",
           0
          ],
          [
           "Catching Fire",
           "The Hunger Games",
           2
          ],
          [
           "Mockingjay",
           "The Hunger Games",
           3
          ],
          [
           "New Moon",
           "The Twilight Saga",
           2
          ],
          [
           "Eclipse",
           "The Twilight Saga",
           3
          ],
          [
           "Breaking Dawn",
           "The Twilight Saga",
           4
          ],
          [
           "Midnight Sun",
           "The Twilight Saga",
           5
          ],
          [
           "The Hobbit",
           "The Lord of the Rings",
           0
          ],
          [
           "The Two Towers",
           "The Lord of the Rings",
           2
          ],
          [
           "The Return of the King",
           "The Lord of the Rings",
           3
          ],
          [
           "Insurgent",
           "Divergent",
           2
          ],
          [
           "Allegiant",
           "Divergent",
           3
          ],
          [
           "New Spring",
           "The Wheel of Time",
           0
          ],
          [
           "The Great Hunt",
           "The Wheel of Time",
           2
          ],
          [
           "The Dragon Reborn",
           "The Wheel of Time",
           3
          ],
          [
           "The Shadow Rising",
           "The Wheel of Time",
           4
          ],
          [
           "The Fires of Heaven",
           "The Wheel of Time",
           5
          ],
          [
           "Lord of Chaos",
           "The Wheel of Time",
           6
          ],
          [
           "A Crown of Swords",
           "The Wheel of Time",
           7
          ],
          [
           "The Path of Daggers",
           "The Wheel of Time",
           8
          ],
          [
           "Snow: The Prologue to Winter's Heart",
           "The Wheel of Time",
           9
          ],
          [
           "Glimmers: Prologue to Crossroads of Twilight",
           "The Wheel of Time",
           10
          ],
          [
           "Knife of Dreams",
           "The Wheel of Time",
           11
          ],
          [
           "What the Storm Means: Prologue to The Gathering Storm",
           "The Wheel of Time",
           12
          ],
          [
           "Towers of Midnight",
           "The Wheel of Time",
           13
          ],
          [
           "By Grace and Banners Fallen: Prologue to A Memory of Light",
           "The Wheel of Time",
           14
          ],
          [
           "A Court of Mist and Fury",
           "A Court of Thorns and Roses",
           2
          ],
          [
           "A Court of Wings and Ruin",
           "A Court of Thorns and Roses",
           3
          ],
          [
           "A ​Court of Silver Flames",
           "A Court of Thorns and Roses",
           4
          ],
          [
           "Words of Radiance",
           "The Stormlight Archive",
           2
          ],
          [
           "Oathbringer",
           "The Stormlight Archive",
           3
          ],
          [
           "Rhythm of War",
           "The Stormlight Archive",
           4
          ],
          [
           "The Wise Man's Fear",
           "The Kingkiller Chronicle",
           2
          ],
          [
           "The Doors of Stone",
           "The Kingkiller Chronicle",
           3
          ],
          [
           "The Philosopher Kings",
           "Thessaly",
           2
          ],
          [
           "Necessity",
           "Thessaly",
           3
          ],
          [
           "The Red Threads of Fortune",
           "Tensorate",
           2
          ],
          [
           "The Descent of Monsters",
           "Tensorate",
           3
          ],
          [
           "The Ascent to Godhood",
           "Tensorate",
           4
          ],
          [
           "Clockwork Prince",
           "The Infernal Devices",
           2
          ],
          [
           "Clockwork Princess",
           "The Infernal Devices",
           3
          ],
          [
           "Crooked Kingdom",
           "Six of Crows",
           2
          ],
          [
           "Crown of Midnight",
           "Throne of Glass",
           2
          ],
          [
           "Heir of Fire",
           "Throne of Glass",
           3
          ],
          [
           "Queen of Shadows",
           "Throne of Glass",
           4
          ],
          [
           "Empire of Storms",
           "Throne of Glass",
           5
          ],
          [
           "Tower of Dawn",
           "Throne of Glass",
           6
          ],
          [
           "Kingdom of Ash",
           "Throne of Glass",
           7
          ],
          [
           "A Kingdom of Flesh and Fire",
           "Blood and Ash",
           2
          ],
          [
           "The ​Crown of Gilded Bones",
           "Blood and Ash",
           3
          ],
          [
           "The War of Two Queens",
           "Blood and Ash",
           4
          ],
          [
           "Eldest",
           "The Inheritance Cycle",
           2
          ],
          [
           "Brisingr",
           "The Inheritance Cycle",
           3
          ],
          [
           "Inheritance",
           "The Inheritance Cycle",
           4
          ],
          [
           "The Scorch Trials",
           "The Maze Runner",
           2
          ],
          [
           "The Death Cure",
           "The Maze Runner",
           3
          ],
          [
           "The Magician King",
           "The Magicians",
           2
          ],
          [
           "The Magician's Land",
           "The Magicians",
           3
          ],
          [
           "The Dream Thieves",
           "The Raven Cycle",
           2
          ],
          [
           "Blue Lily, Lily Blue",
           "The Raven Cycle",
           3
          ],
          [
           "The Raven King",
           "The Raven Cycle",
           4
          ],
          [
           "Parable of the Talents",
           "Earthseed",
           2
          ],
          [
           "Home",
           "Binti",
           2
          ],
          [
           "The Night Masquerade",
           "Binti",
           3
          ],
          [
           "Siege and Storm",
           "The Shadow and Bone Trilogy",
           2
          ],
          [
           "Ruin and Rising",
           "The Shadow and Bone Trilogy",
           3
          ],
          [
           "The Wicked King",
           "The Folk of the Air",
           2
          ],
          [
           "The Queen of Nothing",
           "The Folk of the Air",
           3
          ],
          [
           "Glass Sword",
           "Red Queen",
           2
          ],
          [
           "King's Cage",
           "Red Queen",
           3
          ],
          [
           "War Storm",
           "Red Queen",
           4
          ],
          [
           "Before They Are Hanged",
           "The First Law",
           2
          ],
          [
           "Last Argument of Kings",
           "The First Law",
           3
          ],
          [
           "Best Served Cold",
           "The First Law",
           4
          ],
          [
           "The Heroes",
           "The First Law",
           5
          ],
          [
           "Red Country",
           "The First Law",
           6
          ],
          [
           "Royal Assassin",
           "The Farseer Trilogy",
           2
          ],
          [
           "Assassin's Quest",
           "The Farseer Trilogy",
           3
          ],
          [
           "Nightblood",
           "Warbreaker",
           2
          ],
          [
           "Before They Are Hanged",
           "The First Law",
           2
          ],
          [
           "Last Argument of Kings",
           "The First Law",
           3
          ],
          [
           "Best Served Cold",
           "The First Law",
           4
          ],
          [
           "The Heroes",
           "The First Law",
           5
          ],
          [
           "Red Country",
           "The First Law",
           6
          ],
          [
           "Red Seas Under Red Skies",
           "Gentleman Bastard",
           2
          ],
          [
           "The Republic of Thieves",
           "Gentleman Bastard",
           3
          ],
          [
           "The Thorn of Emberlain",
           "Gentleman Bastard",
           4
          ],
          [
           "The Ministry of Necessity",
           "Gentleman Bastard",
           5
          ],
          [
           "The Mage and the Master Spy",
           "Gentleman Bastard",
           6
          ],
          [
           "Inherit the Night",
           "Gentleman Bastard",
           7
          ],
          [
           "The Tombs of Atuan",
           "Earthsea Cycle",
           2
          ],
          [
           "The Farthest Shore",
           "Earthsea Cycle",
           3
          ],
          [
           "Tehanu",
           "Earthsea Cycle",
           4
          ],
          [
           "Tales from Earthsea",
           "Earthsea Cycle",
           5
          ],
          [
           "The Other Wind",
           "Earthsea Cycle",
           6
          ],
          [
           "A Gathering of Shadows",
           "Shades of Magic",
           2
          ],
          [
           "A Conjuring of Light",
           "Shades of Magic",
           3
          ],
          [
           "The Unbound",
           "The Archived",
           2
          ],
          [
           "The Returned",
           "The Archived",
           3
          ],
          [
           "The Restaurant at the End of the Universe",
           "The Hitchhiker's Guide to the Galaxy",
           2
          ],
          [
           "Life, the Universe and Everything",
           "The Hitchhiker's Guide to the Galaxy",
           3
          ],
          [
           "So Long, and Thanks for All the Fish",
           "The Hitchhiker's Guide to the Galaxy",
           4
          ],
          [
           "Mostly Harmless",
           "The Hitchhiker's Guide to the Galaxy",
           5
          ],
          [
           "And Another Thing...",
           "The Hitchhiker's Guide to the Galaxy",
           6
          ],
          [
           "Moon Over Soho",
           "Rivers of London",
           2
          ],
          [
           "Whispers Under Ground",
           "Rivers of London",
           3
          ],
          [
           "Broken Homes",
           "Rivers of London",
           4
          ],
          [
           "Foxglove Summer",
           "Rivers of London",
           5
          ],
          [
           "The Hanging Tree",
           "Rivers of London",
           6
          ],
          [
           "Lies Sleeping",
           "Rivers of London",
           7
          ],
          [
           "False Value",
           "Rivers of London",
           8
          ],
          [
           "Amongst Our Weapons",
           "Rivers of London",
           9
          ],
          [
           "Dune Messiah",
           "Dune",
           2
          ],
          [
           "Children of Dune",
           "Dune",
           3
          ],
          [
           "God Emperor of Dune",
           "Dune",
           4
          ],
          [
           "Heretics of Dune",
           "Dune",
           5
          ],
          [
           "Chapterhouse: Dune",
           "Dune",
           6
          ],
          [
           "Hunters of Dune",
           "Dune",
           7
          ],
          [
           "Sandworms of Dune",
           "Dune",
           8
          ],
          [
           "Caliban's War",
           "The Expanse",
           2
          ],
          [
           "Abaddon's Gate",
           "The Expanse",
           3
          ],
          [
           "Cibola Burn",
           "The Expanse",
           4
          ],
          [
           "Nemesis Games",
           "The Expanse",
           5
          ],
          [
           "Babylon's Ashes",
           "The Expanse",
           6
          ],
          [
           "Persepolis Rising",
           "The Expanse",
           7
          ],
          [
           "Tiamat's Wrath",
           "The Expanse",
           8
          ],
          [
           "Leviathan Falls",
           "The Expanse",
           9
          ],
          [
           "Speaker for the Dead",
           "Ender's Saga",
           2
          ],
          [
           "Xenocide",
           "Ender's Saga",
           3
          ],
          [
           "Children of the Mind",
           "Ender's Saga",
           4
          ],
          [
           "Ender in Exile",
           "Ender's Saga",
           5
          ],
          [
           "The Last Shadow",
           "Ender's Saga",
           6
          ],
          [
           "Foundation and Empire",
           "Foundation (Publication Order",
           2
          ],
          [
           "Second Foundation",
           "Foundation (Publication Order",
           3
          ],
          [
           "Foundation's Edge",
           "Foundation (Publication Order",
           4
          ],
          [
           "Foundation and Earth",
           "Foundation (Publication Order",
           5
          ],
          [
           "Prelude to Foundation",
           "Foundation (Publication Order",
           6
          ],
          [
           "Forward the Foundation",
           "Foundation (Publication Order",
           7
          ],
          [
           "The Dark Forest",
           "Remembrance of Earth's Past",
           2
          ],
          [
           "Death's End",
           "Remembrance of Earth's Past",
           3
          ]
         ],
         "hovertemplate": "saga=Saga (continuation)<br>num_ratings=%{x}<br>average_rating=%{y}<br>title=%{customdata[0]}<br>series_name=%{customdata[1]}<br>series_n=%{customdata[2]}<extra></extra>",
         "legendgroup": "Saga (continuation)",
         "marker": {
          "color": "#EF553B",
          "symbol": "circle"
         },
         "mode": "markers",
         "name": "Saga (continuation)",
         "orientation": "v",
         "showlegend": true,
         "type": "scatter",
         "x": [
          3277548,
          3439727,
          3057818,
          2927014,
          2834974,
          3240578,
          860531,
          926344,
          842907,
          888106,
          813022,
          29395,
          850748,
          713213,
          673951,
          599808,
          9595,
          1980,
          351248,
          323920,
          165193,
          105732,
          94533,
          1725,
          287741,
          2964748,
          2722872,
          1686872,
          1610973,
          1506265,
          179392,
          3361620,
          821282,
          769676,
          1334873,
          941426,
          89567,
          271609,
          249315,
          199482,
          160721,
          148857,
          143385,
          123324,
          438,
          1232,
          113781,
          656,
          138462,
          4015,
          694719,
          554931,
          301489,
          263111,
          174939,
          84523,
          486794,
          4156,
          2284,
          1474,
          4244,
          2501,
          1727,
          506662,
          400610,
          436727,
          507366,
          429949,
          373289,
          310439,
          217513,
          232197,
          186010,
          130396,
          43324,
          397900,
          335448,
          242968,
          514937,
          391895,
          93532,
          71641,
          178253,
          144698,
          126504,
          39608,
          24246,
          18503,
          452745,
          383772,
          378411,
          331235,
          280433,
          188090,
          118946,
          137266,
          128228,
          75341,
          50232,
          41785,
          169437,
          134575,
          166,
          137266,
          128228,
          75341,
          50232,
          41785,
          126793,
          95482,
          2385,
          100,
          64,
          65,
          101890,
          102513,
          42793,
          22538,
          22758,
          147153,
          119108,
          14001,
          105,
          257529,
          213955,
          157788,
          120413,
          30025,
          55376,
          49286,
          41763,
          37191,
          30061,
          21510,
          16110,
          3938,
          197787,
          139544,
          84961,
          65238,
          54787,
          14488,
          12276,
          123886,
          104411,
          84427,
          75664,
          62210,
          52023,
          46441,
          28435,
          237388,
          149369,
          102346,
          47152,
          2809,
          180647,
          164909,
          79142,
          63749,
          78137,
          50476,
          92917,
          71852
         ],
         "xaxis": "x",
         "y": [
          4.43,
          4.58,
          4.57,
          4.5,
          4.57,
          4.62,
          3.54,
          4.24,
          4.36,
          4.41,
          4.52,
          4.26,
          4.41,
          4.54,
          4.14,
          4.32,
          4.4,
          4.37,
          4.37,
          4.5,
          4.21,
          4.29,
          4.41,
          4.35,
          3.82,
          4.3,
          4.06,
          3.57,
          3.71,
          3.72,
          3.72,
          4.28,
          4.46,
          4.55,
          4,
          3.61,
          4.04,
          4.25,
          4.26,
          4.26,
          4.17,
          4.16,
          4.05,
          3.92,
          4.13,
          4.14,
          4.16,
          4.34,
          4.44,
          4.55,
          4.61,
          4.43,
          4.4,
          4.75,
          4.6,
          4.62,
          4.55,
          3.62,
          3.93,
          3.95,
          3.9,
          3.9,
          4.05,
          4.43,
          4.56,
          4.61,
          4.36,
          4.46,
          4.55,
          4.55,
          4.28,
          4.6,
          4.45,
          4.25,
          4.05,
          4,
          4.06,
          4.11,
          3.9,
          3.78,
          3.91,
          4.14,
          4.22,
          4.26,
          4.25,
          4.29,
          4.06,
          4.03,
          3.86,
          4.03,
          4.34,
          4.37,
          3.84,
          3.95,
          3.86,
          4.32,
          4.3,
          4.19,
          4.31,
          4.31,
          4.24,
          4.19,
          4.27,
          4.32,
          4.3,
          4.19,
          4.31,
          4.31,
          4.24,
          4.21,
          4.29,
          4.19,
          4.16,
          3.94,
          4.1,
          4.12,
          3.98,
          4.07,
          4.16,
          4.24,
          4.34,
          4.22,
          4.17,
          4.21,
          4.19,
          4.09,
          3.96,
          3.57,
          4.09,
          4.15,
          4.17,
          4.2,
          4.22,
          4.25,
          4.12,
          4.45,
          3.89,
          3.95,
          3.87,
          3.88,
          3.91,
          3.66,
          3.66,
          4.36,
          4.26,
          4.2,
          4.42,
          4.24,
          4.37,
          4.57,
          4.54,
          4.08,
          3.8,
          3.77,
          3.91,
          3.67,
          4.22,
          4.26,
          4.15,
          4.06,
          4.14,
          4.15,
          4.41,
          4.42
         ],
         "yaxis": "y"
        },
        {
         "customdata": [
          [
           "The Midnight Library",
           null,
           null
          ],
          [
           "The Invisible Life of Addie LaRue",
           null,
           null
          ],
          [
           "1984",
           null,
           null
          ],
          [
           "Fahrenheit 451",
           null,
           null
          ],
          [
           "Brave New World",
           null,
           null
          ],
          [
           "The Catcher in the Rye",
           null,
           null
          ],
          [
           "The Binding",
           null,
           null
          ],
          [
           "All the Crooked Saints",
           null,
           null
          ],
          [
           "The Man in the High Castle",
           null,
           null
          ],
          [
           "This Is How You Lose the Time War",
           null,
           null
          ],
          [
           "Deathless",
           null,
           null
          ],
          [
           "Jonathan Strange & Mr Norrell",
           null,
           null
          ],
          [
           "American Gods",
           "American Gods",
           null
          ],
          [
           "Good Omens: The Nice and Accurate Prophecies of Agnes Nutter, Witch",
           null,
           null
          ],
          [
           "Stardust",
           null,
           null
          ],
          [
           "The Princess Bride",
           null,
           null
          ],
          [
           "Circe",
           null,
           null
          ],
          [
           "Gallant",
           null,
           null
          ],
          [
           "Among Others",
           null,
           null
          ],
          [
           "Gingerbread",
           null,
           null
          ],
          [
           "The Forgotten Beasts of Eld",
           null,
           null
          ],
          [
           "The Night Circus",
           null,
           null
          ],
          [
           "The Deep",
           null,
           null
          ],
          [
           "Upright Women Wanted",
           null,
           null
          ],
          [
           "The House in the Cerulean Sea",
           null,
           null
          ],
          [
           "Winterwood",
           null,
           null
          ]
         ],
         "hovertemplate": "saga=Standalone<br>num_ratings=%{x}<br>average_rating=%{y}<br>title=%{customdata[0]}<br>series_name=%{customdata[1]}<br>series_n=%{customdata[2]}<extra></extra>",
         "legendgroup": "Standalone",
         "marker": {
          "color": "#00cc96",
          "symbol": "circle"
         },
         "mode": "markers",
         "name": "Standalone",
         "orientation": "v",
         "showlegend": true,
         "type": "scatter",
         "x": [
          944368,
          584015,
          3808026,
          2014586,
          1636073,
          3105169,
          57669,
          20596,
          190497,
          86075,
          18097,
          219407,
          840495,
          633817,
          402680,
          841418,
          661290,
          25490,
          23038,
          12681,
          15849,
          820521,
          23428,
          15518,
          285067,
          16896
         ],
         "xaxis": "x",
         "y": [
          4.05,
          4.23,
          4.19,
          3.98,
          3.99,
          3.81,
          3.88,
          3.81,
          3.61,
          3.96,
          3.98,
          3.84,
          4.11,
          4.25,
          4.09,
          4.26,
          4.26,
          3.91,
          3.7,
          3.06,
          4.08,
          4.03,
          3.79,
          3.64,
          4.46,
          3.86
         ],
         "yaxis": "y"
        }
       ],
       "layout": {
        "height": 500,
        "legend": {
         "title": {},
         "tracegroupgap": 0,
         "x": 1.02,
         "y": 0.5
        },
        "margin": {
         "t": 60
        },
        "template": {
         "data": {
          "bar": [
           {
            "error_x": {
             "color": "#2a3f5f"
            },
            "error_y": {
             "color": "#2a3f5f"
            },
            "marker": {
             "line": {
              "color": "white",
              "width": 0.5
             },
             "pattern": {
              "fillmode": "overlay",
              "size": 10,
              "solidity": 0.2
             }
            },
            "type": "bar"
           }
          ],
          "barpolar": [
           {
            "marker": {
             "line": {
              "color": "white",
              "width": 0.5
             },
             "pattern": {
              "fillmode": "overlay",
              "size": 10,
              "solidity": 0.2
             }
            },
            "type": "barpolar"
           }
          ],
          "carpet": [
           {
            "aaxis": {
             "endlinecolor": "#2a3f5f",
             "gridcolor": "#C8D4E3",
             "linecolor": "#C8D4E3",
             "minorgridcolor": "#C8D4E3",
             "startlinecolor": "#2a3f5f"
            },
            "baxis": {
             "endlinecolor": "#2a3f5f",
             "gridcolor": "#C8D4E3",
             "linecolor": "#C8D4E3",
             "minorgridcolor": "#C8D4E3",
             "startlinecolor": "#2a3f5f"
            },
            "type": "carpet"
           }
          ],
          "choropleth": [
           {
            "colorbar": {
             "outlinewidth": 0,
             "ticks": ""
            },
            "type": "choropleth"
           }
          ],
          "contour": [
           {
            "colorbar": {
             "outlinewidth": 0,
             "ticks": ""
            },
            "colorscale": [
             [
              0,
              "#0d0887"
             ],
             [
              0.1111111111111111,
              "#46039f"
             ],
             [
              0.2222222222222222,
              "#7201a8"
             ],
             [
              0.3333333333333333,
              "#9c179e"
             ],
             [
              0.4444444444444444,
              "#bd3786"
             ],
             [
              0.5555555555555556,
              "#d8576b"
             ],
             [
              0.6666666666666666,
              "#ed7953"
             ],
             [
              0.7777777777777778,
              "#fb9f3a"
             ],
             [
              0.8888888888888888,
              "#fdca26"
             ],
             [
              1,
              "#f0f921"
             ]
            ],
            "type": "contour"
           }
          ],
          "contourcarpet": [
           {
            "colorbar": {
             "outlinewidth": 0,
             "ticks": ""
            },
            "type": "contourcarpet"
           }
          ],
          "heatmap": [
           {
            "colorbar": {
             "outlinewidth": 0,
             "ticks": ""
            },
            "colorscale": [
             [
              0,
              "#0d0887"
             ],
             [
              0.1111111111111111,
              "#46039f"
             ],
             [
              0.2222222222222222,
              "#7201a8"
             ],
             [
              0.3333333333333333,
              "#9c179e"
             ],
             [
              0.4444444444444444,
              "#bd3786"
             ],
             [
              0.5555555555555556,
              "#d8576b"
             ],
             [
              0.6666666666666666,
              "#ed7953"
             ],
             [
              0.7777777777777778,
              "#fb9f3a"
             ],
             [
              0.8888888888888888,
              "#fdca26"
             ],
             [
              1,
              "#f0f921"
             ]
            ],
            "type": "heatmap"
           }
          ],
          "heatmapgl": [
           {
            "colorbar": {
             "outlinewidth": 0,
             "ticks": ""
            },
            "colorscale": [
             [
              0,
              "#0d0887"
             ],
             [
              0.1111111111111111,
              "#46039f"
             ],
             [
              0.2222222222222222,
              "#7201a8"
             ],
             [
              0.3333333333333333,
              "#9c179e"
             ],
             [
              0.4444444444444444,
              "#bd3786"
             ],
             [
              0.5555555555555556,
              "#d8576b"
             ],
             [
              0.6666666666666666,
              "#ed7953"
             ],
             [
              0.7777777777777778,
              "#fb9f3a"
             ],
             [
              0.8888888888888888,
              "#fdca26"
             ],
             [
              1,
              "#f0f921"
             ]
            ],
            "type": "heatmapgl"
           }
          ],
          "histogram": [
           {
            "marker": {
             "pattern": {
              "fillmode": "overlay",
              "size": 10,
              "solidity": 0.2
             }
            },
            "type": "histogram"
           }
          ],
          "histogram2d": [
           {
            "colorbar": {
             "outlinewidth": 0,
             "ticks": ""
            },
            "colorscale": [
             [
              0,
              "#0d0887"
             ],
             [
              0.1111111111111111,
              "#46039f"
             ],
             [
              0.2222222222222222,
              "#7201a8"
             ],
             [
              0.3333333333333333,
              "#9c179e"
             ],
             [
              0.4444444444444444,
              "#bd3786"
             ],
             [
              0.5555555555555556,
              "#d8576b"
             ],
             [
              0.6666666666666666,
              "#ed7953"
             ],
             [
              0.7777777777777778,
              "#fb9f3a"
             ],
             [
              0.8888888888888888,
              "#fdca26"
             ],
             [
              1,
              "#f0f921"
             ]
            ],
            "type": "histogram2d"
           }
          ],
          "histogram2dcontour": [
           {
            "colorbar": {
             "outlinewidth": 0,
             "ticks": ""
            },
            "colorscale": [
             [
              0,
              "#0d0887"
             ],
             [
              0.1111111111111111,
              "#46039f"
             ],
             [
              0.2222222222222222,
              "#7201a8"
             ],
             [
              0.3333333333333333,
              "#9c179e"
             ],
             [
              0.4444444444444444,
              "#bd3786"
             ],
             [
              0.5555555555555556,
              "#d8576b"
             ],
             [
              0.6666666666666666,
              "#ed7953"
             ],
             [
              0.7777777777777778,
              "#fb9f3a"
             ],
             [
              0.8888888888888888,
              "#fdca26"
             ],
             [
              1,
              "#f0f921"
             ]
            ],
            "type": "histogram2dcontour"
           }
          ],
          "mesh3d": [
           {
            "colorbar": {
             "outlinewidth": 0,
             "ticks": ""
            },
            "type": "mesh3d"
           }
          ],
          "parcoords": [
           {
            "line": {
             "colorbar": {
              "outlinewidth": 0,
              "ticks": ""
             }
            },
            "type": "parcoords"
           }
          ],
          "pie": [
           {
            "automargin": true,
            "type": "pie"
           }
          ],
          "scatter": [
           {
            "marker": {
             "colorbar": {
              "outlinewidth": 0,
              "ticks": ""
             }
            },
            "type": "scatter"
           }
          ],
          "scatter3d": [
           {
            "line": {
             "colorbar": {
              "outlinewidth": 0,
              "ticks": ""
             }
            },
            "marker": {
             "colorbar": {
              "outlinewidth": 0,
              "ticks": ""
             }
            },
            "type": "scatter3d"
           }
          ],
          "scattercarpet": [
           {
            "marker": {
             "colorbar": {
              "outlinewidth": 0,
              "ticks": ""
             }
            },
            "type": "scattercarpet"
           }
          ],
          "scattergeo": [
           {
            "marker": {
             "colorbar": {
              "outlinewidth": 0,
              "ticks": ""
             }
            },
            "type": "scattergeo"
           }
          ],
          "scattergl": [
           {
            "marker": {
             "colorbar": {
              "outlinewidth": 0,
              "ticks": ""
             }
            },
            "type": "scattergl"
           }
          ],
          "scattermapbox": [
           {
            "marker": {
             "colorbar": {
              "outlinewidth": 0,
              "ticks": ""
             }
            },
            "type": "scattermapbox"
           }
          ],
          "scatterpolar": [
           {
            "marker": {
             "colorbar": {
              "outlinewidth": 0,
              "ticks": ""
             }
            },
            "type": "scatterpolar"
           }
          ],
          "scatterpolargl": [
           {
            "marker": {
             "colorbar": {
              "outlinewidth": 0,
              "ticks": ""
             }
            },
            "type": "scatterpolargl"
           }
          ],
          "scatterternary": [
           {
            "marker": {
             "colorbar": {
              "outlinewidth": 0,
              "ticks": ""
             }
            },
            "type": "scatterternary"
           }
          ],
          "surface": [
           {
            "colorbar": {
             "outlinewidth": 0,
             "ticks": ""
            },
            "colorscale": [
             [
              0,
              "#0d0887"
             ],
             [
              0.1111111111111111,
              "#46039f"
             ],
             [
              0.2222222222222222,
              "#7201a8"
             ],
             [
              0.3333333333333333,
              "#9c179e"
             ],
             [
              0.4444444444444444,
              "#bd3786"
             ],
             [
              0.5555555555555556,
              "#d8576b"
             ],
             [
              0.6666666666666666,
              "#ed7953"
             ],
             [
              0.7777777777777778,
              "#fb9f3a"
             ],
             [
              0.8888888888888888,
              "#fdca26"
             ],
             [
              1,
              "#f0f921"
             ]
            ],
            "type": "surface"
           }
          ],
          "table": [
           {
            "cells": {
             "fill": {
              "color": "#EBF0F8"
             },
             "line": {
              "color": "white"
             }
            },
            "header": {
             "fill": {
              "color": "#C8D4E3"
             },
             "line": {
              "color": "white"
             }
            },
            "type": "table"
           }
          ]
         },
         "layout": {
          "annotationdefaults": {
           "arrowcolor": "#2a3f5f",
           "arrowhead": 0,
           "arrowwidth": 1
          },
          "autotypenumbers": "strict",
          "coloraxis": {
           "colorbar": {
            "outlinewidth": 0,
            "ticks": ""
           }
          },
          "colorscale": {
           "diverging": [
            [
             0,
             "#8e0152"
            ],
            [
             0.1,
             "#c51b7d"
            ],
            [
             0.2,
             "#de77ae"
            ],
            [
             0.3,
             "#f1b6da"
            ],
            [
             0.4,
             "#fde0ef"
            ],
            [
             0.5,
             "#f7f7f7"
            ],
            [
             0.6,
             "#e6f5d0"
            ],
            [
             0.7,
             "#b8e186"
            ],
            [
             0.8,
             "#7fbc41"
            ],
            [
             0.9,
             "#4d9221"
            ],
            [
             1,
             "#276419"
            ]
           ],
           "sequential": [
            [
             0,
             "#0d0887"
            ],
            [
             0.1111111111111111,
             "#46039f"
            ],
            [
             0.2222222222222222,
             "#7201a8"
            ],
            [
             0.3333333333333333,
             "#9c179e"
            ],
            [
             0.4444444444444444,
             "#bd3786"
            ],
            [
             0.5555555555555556,
             "#d8576b"
            ],
            [
             0.6666666666666666,
             "#ed7953"
            ],
            [
             0.7777777777777778,
             "#fb9f3a"
            ],
            [
             0.8888888888888888,
             "#fdca26"
            ],
            [
             1,
             "#f0f921"
            ]
           ],
           "sequentialminus": [
            [
             0,
             "#0d0887"
            ],
            [
             0.1111111111111111,
             "#46039f"
            ],
            [
             0.2222222222222222,
             "#7201a8"
            ],
            [
             0.3333333333333333,
             "#9c179e"
            ],
            [
             0.4444444444444444,
             "#bd3786"
            ],
            [
             0.5555555555555556,
             "#d8576b"
            ],
            [
             0.6666666666666666,
             "#ed7953"
            ],
            [
             0.7777777777777778,
             "#fb9f3a"
            ],
            [
             0.8888888888888888,
             "#fdca26"
            ],
            [
             1,
             "#f0f921"
            ]
           ]
          },
          "colorway": [
           "#636efa",
           "#EF553B",
           "#00cc96",
           "#ab63fa",
           "#FFA15A",
           "#19d3f3",
           "#FF6692",
           "#B6E880",
           "#FF97FF",
           "#FECB52"
          ],
          "font": {
           "color": "#2a3f5f"
          },
          "geo": {
           "bgcolor": "white",
           "lakecolor": "white",
           "landcolor": "white",
           "showlakes": true,
           "showland": true,
           "subunitcolor": "#C8D4E3"
          },
          "hoverlabel": {
           "align": "left"
          },
          "hovermode": "closest",
          "mapbox": {
           "style": "light"
          },
          "paper_bgcolor": "white",
          "plot_bgcolor": "white",
          "polar": {
           "angularaxis": {
            "gridcolor": "#EBF0F8",
            "linecolor": "#EBF0F8",
            "ticks": ""
           },
           "bgcolor": "white",
           "radialaxis": {
            "gridcolor": "#EBF0F8",
            "linecolor": "#EBF0F8",
            "ticks": ""
           }
          },
          "scene": {
           "xaxis": {
            "backgroundcolor": "white",
            "gridcolor": "#DFE8F3",
            "gridwidth": 2,
            "linecolor": "#EBF0F8",
            "showbackground": true,
            "ticks": "",
            "zerolinecolor": "#EBF0F8"
           },
           "yaxis": {
            "backgroundcolor": "white",
            "gridcolor": "#DFE8F3",
            "gridwidth": 2,
            "linecolor": "#EBF0F8",
            "showbackground": true,
            "ticks": "",
            "zerolinecolor": "#EBF0F8"
           },
           "zaxis": {
            "backgroundcolor": "white",
            "gridcolor": "#DFE8F3",
            "gridwidth": 2,
            "linecolor": "#EBF0F8",
            "showbackground": true,
            "ticks": "",
            "zerolinecolor": "#EBF0F8"
           }
          },
          "shapedefaults": {
           "line": {
            "color": "#2a3f5f"
           }
          },
          "ternary": {
           "aaxis": {
            "gridcolor": "#DFE8F3",
            "linecolor": "#A2B1C6",
            "ticks": ""
           },
           "baxis": {
            "gridcolor": "#DFE8F3",
            "linecolor": "#A2B1C6",
            "ticks": ""
           },
           "bgcolor": "white",
           "caxis": {
            "gridcolor": "#DFE8F3",
            "linecolor": "#A2B1C6",
            "ticks": ""
           }
          },
          "title": {
           "x": 0.05
          },
          "xaxis": {
           "automargin": true,
           "gridcolor": "#EBF0F8",
           "linecolor": "black",
           "mirror": true,
           "showline": true,
           "ticks": "outside",
           "title": {
            "standoff": 15
           },
           "zerolinecolor": "#EBF0F8",
           "zerolinewidth": 2
          },
          "yaxis": {
           "automargin": true,
           "gridcolor": "#EBF0F8",
           "linecolor": "black",
           "mirror": true,
           "showline": true,
           "ticks": "outside",
           "title": {
            "standoff": 15
           },
           "zerolinecolor": "#EBF0F8",
           "zerolinewidth": 2
          }
         }
        },
        "width": 800,
        "xaxis": {
         "anchor": "y",
         "domain": [
          0,
          1
         ],
         "range": [
          0,
          4000000
         ],
         "title": {
          "text": "Number of ratings"
         }
        },
        "yaxis": {
         "anchor": "x",
         "domain": [
          0,
          1
         ],
         "range": [
          1,
          5
         ],
         "title": {
          "text": "Average rating"
         }
        }
       }
      }
     },
     "metadata": {},
     "output_type": "display_data"
    }
   ],
   "source": [
    "fig_scatter.update_layout(\n",
    "    # https://plotly.com/python/templates/ \n",
    "    template = 'plotly_white+borders', \n",
    "    # https://plotly.com/python/reference/layout/xaxis/\n",
    "    xaxis = {\n",
    "        'title':'Number of ratings',\n",
    "        'range':[0, 4000000]\n",
    "    }, \n",
    "    # https://plotly.com/python/reference/layout/yaxis/\n",
    "    yaxis = {\n",
    "        'title':'Average rating',\n",
    "        'range':[1,5]\n",
    "    },\n",
    "    # https://plotly.com/python/reference/layout/#layout-legend\n",
    "    legend = {\n",
    "        'title': None,\n",
    "        'x': 1.02,\n",
    "        'y': 0.5\n",
    "    }\n",
    ")\n",
    "fig_scatter.show()"
   ]
  },
  {
   "cell_type": "markdown",
   "metadata": {},
   "source": [
    "With `customdata` we access the variables that we have specified in `hover_data` when creating the chart, in the same order in which we have specified them. In our case, these variables were: `['title', 'series_name', 'series_n']`. To indicate that we are referring to those variables inside `hovertemplate` we have to write `%`, for example:`'%{x}'` or `'%{customdata[hoverdata_list_index]}'`."
   ]
  },
  {
   "cell_type": "code",
   "execution_count": 55,
   "metadata": {},
   "outputs": [
    {
     "data": {
      "application/vnd.plotly.v1+json": {
       "config": {
        "plotlyServerURL": "https://plot.ly"
       },
       "data": [
        {
         "customdata": [
          [
           "Harry Potter and the Sorcerer's Stone",
           "Harry Potter",
           1
          ],
          [
           "The Lightning Thief",
           "Percy Jackson and the Olympians",
           1
          ],
          [
           "A Game of Thrones",
           "A Song of Ice and Fire",
           1
          ],
          [
           "The Final Empire",
           "The Mistborn Saga",
           1
          ],
          [
           "The Hunger Games",
           "The Hunger Games",
           1
          ],
          [
           "Twilight",
           "The Twilight Saga",
           1
          ],
          [
           "The Fellowship of the Ring",
           "The Lord of the Rings",
           1
          ],
          [
           "Divergent",
           "Divergent",
           1
          ],
          [
           "Earlier-Ravens",
           "The Wheel of Time",
           1
          ],
          [
           "A Court of Thorns and Roses",
           "A Court of Thorns and Roses",
           1
          ],
          [
           "The Way of Kings",
           "The Stormlight Archive",
           1
          ],
          [
           "The Name of the Wind",
           "The Kingkiller Chronicle",
           1
          ],
          [
           "The Just City",
           "Thessaly",
           1
          ],
          [
           "The Black Tides of Heaven",
           "Tensorate",
           1
          ],
          [
           "Clockwork Angel",
           "The Infernal Devices",
           1
          ],
          [
           "Six of Crows",
           "Six of Crows",
           1
          ],
          [
           "Throne of Glass",
           "Throne of Glass",
           1
          ],
          [
           "From Blood and Ash",
           "Blood and Ash",
           1
          ],
          [
           "Eragon",
           "The Inheritance Cycle",
           1
          ],
          [
           "The Maze Runner",
           "The Maze Runner",
           1
          ],
          [
           "The Magicians",
           "The Magicians",
           1
          ],
          [
           "The Raven Boys",
           "The Raven Cycle",
           1
          ],
          [
           "Parable of the Sower",
           "Earthseed",
           1
          ],
          [
           "Binti",
           "Binti",
           1
          ],
          [
           "Shadow and Bone",
           "The Shadow and Bone Trilogy",
           1
          ],
          [
           "The Cruel Prince",
           "The Folk of the Air",
           1
          ],
          [
           "Red Queen",
           "Red Queen",
           1
          ],
          [
           "The Blade Itself",
           "The First Law",
           1
          ],
          [
           "Assassin's Apprentice",
           "The Farseer Trilogy",
           1
          ],
          [
           "Warbreaker",
           "Warbreaker",
           1
          ],
          [
           "The Blade Itself",
           "The First Law",
           1
          ],
          [
           "The Lies of Locke Lamora",
           "Gentleman Bastard",
           1
          ],
          [
           "A Wizard of Earthsea",
           "Earthsea Cycle",
           1
          ],
          [
           "A Darker Shade of Magic",
           "Shades of Magic",
           1
          ],
          [
           "The Archived",
           "The Archived",
           1
          ],
          [
           "The Hitchhiker's Guide to the Galaxy",
           "The Hitchhiker's Guide to the Galaxy",
           1
          ],
          [
           "Rivers of London",
           "Rivers of London",
           1
          ],
          [
           "Dune",
           "Dune",
           1
          ],
          [
           "Leviathan Wakes",
           "The Expanse",
           1
          ],
          [
           "Ender's Game",
           "Ender's Saga",
           1
          ],
          [
           "Foundation",
           "Foundation (Publication Order",
           1
          ],
          [
           "The Three-Body Problem",
           "Remembrance of Earth's Past",
           1
          ]
         ],
         "hovertemplate": "<b>%{customdata[0]}</b> <br>%{customdata[1]} %{customdata[2]}",
         "legendgroup": "Saga (first book)",
         "marker": {
          "color": "#636efa",
          "symbol": "circle"
         },
         "mode": "markers",
         "name": "Saga (first book)",
         "orientation": "v",
         "showlegend": true,
         "type": "scatter",
         "x": [
          8491079,
          2435307,
          2228706,
          506701,
          7363176,
          5728651,
          2570023,
          3425949,
          326,
          976193,
          378925,
          828685,
          6703,
          9676,
          763799,
          650934,
          832328,
          272933,
          1594348,
          1272470,
          250003,
          323822,
          107811,
          61573,
          720290,
          607976,
          786992,
          197291,
          272436,
          149065,
          197291,
          258037,
          274973,
          272370,
          32913,
          1635203,
          111610,
          1068746,
          216416,
          1249770,
          474592,
          213667
         ],
         "xaxis": "x",
         "y": [
          4.48,
          4.28,
          4.44,
          4.46,
          4.32,
          3.63,
          4.38,
          4.16,
          3.6,
          4.19,
          4.64,
          4.52,
          3.79,
          3.74,
          4.32,
          4.49,
          4.19,
          4.31,
          3.92,
          4.04,
          3.52,
          4.05,
          4.2,
          3.9,
          3.96,
          4.1,
          4.04,
          4.18,
          4.17,
          4.29,
          4.18,
          4.28,
          4,
          4.07,
          3.96,
          4.22,
          3.87,
          4.25,
          4.27,
          4.3,
          4.17,
          4.07
         ],
         "yaxis": "y"
        },
        {
         "customdata": [
          [
           "Harry Potter and the Chamber of Secrets",
           "Harry Potter",
           2
          ],
          [
           "Harry Potter and the Prisoner of Azkaban",
           "Harry Potter",
           3
          ],
          [
           "Harry Potter and the Goblet of Fire",
           "Harry Potter",
           4
          ],
          [
           "Harry Potter and the Order of the Phoenix",
           "Harry Potter",
           5
          ],
          [
           "Harry Potter and the Half-Blood Prince",
           "Harry Potter",
           6
          ],
          [
           "Harry Potter and the Deathly Hallows",
           "Harry Potter",
           7
          ],
          [
           "Harry Potter and the Cursed Child: Parts One and Two",
           "Harry Potter",
           8
          ],
          [
           "The Sea of Monsters",
           "Percy Jackson and the Olympians",
           2
          ],
          [
           "The Titan's Curse",
           "Percy Jackson and the Olympians",
           3
          ],
          [
           "The Battle of the Labyrinth",
           "Percy Jackson and the Olympians",
           4
          ],
          [
           "The Last Olympian",
           "Percy Jackson and the Olympians",
           5
          ],
          [
           "The World of Ice & Fire: The Untold History of Westeros and the Game of Thrones",
           "A Song of Ice and Fire",
           0
          ],
          [
           "A Clash of Kings",
           "A Song of Ice and Fire",
           2
          ],
          [
           "A Storm of Swords",
           "A Song of Ice and Fire",
           3
          ],
          [
           "A Feast for Crows",
           "A Song of Ice and Fire",
           4
          ],
          [
           "A Dance with Dragons",
           "A Song of Ice and Fire",
           5
          ],
          [
           "The Winds of Winter",
           "A Song of Ice and Fire",
           6
          ],
          [
           "A Dream of Spring",
           "A Song of Ice and Fire",
           7
          ],
          [
           "The Well of Ascension",
           "The Mistborn Saga",
           2
          ],
          [
           "The Hero of Ages",
           "The Mistborn Saga",
           3
          ],
          [
           "The Alloy of Law",
           "The Mistborn Saga",
           4
          ],
          [
           "Shadows of Self",
           "The Mistborn Saga",
           5
          ],
          [
           "The Bands of Mourning",
           "The Mistborn Saga",
           6
          ],
          [
           "The Lost Metal",
           "The Mistborn Saga",
           7
          ],
          [
           "The Ballad of Songbirds and Snakes",
           "The Hunger Games",
           0
          ],
          [
           "Catching Fire",
           "The Hunger Games",
           2
          ],
          [
           "Mockingjay",
           "The Hunger Games",
           3
          ],
          [
           "New Moon",
           "The Twilight Saga",
           2
          ],
          [
           "Eclipse",
           "The Twilight Saga",
           3
          ],
          [
           "Breaking Dawn",
           "The Twilight Saga",
           4
          ],
          [
           "Midnight Sun",
           "The Twilight Saga",
           5
          ],
          [
           "The Hobbit",
           "The Lord of the Rings",
           0
          ],
          [
           "The Two Towers",
           "The Lord of the Rings",
           2
          ],
          [
           "The Return of the King",
           "The Lord of the Rings",
           3
          ],
          [
           "Insurgent",
           "Divergent",
           2
          ],
          [
           "Allegiant",
           "Divergent",
           3
          ],
          [
           "New Spring",
           "The Wheel of Time",
           0
          ],
          [
           "The Great Hunt",
           "The Wheel of Time",
           2
          ],
          [
           "The Dragon Reborn",
           "The Wheel of Time",
           3
          ],
          [
           "The Shadow Rising",
           "The Wheel of Time",
           4
          ],
          [
           "The Fires of Heaven",
           "The Wheel of Time",
           5
          ],
          [
           "Lord of Chaos",
           "The Wheel of Time",
           6
          ],
          [
           "A Crown of Swords",
           "The Wheel of Time",
           7
          ],
          [
           "The Path of Daggers",
           "The Wheel of Time",
           8
          ],
          [
           "Snow: The Prologue to Winter's Heart",
           "The Wheel of Time",
           9
          ],
          [
           "Glimmers: Prologue to Crossroads of Twilight",
           "The Wheel of Time",
           10
          ],
          [
           "Knife of Dreams",
           "The Wheel of Time",
           11
          ],
          [
           "What the Storm Means: Prologue to The Gathering Storm",
           "The Wheel of Time",
           12
          ],
          [
           "Towers of Midnight",
           "The Wheel of Time",
           13
          ],
          [
           "By Grace and Banners Fallen: Prologue to A Memory of Light",
           "The Wheel of Time",
           14
          ],
          [
           "A Court of Mist and Fury",
           "A Court of Thorns and Roses",
           2
          ],
          [
           "A Court of Wings and Ruin",
           "A Court of Thorns and Roses",
           3
          ],
          [
           "A ​Court of Silver Flames",
           "A Court of Thorns and Roses",
           4
          ],
          [
           "Words of Radiance",
           "The Stormlight Archive",
           2
          ],
          [
           "Oathbringer",
           "The Stormlight Archive",
           3
          ],
          [
           "Rhythm of War",
           "The Stormlight Archive",
           4
          ],
          [
           "The Wise Man's Fear",
           "The Kingkiller Chronicle",
           2
          ],
          [
           "The Doors of Stone",
           "The Kingkiller Chronicle",
           3
          ],
          [
           "The Philosopher Kings",
           "Thessaly",
           2
          ],
          [
           "Necessity",
           "Thessaly",
           3
          ],
          [
           "The Red Threads of Fortune",
           "Tensorate",
           2
          ],
          [
           "The Descent of Monsters",
           "Tensorate",
           3
          ],
          [
           "The Ascent to Godhood",
           "Tensorate",
           4
          ],
          [
           "Clockwork Prince",
           "The Infernal Devices",
           2
          ],
          [
           "Clockwork Princess",
           "The Infernal Devices",
           3
          ],
          [
           "Crooked Kingdom",
           "Six of Crows",
           2
          ],
          [
           "Crown of Midnight",
           "Throne of Glass",
           2
          ],
          [
           "Heir of Fire",
           "Throne of Glass",
           3
          ],
          [
           "Queen of Shadows",
           "Throne of Glass",
           4
          ],
          [
           "Empire of Storms",
           "Throne of Glass",
           5
          ],
          [
           "Tower of Dawn",
           "Throne of Glass",
           6
          ],
          [
           "Kingdom of Ash",
           "Throne of Glass",
           7
          ],
          [
           "A Kingdom of Flesh and Fire",
           "Blood and Ash",
           2
          ],
          [
           "The ​Crown of Gilded Bones",
           "Blood and Ash",
           3
          ],
          [
           "The War of Two Queens",
           "Blood and Ash",
           4
          ],
          [
           "Eldest",
           "The Inheritance Cycle",
           2
          ],
          [
           "Brisingr",
           "The Inheritance Cycle",
           3
          ],
          [
           "Inheritance",
           "The Inheritance Cycle",
           4
          ],
          [
           "The Scorch Trials",
           "The Maze Runner",
           2
          ],
          [
           "The Death Cure",
           "The Maze Runner",
           3
          ],
          [
           "The Magician King",
           "The Magicians",
           2
          ],
          [
           "The Magician's Land",
           "The Magicians",
           3
          ],
          [
           "The Dream Thieves",
           "The Raven Cycle",
           2
          ],
          [
           "Blue Lily, Lily Blue",
           "The Raven Cycle",
           3
          ],
          [
           "The Raven King",
           "The Raven Cycle",
           4
          ],
          [
           "Parable of the Talents",
           "Earthseed",
           2
          ],
          [
           "Home",
           "Binti",
           2
          ],
          [
           "The Night Masquerade",
           "Binti",
           3
          ],
          [
           "Siege and Storm",
           "The Shadow and Bone Trilogy",
           2
          ],
          [
           "Ruin and Rising",
           "The Shadow and Bone Trilogy",
           3
          ],
          [
           "The Wicked King",
           "The Folk of the Air",
           2
          ],
          [
           "The Queen of Nothing",
           "The Folk of the Air",
           3
          ],
          [
           "Glass Sword",
           "Red Queen",
           2
          ],
          [
           "King's Cage",
           "Red Queen",
           3
          ],
          [
           "War Storm",
           "Red Queen",
           4
          ],
          [
           "Before They Are Hanged",
           "The First Law",
           2
          ],
          [
           "Last Argument of Kings",
           "The First Law",
           3
          ],
          [
           "Best Served Cold",
           "The First Law",
           4
          ],
          [
           "The Heroes",
           "The First Law",
           5
          ],
          [
           "Red Country",
           "The First Law",
           6
          ],
          [
           "Royal Assassin",
           "The Farseer Trilogy",
           2
          ],
          [
           "Assassin's Quest",
           "The Farseer Trilogy",
           3
          ],
          [
           "Nightblood",
           "Warbreaker",
           2
          ],
          [
           "Before They Are Hanged",
           "The First Law",
           2
          ],
          [
           "Last Argument of Kings",
           "The First Law",
           3
          ],
          [
           "Best Served Cold",
           "The First Law",
           4
          ],
          [
           "The Heroes",
           "The First Law",
           5
          ],
          [
           "Red Country",
           "The First Law",
           6
          ],
          [
           "Red Seas Under Red Skies",
           "Gentleman Bastard",
           2
          ],
          [
           "The Republic of Thieves",
           "Gentleman Bastard",
           3
          ],
          [
           "The Thorn of Emberlain",
           "Gentleman Bastard",
           4
          ],
          [
           "The Ministry of Necessity",
           "Gentleman Bastard",
           5
          ],
          [
           "The Mage and the Master Spy",
           "Gentleman Bastard",
           6
          ],
          [
           "Inherit the Night",
           "Gentleman Bastard",
           7
          ],
          [
           "The Tombs of Atuan",
           "Earthsea Cycle",
           2
          ],
          [
           "The Farthest Shore",
           "Earthsea Cycle",
           3
          ],
          [
           "Tehanu",
           "Earthsea Cycle",
           4
          ],
          [
           "Tales from Earthsea",
           "Earthsea Cycle",
           5
          ],
          [
           "The Other Wind",
           "Earthsea Cycle",
           6
          ],
          [
           "A Gathering of Shadows",
           "Shades of Magic",
           2
          ],
          [
           "A Conjuring of Light",
           "Shades of Magic",
           3
          ],
          [
           "The Unbound",
           "The Archived",
           2
          ],
          [
           "The Returned",
           "The Archived",
           3
          ],
          [
           "The Restaurant at the End of the Universe",
           "The Hitchhiker's Guide to the Galaxy",
           2
          ],
          [
           "Life, the Universe and Everything",
           "The Hitchhiker's Guide to the Galaxy",
           3
          ],
          [
           "So Long, and Thanks for All the Fish",
           "The Hitchhiker's Guide to the Galaxy",
           4
          ],
          [
           "Mostly Harmless",
           "The Hitchhiker's Guide to the Galaxy",
           5
          ],
          [
           "And Another Thing...",
           "The Hitchhiker's Guide to the Galaxy",
           6
          ],
          [
           "Moon Over Soho",
           "Rivers of London",
           2
          ],
          [
           "Whispers Under Ground",
           "Rivers of London",
           3
          ],
          [
           "Broken Homes",
           "Rivers of London",
           4
          ],
          [
           "Foxglove Summer",
           "Rivers of London",
           5
          ],
          [
           "The Hanging Tree",
           "Rivers of London",
           6
          ],
          [
           "Lies Sleeping",
           "Rivers of London",
           7
          ],
          [
           "False Value",
           "Rivers of London",
           8
          ],
          [
           "Amongst Our Weapons",
           "Rivers of London",
           9
          ],
          [
           "Dune Messiah",
           "Dune",
           2
          ],
          [
           "Children of Dune",
           "Dune",
           3
          ],
          [
           "God Emperor of Dune",
           "Dune",
           4
          ],
          [
           "Heretics of Dune",
           "Dune",
           5
          ],
          [
           "Chapterhouse: Dune",
           "Dune",
           6
          ],
          [
           "Hunters of Dune",
           "Dune",
           7
          ],
          [
           "Sandworms of Dune",
           "Dune",
           8
          ],
          [
           "Caliban's War",
           "The Expanse",
           2
          ],
          [
           "Abaddon's Gate",
           "The Expanse",
           3
          ],
          [
           "Cibola Burn",
           "The Expanse",
           4
          ],
          [
           "Nemesis Games",
           "The Expanse",
           5
          ],
          [
           "Babylon's Ashes",
           "The Expanse",
           6
          ],
          [
           "Persepolis Rising",
           "The Expanse",
           7
          ],
          [
           "Tiamat's Wrath",
           "The Expanse",
           8
          ],
          [
           "Leviathan Falls",
           "The Expanse",
           9
          ],
          [
           "Speaker for the Dead",
           "Ender's Saga",
           2
          ],
          [
           "Xenocide",
           "Ender's Saga",
           3
          ],
          [
           "Children of the Mind",
           "Ender's Saga",
           4
          ],
          [
           "Ender in Exile",
           "Ender's Saga",
           5
          ],
          [
           "The Last Shadow",
           "Ender's Saga",
           6
          ],
          [
           "Foundation and Empire",
           "Foundation (Publication Order",
           2
          ],
          [
           "Second Foundation",
           "Foundation (Publication Order",
           3
          ],
          [
           "Foundation's Edge",
           "Foundation (Publication Order",
           4
          ],
          [
           "Foundation and Earth",
           "Foundation (Publication Order",
           5
          ],
          [
           "Prelude to Foundation",
           "Foundation (Publication Order",
           6
          ],
          [
           "Forward the Foundation",
           "Foundation (Publication Order",
           7
          ],
          [
           "The Dark Forest",
           "Remembrance of Earth's Past",
           2
          ],
          [
           "Death's End",
           "Remembrance of Earth's Past",
           3
          ]
         ],
         "hovertemplate": "<b>%{customdata[0]}</b> <br>%{customdata[1]} %{customdata[2]}",
         "legendgroup": "Saga (continuation)",
         "marker": {
          "color": "#EF553B",
          "symbol": "circle"
         },
         "mode": "markers",
         "name": "Saga (continuation)",
         "orientation": "v",
         "showlegend": true,
         "type": "scatter",
         "x": [
          3277548,
          3439727,
          3057818,
          2927014,
          2834974,
          3240578,
          860531,
          926344,
          842907,
          888106,
          813022,
          29395,
          850748,
          713213,
          673951,
          599808,
          9595,
          1980,
          351248,
          323920,
          165193,
          105732,
          94533,
          1725,
          287741,
          2964748,
          2722872,
          1686872,
          1610973,
          1506265,
          179392,
          3361620,
          821282,
          769676,
          1334873,
          941426,
          89567,
          271609,
          249315,
          199482,
          160721,
          148857,
          143385,
          123324,
          438,
          1232,
          113781,
          656,
          138462,
          4015,
          694719,
          554931,
          301489,
          263111,
          174939,
          84523,
          486794,
          4156,
          2284,
          1474,
          4244,
          2501,
          1727,
          506662,
          400610,
          436727,
          507366,
          429949,
          373289,
          310439,
          217513,
          232197,
          186010,
          130396,
          43324,
          397900,
          335448,
          242968,
          514937,
          391895,
          93532,
          71641,
          178253,
          144698,
          126504,
          39608,
          24246,
          18503,
          452745,
          383772,
          378411,
          331235,
          280433,
          188090,
          118946,
          137266,
          128228,
          75341,
          50232,
          41785,
          169437,
          134575,
          166,
          137266,
          128228,
          75341,
          50232,
          41785,
          126793,
          95482,
          2385,
          100,
          64,
          65,
          101890,
          102513,
          42793,
          22538,
          22758,
          147153,
          119108,
          14001,
          105,
          257529,
          213955,
          157788,
          120413,
          30025,
          55376,
          49286,
          41763,
          37191,
          30061,
          21510,
          16110,
          3938,
          197787,
          139544,
          84961,
          65238,
          54787,
          14488,
          12276,
          123886,
          104411,
          84427,
          75664,
          62210,
          52023,
          46441,
          28435,
          237388,
          149369,
          102346,
          47152,
          2809,
          180647,
          164909,
          79142,
          63749,
          78137,
          50476,
          92917,
          71852
         ],
         "xaxis": "x",
         "y": [
          4.43,
          4.58,
          4.57,
          4.5,
          4.57,
          4.62,
          3.54,
          4.24,
          4.36,
          4.41,
          4.52,
          4.26,
          4.41,
          4.54,
          4.14,
          4.32,
          4.4,
          4.37,
          4.37,
          4.5,
          4.21,
          4.29,
          4.41,
          4.35,
          3.82,
          4.3,
          4.06,
          3.57,
          3.71,
          3.72,
          3.72,
          4.28,
          4.46,
          4.55,
          4,
          3.61,
          4.04,
          4.25,
          4.26,
          4.26,
          4.17,
          4.16,
          4.05,
          3.92,
          4.13,
          4.14,
          4.16,
          4.34,
          4.44,
          4.55,
          4.61,
          4.43,
          4.4,
          4.75,
          4.6,
          4.62,
          4.55,
          3.62,
          3.93,
          3.95,
          3.9,
          3.9,
          4.05,
          4.43,
          4.56,
          4.61,
          4.36,
          4.46,
          4.55,
          4.55,
          4.28,
          4.6,
          4.45,
          4.25,
          4.05,
          4,
          4.06,
          4.11,
          3.9,
          3.78,
          3.91,
          4.14,
          4.22,
          4.26,
          4.25,
          4.29,
          4.06,
          4.03,
          3.86,
          4.03,
          4.34,
          4.37,
          3.84,
          3.95,
          3.86,
          4.32,
          4.3,
          4.19,
          4.31,
          4.31,
          4.24,
          4.19,
          4.27,
          4.32,
          4.3,
          4.19,
          4.31,
          4.31,
          4.24,
          4.21,
          4.29,
          4.19,
          4.16,
          3.94,
          4.1,
          4.12,
          3.98,
          4.07,
          4.16,
          4.24,
          4.34,
          4.22,
          4.17,
          4.21,
          4.19,
          4.09,
          3.96,
          3.57,
          4.09,
          4.15,
          4.17,
          4.2,
          4.22,
          4.25,
          4.12,
          4.45,
          3.89,
          3.95,
          3.87,
          3.88,
          3.91,
          3.66,
          3.66,
          4.36,
          4.26,
          4.2,
          4.42,
          4.24,
          4.37,
          4.57,
          4.54,
          4.08,
          3.8,
          3.77,
          3.91,
          3.67,
          4.22,
          4.26,
          4.15,
          4.06,
          4.14,
          4.15,
          4.41,
          4.42
         ],
         "yaxis": "y"
        },
        {
         "customdata": [
          [
           "The Midnight Library",
           null,
           null
          ],
          [
           "The Invisible Life of Addie LaRue",
           null,
           null
          ],
          [
           "1984",
           null,
           null
          ],
          [
           "Fahrenheit 451",
           null,
           null
          ],
          [
           "Brave New World",
           null,
           null
          ],
          [
           "The Catcher in the Rye",
           null,
           null
          ],
          [
           "The Binding",
           null,
           null
          ],
          [
           "All the Crooked Saints",
           null,
           null
          ],
          [
           "The Man in the High Castle",
           null,
           null
          ],
          [
           "This Is How You Lose the Time War",
           null,
           null
          ],
          [
           "Deathless",
           null,
           null
          ],
          [
           "Jonathan Strange & Mr Norrell",
           null,
           null
          ],
          [
           "American Gods",
           "American Gods",
           null
          ],
          [
           "Good Omens: The Nice and Accurate Prophecies of Agnes Nutter, Witch",
           null,
           null
          ],
          [
           "Stardust",
           null,
           null
          ],
          [
           "The Princess Bride",
           null,
           null
          ],
          [
           "Circe",
           null,
           null
          ],
          [
           "Gallant",
           null,
           null
          ],
          [
           "Among Others",
           null,
           null
          ],
          [
           "Gingerbread",
           null,
           null
          ],
          [
           "The Forgotten Beasts of Eld",
           null,
           null
          ],
          [
           "The Night Circus",
           null,
           null
          ],
          [
           "The Deep",
           null,
           null
          ],
          [
           "Upright Women Wanted",
           null,
           null
          ],
          [
           "The House in the Cerulean Sea",
           null,
           null
          ],
          [
           "Winterwood",
           null,
           null
          ]
         ],
         "hovertemplate": "<b>%{customdata[0]}</b> <br>%{customdata[1]} %{customdata[2]}",
         "legendgroup": "Standalone",
         "marker": {
          "color": "#00cc96",
          "symbol": "circle"
         },
         "mode": "markers",
         "name": "Standalone",
         "orientation": "v",
         "showlegend": true,
         "type": "scatter",
         "x": [
          944368,
          584015,
          3808026,
          2014586,
          1636073,
          3105169,
          57669,
          20596,
          190497,
          86075,
          18097,
          219407,
          840495,
          633817,
          402680,
          841418,
          661290,
          25490,
          23038,
          12681,
          15849,
          820521,
          23428,
          15518,
          285067,
          16896
         ],
         "xaxis": "x",
         "y": [
          4.05,
          4.23,
          4.19,
          3.98,
          3.99,
          3.81,
          3.88,
          3.81,
          3.61,
          3.96,
          3.98,
          3.84,
          4.11,
          4.25,
          4.09,
          4.26,
          4.26,
          3.91,
          3.7,
          3.06,
          4.08,
          4.03,
          3.79,
          3.64,
          4.46,
          3.86
         ],
         "yaxis": "y"
        }
       ],
       "layout": {
        "height": 500,
        "legend": {
         "title": {},
         "tracegroupgap": 0,
         "x": 1.02,
         "y": 0.5
        },
        "margin": {
         "t": 60
        },
        "template": {
         "data": {
          "bar": [
           {
            "error_x": {
             "color": "#2a3f5f"
            },
            "error_y": {
             "color": "#2a3f5f"
            },
            "marker": {
             "line": {
              "color": "white",
              "width": 0.5
             },
             "pattern": {
              "fillmode": "overlay",
              "size": 10,
              "solidity": 0.2
             }
            },
            "type": "bar"
           }
          ],
          "barpolar": [
           {
            "marker": {
             "line": {
              "color": "white",
              "width": 0.5
             },
             "pattern": {
              "fillmode": "overlay",
              "size": 10,
              "solidity": 0.2
             }
            },
            "type": "barpolar"
           }
          ],
          "carpet": [
           {
            "aaxis": {
             "endlinecolor": "#2a3f5f",
             "gridcolor": "#C8D4E3",
             "linecolor": "#C8D4E3",
             "minorgridcolor": "#C8D4E3",
             "startlinecolor": "#2a3f5f"
            },
            "baxis": {
             "endlinecolor": "#2a3f5f",
             "gridcolor": "#C8D4E3",
             "linecolor": "#C8D4E3",
             "minorgridcolor": "#C8D4E3",
             "startlinecolor": "#2a3f5f"
            },
            "type": "carpet"
           }
          ],
          "choropleth": [
           {
            "colorbar": {
             "outlinewidth": 0,
             "ticks": ""
            },
            "type": "choropleth"
           }
          ],
          "contour": [
           {
            "colorbar": {
             "outlinewidth": 0,
             "ticks": ""
            },
            "colorscale": [
             [
              0,
              "#0d0887"
             ],
             [
              0.1111111111111111,
              "#46039f"
             ],
             [
              0.2222222222222222,
              "#7201a8"
             ],
             [
              0.3333333333333333,
              "#9c179e"
             ],
             [
              0.4444444444444444,
              "#bd3786"
             ],
             [
              0.5555555555555556,
              "#d8576b"
             ],
             [
              0.6666666666666666,
              "#ed7953"
             ],
             [
              0.7777777777777778,
              "#fb9f3a"
             ],
             [
              0.8888888888888888,
              "#fdca26"
             ],
             [
              1,
              "#f0f921"
             ]
            ],
            "type": "contour"
           }
          ],
          "contourcarpet": [
           {
            "colorbar": {
             "outlinewidth": 0,
             "ticks": ""
            },
            "type": "contourcarpet"
           }
          ],
          "heatmap": [
           {
            "colorbar": {
             "outlinewidth": 0,
             "ticks": ""
            },
            "colorscale": [
             [
              0,
              "#0d0887"
             ],
             [
              0.1111111111111111,
              "#46039f"
             ],
             [
              0.2222222222222222,
              "#7201a8"
             ],
             [
              0.3333333333333333,
              "#9c179e"
             ],
             [
              0.4444444444444444,
              "#bd3786"
             ],
             [
              0.5555555555555556,
              "#d8576b"
             ],
             [
              0.6666666666666666,
              "#ed7953"
             ],
             [
              0.7777777777777778,
              "#fb9f3a"
             ],
             [
              0.8888888888888888,
              "#fdca26"
             ],
             [
              1,
              "#f0f921"
             ]
            ],
            "type": "heatmap"
           }
          ],
          "heatmapgl": [
           {
            "colorbar": {
             "outlinewidth": 0,
             "ticks": ""
            },
            "colorscale": [
             [
              0,
              "#0d0887"
             ],
             [
              0.1111111111111111,
              "#46039f"
             ],
             [
              0.2222222222222222,
              "#7201a8"
             ],
             [
              0.3333333333333333,
              "#9c179e"
             ],
             [
              0.4444444444444444,
              "#bd3786"
             ],
             [
              0.5555555555555556,
              "#d8576b"
             ],
             [
              0.6666666666666666,
              "#ed7953"
             ],
             [
              0.7777777777777778,
              "#fb9f3a"
             ],
             [
              0.8888888888888888,
              "#fdca26"
             ],
             [
              1,
              "#f0f921"
             ]
            ],
            "type": "heatmapgl"
           }
          ],
          "histogram": [
           {
            "marker": {
             "pattern": {
              "fillmode": "overlay",
              "size": 10,
              "solidity": 0.2
             }
            },
            "type": "histogram"
           }
          ],
          "histogram2d": [
           {
            "colorbar": {
             "outlinewidth": 0,
             "ticks": ""
            },
            "colorscale": [
             [
              0,
              "#0d0887"
             ],
             [
              0.1111111111111111,
              "#46039f"
             ],
             [
              0.2222222222222222,
              "#7201a8"
             ],
             [
              0.3333333333333333,
              "#9c179e"
             ],
             [
              0.4444444444444444,
              "#bd3786"
             ],
             [
              0.5555555555555556,
              "#d8576b"
             ],
             [
              0.6666666666666666,
              "#ed7953"
             ],
             [
              0.7777777777777778,
              "#fb9f3a"
             ],
             [
              0.8888888888888888,
              "#fdca26"
             ],
             [
              1,
              "#f0f921"
             ]
            ],
            "type": "histogram2d"
           }
          ],
          "histogram2dcontour": [
           {
            "colorbar": {
             "outlinewidth": 0,
             "ticks": ""
            },
            "colorscale": [
             [
              0,
              "#0d0887"
             ],
             [
              0.1111111111111111,
              "#46039f"
             ],
             [
              0.2222222222222222,
              "#7201a8"
             ],
             [
              0.3333333333333333,
              "#9c179e"
             ],
             [
              0.4444444444444444,
              "#bd3786"
             ],
             [
              0.5555555555555556,
              "#d8576b"
             ],
             [
              0.6666666666666666,
              "#ed7953"
             ],
             [
              0.7777777777777778,
              "#fb9f3a"
             ],
             [
              0.8888888888888888,
              "#fdca26"
             ],
             [
              1,
              "#f0f921"
             ]
            ],
            "type": "histogram2dcontour"
           }
          ],
          "mesh3d": [
           {
            "colorbar": {
             "outlinewidth": 0,
             "ticks": ""
            },
            "type": "mesh3d"
           }
          ],
          "parcoords": [
           {
            "line": {
             "colorbar": {
              "outlinewidth": 0,
              "ticks": ""
             }
            },
            "type": "parcoords"
           }
          ],
          "pie": [
           {
            "automargin": true,
            "type": "pie"
           }
          ],
          "scatter": [
           {
            "marker": {
             "colorbar": {
              "outlinewidth": 0,
              "ticks": ""
             }
            },
            "type": "scatter"
           }
          ],
          "scatter3d": [
           {
            "line": {
             "colorbar": {
              "outlinewidth": 0,
              "ticks": ""
             }
            },
            "marker": {
             "colorbar": {
              "outlinewidth": 0,
              "ticks": ""
             }
            },
            "type": "scatter3d"
           }
          ],
          "scattercarpet": [
           {
            "marker": {
             "colorbar": {
              "outlinewidth": 0,
              "ticks": ""
             }
            },
            "type": "scattercarpet"
           }
          ],
          "scattergeo": [
           {
            "marker": {
             "colorbar": {
              "outlinewidth": 0,
              "ticks": ""
             }
            },
            "type": "scattergeo"
           }
          ],
          "scattergl": [
           {
            "marker": {
             "colorbar": {
              "outlinewidth": 0,
              "ticks": ""
             }
            },
            "type": "scattergl"
           }
          ],
          "scattermapbox": [
           {
            "marker": {
             "colorbar": {
              "outlinewidth": 0,
              "ticks": ""
             }
            },
            "type": "scattermapbox"
           }
          ],
          "scatterpolar": [
           {
            "marker": {
             "colorbar": {
              "outlinewidth": 0,
              "ticks": ""
             }
            },
            "type": "scatterpolar"
           }
          ],
          "scatterpolargl": [
           {
            "marker": {
             "colorbar": {
              "outlinewidth": 0,
              "ticks": ""
             }
            },
            "type": "scatterpolargl"
           }
          ],
          "scatterternary": [
           {
            "marker": {
             "colorbar": {
              "outlinewidth": 0,
              "ticks": ""
             }
            },
            "type": "scatterternary"
           }
          ],
          "surface": [
           {
            "colorbar": {
             "outlinewidth": 0,
             "ticks": ""
            },
            "colorscale": [
             [
              0,
              "#0d0887"
             ],
             [
              0.1111111111111111,
              "#46039f"
             ],
             [
              0.2222222222222222,
              "#7201a8"
             ],
             [
              0.3333333333333333,
              "#9c179e"
             ],
             [
              0.4444444444444444,
              "#bd3786"
             ],
             [
              0.5555555555555556,
              "#d8576b"
             ],
             [
              0.6666666666666666,
              "#ed7953"
             ],
             [
              0.7777777777777778,
              "#fb9f3a"
             ],
             [
              0.8888888888888888,
              "#fdca26"
             ],
             [
              1,
              "#f0f921"
             ]
            ],
            "type": "surface"
           }
          ],
          "table": [
           {
            "cells": {
             "fill": {
              "color": "#EBF0F8"
             },
             "line": {
              "color": "white"
             }
            },
            "header": {
             "fill": {
              "color": "#C8D4E3"
             },
             "line": {
              "color": "white"
             }
            },
            "type": "table"
           }
          ]
         },
         "layout": {
          "annotationdefaults": {
           "arrowcolor": "#2a3f5f",
           "arrowhead": 0,
           "arrowwidth": 1
          },
          "autotypenumbers": "strict",
          "coloraxis": {
           "colorbar": {
            "outlinewidth": 0,
            "ticks": ""
           }
          },
          "colorscale": {
           "diverging": [
            [
             0,
             "#8e0152"
            ],
            [
             0.1,
             "#c51b7d"
            ],
            [
             0.2,
             "#de77ae"
            ],
            [
             0.3,
             "#f1b6da"
            ],
            [
             0.4,
             "#fde0ef"
            ],
            [
             0.5,
             "#f7f7f7"
            ],
            [
             0.6,
             "#e6f5d0"
            ],
            [
             0.7,
             "#b8e186"
            ],
            [
             0.8,
             "#7fbc41"
            ],
            [
             0.9,
             "#4d9221"
            ],
            [
             1,
             "#276419"
            ]
           ],
           "sequential": [
            [
             0,
             "#0d0887"
            ],
            [
             0.1111111111111111,
             "#46039f"
            ],
            [
             0.2222222222222222,
             "#7201a8"
            ],
            [
             0.3333333333333333,
             "#9c179e"
            ],
            [
             0.4444444444444444,
             "#bd3786"
            ],
            [
             0.5555555555555556,
             "#d8576b"
            ],
            [
             0.6666666666666666,
             "#ed7953"
            ],
            [
             0.7777777777777778,
             "#fb9f3a"
            ],
            [
             0.8888888888888888,
             "#fdca26"
            ],
            [
             1,
             "#f0f921"
            ]
           ],
           "sequentialminus": [
            [
             0,
             "#0d0887"
            ],
            [
             0.1111111111111111,
             "#46039f"
            ],
            [
             0.2222222222222222,
             "#7201a8"
            ],
            [
             0.3333333333333333,
             "#9c179e"
            ],
            [
             0.4444444444444444,
             "#bd3786"
            ],
            [
             0.5555555555555556,
             "#d8576b"
            ],
            [
             0.6666666666666666,
             "#ed7953"
            ],
            [
             0.7777777777777778,
             "#fb9f3a"
            ],
            [
             0.8888888888888888,
             "#fdca26"
            ],
            [
             1,
             "#f0f921"
            ]
           ]
          },
          "colorway": [
           "#636efa",
           "#EF553B",
           "#00cc96",
           "#ab63fa",
           "#FFA15A",
           "#19d3f3",
           "#FF6692",
           "#B6E880",
           "#FF97FF",
           "#FECB52"
          ],
          "font": {
           "color": "#2a3f5f"
          },
          "geo": {
           "bgcolor": "white",
           "lakecolor": "white",
           "landcolor": "white",
           "showlakes": true,
           "showland": true,
           "subunitcolor": "#C8D4E3"
          },
          "hoverlabel": {
           "align": "left"
          },
          "hovermode": "closest",
          "mapbox": {
           "style": "light"
          },
          "paper_bgcolor": "white",
          "plot_bgcolor": "white",
          "polar": {
           "angularaxis": {
            "gridcolor": "#EBF0F8",
            "linecolor": "#EBF0F8",
            "ticks": ""
           },
           "bgcolor": "white",
           "radialaxis": {
            "gridcolor": "#EBF0F8",
            "linecolor": "#EBF0F8",
            "ticks": ""
           }
          },
          "scene": {
           "xaxis": {
            "backgroundcolor": "white",
            "gridcolor": "#DFE8F3",
            "gridwidth": 2,
            "linecolor": "#EBF0F8",
            "showbackground": true,
            "ticks": "",
            "zerolinecolor": "#EBF0F8"
           },
           "yaxis": {
            "backgroundcolor": "white",
            "gridcolor": "#DFE8F3",
            "gridwidth": 2,
            "linecolor": "#EBF0F8",
            "showbackground": true,
            "ticks": "",
            "zerolinecolor": "#EBF0F8"
           },
           "zaxis": {
            "backgroundcolor": "white",
            "gridcolor": "#DFE8F3",
            "gridwidth": 2,
            "linecolor": "#EBF0F8",
            "showbackground": true,
            "ticks": "",
            "zerolinecolor": "#EBF0F8"
           }
          },
          "shapedefaults": {
           "line": {
            "color": "#2a3f5f"
           }
          },
          "ternary": {
           "aaxis": {
            "gridcolor": "#DFE8F3",
            "linecolor": "#A2B1C6",
            "ticks": ""
           },
           "baxis": {
            "gridcolor": "#DFE8F3",
            "linecolor": "#A2B1C6",
            "ticks": ""
           },
           "bgcolor": "white",
           "caxis": {
            "gridcolor": "#DFE8F3",
            "linecolor": "#A2B1C6",
            "ticks": ""
           }
          },
          "title": {
           "x": 0.05
          },
          "xaxis": {
           "automargin": true,
           "gridcolor": "#EBF0F8",
           "linecolor": "black",
           "mirror": true,
           "showline": true,
           "ticks": "outside",
           "title": {
            "standoff": 15
           },
           "zerolinecolor": "#EBF0F8",
           "zerolinewidth": 2
          },
          "yaxis": {
           "automargin": true,
           "gridcolor": "#EBF0F8",
           "linecolor": "black",
           "mirror": true,
           "showline": true,
           "ticks": "outside",
           "title": {
            "standoff": 15
           },
           "zerolinecolor": "#EBF0F8",
           "zerolinewidth": 2
          }
         }
        },
        "width": 800,
        "xaxis": {
         "anchor": "y",
         "domain": [
          0,
          1
         ],
         "range": [
          0,
          4000000
         ],
         "title": {
          "text": "Number of ratings"
         }
        },
        "yaxis": {
         "anchor": "x",
         "domain": [
          0,
          1
         ],
         "range": [
          1,
          5
         ],
         "title": {
          "text": "Average rating"
         }
        }
       }
      }
     },
     "metadata": {},
     "output_type": "display_data"
    }
   ],
   "source": [
    "fig_scatter.update_traces(\n",
    "    # https://plotly.com/python/hover-text-and-formatting/\n",
    "    hovertemplate = '<b>%{customdata[0]}</b> <br>%{customdata[1]} %{customdata[2]}'\n",
    ")"
   ]
  },
  {
   "cell_type": "markdown",
   "metadata": {},
   "source": [
    "In the following cells we calculate the average rating for each group/color. After that, we add this value as a horizontal line that allows us to compare the three groups."
   ]
  },
  {
   "cell_type": "code",
   "execution_count": 56,
   "metadata": {},
   "outputs": [
    {
     "data": {
      "text/plain": [
       "saga\n",
       "Saga (continuation)    4.193780\n",
       "Saga (first book)      4.141667\n",
       "Standalone             3.955000\n",
       "Name: average_rating, dtype: float64"
      ]
     },
     "execution_count": 56,
     "metadata": {},
     "output_type": "execute_result"
    }
   ],
   "source": [
    "books_df_scatter_means = books_df_scatter.groupby('saga')['average_rating'].mean()\n",
    "books_df_scatter_means"
   ]
  },
  {
   "cell_type": "code",
   "execution_count": 57,
   "metadata": {},
   "outputs": [
    {
     "data": {
      "application/vnd.plotly.v1+json": {
       "config": {
        "plotlyServerURL": "https://plot.ly"
       },
       "data": [
        {
         "customdata": [
          [
           "Harry Potter and the Sorcerer's Stone",
           "Harry Potter",
           1
          ],
          [
           "The Lightning Thief",
           "Percy Jackson and the Olympians",
           1
          ],
          [
           "A Game of Thrones",
           "A Song of Ice and Fire",
           1
          ],
          [
           "The Final Empire",
           "The Mistborn Saga",
           1
          ],
          [
           "The Hunger Games",
           "The Hunger Games",
           1
          ],
          [
           "Twilight",
           "The Twilight Saga",
           1
          ],
          [
           "The Fellowship of the Ring",
           "The Lord of the Rings",
           1
          ],
          [
           "Divergent",
           "Divergent",
           1
          ],
          [
           "Earlier-Ravens",
           "The Wheel of Time",
           1
          ],
          [
           "A Court of Thorns and Roses",
           "A Court of Thorns and Roses",
           1
          ],
          [
           "The Way of Kings",
           "The Stormlight Archive",
           1
          ],
          [
           "The Name of the Wind",
           "The Kingkiller Chronicle",
           1
          ],
          [
           "The Just City",
           "Thessaly",
           1
          ],
          [
           "The Black Tides of Heaven",
           "Tensorate",
           1
          ],
          [
           "Clockwork Angel",
           "The Infernal Devices",
           1
          ],
          [
           "Six of Crows",
           "Six of Crows",
           1
          ],
          [
           "Throne of Glass",
           "Throne of Glass",
           1
          ],
          [
           "From Blood and Ash",
           "Blood and Ash",
           1
          ],
          [
           "Eragon",
           "The Inheritance Cycle",
           1
          ],
          [
           "The Maze Runner",
           "The Maze Runner",
           1
          ],
          [
           "The Magicians",
           "The Magicians",
           1
          ],
          [
           "The Raven Boys",
           "The Raven Cycle",
           1
          ],
          [
           "Parable of the Sower",
           "Earthseed",
           1
          ],
          [
           "Binti",
           "Binti",
           1
          ],
          [
           "Shadow and Bone",
           "The Shadow and Bone Trilogy",
           1
          ],
          [
           "The Cruel Prince",
           "The Folk of the Air",
           1
          ],
          [
           "Red Queen",
           "Red Queen",
           1
          ],
          [
           "The Blade Itself",
           "The First Law",
           1
          ],
          [
           "Assassin's Apprentice",
           "The Farseer Trilogy",
           1
          ],
          [
           "Warbreaker",
           "Warbreaker",
           1
          ],
          [
           "The Blade Itself",
           "The First Law",
           1
          ],
          [
           "The Lies of Locke Lamora",
           "Gentleman Bastard",
           1
          ],
          [
           "A Wizard of Earthsea",
           "Earthsea Cycle",
           1
          ],
          [
           "A Darker Shade of Magic",
           "Shades of Magic",
           1
          ],
          [
           "The Archived",
           "The Archived",
           1
          ],
          [
           "The Hitchhiker's Guide to the Galaxy",
           "The Hitchhiker's Guide to the Galaxy",
           1
          ],
          [
           "Rivers of London",
           "Rivers of London",
           1
          ],
          [
           "Dune",
           "Dune",
           1
          ],
          [
           "Leviathan Wakes",
           "The Expanse",
           1
          ],
          [
           "Ender's Game",
           "Ender's Saga",
           1
          ],
          [
           "Foundation",
           "Foundation (Publication Order",
           1
          ],
          [
           "The Three-Body Problem",
           "Remembrance of Earth's Past",
           1
          ]
         ],
         "hovertemplate": "<b>%{customdata[0]}</b> <br>%{customdata[1]} %{customdata[2]}",
         "legendgroup": "Saga (first book)",
         "marker": {
          "color": "#636efa",
          "symbol": "circle"
         },
         "mode": "markers",
         "name": "Saga (first book)",
         "orientation": "v",
         "showlegend": true,
         "type": "scatter",
         "x": [
          8491079,
          2435307,
          2228706,
          506701,
          7363176,
          5728651,
          2570023,
          3425949,
          326,
          976193,
          378925,
          828685,
          6703,
          9676,
          763799,
          650934,
          832328,
          272933,
          1594348,
          1272470,
          250003,
          323822,
          107811,
          61573,
          720290,
          607976,
          786992,
          197291,
          272436,
          149065,
          197291,
          258037,
          274973,
          272370,
          32913,
          1635203,
          111610,
          1068746,
          216416,
          1249770,
          474592,
          213667
         ],
         "xaxis": "x",
         "y": [
          4.48,
          4.28,
          4.44,
          4.46,
          4.32,
          3.63,
          4.38,
          4.16,
          3.6,
          4.19,
          4.64,
          4.52,
          3.79,
          3.74,
          4.32,
          4.49,
          4.19,
          4.31,
          3.92,
          4.04,
          3.52,
          4.05,
          4.2,
          3.9,
          3.96,
          4.1,
          4.04,
          4.18,
          4.17,
          4.29,
          4.18,
          4.28,
          4,
          4.07,
          3.96,
          4.22,
          3.87,
          4.25,
          4.27,
          4.3,
          4.17,
          4.07
         ],
         "yaxis": "y"
        },
        {
         "customdata": [
          [
           "Harry Potter and the Chamber of Secrets",
           "Harry Potter",
           2
          ],
          [
           "Harry Potter and the Prisoner of Azkaban",
           "Harry Potter",
           3
          ],
          [
           "Harry Potter and the Goblet of Fire",
           "Harry Potter",
           4
          ],
          [
           "Harry Potter and the Order of the Phoenix",
           "Harry Potter",
           5
          ],
          [
           "Harry Potter and the Half-Blood Prince",
           "Harry Potter",
           6
          ],
          [
           "Harry Potter and the Deathly Hallows",
           "Harry Potter",
           7
          ],
          [
           "Harry Potter and the Cursed Child: Parts One and Two",
           "Harry Potter",
           8
          ],
          [
           "The Sea of Monsters",
           "Percy Jackson and the Olympians",
           2
          ],
          [
           "The Titan's Curse",
           "Percy Jackson and the Olympians",
           3
          ],
          [
           "The Battle of the Labyrinth",
           "Percy Jackson and the Olympians",
           4
          ],
          [
           "The Last Olympian",
           "Percy Jackson and the Olympians",
           5
          ],
          [
           "The World of Ice & Fire: The Untold History of Westeros and the Game of Thrones",
           "A Song of Ice and Fire",
           0
          ],
          [
           "A Clash of Kings",
           "A Song of Ice and Fire",
           2
          ],
          [
           "A Storm of Swords",
           "A Song of Ice and Fire",
           3
          ],
          [
           "A Feast for Crows",
           "A Song of Ice and Fire",
           4
          ],
          [
           "A Dance with Dragons",
           "A Song of Ice and Fire",
           5
          ],
          [
           "The Winds of Winter",
           "A Song of Ice and Fire",
           6
          ],
          [
           "A Dream of Spring",
           "A Song of Ice and Fire",
           7
          ],
          [
           "The Well of Ascension",
           "The Mistborn Saga",
           2
          ],
          [
           "The Hero of Ages",
           "The Mistborn Saga",
           3
          ],
          [
           "The Alloy of Law",
           "The Mistborn Saga",
           4
          ],
          [
           "Shadows of Self",
           "The Mistborn Saga",
           5
          ],
          [
           "The Bands of Mourning",
           "The Mistborn Saga",
           6
          ],
          [
           "The Lost Metal",
           "The Mistborn Saga",
           7
          ],
          [
           "The Ballad of Songbirds and Snakes",
           "The Hunger Games",
           0
          ],
          [
           "Catching Fire",
           "The Hunger Games",
           2
          ],
          [
           "Mockingjay",
           "The Hunger Games",
           3
          ],
          [
           "New Moon",
           "The Twilight Saga",
           2
          ],
          [
           "Eclipse",
           "The Twilight Saga",
           3
          ],
          [
           "Breaking Dawn",
           "The Twilight Saga",
           4
          ],
          [
           "Midnight Sun",
           "The Twilight Saga",
           5
          ],
          [
           "The Hobbit",
           "The Lord of the Rings",
           0
          ],
          [
           "The Two Towers",
           "The Lord of the Rings",
           2
          ],
          [
           "The Return of the King",
           "The Lord of the Rings",
           3
          ],
          [
           "Insurgent",
           "Divergent",
           2
          ],
          [
           "Allegiant",
           "Divergent",
           3
          ],
          [
           "New Spring",
           "The Wheel of Time",
           0
          ],
          [
           "The Great Hunt",
           "The Wheel of Time",
           2
          ],
          [
           "The Dragon Reborn",
           "The Wheel of Time",
           3
          ],
          [
           "The Shadow Rising",
           "The Wheel of Time",
           4
          ],
          [
           "The Fires of Heaven",
           "The Wheel of Time",
           5
          ],
          [
           "Lord of Chaos",
           "The Wheel of Time",
           6
          ],
          [
           "A Crown of Swords",
           "The Wheel of Time",
           7
          ],
          [
           "The Path of Daggers",
           "The Wheel of Time",
           8
          ],
          [
           "Snow: The Prologue to Winter's Heart",
           "The Wheel of Time",
           9
          ],
          [
           "Glimmers: Prologue to Crossroads of Twilight",
           "The Wheel of Time",
           10
          ],
          [
           "Knife of Dreams",
           "The Wheel of Time",
           11
          ],
          [
           "What the Storm Means: Prologue to The Gathering Storm",
           "The Wheel of Time",
           12
          ],
          [
           "Towers of Midnight",
           "The Wheel of Time",
           13
          ],
          [
           "By Grace and Banners Fallen: Prologue to A Memory of Light",
           "The Wheel of Time",
           14
          ],
          [
           "A Court of Mist and Fury",
           "A Court of Thorns and Roses",
           2
          ],
          [
           "A Court of Wings and Ruin",
           "A Court of Thorns and Roses",
           3
          ],
          [
           "A ​Court of Silver Flames",
           "A Court of Thorns and Roses",
           4
          ],
          [
           "Words of Radiance",
           "The Stormlight Archive",
           2
          ],
          [
           "Oathbringer",
           "The Stormlight Archive",
           3
          ],
          [
           "Rhythm of War",
           "The Stormlight Archive",
           4
          ],
          [
           "The Wise Man's Fear",
           "The Kingkiller Chronicle",
           2
          ],
          [
           "The Doors of Stone",
           "The Kingkiller Chronicle",
           3
          ],
          [
           "The Philosopher Kings",
           "Thessaly",
           2
          ],
          [
           "Necessity",
           "Thessaly",
           3
          ],
          [
           "The Red Threads of Fortune",
           "Tensorate",
           2
          ],
          [
           "The Descent of Monsters",
           "Tensorate",
           3
          ],
          [
           "The Ascent to Godhood",
           "Tensorate",
           4
          ],
          [
           "Clockwork Prince",
           "The Infernal Devices",
           2
          ],
          [
           "Clockwork Princess",
           "The Infernal Devices",
           3
          ],
          [
           "Crooked Kingdom",
           "Six of Crows",
           2
          ],
          [
           "Crown of Midnight",
           "Throne of Glass",
           2
          ],
          [
           "Heir of Fire",
           "Throne of Glass",
           3
          ],
          [
           "Queen of Shadows",
           "Throne of Glass",
           4
          ],
          [
           "Empire of Storms",
           "Throne of Glass",
           5
          ],
          [
           "Tower of Dawn",
           "Throne of Glass",
           6
          ],
          [
           "Kingdom of Ash",
           "Throne of Glass",
           7
          ],
          [
           "A Kingdom of Flesh and Fire",
           "Blood and Ash",
           2
          ],
          [
           "The ​Crown of Gilded Bones",
           "Blood and Ash",
           3
          ],
          [
           "The War of Two Queens",
           "Blood and Ash",
           4
          ],
          [
           "Eldest",
           "The Inheritance Cycle",
           2
          ],
          [
           "Brisingr",
           "The Inheritance Cycle",
           3
          ],
          [
           "Inheritance",
           "The Inheritance Cycle",
           4
          ],
          [
           "The Scorch Trials",
           "The Maze Runner",
           2
          ],
          [
           "The Death Cure",
           "The Maze Runner",
           3
          ],
          [
           "The Magician King",
           "The Magicians",
           2
          ],
          [
           "The Magician's Land",
           "The Magicians",
           3
          ],
          [
           "The Dream Thieves",
           "The Raven Cycle",
           2
          ],
          [
           "Blue Lily, Lily Blue",
           "The Raven Cycle",
           3
          ],
          [
           "The Raven King",
           "The Raven Cycle",
           4
          ],
          [
           "Parable of the Talents",
           "Earthseed",
           2
          ],
          [
           "Home",
           "Binti",
           2
          ],
          [
           "The Night Masquerade",
           "Binti",
           3
          ],
          [
           "Siege and Storm",
           "The Shadow and Bone Trilogy",
           2
          ],
          [
           "Ruin and Rising",
           "The Shadow and Bone Trilogy",
           3
          ],
          [
           "The Wicked King",
           "The Folk of the Air",
           2
          ],
          [
           "The Queen of Nothing",
           "The Folk of the Air",
           3
          ],
          [
           "Glass Sword",
           "Red Queen",
           2
          ],
          [
           "King's Cage",
           "Red Queen",
           3
          ],
          [
           "War Storm",
           "Red Queen",
           4
          ],
          [
           "Before They Are Hanged",
           "The First Law",
           2
          ],
          [
           "Last Argument of Kings",
           "The First Law",
           3
          ],
          [
           "Best Served Cold",
           "The First Law",
           4
          ],
          [
           "The Heroes",
           "The First Law",
           5
          ],
          [
           "Red Country",
           "The First Law",
           6
          ],
          [
           "Royal Assassin",
           "The Farseer Trilogy",
           2
          ],
          [
           "Assassin's Quest",
           "The Farseer Trilogy",
           3
          ],
          [
           "Nightblood",
           "Warbreaker",
           2
          ],
          [
           "Before They Are Hanged",
           "The First Law",
           2
          ],
          [
           "Last Argument of Kings",
           "The First Law",
           3
          ],
          [
           "Best Served Cold",
           "The First Law",
           4
          ],
          [
           "The Heroes",
           "The First Law",
           5
          ],
          [
           "Red Country",
           "The First Law",
           6
          ],
          [
           "Red Seas Under Red Skies",
           "Gentleman Bastard",
           2
          ],
          [
           "The Republic of Thieves",
           "Gentleman Bastard",
           3
          ],
          [
           "The Thorn of Emberlain",
           "Gentleman Bastard",
           4
          ],
          [
           "The Ministry of Necessity",
           "Gentleman Bastard",
           5
          ],
          [
           "The Mage and the Master Spy",
           "Gentleman Bastard",
           6
          ],
          [
           "Inherit the Night",
           "Gentleman Bastard",
           7
          ],
          [
           "The Tombs of Atuan",
           "Earthsea Cycle",
           2
          ],
          [
           "The Farthest Shore",
           "Earthsea Cycle",
           3
          ],
          [
           "Tehanu",
           "Earthsea Cycle",
           4
          ],
          [
           "Tales from Earthsea",
           "Earthsea Cycle",
           5
          ],
          [
           "The Other Wind",
           "Earthsea Cycle",
           6
          ],
          [
           "A Gathering of Shadows",
           "Shades of Magic",
           2
          ],
          [
           "A Conjuring of Light",
           "Shades of Magic",
           3
          ],
          [
           "The Unbound",
           "The Archived",
           2
          ],
          [
           "The Returned",
           "The Archived",
           3
          ],
          [
           "The Restaurant at the End of the Universe",
           "The Hitchhiker's Guide to the Galaxy",
           2
          ],
          [
           "Life, the Universe and Everything",
           "The Hitchhiker's Guide to the Galaxy",
           3
          ],
          [
           "So Long, and Thanks for All the Fish",
           "The Hitchhiker's Guide to the Galaxy",
           4
          ],
          [
           "Mostly Harmless",
           "The Hitchhiker's Guide to the Galaxy",
           5
          ],
          [
           "And Another Thing...",
           "The Hitchhiker's Guide to the Galaxy",
           6
          ],
          [
           "Moon Over Soho",
           "Rivers of London",
           2
          ],
          [
           "Whispers Under Ground",
           "Rivers of London",
           3
          ],
          [
           "Broken Homes",
           "Rivers of London",
           4
          ],
          [
           "Foxglove Summer",
           "Rivers of London",
           5
          ],
          [
           "The Hanging Tree",
           "Rivers of London",
           6
          ],
          [
           "Lies Sleeping",
           "Rivers of London",
           7
          ],
          [
           "False Value",
           "Rivers of London",
           8
          ],
          [
           "Amongst Our Weapons",
           "Rivers of London",
           9
          ],
          [
           "Dune Messiah",
           "Dune",
           2
          ],
          [
           "Children of Dune",
           "Dune",
           3
          ],
          [
           "God Emperor of Dune",
           "Dune",
           4
          ],
          [
           "Heretics of Dune",
           "Dune",
           5
          ],
          [
           "Chapterhouse: Dune",
           "Dune",
           6
          ],
          [
           "Hunters of Dune",
           "Dune",
           7
          ],
          [
           "Sandworms of Dune",
           "Dune",
           8
          ],
          [
           "Caliban's War",
           "The Expanse",
           2
          ],
          [
           "Abaddon's Gate",
           "The Expanse",
           3
          ],
          [
           "Cibola Burn",
           "The Expanse",
           4
          ],
          [
           "Nemesis Games",
           "The Expanse",
           5
          ],
          [
           "Babylon's Ashes",
           "The Expanse",
           6
          ],
          [
           "Persepolis Rising",
           "The Expanse",
           7
          ],
          [
           "Tiamat's Wrath",
           "The Expanse",
           8
          ],
          [
           "Leviathan Falls",
           "The Expanse",
           9
          ],
          [
           "Speaker for the Dead",
           "Ender's Saga",
           2
          ],
          [
           "Xenocide",
           "Ender's Saga",
           3
          ],
          [
           "Children of the Mind",
           "Ender's Saga",
           4
          ],
          [
           "Ender in Exile",
           "Ender's Saga",
           5
          ],
          [
           "The Last Shadow",
           "Ender's Saga",
           6
          ],
          [
           "Foundation and Empire",
           "Foundation (Publication Order",
           2
          ],
          [
           "Second Foundation",
           "Foundation (Publication Order",
           3
          ],
          [
           "Foundation's Edge",
           "Foundation (Publication Order",
           4
          ],
          [
           "Foundation and Earth",
           "Foundation (Publication Order",
           5
          ],
          [
           "Prelude to Foundation",
           "Foundation (Publication Order",
           6
          ],
          [
           "Forward the Foundation",
           "Foundation (Publication Order",
           7
          ],
          [
           "The Dark Forest",
           "Remembrance of Earth's Past",
           2
          ],
          [
           "Death's End",
           "Remembrance of Earth's Past",
           3
          ]
         ],
         "hovertemplate": "<b>%{customdata[0]}</b> <br>%{customdata[1]} %{customdata[2]}",
         "legendgroup": "Saga (continuation)",
         "marker": {
          "color": "#EF553B",
          "symbol": "circle"
         },
         "mode": "markers",
         "name": "Saga (continuation)",
         "orientation": "v",
         "showlegend": true,
         "type": "scatter",
         "x": [
          3277548,
          3439727,
          3057818,
          2927014,
          2834974,
          3240578,
          860531,
          926344,
          842907,
          888106,
          813022,
          29395,
          850748,
          713213,
          673951,
          599808,
          9595,
          1980,
          351248,
          323920,
          165193,
          105732,
          94533,
          1725,
          287741,
          2964748,
          2722872,
          1686872,
          1610973,
          1506265,
          179392,
          3361620,
          821282,
          769676,
          1334873,
          941426,
          89567,
          271609,
          249315,
          199482,
          160721,
          148857,
          143385,
          123324,
          438,
          1232,
          113781,
          656,
          138462,
          4015,
          694719,
          554931,
          301489,
          263111,
          174939,
          84523,
          486794,
          4156,
          2284,
          1474,
          4244,
          2501,
          1727,
          506662,
          400610,
          436727,
          507366,
          429949,
          373289,
          310439,
          217513,
          232197,
          186010,
          130396,
          43324,
          397900,
          335448,
          242968,
          514937,
          391895,
          93532,
          71641,
          178253,
          144698,
          126504,
          39608,
          24246,
          18503,
          452745,
          383772,
          378411,
          331235,
          280433,
          188090,
          118946,
          137266,
          128228,
          75341,
          50232,
          41785,
          169437,
          134575,
          166,
          137266,
          128228,
          75341,
          50232,
          41785,
          126793,
          95482,
          2385,
          100,
          64,
          65,
          101890,
          102513,
          42793,
          22538,
          22758,
          147153,
          119108,
          14001,
          105,
          257529,
          213955,
          157788,
          120413,
          30025,
          55376,
          49286,
          41763,
          37191,
          30061,
          21510,
          16110,
          3938,
          197787,
          139544,
          84961,
          65238,
          54787,
          14488,
          12276,
          123886,
          104411,
          84427,
          75664,
          62210,
          52023,
          46441,
          28435,
          237388,
          149369,
          102346,
          47152,
          2809,
          180647,
          164909,
          79142,
          63749,
          78137,
          50476,
          92917,
          71852
         ],
         "xaxis": "x",
         "y": [
          4.43,
          4.58,
          4.57,
          4.5,
          4.57,
          4.62,
          3.54,
          4.24,
          4.36,
          4.41,
          4.52,
          4.26,
          4.41,
          4.54,
          4.14,
          4.32,
          4.4,
          4.37,
          4.37,
          4.5,
          4.21,
          4.29,
          4.41,
          4.35,
          3.82,
          4.3,
          4.06,
          3.57,
          3.71,
          3.72,
          3.72,
          4.28,
          4.46,
          4.55,
          4,
          3.61,
          4.04,
          4.25,
          4.26,
          4.26,
          4.17,
          4.16,
          4.05,
          3.92,
          4.13,
          4.14,
          4.16,
          4.34,
          4.44,
          4.55,
          4.61,
          4.43,
          4.4,
          4.75,
          4.6,
          4.62,
          4.55,
          3.62,
          3.93,
          3.95,
          3.9,
          3.9,
          4.05,
          4.43,
          4.56,
          4.61,
          4.36,
          4.46,
          4.55,
          4.55,
          4.28,
          4.6,
          4.45,
          4.25,
          4.05,
          4,
          4.06,
          4.11,
          3.9,
          3.78,
          3.91,
          4.14,
          4.22,
          4.26,
          4.25,
          4.29,
          4.06,
          4.03,
          3.86,
          4.03,
          4.34,
          4.37,
          3.84,
          3.95,
          3.86,
          4.32,
          4.3,
          4.19,
          4.31,
          4.31,
          4.24,
          4.19,
          4.27,
          4.32,
          4.3,
          4.19,
          4.31,
          4.31,
          4.24,
          4.21,
          4.29,
          4.19,
          4.16,
          3.94,
          4.1,
          4.12,
          3.98,
          4.07,
          4.16,
          4.24,
          4.34,
          4.22,
          4.17,
          4.21,
          4.19,
          4.09,
          3.96,
          3.57,
          4.09,
          4.15,
          4.17,
          4.2,
          4.22,
          4.25,
          4.12,
          4.45,
          3.89,
          3.95,
          3.87,
          3.88,
          3.91,
          3.66,
          3.66,
          4.36,
          4.26,
          4.2,
          4.42,
          4.24,
          4.37,
          4.57,
          4.54,
          4.08,
          3.8,
          3.77,
          3.91,
          3.67,
          4.22,
          4.26,
          4.15,
          4.06,
          4.14,
          4.15,
          4.41,
          4.42
         ],
         "yaxis": "y"
        },
        {
         "customdata": [
          [
           "The Midnight Library",
           null,
           null
          ],
          [
           "The Invisible Life of Addie LaRue",
           null,
           null
          ],
          [
           "1984",
           null,
           null
          ],
          [
           "Fahrenheit 451",
           null,
           null
          ],
          [
           "Brave New World",
           null,
           null
          ],
          [
           "The Catcher in the Rye",
           null,
           null
          ],
          [
           "The Binding",
           null,
           null
          ],
          [
           "All the Crooked Saints",
           null,
           null
          ],
          [
           "The Man in the High Castle",
           null,
           null
          ],
          [
           "This Is How You Lose the Time War",
           null,
           null
          ],
          [
           "Deathless",
           null,
           null
          ],
          [
           "Jonathan Strange & Mr Norrell",
           null,
           null
          ],
          [
           "American Gods",
           "American Gods",
           null
          ],
          [
           "Good Omens: The Nice and Accurate Prophecies of Agnes Nutter, Witch",
           null,
           null
          ],
          [
           "Stardust",
           null,
           null
          ],
          [
           "The Princess Bride",
           null,
           null
          ],
          [
           "Circe",
           null,
           null
          ],
          [
           "Gallant",
           null,
           null
          ],
          [
           "Among Others",
           null,
           null
          ],
          [
           "Gingerbread",
           null,
           null
          ],
          [
           "The Forgotten Beasts of Eld",
           null,
           null
          ],
          [
           "The Night Circus",
           null,
           null
          ],
          [
           "The Deep",
           null,
           null
          ],
          [
           "Upright Women Wanted",
           null,
           null
          ],
          [
           "The House in the Cerulean Sea",
           null,
           null
          ],
          [
           "Winterwood",
           null,
           null
          ]
         ],
         "hovertemplate": "<b>%{customdata[0]}</b> <br>%{customdata[1]} %{customdata[2]}",
         "legendgroup": "Standalone",
         "marker": {
          "color": "#00cc96",
          "symbol": "circle"
         },
         "mode": "markers",
         "name": "Standalone",
         "orientation": "v",
         "showlegend": true,
         "type": "scatter",
         "x": [
          944368,
          584015,
          3808026,
          2014586,
          1636073,
          3105169,
          57669,
          20596,
          190497,
          86075,
          18097,
          219407,
          840495,
          633817,
          402680,
          841418,
          661290,
          25490,
          23038,
          12681,
          15849,
          820521,
          23428,
          15518,
          285067,
          16896
         ],
         "xaxis": "x",
         "y": [
          4.05,
          4.23,
          4.19,
          3.98,
          3.99,
          3.81,
          3.88,
          3.81,
          3.61,
          3.96,
          3.98,
          3.84,
          4.11,
          4.25,
          4.09,
          4.26,
          4.26,
          3.91,
          3.7,
          3.06,
          4.08,
          4.03,
          3.79,
          3.64,
          4.46,
          3.86
         ],
         "yaxis": "y"
        }
       ],
       "layout": {
        "height": 500,
        "legend": {
         "title": {},
         "tracegroupgap": 0,
         "x": 1.02,
         "y": 0.5
        },
        "margin": {
         "t": 60
        },
        "shapes": [
         {
          "line": {
           "color": "#636efa"
          },
          "type": "line",
          "x0": 0,
          "x1": 1,
          "xref": "x domain",
          "y0": 4.141666666666667,
          "y1": 4.141666666666667,
          "yref": "y"
         },
         {
          "line": {
           "color": "#EF553B"
          },
          "type": "line",
          "x0": 0,
          "x1": 1,
          "xref": "x domain",
          "y0": 4.193780487804878,
          "y1": 4.193780487804878,
          "yref": "y"
         },
         {
          "line": {
           "color": "#00cc96"
          },
          "type": "line",
          "x0": 0,
          "x1": 1,
          "xref": "x domain",
          "y0": 3.955,
          "y1": 3.955,
          "yref": "y"
         }
        ],
        "template": {
         "data": {
          "bar": [
           {
            "error_x": {
             "color": "#2a3f5f"
            },
            "error_y": {
             "color": "#2a3f5f"
            },
            "marker": {
             "line": {
              "color": "white",
              "width": 0.5
             },
             "pattern": {
              "fillmode": "overlay",
              "size": 10,
              "solidity": 0.2
             }
            },
            "type": "bar"
           }
          ],
          "barpolar": [
           {
            "marker": {
             "line": {
              "color": "white",
              "width": 0.5
             },
             "pattern": {
              "fillmode": "overlay",
              "size": 10,
              "solidity": 0.2
             }
            },
            "type": "barpolar"
           }
          ],
          "carpet": [
           {
            "aaxis": {
             "endlinecolor": "#2a3f5f",
             "gridcolor": "#C8D4E3",
             "linecolor": "#C8D4E3",
             "minorgridcolor": "#C8D4E3",
             "startlinecolor": "#2a3f5f"
            },
            "baxis": {
             "endlinecolor": "#2a3f5f",
             "gridcolor": "#C8D4E3",
             "linecolor": "#C8D4E3",
             "minorgridcolor": "#C8D4E3",
             "startlinecolor": "#2a3f5f"
            },
            "type": "carpet"
           }
          ],
          "choropleth": [
           {
            "colorbar": {
             "outlinewidth": 0,
             "ticks": ""
            },
            "type": "choropleth"
           }
          ],
          "contour": [
           {
            "colorbar": {
             "outlinewidth": 0,
             "ticks": ""
            },
            "colorscale": [
             [
              0,
              "#0d0887"
             ],
             [
              0.1111111111111111,
              "#46039f"
             ],
             [
              0.2222222222222222,
              "#7201a8"
             ],
             [
              0.3333333333333333,
              "#9c179e"
             ],
             [
              0.4444444444444444,
              "#bd3786"
             ],
             [
              0.5555555555555556,
              "#d8576b"
             ],
             [
              0.6666666666666666,
              "#ed7953"
             ],
             [
              0.7777777777777778,
              "#fb9f3a"
             ],
             [
              0.8888888888888888,
              "#fdca26"
             ],
             [
              1,
              "#f0f921"
             ]
            ],
            "type": "contour"
           }
          ],
          "contourcarpet": [
           {
            "colorbar": {
             "outlinewidth": 0,
             "ticks": ""
            },
            "type": "contourcarpet"
           }
          ],
          "heatmap": [
           {
            "colorbar": {
             "outlinewidth": 0,
             "ticks": ""
            },
            "colorscale": [
             [
              0,
              "#0d0887"
             ],
             [
              0.1111111111111111,
              "#46039f"
             ],
             [
              0.2222222222222222,
              "#7201a8"
             ],
             [
              0.3333333333333333,
              "#9c179e"
             ],
             [
              0.4444444444444444,
              "#bd3786"
             ],
             [
              0.5555555555555556,
              "#d8576b"
             ],
             [
              0.6666666666666666,
              "#ed7953"
             ],
             [
              0.7777777777777778,
              "#fb9f3a"
             ],
             [
              0.8888888888888888,
              "#fdca26"
             ],
             [
              1,
              "#f0f921"
             ]
            ],
            "type": "heatmap"
           }
          ],
          "heatmapgl": [
           {
            "colorbar": {
             "outlinewidth": 0,
             "ticks": ""
            },
            "colorscale": [
             [
              0,
              "#0d0887"
             ],
             [
              0.1111111111111111,
              "#46039f"
             ],
             [
              0.2222222222222222,
              "#7201a8"
             ],
             [
              0.3333333333333333,
              "#9c179e"
             ],
             [
              0.4444444444444444,
              "#bd3786"
             ],
             [
              0.5555555555555556,
              "#d8576b"
             ],
             [
              0.6666666666666666,
              "#ed7953"
             ],
             [
              0.7777777777777778,
              "#fb9f3a"
             ],
             [
              0.8888888888888888,
              "#fdca26"
             ],
             [
              1,
              "#f0f921"
             ]
            ],
            "type": "heatmapgl"
           }
          ],
          "histogram": [
           {
            "marker": {
             "pattern": {
              "fillmode": "overlay",
              "size": 10,
              "solidity": 0.2
             }
            },
            "type": "histogram"
           }
          ],
          "histogram2d": [
           {
            "colorbar": {
             "outlinewidth": 0,
             "ticks": ""
            },
            "colorscale": [
             [
              0,
              "#0d0887"
             ],
             [
              0.1111111111111111,
              "#46039f"
             ],
             [
              0.2222222222222222,
              "#7201a8"
             ],
             [
              0.3333333333333333,
              "#9c179e"
             ],
             [
              0.4444444444444444,
              "#bd3786"
             ],
             [
              0.5555555555555556,
              "#d8576b"
             ],
             [
              0.6666666666666666,
              "#ed7953"
             ],
             [
              0.7777777777777778,
              "#fb9f3a"
             ],
             [
              0.8888888888888888,
              "#fdca26"
             ],
             [
              1,
              "#f0f921"
             ]
            ],
            "type": "histogram2d"
           }
          ],
          "histogram2dcontour": [
           {
            "colorbar": {
             "outlinewidth": 0,
             "ticks": ""
            },
            "colorscale": [
             [
              0,
              "#0d0887"
             ],
             [
              0.1111111111111111,
              "#46039f"
             ],
             [
              0.2222222222222222,
              "#7201a8"
             ],
             [
              0.3333333333333333,
              "#9c179e"
             ],
             [
              0.4444444444444444,
              "#bd3786"
             ],
             [
              0.5555555555555556,
              "#d8576b"
             ],
             [
              0.6666666666666666,
              "#ed7953"
             ],
             [
              0.7777777777777778,
              "#fb9f3a"
             ],
             [
              0.8888888888888888,
              "#fdca26"
             ],
             [
              1,
              "#f0f921"
             ]
            ],
            "type": "histogram2dcontour"
           }
          ],
          "mesh3d": [
           {
            "colorbar": {
             "outlinewidth": 0,
             "ticks": ""
            },
            "type": "mesh3d"
           }
          ],
          "parcoords": [
           {
            "line": {
             "colorbar": {
              "outlinewidth": 0,
              "ticks": ""
             }
            },
            "type": "parcoords"
           }
          ],
          "pie": [
           {
            "automargin": true,
            "type": "pie"
           }
          ],
          "scatter": [
           {
            "marker": {
             "colorbar": {
              "outlinewidth": 0,
              "ticks": ""
             }
            },
            "type": "scatter"
           }
          ],
          "scatter3d": [
           {
            "line": {
             "colorbar": {
              "outlinewidth": 0,
              "ticks": ""
             }
            },
            "marker": {
             "colorbar": {
              "outlinewidth": 0,
              "ticks": ""
             }
            },
            "type": "scatter3d"
           }
          ],
          "scattercarpet": [
           {
            "marker": {
             "colorbar": {
              "outlinewidth": 0,
              "ticks": ""
             }
            },
            "type": "scattercarpet"
           }
          ],
          "scattergeo": [
           {
            "marker": {
             "colorbar": {
              "outlinewidth": 0,
              "ticks": ""
             }
            },
            "type": "scattergeo"
           }
          ],
          "scattergl": [
           {
            "marker": {
             "colorbar": {
              "outlinewidth": 0,
              "ticks": ""
             }
            },
            "type": "scattergl"
           }
          ],
          "scattermapbox": [
           {
            "marker": {
             "colorbar": {
              "outlinewidth": 0,
              "ticks": ""
             }
            },
            "type": "scattermapbox"
           }
          ],
          "scatterpolar": [
           {
            "marker": {
             "colorbar": {
              "outlinewidth": 0,
              "ticks": ""
             }
            },
            "type": "scatterpolar"
           }
          ],
          "scatterpolargl": [
           {
            "marker": {
             "colorbar": {
              "outlinewidth": 0,
              "ticks": ""
             }
            },
            "type": "scatterpolargl"
           }
          ],
          "scatterternary": [
           {
            "marker": {
             "colorbar": {
              "outlinewidth": 0,
              "ticks": ""
             }
            },
            "type": "scatterternary"
           }
          ],
          "surface": [
           {
            "colorbar": {
             "outlinewidth": 0,
             "ticks": ""
            },
            "colorscale": [
             [
              0,
              "#0d0887"
             ],
             [
              0.1111111111111111,
              "#46039f"
             ],
             [
              0.2222222222222222,
              "#7201a8"
             ],
             [
              0.3333333333333333,
              "#9c179e"
             ],
             [
              0.4444444444444444,
              "#bd3786"
             ],
             [
              0.5555555555555556,
              "#d8576b"
             ],
             [
              0.6666666666666666,
              "#ed7953"
             ],
             [
              0.7777777777777778,
              "#fb9f3a"
             ],
             [
              0.8888888888888888,
              "#fdca26"
             ],
             [
              1,
              "#f0f921"
             ]
            ],
            "type": "surface"
           }
          ],
          "table": [
           {
            "cells": {
             "fill": {
              "color": "#EBF0F8"
             },
             "line": {
              "color": "white"
             }
            },
            "header": {
             "fill": {
              "color": "#C8D4E3"
             },
             "line": {
              "color": "white"
             }
            },
            "type": "table"
           }
          ]
         },
         "layout": {
          "annotationdefaults": {
           "arrowcolor": "#2a3f5f",
           "arrowhead": 0,
           "arrowwidth": 1
          },
          "autotypenumbers": "strict",
          "coloraxis": {
           "colorbar": {
            "outlinewidth": 0,
            "ticks": ""
           }
          },
          "colorscale": {
           "diverging": [
            [
             0,
             "#8e0152"
            ],
            [
             0.1,
             "#c51b7d"
            ],
            [
             0.2,
             "#de77ae"
            ],
            [
             0.3,
             "#f1b6da"
            ],
            [
             0.4,
             "#fde0ef"
            ],
            [
             0.5,
             "#f7f7f7"
            ],
            [
             0.6,
             "#e6f5d0"
            ],
            [
             0.7,
             "#b8e186"
            ],
            [
             0.8,
             "#7fbc41"
            ],
            [
             0.9,
             "#4d9221"
            ],
            [
             1,
             "#276419"
            ]
           ],
           "sequential": [
            [
             0,
             "#0d0887"
            ],
            [
             0.1111111111111111,
             "#46039f"
            ],
            [
             0.2222222222222222,
             "#7201a8"
            ],
            [
             0.3333333333333333,
             "#9c179e"
            ],
            [
             0.4444444444444444,
             "#bd3786"
            ],
            [
             0.5555555555555556,
             "#d8576b"
            ],
            [
             0.6666666666666666,
             "#ed7953"
            ],
            [
             0.7777777777777778,
             "#fb9f3a"
            ],
            [
             0.8888888888888888,
             "#fdca26"
            ],
            [
             1,
             "#f0f921"
            ]
           ],
           "sequentialminus": [
            [
             0,
             "#0d0887"
            ],
            [
             0.1111111111111111,
             "#46039f"
            ],
            [
             0.2222222222222222,
             "#7201a8"
            ],
            [
             0.3333333333333333,
             "#9c179e"
            ],
            [
             0.4444444444444444,
             "#bd3786"
            ],
            [
             0.5555555555555556,
             "#d8576b"
            ],
            [
             0.6666666666666666,
             "#ed7953"
            ],
            [
             0.7777777777777778,
             "#fb9f3a"
            ],
            [
             0.8888888888888888,
             "#fdca26"
            ],
            [
             1,
             "#f0f921"
            ]
           ]
          },
          "colorway": [
           "#636efa",
           "#EF553B",
           "#00cc96",
           "#ab63fa",
           "#FFA15A",
           "#19d3f3",
           "#FF6692",
           "#B6E880",
           "#FF97FF",
           "#FECB52"
          ],
          "font": {
           "color": "#2a3f5f"
          },
          "geo": {
           "bgcolor": "white",
           "lakecolor": "white",
           "landcolor": "white",
           "showlakes": true,
           "showland": true,
           "subunitcolor": "#C8D4E3"
          },
          "hoverlabel": {
           "align": "left"
          },
          "hovermode": "closest",
          "mapbox": {
           "style": "light"
          },
          "paper_bgcolor": "white",
          "plot_bgcolor": "white",
          "polar": {
           "angularaxis": {
            "gridcolor": "#EBF0F8",
            "linecolor": "#EBF0F8",
            "ticks": ""
           },
           "bgcolor": "white",
           "radialaxis": {
            "gridcolor": "#EBF0F8",
            "linecolor": "#EBF0F8",
            "ticks": ""
           }
          },
          "scene": {
           "xaxis": {
            "backgroundcolor": "white",
            "gridcolor": "#DFE8F3",
            "gridwidth": 2,
            "linecolor": "#EBF0F8",
            "showbackground": true,
            "ticks": "",
            "zerolinecolor": "#EBF0F8"
           },
           "yaxis": {
            "backgroundcolor": "white",
            "gridcolor": "#DFE8F3",
            "gridwidth": 2,
            "linecolor": "#EBF0F8",
            "showbackground": true,
            "ticks": "",
            "zerolinecolor": "#EBF0F8"
           },
           "zaxis": {
            "backgroundcolor": "white",
            "gridcolor": "#DFE8F3",
            "gridwidth": 2,
            "linecolor": "#EBF0F8",
            "showbackground": true,
            "ticks": "",
            "zerolinecolor": "#EBF0F8"
           }
          },
          "shapedefaults": {
           "line": {
            "color": "#2a3f5f"
           }
          },
          "ternary": {
           "aaxis": {
            "gridcolor": "#DFE8F3",
            "linecolor": "#A2B1C6",
            "ticks": ""
           },
           "baxis": {
            "gridcolor": "#DFE8F3",
            "linecolor": "#A2B1C6",
            "ticks": ""
           },
           "bgcolor": "white",
           "caxis": {
            "gridcolor": "#DFE8F3",
            "linecolor": "#A2B1C6",
            "ticks": ""
           }
          },
          "title": {
           "x": 0.05
          },
          "xaxis": {
           "automargin": true,
           "gridcolor": "#EBF0F8",
           "linecolor": "black",
           "mirror": true,
           "showline": true,
           "ticks": "outside",
           "title": {
            "standoff": 15
           },
           "zerolinecolor": "#EBF0F8",
           "zerolinewidth": 2
          },
          "yaxis": {
           "automargin": true,
           "gridcolor": "#EBF0F8",
           "linecolor": "black",
           "mirror": true,
           "showline": true,
           "ticks": "outside",
           "title": {
            "standoff": 15
           },
           "zerolinecolor": "#EBF0F8",
           "zerolinewidth": 2
          }
         }
        },
        "width": 800,
        "xaxis": {
         "anchor": "y",
         "domain": [
          0,
          1
         ],
         "range": [
          0,
          4000000
         ],
         "title": {
          "text": "Number of ratings"
         }
        },
        "yaxis": {
         "anchor": "x",
         "domain": [
          0,
          1
         ],
         "range": [
          1,
          5
         ],
         "title": {
          "text": "Average rating"
         }
        }
       }
      }
     },
     "metadata": {},
     "output_type": "display_data"
    }
   ],
   "source": [
    "for i in range(3) :\n",
    "    trace_name = fig_scatter.data[i]['legendgroup']\n",
    "    fig_scatter.add_hline(\n",
    "        y=books_df_scatter_means[trace_name],\n",
    "        line_color = fig_scatter.data[i]['marker']['color']\n",
    "    )\n",
    "\n",
    "fig_scatter.show()"
   ]
  },
  {
   "cell_type": "markdown",
   "metadata": {},
   "source": [
    "### Example 2: Facetted barplot + adding traces"
   ]
  },
  {
   "cell_type": "markdown",
   "metadata": {},
   "source": [
    "#### Example 2.1: Only one saga (only one plot)"
   ]
  },
  {
   "cell_type": "code",
   "execution_count": 58,
   "metadata": {},
   "outputs": [
    {
     "data": {
      "text/html": [
       "<div>\n",
       "<style scoped>\n",
       "    .dataframe tbody tr th:only-of-type {\n",
       "        vertical-align: middle;\n",
       "    }\n",
       "\n",
       "    .dataframe tbody tr th {\n",
       "        vertical-align: top;\n",
       "    }\n",
       "\n",
       "    .dataframe thead th {\n",
       "        text-align: right;\n",
       "    }\n",
       "</style>\n",
       "<table border=\"1\" class=\"dataframe\">\n",
       "  <thead>\n",
       "    <tr style=\"text-align: right;\">\n",
       "      <th></th>\n",
       "      <th>book_id_long</th>\n",
       "      <th>book_id_short</th>\n",
       "      <th>url</th>\n",
       "      <th>title</th>\n",
       "      <th>series_name</th>\n",
       "      <th>series_url</th>\n",
       "      <th>series_n</th>\n",
       "      <th>isbn</th>\n",
       "      <th>year_first_published</th>\n",
       "      <th>author_name</th>\n",
       "      <th>...</th>\n",
       "      <th>average_rating</th>\n",
       "      <th>main_genre</th>\n",
       "      <th>rating_5_starts</th>\n",
       "      <th>rating_4_starts</th>\n",
       "      <th>rating_3_starts</th>\n",
       "      <th>rating_2_starts</th>\n",
       "      <th>rating_1_start</th>\n",
       "      <th>genres</th>\n",
       "      <th>rating_distribution</th>\n",
       "      <th>hist_rating</th>\n",
       "    </tr>\n",
       "  </thead>\n",
       "  <tbody>\n",
       "    <tr>\n",
       "      <th>0</th>\n",
       "      <td>68428.The_Final_Empire</td>\n",
       "      <td>68428</td>\n",
       "      <td>https://www.goodreads.com/book/show/68428.The_...</td>\n",
       "      <td>The Final Empire</td>\n",
       "      <td>The Mistborn Saga</td>\n",
       "      <td>https://www.goodreads.com/series/40910-the-mis...</td>\n",
       "      <td>1</td>\n",
       "      <td>9780765311788</td>\n",
       "      <td>2006.0</td>\n",
       "      <td>Brandon Sanderson</td>\n",
       "      <td>...</td>\n",
       "      <td>4.46</td>\n",
       "      <td>Fantasy</td>\n",
       "      <td>300783.0</td>\n",
       "      <td>153806.0</td>\n",
       "      <td>39647.0</td>\n",
       "      <td>8207.0</td>\n",
       "      <td>4258.0</td>\n",
       "      <td>NaN</td>\n",
       "      <td>NaN</td>\n",
       "      <td>4.460000</td>\n",
       "    </tr>\n",
       "    <tr>\n",
       "      <th>1</th>\n",
       "      <td>68429.The_Well_of_Ascension</td>\n",
       "      <td>68429</td>\n",
       "      <td>https://www.goodreads.com/book/show/68429.The_...</td>\n",
       "      <td>The Well of Ascension</td>\n",
       "      <td>The Mistborn Saga</td>\n",
       "      <td>https://www.goodreads.com/series/40910-the-mis...</td>\n",
       "      <td>2</td>\n",
       "      <td>NaN</td>\n",
       "      <td>2007.0</td>\n",
       "      <td>Brandon Sanderson</td>\n",
       "      <td>...</td>\n",
       "      <td>4.37</td>\n",
       "      <td>Fantasy</td>\n",
       "      <td>181540.0</td>\n",
       "      <td>126733.0</td>\n",
       "      <td>35412.0</td>\n",
       "      <td>5726.0</td>\n",
       "      <td>1837.0</td>\n",
       "      <td>NaN</td>\n",
       "      <td>NaN</td>\n",
       "      <td>4.423154</td>\n",
       "    </tr>\n",
       "    <tr>\n",
       "      <th>2</th>\n",
       "      <td>2767793-the-hero-of-ages</td>\n",
       "      <td>2767793</td>\n",
       "      <td>https://www.goodreads.com/book/show/2767793-th...</td>\n",
       "      <td>The Hero of Ages</td>\n",
       "      <td>The Mistborn Saga</td>\n",
       "      <td>https://www.goodreads.com/series/40910-the-mis...</td>\n",
       "      <td>3</td>\n",
       "      <td>NaN</td>\n",
       "      <td>2008.0</td>\n",
       "      <td>Brandon Sanderson</td>\n",
       "      <td>...</td>\n",
       "      <td>4.50</td>\n",
       "      <td>Fantasy</td>\n",
       "      <td>201257.0</td>\n",
       "      <td>91677.0</td>\n",
       "      <td>24761.0</td>\n",
       "      <td>4455.0</td>\n",
       "      <td>1770.0</td>\n",
       "      <td>NaN</td>\n",
       "      <td>NaN</td>\n",
       "      <td>4.444215</td>\n",
       "    </tr>\n",
       "    <tr>\n",
       "      <th>3</th>\n",
       "      <td>10803121-the-alloy-of-law</td>\n",
       "      <td>10803121</td>\n",
       "      <td>https://www.goodreads.com/book/show/10803121-t...</td>\n",
       "      <td>The Alloy of Law</td>\n",
       "      <td>The Mistborn Saga</td>\n",
       "      <td>https://www.goodreads.com/series/40910-the-mis...</td>\n",
       "      <td>4</td>\n",
       "      <td>NaN</td>\n",
       "      <td>2011.0</td>\n",
       "      <td>Brandon Sanderson</td>\n",
       "      <td>...</td>\n",
       "      <td>4.21</td>\n",
       "      <td>Fantasy</td>\n",
       "      <td>66578.0</td>\n",
       "      <td>70774.0</td>\n",
       "      <td>23860.0</td>\n",
       "      <td>3191.0</td>\n",
       "      <td>790.0</td>\n",
       "      <td>NaN</td>\n",
       "      <td>NaN</td>\n",
       "      <td>4.415493</td>\n",
       "    </tr>\n",
       "    <tr>\n",
       "      <th>4</th>\n",
       "      <td>16065004-shadows-of-self</td>\n",
       "      <td>16065004</td>\n",
       "      <td>https://www.goodreads.com/book/show/16065004-s...</td>\n",
       "      <td>Shadows of Self</td>\n",
       "      <td>The Mistborn Saga</td>\n",
       "      <td>https://www.goodreads.com/series/40910-the-mis...</td>\n",
       "      <td>5</td>\n",
       "      <td>NaN</td>\n",
       "      <td>2015.0</td>\n",
       "      <td>Brandon Sanderson</td>\n",
       "      <td>...</td>\n",
       "      <td>4.29</td>\n",
       "      <td>Fantasy</td>\n",
       "      <td>46918.0</td>\n",
       "      <td>44566.0</td>\n",
       "      <td>12316.0</td>\n",
       "      <td>1461.0</td>\n",
       "      <td>471.0</td>\n",
       "      <td>NaN</td>\n",
       "      <td>NaN</td>\n",
       "      <td>4.406360</td>\n",
       "    </tr>\n",
       "  </tbody>\n",
       "</table>\n",
       "<p>5 rows × 24 columns</p>\n",
       "</div>"
      ],
      "text/plain": [
       "                  book_id_long  book_id_short  \\\n",
       "0       68428.The_Final_Empire          68428   \n",
       "1  68429.The_Well_of_Ascension          68429   \n",
       "2     2767793-the-hero-of-ages        2767793   \n",
       "3    10803121-the-alloy-of-law       10803121   \n",
       "4     16065004-shadows-of-self       16065004   \n",
       "\n",
       "                                                 url                  title  \\\n",
       "0  https://www.goodreads.com/book/show/68428.The_...       The Final Empire   \n",
       "1  https://www.goodreads.com/book/show/68429.The_...  The Well of Ascension   \n",
       "2  https://www.goodreads.com/book/show/2767793-th...       The Hero of Ages   \n",
       "3  https://www.goodreads.com/book/show/10803121-t...       The Alloy of Law   \n",
       "4  https://www.goodreads.com/book/show/16065004-s...        Shadows of Self   \n",
       "\n",
       "         series_name                                         series_url  \\\n",
       "0  The Mistborn Saga  https://www.goodreads.com/series/40910-the-mis...   \n",
       "1  The Mistborn Saga  https://www.goodreads.com/series/40910-the-mis...   \n",
       "2  The Mistborn Saga  https://www.goodreads.com/series/40910-the-mis...   \n",
       "3  The Mistborn Saga  https://www.goodreads.com/series/40910-the-mis...   \n",
       "4  The Mistborn Saga  https://www.goodreads.com/series/40910-the-mis...   \n",
       "\n",
       "   series_n           isbn  year_first_published        author_name  ...  \\\n",
       "0         1  9780765311788                2006.0  Brandon Sanderson  ...   \n",
       "1         2            NaN                2007.0  Brandon Sanderson  ...   \n",
       "2         3            NaN                2008.0  Brandon Sanderson  ...   \n",
       "3         4            NaN                2011.0  Brandon Sanderson  ...   \n",
       "4         5            NaN                2015.0  Brandon Sanderson  ...   \n",
       "\n",
       "  average_rating  main_genre  rating_5_starts  rating_4_starts  \\\n",
       "0           4.46     Fantasy         300783.0         153806.0   \n",
       "1           4.37     Fantasy         181540.0         126733.0   \n",
       "2           4.50     Fantasy         201257.0          91677.0   \n",
       "3           4.21     Fantasy          66578.0          70774.0   \n",
       "4           4.29     Fantasy          46918.0          44566.0   \n",
       "\n",
       "   rating_3_starts rating_2_starts  rating_1_start  genres  \\\n",
       "0          39647.0          8207.0          4258.0     NaN   \n",
       "1          35412.0          5726.0          1837.0     NaN   \n",
       "2          24761.0          4455.0          1770.0     NaN   \n",
       "3          23860.0          3191.0           790.0     NaN   \n",
       "4          12316.0          1461.0           471.0     NaN   \n",
       "\n",
       "   rating_distribution  hist_rating  \n",
       "0                  NaN     4.460000  \n",
       "1                  NaN     4.423154  \n",
       "2                  NaN     4.444215  \n",
       "3                  NaN     4.415493  \n",
       "4                  NaN     4.406360  \n",
       "\n",
       "[5 rows x 24 columns]"
      ]
     },
     "execution_count": 58,
     "metadata": {},
     "output_type": "execute_result"
    }
   ],
   "source": [
    "sanderson_sagas_df = pd.read_csv('sanderson_sagas_df.csv')\n",
    "sanderson_sagas_df.head()"
   ]
  },
  {
   "cell_type": "code",
   "execution_count": 59,
   "metadata": {},
   "outputs": [
    {
     "data": {
      "application/vnd.plotly.v1+json": {
       "config": {
        "plotlyServerURL": "https://plot.ly"
       },
       "data": [
        {
         "alignmentgroup": "True",
         "customdata": [
          [
           "The Way of Kings"
          ],
          [
           "Words of Radiance"
          ],
          [
           "Oathbringer"
          ],
          [
           "Rhythm of War"
          ]
         ],
         "hovertemplate": "series_n=%{x}<br>average_rating=%{y}<br>title=%{customdata[0]}<br>num_ratings=%{marker.color}<extra></extra>",
         "legendgroup": "",
         "marker": {
          "color": [
           378925,
           263111,
           174939,
           84523
          ],
          "coloraxis": "coloraxis",
          "pattern": {
           "shape": ""
          }
         },
         "name": "",
         "offsetgroup": "",
         "orientation": "v",
         "showlegend": false,
         "textposition": "auto",
         "type": "bar",
         "x": [
          1,
          2,
          3,
          4
         ],
         "xaxis": "x",
         "y": [
          4.64,
          4.75,
          4.6,
          4.62
         ],
         "yaxis": "y"
        }
       ],
       "layout": {
        "barmode": "relative",
        "coloraxis": {
         "colorbar": {
          "title": {
           "text": "num_ratings"
          }
         },
         "colorscale": [
          [
           0,
           "rgb(209, 238, 234)"
          ],
          [
           0.16666666666666666,
           "rgb(168, 219, 217)"
          ],
          [
           0.3333333333333333,
           "rgb(133, 196, 201)"
          ],
          [
           0.5,
           "rgb(104, 171, 184)"
          ],
          [
           0.6666666666666666,
           "rgb(79, 144, 166)"
          ],
          [
           0.8333333333333334,
           "rgb(59, 115, 143)"
          ],
          [
           1,
           "rgb(42, 86, 116)"
          ]
         ]
        },
        "height": 300,
        "legend": {
         "tracegroupgap": 0
        },
        "margin": {
         "t": 60
        },
        "template": {
         "data": {
          "bar": [
           {
            "error_x": {
             "color": "#2a3f5f"
            },
            "error_y": {
             "color": "#2a3f5f"
            },
            "marker": {
             "line": {
              "color": "#E5ECF6",
              "width": 0.5
             },
             "pattern": {
              "fillmode": "overlay",
              "size": 10,
              "solidity": 0.2
             }
            },
            "type": "bar"
           }
          ],
          "barpolar": [
           {
            "marker": {
             "line": {
              "color": "#E5ECF6",
              "width": 0.5
             },
             "pattern": {
              "fillmode": "overlay",
              "size": 10,
              "solidity": 0.2
             }
            },
            "type": "barpolar"
           }
          ],
          "carpet": [
           {
            "aaxis": {
             "endlinecolor": "#2a3f5f",
             "gridcolor": "white",
             "linecolor": "white",
             "minorgridcolor": "white",
             "startlinecolor": "#2a3f5f"
            },
            "baxis": {
             "endlinecolor": "#2a3f5f",
             "gridcolor": "white",
             "linecolor": "white",
             "minorgridcolor": "white",
             "startlinecolor": "#2a3f5f"
            },
            "type": "carpet"
           }
          ],
          "choropleth": [
           {
            "colorbar": {
             "outlinewidth": 0,
             "ticks": ""
            },
            "type": "choropleth"
           }
          ],
          "contour": [
           {
            "colorbar": {
             "outlinewidth": 0,
             "ticks": ""
            },
            "colorscale": [
             [
              0,
              "#0d0887"
             ],
             [
              0.1111111111111111,
              "#46039f"
             ],
             [
              0.2222222222222222,
              "#7201a8"
             ],
             [
              0.3333333333333333,
              "#9c179e"
             ],
             [
              0.4444444444444444,
              "#bd3786"
             ],
             [
              0.5555555555555556,
              "#d8576b"
             ],
             [
              0.6666666666666666,
              "#ed7953"
             ],
             [
              0.7777777777777778,
              "#fb9f3a"
             ],
             [
              0.8888888888888888,
              "#fdca26"
             ],
             [
              1,
              "#f0f921"
             ]
            ],
            "type": "contour"
           }
          ],
          "contourcarpet": [
           {
            "colorbar": {
             "outlinewidth": 0,
             "ticks": ""
            },
            "type": "contourcarpet"
           }
          ],
          "heatmap": [
           {
            "colorbar": {
             "outlinewidth": 0,
             "ticks": ""
            },
            "colorscale": [
             [
              0,
              "#0d0887"
             ],
             [
              0.1111111111111111,
              "#46039f"
             ],
             [
              0.2222222222222222,
              "#7201a8"
             ],
             [
              0.3333333333333333,
              "#9c179e"
             ],
             [
              0.4444444444444444,
              "#bd3786"
             ],
             [
              0.5555555555555556,
              "#d8576b"
             ],
             [
              0.6666666666666666,
              "#ed7953"
             ],
             [
              0.7777777777777778,
              "#fb9f3a"
             ],
             [
              0.8888888888888888,
              "#fdca26"
             ],
             [
              1,
              "#f0f921"
             ]
            ],
            "type": "heatmap"
           }
          ],
          "heatmapgl": [
           {
            "colorbar": {
             "outlinewidth": 0,
             "ticks": ""
            },
            "colorscale": [
             [
              0,
              "#0d0887"
             ],
             [
              0.1111111111111111,
              "#46039f"
             ],
             [
              0.2222222222222222,
              "#7201a8"
             ],
             [
              0.3333333333333333,
              "#9c179e"
             ],
             [
              0.4444444444444444,
              "#bd3786"
             ],
             [
              0.5555555555555556,
              "#d8576b"
             ],
             [
              0.6666666666666666,
              "#ed7953"
             ],
             [
              0.7777777777777778,
              "#fb9f3a"
             ],
             [
              0.8888888888888888,
              "#fdca26"
             ],
             [
              1,
              "#f0f921"
             ]
            ],
            "type": "heatmapgl"
           }
          ],
          "histogram": [
           {
            "marker": {
             "pattern": {
              "fillmode": "overlay",
              "size": 10,
              "solidity": 0.2
             }
            },
            "type": "histogram"
           }
          ],
          "histogram2d": [
           {
            "colorbar": {
             "outlinewidth": 0,
             "ticks": ""
            },
            "colorscale": [
             [
              0,
              "#0d0887"
             ],
             [
              0.1111111111111111,
              "#46039f"
             ],
             [
              0.2222222222222222,
              "#7201a8"
             ],
             [
              0.3333333333333333,
              "#9c179e"
             ],
             [
              0.4444444444444444,
              "#bd3786"
             ],
             [
              0.5555555555555556,
              "#d8576b"
             ],
             [
              0.6666666666666666,
              "#ed7953"
             ],
             [
              0.7777777777777778,
              "#fb9f3a"
             ],
             [
              0.8888888888888888,
              "#fdca26"
             ],
             [
              1,
              "#f0f921"
             ]
            ],
            "type": "histogram2d"
           }
          ],
          "histogram2dcontour": [
           {
            "colorbar": {
             "outlinewidth": 0,
             "ticks": ""
            },
            "colorscale": [
             [
              0,
              "#0d0887"
             ],
             [
              0.1111111111111111,
              "#46039f"
             ],
             [
              0.2222222222222222,
              "#7201a8"
             ],
             [
              0.3333333333333333,
              "#9c179e"
             ],
             [
              0.4444444444444444,
              "#bd3786"
             ],
             [
              0.5555555555555556,
              "#d8576b"
             ],
             [
              0.6666666666666666,
              "#ed7953"
             ],
             [
              0.7777777777777778,
              "#fb9f3a"
             ],
             [
              0.8888888888888888,
              "#fdca26"
             ],
             [
              1,
              "#f0f921"
             ]
            ],
            "type": "histogram2dcontour"
           }
          ],
          "mesh3d": [
           {
            "colorbar": {
             "outlinewidth": 0,
             "ticks": ""
            },
            "type": "mesh3d"
           }
          ],
          "parcoords": [
           {
            "line": {
             "colorbar": {
              "outlinewidth": 0,
              "ticks": ""
             }
            },
            "type": "parcoords"
           }
          ],
          "pie": [
           {
            "automargin": true,
            "type": "pie"
           }
          ],
          "scatter": [
           {
            "marker": {
             "colorbar": {
              "outlinewidth": 0,
              "ticks": ""
             }
            },
            "type": "scatter"
           }
          ],
          "scatter3d": [
           {
            "line": {
             "colorbar": {
              "outlinewidth": 0,
              "ticks": ""
             }
            },
            "marker": {
             "colorbar": {
              "outlinewidth": 0,
              "ticks": ""
             }
            },
            "type": "scatter3d"
           }
          ],
          "scattercarpet": [
           {
            "marker": {
             "colorbar": {
              "outlinewidth": 0,
              "ticks": ""
             }
            },
            "type": "scattercarpet"
           }
          ],
          "scattergeo": [
           {
            "marker": {
             "colorbar": {
              "outlinewidth": 0,
              "ticks": ""
             }
            },
            "type": "scattergeo"
           }
          ],
          "scattergl": [
           {
            "marker": {
             "colorbar": {
              "outlinewidth": 0,
              "ticks": ""
             }
            },
            "type": "scattergl"
           }
          ],
          "scattermapbox": [
           {
            "marker": {
             "colorbar": {
              "outlinewidth": 0,
              "ticks": ""
             }
            },
            "type": "scattermapbox"
           }
          ],
          "scatterpolar": [
           {
            "marker": {
             "colorbar": {
              "outlinewidth": 0,
              "ticks": ""
             }
            },
            "type": "scatterpolar"
           }
          ],
          "scatterpolargl": [
           {
            "marker": {
             "colorbar": {
              "outlinewidth": 0,
              "ticks": ""
             }
            },
            "type": "scatterpolargl"
           }
          ],
          "scatterternary": [
           {
            "marker": {
             "colorbar": {
              "outlinewidth": 0,
              "ticks": ""
             }
            },
            "type": "scatterternary"
           }
          ],
          "surface": [
           {
            "colorbar": {
             "outlinewidth": 0,
             "ticks": ""
            },
            "colorscale": [
             [
              0,
              "#0d0887"
             ],
             [
              0.1111111111111111,
              "#46039f"
             ],
             [
              0.2222222222222222,
              "#7201a8"
             ],
             [
              0.3333333333333333,
              "#9c179e"
             ],
             [
              0.4444444444444444,
              "#bd3786"
             ],
             [
              0.5555555555555556,
              "#d8576b"
             ],
             [
              0.6666666666666666,
              "#ed7953"
             ],
             [
              0.7777777777777778,
              "#fb9f3a"
             ],
             [
              0.8888888888888888,
              "#fdca26"
             ],
             [
              1,
              "#f0f921"
             ]
            ],
            "type": "surface"
           }
          ],
          "table": [
           {
            "cells": {
             "fill": {
              "color": "#EBF0F8"
             },
             "line": {
              "color": "white"
             }
            },
            "header": {
             "fill": {
              "color": "#C8D4E3"
             },
             "line": {
              "color": "white"
             }
            },
            "type": "table"
           }
          ]
         },
         "layout": {
          "annotationdefaults": {
           "arrowcolor": "#2a3f5f",
           "arrowhead": 0,
           "arrowwidth": 1
          },
          "autotypenumbers": "strict",
          "coloraxis": {
           "colorbar": {
            "outlinewidth": 0,
            "ticks": ""
           }
          },
          "colorscale": {
           "diverging": [
            [
             0,
             "#8e0152"
            ],
            [
             0.1,
             "#c51b7d"
            ],
            [
             0.2,
             "#de77ae"
            ],
            [
             0.3,
             "#f1b6da"
            ],
            [
             0.4,
             "#fde0ef"
            ],
            [
             0.5,
             "#f7f7f7"
            ],
            [
             0.6,
             "#e6f5d0"
            ],
            [
             0.7,
             "#b8e186"
            ],
            [
             0.8,
             "#7fbc41"
            ],
            [
             0.9,
             "#4d9221"
            ],
            [
             1,
             "#276419"
            ]
           ],
           "sequential": [
            [
             0,
             "#0d0887"
            ],
            [
             0.1111111111111111,
             "#46039f"
            ],
            [
             0.2222222222222222,
             "#7201a8"
            ],
            [
             0.3333333333333333,
             "#9c179e"
            ],
            [
             0.4444444444444444,
             "#bd3786"
            ],
            [
             0.5555555555555556,
             "#d8576b"
            ],
            [
             0.6666666666666666,
             "#ed7953"
            ],
            [
             0.7777777777777778,
             "#fb9f3a"
            ],
            [
             0.8888888888888888,
             "#fdca26"
            ],
            [
             1,
             "#f0f921"
            ]
           ],
           "sequentialminus": [
            [
             0,
             "#0d0887"
            ],
            [
             0.1111111111111111,
             "#46039f"
            ],
            [
             0.2222222222222222,
             "#7201a8"
            ],
            [
             0.3333333333333333,
             "#9c179e"
            ],
            [
             0.4444444444444444,
             "#bd3786"
            ],
            [
             0.5555555555555556,
             "#d8576b"
            ],
            [
             0.6666666666666666,
             "#ed7953"
            ],
            [
             0.7777777777777778,
             "#fb9f3a"
            ],
            [
             0.8888888888888888,
             "#fdca26"
            ],
            [
             1,
             "#f0f921"
            ]
           ]
          },
          "colorway": [
           "#636efa",
           "#EF553B",
           "#00cc96",
           "#ab63fa",
           "#FFA15A",
           "#19d3f3",
           "#FF6692",
           "#B6E880",
           "#FF97FF",
           "#FECB52"
          ],
          "font": {
           "color": "#2a3f5f"
          },
          "geo": {
           "bgcolor": "white",
           "lakecolor": "white",
           "landcolor": "#E5ECF6",
           "showlakes": true,
           "showland": true,
           "subunitcolor": "white"
          },
          "hoverlabel": {
           "align": "left"
          },
          "hovermode": "closest",
          "mapbox": {
           "style": "light"
          },
          "paper_bgcolor": "white",
          "plot_bgcolor": "#E5ECF6",
          "polar": {
           "angularaxis": {
            "gridcolor": "white",
            "linecolor": "white",
            "ticks": ""
           },
           "bgcolor": "#E5ECF6",
           "radialaxis": {
            "gridcolor": "white",
            "linecolor": "white",
            "ticks": ""
           }
          },
          "scene": {
           "xaxis": {
            "backgroundcolor": "#E5ECF6",
            "gridcolor": "white",
            "gridwidth": 2,
            "linecolor": "white",
            "showbackground": true,
            "ticks": "",
            "zerolinecolor": "white"
           },
           "yaxis": {
            "backgroundcolor": "#E5ECF6",
            "gridcolor": "white",
            "gridwidth": 2,
            "linecolor": "white",
            "showbackground": true,
            "ticks": "",
            "zerolinecolor": "white"
           },
           "zaxis": {
            "backgroundcolor": "#E5ECF6",
            "gridcolor": "white",
            "gridwidth": 2,
            "linecolor": "white",
            "showbackground": true,
            "ticks": "",
            "zerolinecolor": "white"
           }
          },
          "shapedefaults": {
           "line": {
            "color": "#2a3f5f"
           }
          },
          "ternary": {
           "aaxis": {
            "gridcolor": "white",
            "linecolor": "white",
            "ticks": ""
           },
           "baxis": {
            "gridcolor": "white",
            "linecolor": "white",
            "ticks": ""
           },
           "bgcolor": "#E5ECF6",
           "caxis": {
            "gridcolor": "white",
            "linecolor": "white",
            "ticks": ""
           }
          },
          "title": {
           "x": 0.05
          },
          "xaxis": {
           "automargin": true,
           "gridcolor": "white",
           "linecolor": "white",
           "ticks": "",
           "title": {
            "standoff": 15
           },
           "zerolinecolor": "white",
           "zerolinewidth": 2
          },
          "yaxis": {
           "automargin": true,
           "gridcolor": "white",
           "linecolor": "white",
           "ticks": "",
           "title": {
            "standoff": 15
           },
           "zerolinecolor": "white",
           "zerolinewidth": 2
          }
         }
        },
        "width": 600,
        "xaxis": {
         "anchor": "y",
         "domain": [
          0,
          1
         ],
         "title": {
          "text": "series_n"
         }
        },
        "yaxis": {
         "anchor": "x",
         "domain": [
          0,
          1
         ],
         "title": {
          "text": "average_rating"
         }
        }
       }
      }
     },
     "metadata": {},
     "output_type": "display_data"
    }
   ],
   "source": [
    "fig_stormlight = px.bar(\n",
    "    sanderson_sagas_df.query('series_name == \"The Stormlight Archive\"'), \n",
    "    x='series_n', y='average_rating', \n",
    "    color = 'num_ratings', color_continuous_scale = px.colors.sequential.Teal,\n",
    "    hover_data = ['title'],\n",
    "    width = 600, height = 300\n",
    "    )\n",
    "\n",
    "fig_stormlight.show()"
   ]
  },
  {
   "cell_type": "code",
   "execution_count": 60,
   "metadata": {},
   "outputs": [
    {
     "data": {
      "application/vnd.plotly.v1+json": {
       "config": {
        "plotlyServerURL": "https://plot.ly"
       },
       "data": [
        {
         "alignmentgroup": "True",
         "customdata": [
          [
           "The Way of Kings"
          ],
          [
           "Words of Radiance"
          ],
          [
           "Oathbringer"
          ],
          [
           "Rhythm of War"
          ]
         ],
         "hovertemplate": "series_n=%{x}<br>average_rating=%{y}<br>title=%{customdata[0]}<br>num_ratings=%{marker.color}<extra></extra>",
         "legendgroup": "",
         "marker": {
          "color": [
           378925,
           263111,
           174939,
           84523
          ],
          "coloraxis": "coloraxis",
          "pattern": {
           "shape": ""
          }
         },
         "name": "",
         "offsetgroup": "",
         "orientation": "v",
         "showlegend": false,
         "textposition": "auto",
         "type": "bar",
         "x": [
          1,
          2,
          3,
          4
         ],
         "xaxis": "x",
         "y": [
          4.64,
          4.75,
          4.6,
          4.62
         ],
         "yaxis": "y"
        }
       ],
       "layout": {
        "barmode": "relative",
        "coloraxis": {
         "colorbar": {
          "title": {
           "text": "Number<br>of ratings"
          }
         },
         "colorscale": [
          [
           0,
           "rgb(209, 238, 234)"
          ],
          [
           0.16666666666666666,
           "rgb(168, 219, 217)"
          ],
          [
           0.3333333333333333,
           "rgb(133, 196, 201)"
          ],
          [
           0.5,
           "rgb(104, 171, 184)"
          ],
          [
           0.6666666666666666,
           "rgb(79, 144, 166)"
          ],
          [
           0.8333333333333334,
           "rgb(59, 115, 143)"
          ],
          [
           1,
           "rgb(42, 86, 116)"
          ]
         ]
        },
        "height": 300,
        "legend": {
         "tracegroupgap": 0
        },
        "margin": {
         "t": 60
        },
        "template": {
         "data": {
          "bar": [
           {
            "error_x": {
             "color": "#2a3f5f"
            },
            "error_y": {
             "color": "#2a3f5f"
            },
            "marker": {
             "line": {
              "color": "white",
              "width": 0.5
             },
             "pattern": {
              "fillmode": "overlay",
              "size": 10,
              "solidity": 0.2
             }
            },
            "type": "bar"
           }
          ],
          "barpolar": [
           {
            "marker": {
             "line": {
              "color": "white",
              "width": 0.5
             },
             "pattern": {
              "fillmode": "overlay",
              "size": 10,
              "solidity": 0.2
             }
            },
            "type": "barpolar"
           }
          ],
          "carpet": [
           {
            "aaxis": {
             "endlinecolor": "#2a3f5f",
             "gridcolor": "#C8D4E3",
             "linecolor": "#C8D4E3",
             "minorgridcolor": "#C8D4E3",
             "startlinecolor": "#2a3f5f"
            },
            "baxis": {
             "endlinecolor": "#2a3f5f",
             "gridcolor": "#C8D4E3",
             "linecolor": "#C8D4E3",
             "minorgridcolor": "#C8D4E3",
             "startlinecolor": "#2a3f5f"
            },
            "type": "carpet"
           }
          ],
          "choropleth": [
           {
            "colorbar": {
             "outlinewidth": 0,
             "ticks": ""
            },
            "type": "choropleth"
           }
          ],
          "contour": [
           {
            "colorbar": {
             "outlinewidth": 0,
             "ticks": ""
            },
            "colorscale": [
             [
              0,
              "#0d0887"
             ],
             [
              0.1111111111111111,
              "#46039f"
             ],
             [
              0.2222222222222222,
              "#7201a8"
             ],
             [
              0.3333333333333333,
              "#9c179e"
             ],
             [
              0.4444444444444444,
              "#bd3786"
             ],
             [
              0.5555555555555556,
              "#d8576b"
             ],
             [
              0.6666666666666666,
              "#ed7953"
             ],
             [
              0.7777777777777778,
              "#fb9f3a"
             ],
             [
              0.8888888888888888,
              "#fdca26"
             ],
             [
              1,
              "#f0f921"
             ]
            ],
            "type": "contour"
           }
          ],
          "contourcarpet": [
           {
            "colorbar": {
             "outlinewidth": 0,
             "ticks": ""
            },
            "type": "contourcarpet"
           }
          ],
          "heatmap": [
           {
            "colorbar": {
             "outlinewidth": 0,
             "ticks": ""
            },
            "colorscale": [
             [
              0,
              "#0d0887"
             ],
             [
              0.1111111111111111,
              "#46039f"
             ],
             [
              0.2222222222222222,
              "#7201a8"
             ],
             [
              0.3333333333333333,
              "#9c179e"
             ],
             [
              0.4444444444444444,
              "#bd3786"
             ],
             [
              0.5555555555555556,
              "#d8576b"
             ],
             [
              0.6666666666666666,
              "#ed7953"
             ],
             [
              0.7777777777777778,
              "#fb9f3a"
             ],
             [
              0.8888888888888888,
              "#fdca26"
             ],
             [
              1,
              "#f0f921"
             ]
            ],
            "type": "heatmap"
           }
          ],
          "heatmapgl": [
           {
            "colorbar": {
             "outlinewidth": 0,
             "ticks": ""
            },
            "colorscale": [
             [
              0,
              "#0d0887"
             ],
             [
              0.1111111111111111,
              "#46039f"
             ],
             [
              0.2222222222222222,
              "#7201a8"
             ],
             [
              0.3333333333333333,
              "#9c179e"
             ],
             [
              0.4444444444444444,
              "#bd3786"
             ],
             [
              0.5555555555555556,
              "#d8576b"
             ],
             [
              0.6666666666666666,
              "#ed7953"
             ],
             [
              0.7777777777777778,
              "#fb9f3a"
             ],
             [
              0.8888888888888888,
              "#fdca26"
             ],
             [
              1,
              "#f0f921"
             ]
            ],
            "type": "heatmapgl"
           }
          ],
          "histogram": [
           {
            "marker": {
             "pattern": {
              "fillmode": "overlay",
              "size": 10,
              "solidity": 0.2
             }
            },
            "type": "histogram"
           }
          ],
          "histogram2d": [
           {
            "colorbar": {
             "outlinewidth": 0,
             "ticks": ""
            },
            "colorscale": [
             [
              0,
              "#0d0887"
             ],
             [
              0.1111111111111111,
              "#46039f"
             ],
             [
              0.2222222222222222,
              "#7201a8"
             ],
             [
              0.3333333333333333,
              "#9c179e"
             ],
             [
              0.4444444444444444,
              "#bd3786"
             ],
             [
              0.5555555555555556,
              "#d8576b"
             ],
             [
              0.6666666666666666,
              "#ed7953"
             ],
             [
              0.7777777777777778,
              "#fb9f3a"
             ],
             [
              0.8888888888888888,
              "#fdca26"
             ],
             [
              1,
              "#f0f921"
             ]
            ],
            "type": "histogram2d"
           }
          ],
          "histogram2dcontour": [
           {
            "colorbar": {
             "outlinewidth": 0,
             "ticks": ""
            },
            "colorscale": [
             [
              0,
              "#0d0887"
             ],
             [
              0.1111111111111111,
              "#46039f"
             ],
             [
              0.2222222222222222,
              "#7201a8"
             ],
             [
              0.3333333333333333,
              "#9c179e"
             ],
             [
              0.4444444444444444,
              "#bd3786"
             ],
             [
              0.5555555555555556,
              "#d8576b"
             ],
             [
              0.6666666666666666,
              "#ed7953"
             ],
             [
              0.7777777777777778,
              "#fb9f3a"
             ],
             [
              0.8888888888888888,
              "#fdca26"
             ],
             [
              1,
              "#f0f921"
             ]
            ],
            "type": "histogram2dcontour"
           }
          ],
          "mesh3d": [
           {
            "colorbar": {
             "outlinewidth": 0,
             "ticks": ""
            },
            "type": "mesh3d"
           }
          ],
          "parcoords": [
           {
            "line": {
             "colorbar": {
              "outlinewidth": 0,
              "ticks": ""
             }
            },
            "type": "parcoords"
           }
          ],
          "pie": [
           {
            "automargin": true,
            "type": "pie"
           }
          ],
          "scatter": [
           {
            "marker": {
             "colorbar": {
              "outlinewidth": 0,
              "ticks": ""
             }
            },
            "type": "scatter"
           }
          ],
          "scatter3d": [
           {
            "line": {
             "colorbar": {
              "outlinewidth": 0,
              "ticks": ""
             }
            },
            "marker": {
             "colorbar": {
              "outlinewidth": 0,
              "ticks": ""
             }
            },
            "type": "scatter3d"
           }
          ],
          "scattercarpet": [
           {
            "marker": {
             "colorbar": {
              "outlinewidth": 0,
              "ticks": ""
             }
            },
            "type": "scattercarpet"
           }
          ],
          "scattergeo": [
           {
            "marker": {
             "colorbar": {
              "outlinewidth": 0,
              "ticks": ""
             }
            },
            "type": "scattergeo"
           }
          ],
          "scattergl": [
           {
            "marker": {
             "colorbar": {
              "outlinewidth": 0,
              "ticks": ""
             }
            },
            "type": "scattergl"
           }
          ],
          "scattermapbox": [
           {
            "marker": {
             "colorbar": {
              "outlinewidth": 0,
              "ticks": ""
             }
            },
            "type": "scattermapbox"
           }
          ],
          "scatterpolar": [
           {
            "marker": {
             "colorbar": {
              "outlinewidth": 0,
              "ticks": ""
             }
            },
            "type": "scatterpolar"
           }
          ],
          "scatterpolargl": [
           {
            "marker": {
             "colorbar": {
              "outlinewidth": 0,
              "ticks": ""
             }
            },
            "type": "scatterpolargl"
           }
          ],
          "scatterternary": [
           {
            "marker": {
             "colorbar": {
              "outlinewidth": 0,
              "ticks": ""
             }
            },
            "type": "scatterternary"
           }
          ],
          "surface": [
           {
            "colorbar": {
             "outlinewidth": 0,
             "ticks": ""
            },
            "colorscale": [
             [
              0,
              "#0d0887"
             ],
             [
              0.1111111111111111,
              "#46039f"
             ],
             [
              0.2222222222222222,
              "#7201a8"
             ],
             [
              0.3333333333333333,
              "#9c179e"
             ],
             [
              0.4444444444444444,
              "#bd3786"
             ],
             [
              0.5555555555555556,
              "#d8576b"
             ],
             [
              0.6666666666666666,
              "#ed7953"
             ],
             [
              0.7777777777777778,
              "#fb9f3a"
             ],
             [
              0.8888888888888888,
              "#fdca26"
             ],
             [
              1,
              "#f0f921"
             ]
            ],
            "type": "surface"
           }
          ],
          "table": [
           {
            "cells": {
             "fill": {
              "color": "#EBF0F8"
             },
             "line": {
              "color": "white"
             }
            },
            "header": {
             "fill": {
              "color": "#C8D4E3"
             },
             "line": {
              "color": "white"
             }
            },
            "type": "table"
           }
          ]
         },
         "layout": {
          "annotationdefaults": {
           "arrowcolor": "#2a3f5f",
           "arrowhead": 0,
           "arrowwidth": 1
          },
          "autotypenumbers": "strict",
          "coloraxis": {
           "colorbar": {
            "outlinewidth": 0,
            "ticks": ""
           }
          },
          "colorscale": {
           "diverging": [
            [
             0,
             "#8e0152"
            ],
            [
             0.1,
             "#c51b7d"
            ],
            [
             0.2,
             "#de77ae"
            ],
            [
             0.3,
             "#f1b6da"
            ],
            [
             0.4,
             "#fde0ef"
            ],
            [
             0.5,
             "#f7f7f7"
            ],
            [
             0.6,
             "#e6f5d0"
            ],
            [
             0.7,
             "#b8e186"
            ],
            [
             0.8,
             "#7fbc41"
            ],
            [
             0.9,
             "#4d9221"
            ],
            [
             1,
             "#276419"
            ]
           ],
           "sequential": [
            [
             0,
             "#0d0887"
            ],
            [
             0.1111111111111111,
             "#46039f"
            ],
            [
             0.2222222222222222,
             "#7201a8"
            ],
            [
             0.3333333333333333,
             "#9c179e"
            ],
            [
             0.4444444444444444,
             "#bd3786"
            ],
            [
             0.5555555555555556,
             "#d8576b"
            ],
            [
             0.6666666666666666,
             "#ed7953"
            ],
            [
             0.7777777777777778,
             "#fb9f3a"
            ],
            [
             0.8888888888888888,
             "#fdca26"
            ],
            [
             1,
             "#f0f921"
            ]
           ],
           "sequentialminus": [
            [
             0,
             "#0d0887"
            ],
            [
             0.1111111111111111,
             "#46039f"
            ],
            [
             0.2222222222222222,
             "#7201a8"
            ],
            [
             0.3333333333333333,
             "#9c179e"
            ],
            [
             0.4444444444444444,
             "#bd3786"
            ],
            [
             0.5555555555555556,
             "#d8576b"
            ],
            [
             0.6666666666666666,
             "#ed7953"
            ],
            [
             0.7777777777777778,
             "#fb9f3a"
            ],
            [
             0.8888888888888888,
             "#fdca26"
            ],
            [
             1,
             "#f0f921"
            ]
           ]
          },
          "colorway": [
           "#636efa",
           "#EF553B",
           "#00cc96",
           "#ab63fa",
           "#FFA15A",
           "#19d3f3",
           "#FF6692",
           "#B6E880",
           "#FF97FF",
           "#FECB52"
          ],
          "font": {
           "color": "#2a3f5f"
          },
          "geo": {
           "bgcolor": "white",
           "lakecolor": "white",
           "landcolor": "white",
           "showlakes": true,
           "showland": true,
           "subunitcolor": "#C8D4E3"
          },
          "hoverlabel": {
           "align": "left"
          },
          "hovermode": "closest",
          "mapbox": {
           "style": "light"
          },
          "paper_bgcolor": "white",
          "plot_bgcolor": "white",
          "polar": {
           "angularaxis": {
            "gridcolor": "#EBF0F8",
            "linecolor": "#EBF0F8",
            "ticks": ""
           },
           "bgcolor": "white",
           "radialaxis": {
            "gridcolor": "#EBF0F8",
            "linecolor": "#EBF0F8",
            "ticks": ""
           }
          },
          "scene": {
           "xaxis": {
            "backgroundcolor": "white",
            "gridcolor": "#DFE8F3",
            "gridwidth": 2,
            "linecolor": "#EBF0F8",
            "showbackground": true,
            "ticks": "",
            "zerolinecolor": "#EBF0F8"
           },
           "yaxis": {
            "backgroundcolor": "white",
            "gridcolor": "#DFE8F3",
            "gridwidth": 2,
            "linecolor": "#EBF0F8",
            "showbackground": true,
            "ticks": "",
            "zerolinecolor": "#EBF0F8"
           },
           "zaxis": {
            "backgroundcolor": "white",
            "gridcolor": "#DFE8F3",
            "gridwidth": 2,
            "linecolor": "#EBF0F8",
            "showbackground": true,
            "ticks": "",
            "zerolinecolor": "#EBF0F8"
           }
          },
          "shapedefaults": {
           "line": {
            "color": "#2a3f5f"
           }
          },
          "ternary": {
           "aaxis": {
            "gridcolor": "#DFE8F3",
            "linecolor": "#A2B1C6",
            "ticks": ""
           },
           "baxis": {
            "gridcolor": "#DFE8F3",
            "linecolor": "#A2B1C6",
            "ticks": ""
           },
           "bgcolor": "white",
           "caxis": {
            "gridcolor": "#DFE8F3",
            "linecolor": "#A2B1C6",
            "ticks": ""
           }
          },
          "title": {
           "x": 0.05
          },
          "xaxis": {
           "automargin": true,
           "gridcolor": "#EBF0F8",
           "linecolor": "black",
           "mirror": true,
           "showline": true,
           "ticks": "outside",
           "title": {
            "standoff": 15
           },
           "zerolinecolor": "#EBF0F8",
           "zerolinewidth": 2
          },
          "yaxis": {
           "automargin": true,
           "gridcolor": "#EBF0F8",
           "linecolor": "black",
           "mirror": true,
           "showline": true,
           "ticks": "outside",
           "title": {
            "standoff": 15
           },
           "zerolinecolor": "#EBF0F8",
           "zerolinewidth": 2
          }
         }
        },
        "title": {
         "text": "The Stormlight Archive"
        },
        "width": 600,
        "xaxis": {
         "anchor": "y",
         "domain": [
          0,
          1
         ],
         "title": {
          "text": "Series Volume"
         }
        },
        "yaxis": {
         "anchor": "x",
         "domain": [
          0,
          1
         ],
         "range": [
          1,
          5
         ],
         "title": {
          "text": "Average rating"
         }
        }
       }
      }
     },
     "metadata": {},
     "output_type": "display_data"
    }
   ],
   "source": [
    "fig_stormlight.update_layout(\n",
    "    title = 'The Stormlight Archive',\n",
    "    coloraxis_colorbar = {'title':'Number<br>of ratings'}, \n",
    "    xaxis = {'title':'Series Volume'},\n",
    "    yaxis = {'title':'Average rating', 'range':[1,5]},\n",
    "    template = 'plotly_white+borders'\n",
    ")"
   ]
  },
  {
   "cell_type": "code",
   "execution_count": 61,
   "metadata": {},
   "outputs": [
    {
     "data": {
      "application/vnd.plotly.v1+json": {
       "config": {
        "plotlyServerURL": "https://plot.ly"
       },
       "data": [
        {
         "alignmentgroup": "True",
         "customdata": [
          [
           "The Way of Kings"
          ],
          [
           "Words of Radiance"
          ],
          [
           "Oathbringer"
          ],
          [
           "Rhythm of War"
          ]
         ],
         "hovertemplate": "series_n=%{x}<br>average_rating=%{y}<br>title=%{customdata[0]}<br>num_ratings=%{marker.color}<extra></extra>",
         "legendgroup": "",
         "marker": {
          "color": [
           378925,
           263111,
           174939,
           84523
          ],
          "coloraxis": "coloraxis",
          "pattern": {
           "shape": ""
          }
         },
         "name": "",
         "offsetgroup": "",
         "orientation": "v",
         "showlegend": false,
         "textposition": "auto",
         "type": "bar",
         "x": [
          1,
          2,
          3,
          4
         ],
         "xaxis": "x",
         "y": [
          4.64,
          4.75,
          4.6,
          4.62
         ],
         "yaxis": "y"
        },
        {
         "mode": "lines+markers",
         "showlegend": false,
         "type": "scatter",
         "x": [
          1,
          2,
          3,
          4
         ],
         "y": [
          4.64,
          4.685078796204574,
          4.666860858655405,
          4.662467260049385
         ]
        }
       ],
       "layout": {
        "barmode": "relative",
        "coloraxis": {
         "colorbar": {
          "title": {
           "text": "Number<br>of ratings"
          }
         },
         "colorscale": [
          [
           0,
           "rgb(209, 238, 234)"
          ],
          [
           0.16666666666666666,
           "rgb(168, 219, 217)"
          ],
          [
           0.3333333333333333,
           "rgb(133, 196, 201)"
          ],
          [
           0.5,
           "rgb(104, 171, 184)"
          ],
          [
           0.6666666666666666,
           "rgb(79, 144, 166)"
          ],
          [
           0.8333333333333334,
           "rgb(59, 115, 143)"
          ],
          [
           1,
           "rgb(42, 86, 116)"
          ]
         ]
        },
        "height": 300,
        "legend": {
         "tracegroupgap": 0
        },
        "margin": {
         "t": 60
        },
        "template": {
         "data": {
          "bar": [
           {
            "error_x": {
             "color": "#2a3f5f"
            },
            "error_y": {
             "color": "#2a3f5f"
            },
            "marker": {
             "line": {
              "color": "white",
              "width": 0.5
             },
             "pattern": {
              "fillmode": "overlay",
              "size": 10,
              "solidity": 0.2
             }
            },
            "type": "bar"
           }
          ],
          "barpolar": [
           {
            "marker": {
             "line": {
              "color": "white",
              "width": 0.5
             },
             "pattern": {
              "fillmode": "overlay",
              "size": 10,
              "solidity": 0.2
             }
            },
            "type": "barpolar"
           }
          ],
          "carpet": [
           {
            "aaxis": {
             "endlinecolor": "#2a3f5f",
             "gridcolor": "#C8D4E3",
             "linecolor": "#C8D4E3",
             "minorgridcolor": "#C8D4E3",
             "startlinecolor": "#2a3f5f"
            },
            "baxis": {
             "endlinecolor": "#2a3f5f",
             "gridcolor": "#C8D4E3",
             "linecolor": "#C8D4E3",
             "minorgridcolor": "#C8D4E3",
             "startlinecolor": "#2a3f5f"
            },
            "type": "carpet"
           }
          ],
          "choropleth": [
           {
            "colorbar": {
             "outlinewidth": 0,
             "ticks": ""
            },
            "type": "choropleth"
           }
          ],
          "contour": [
           {
            "colorbar": {
             "outlinewidth": 0,
             "ticks": ""
            },
            "colorscale": [
             [
              0,
              "#0d0887"
             ],
             [
              0.1111111111111111,
              "#46039f"
             ],
             [
              0.2222222222222222,
              "#7201a8"
             ],
             [
              0.3333333333333333,
              "#9c179e"
             ],
             [
              0.4444444444444444,
              "#bd3786"
             ],
             [
              0.5555555555555556,
              "#d8576b"
             ],
             [
              0.6666666666666666,
              "#ed7953"
             ],
             [
              0.7777777777777778,
              "#fb9f3a"
             ],
             [
              0.8888888888888888,
              "#fdca26"
             ],
             [
              1,
              "#f0f921"
             ]
            ],
            "type": "contour"
           }
          ],
          "contourcarpet": [
           {
            "colorbar": {
             "outlinewidth": 0,
             "ticks": ""
            },
            "type": "contourcarpet"
           }
          ],
          "heatmap": [
           {
            "colorbar": {
             "outlinewidth": 0,
             "ticks": ""
            },
            "colorscale": [
             [
              0,
              "#0d0887"
             ],
             [
              0.1111111111111111,
              "#46039f"
             ],
             [
              0.2222222222222222,
              "#7201a8"
             ],
             [
              0.3333333333333333,
              "#9c179e"
             ],
             [
              0.4444444444444444,
              "#bd3786"
             ],
             [
              0.5555555555555556,
              "#d8576b"
             ],
             [
              0.6666666666666666,
              "#ed7953"
             ],
             [
              0.7777777777777778,
              "#fb9f3a"
             ],
             [
              0.8888888888888888,
              "#fdca26"
             ],
             [
              1,
              "#f0f921"
             ]
            ],
            "type": "heatmap"
           }
          ],
          "heatmapgl": [
           {
            "colorbar": {
             "outlinewidth": 0,
             "ticks": ""
            },
            "colorscale": [
             [
              0,
              "#0d0887"
             ],
             [
              0.1111111111111111,
              "#46039f"
             ],
             [
              0.2222222222222222,
              "#7201a8"
             ],
             [
              0.3333333333333333,
              "#9c179e"
             ],
             [
              0.4444444444444444,
              "#bd3786"
             ],
             [
              0.5555555555555556,
              "#d8576b"
             ],
             [
              0.6666666666666666,
              "#ed7953"
             ],
             [
              0.7777777777777778,
              "#fb9f3a"
             ],
             [
              0.8888888888888888,
              "#fdca26"
             ],
             [
              1,
              "#f0f921"
             ]
            ],
            "type": "heatmapgl"
           }
          ],
          "histogram": [
           {
            "marker": {
             "pattern": {
              "fillmode": "overlay",
              "size": 10,
              "solidity": 0.2
             }
            },
            "type": "histogram"
           }
          ],
          "histogram2d": [
           {
            "colorbar": {
             "outlinewidth": 0,
             "ticks": ""
            },
            "colorscale": [
             [
              0,
              "#0d0887"
             ],
             [
              0.1111111111111111,
              "#46039f"
             ],
             [
              0.2222222222222222,
              "#7201a8"
             ],
             [
              0.3333333333333333,
              "#9c179e"
             ],
             [
              0.4444444444444444,
              "#bd3786"
             ],
             [
              0.5555555555555556,
              "#d8576b"
             ],
             [
              0.6666666666666666,
              "#ed7953"
             ],
             [
              0.7777777777777778,
              "#fb9f3a"
             ],
             [
              0.8888888888888888,
              "#fdca26"
             ],
             [
              1,
              "#f0f921"
             ]
            ],
            "type": "histogram2d"
           }
          ],
          "histogram2dcontour": [
           {
            "colorbar": {
             "outlinewidth": 0,
             "ticks": ""
            },
            "colorscale": [
             [
              0,
              "#0d0887"
             ],
             [
              0.1111111111111111,
              "#46039f"
             ],
             [
              0.2222222222222222,
              "#7201a8"
             ],
             [
              0.3333333333333333,
              "#9c179e"
             ],
             [
              0.4444444444444444,
              "#bd3786"
             ],
             [
              0.5555555555555556,
              "#d8576b"
             ],
             [
              0.6666666666666666,
              "#ed7953"
             ],
             [
              0.7777777777777778,
              "#fb9f3a"
             ],
             [
              0.8888888888888888,
              "#fdca26"
             ],
             [
              1,
              "#f0f921"
             ]
            ],
            "type": "histogram2dcontour"
           }
          ],
          "mesh3d": [
           {
            "colorbar": {
             "outlinewidth": 0,
             "ticks": ""
            },
            "type": "mesh3d"
           }
          ],
          "parcoords": [
           {
            "line": {
             "colorbar": {
              "outlinewidth": 0,
              "ticks": ""
             }
            },
            "type": "parcoords"
           }
          ],
          "pie": [
           {
            "automargin": true,
            "type": "pie"
           }
          ],
          "scatter": [
           {
            "marker": {
             "colorbar": {
              "outlinewidth": 0,
              "ticks": ""
             }
            },
            "type": "scatter"
           }
          ],
          "scatter3d": [
           {
            "line": {
             "colorbar": {
              "outlinewidth": 0,
              "ticks": ""
             }
            },
            "marker": {
             "colorbar": {
              "outlinewidth": 0,
              "ticks": ""
             }
            },
            "type": "scatter3d"
           }
          ],
          "scattercarpet": [
           {
            "marker": {
             "colorbar": {
              "outlinewidth": 0,
              "ticks": ""
             }
            },
            "type": "scattercarpet"
           }
          ],
          "scattergeo": [
           {
            "marker": {
             "colorbar": {
              "outlinewidth": 0,
              "ticks": ""
             }
            },
            "type": "scattergeo"
           }
          ],
          "scattergl": [
           {
            "marker": {
             "colorbar": {
              "outlinewidth": 0,
              "ticks": ""
             }
            },
            "type": "scattergl"
           }
          ],
          "scattermapbox": [
           {
            "marker": {
             "colorbar": {
              "outlinewidth": 0,
              "ticks": ""
             }
            },
            "type": "scattermapbox"
           }
          ],
          "scatterpolar": [
           {
            "marker": {
             "colorbar": {
              "outlinewidth": 0,
              "ticks": ""
             }
            },
            "type": "scatterpolar"
           }
          ],
          "scatterpolargl": [
           {
            "marker": {
             "colorbar": {
              "outlinewidth": 0,
              "ticks": ""
             }
            },
            "type": "scatterpolargl"
           }
          ],
          "scatterternary": [
           {
            "marker": {
             "colorbar": {
              "outlinewidth": 0,
              "ticks": ""
             }
            },
            "type": "scatterternary"
           }
          ],
          "surface": [
           {
            "colorbar": {
             "outlinewidth": 0,
             "ticks": ""
            },
            "colorscale": [
             [
              0,
              "#0d0887"
             ],
             [
              0.1111111111111111,
              "#46039f"
             ],
             [
              0.2222222222222222,
              "#7201a8"
             ],
             [
              0.3333333333333333,
              "#9c179e"
             ],
             [
              0.4444444444444444,
              "#bd3786"
             ],
             [
              0.5555555555555556,
              "#d8576b"
             ],
             [
              0.6666666666666666,
              "#ed7953"
             ],
             [
              0.7777777777777778,
              "#fb9f3a"
             ],
             [
              0.8888888888888888,
              "#fdca26"
             ],
             [
              1,
              "#f0f921"
             ]
            ],
            "type": "surface"
           }
          ],
          "table": [
           {
            "cells": {
             "fill": {
              "color": "#EBF0F8"
             },
             "line": {
              "color": "white"
             }
            },
            "header": {
             "fill": {
              "color": "#C8D4E3"
             },
             "line": {
              "color": "white"
             }
            },
            "type": "table"
           }
          ]
         },
         "layout": {
          "annotationdefaults": {
           "arrowcolor": "#2a3f5f",
           "arrowhead": 0,
           "arrowwidth": 1
          },
          "autotypenumbers": "strict",
          "coloraxis": {
           "colorbar": {
            "outlinewidth": 0,
            "ticks": ""
           }
          },
          "colorscale": {
           "diverging": [
            [
             0,
             "#8e0152"
            ],
            [
             0.1,
             "#c51b7d"
            ],
            [
             0.2,
             "#de77ae"
            ],
            [
             0.3,
             "#f1b6da"
            ],
            [
             0.4,
             "#fde0ef"
            ],
            [
             0.5,
             "#f7f7f7"
            ],
            [
             0.6,
             "#e6f5d0"
            ],
            [
             0.7,
             "#b8e186"
            ],
            [
             0.8,
             "#7fbc41"
            ],
            [
             0.9,
             "#4d9221"
            ],
            [
             1,
             "#276419"
            ]
           ],
           "sequential": [
            [
             0,
             "#0d0887"
            ],
            [
             0.1111111111111111,
             "#46039f"
            ],
            [
             0.2222222222222222,
             "#7201a8"
            ],
            [
             0.3333333333333333,
             "#9c179e"
            ],
            [
             0.4444444444444444,
             "#bd3786"
            ],
            [
             0.5555555555555556,
             "#d8576b"
            ],
            [
             0.6666666666666666,
             "#ed7953"
            ],
            [
             0.7777777777777778,
             "#fb9f3a"
            ],
            [
             0.8888888888888888,
             "#fdca26"
            ],
            [
             1,
             "#f0f921"
            ]
           ],
           "sequentialminus": [
            [
             0,
             "#0d0887"
            ],
            [
             0.1111111111111111,
             "#46039f"
            ],
            [
             0.2222222222222222,
             "#7201a8"
            ],
            [
             0.3333333333333333,
             "#9c179e"
            ],
            [
             0.4444444444444444,
             "#bd3786"
            ],
            [
             0.5555555555555556,
             "#d8576b"
            ],
            [
             0.6666666666666666,
             "#ed7953"
            ],
            [
             0.7777777777777778,
             "#fb9f3a"
            ],
            [
             0.8888888888888888,
             "#fdca26"
            ],
            [
             1,
             "#f0f921"
            ]
           ]
          },
          "colorway": [
           "#636efa",
           "#EF553B",
           "#00cc96",
           "#ab63fa",
           "#FFA15A",
           "#19d3f3",
           "#FF6692",
           "#B6E880",
           "#FF97FF",
           "#FECB52"
          ],
          "font": {
           "color": "#2a3f5f"
          },
          "geo": {
           "bgcolor": "white",
           "lakecolor": "white",
           "landcolor": "white",
           "showlakes": true,
           "showland": true,
           "subunitcolor": "#C8D4E3"
          },
          "hoverlabel": {
           "align": "left"
          },
          "hovermode": "closest",
          "mapbox": {
           "style": "light"
          },
          "paper_bgcolor": "white",
          "plot_bgcolor": "white",
          "polar": {
           "angularaxis": {
            "gridcolor": "#EBF0F8",
            "linecolor": "#EBF0F8",
            "ticks": ""
           },
           "bgcolor": "white",
           "radialaxis": {
            "gridcolor": "#EBF0F8",
            "linecolor": "#EBF0F8",
            "ticks": ""
           }
          },
          "scene": {
           "xaxis": {
            "backgroundcolor": "white",
            "gridcolor": "#DFE8F3",
            "gridwidth": 2,
            "linecolor": "#EBF0F8",
            "showbackground": true,
            "ticks": "",
            "zerolinecolor": "#EBF0F8"
           },
           "yaxis": {
            "backgroundcolor": "white",
            "gridcolor": "#DFE8F3",
            "gridwidth": 2,
            "linecolor": "#EBF0F8",
            "showbackground": true,
            "ticks": "",
            "zerolinecolor": "#EBF0F8"
           },
           "zaxis": {
            "backgroundcolor": "white",
            "gridcolor": "#DFE8F3",
            "gridwidth": 2,
            "linecolor": "#EBF0F8",
            "showbackground": true,
            "ticks": "",
            "zerolinecolor": "#EBF0F8"
           }
          },
          "shapedefaults": {
           "line": {
            "color": "#2a3f5f"
           }
          },
          "ternary": {
           "aaxis": {
            "gridcolor": "#DFE8F3",
            "linecolor": "#A2B1C6",
            "ticks": ""
           },
           "baxis": {
            "gridcolor": "#DFE8F3",
            "linecolor": "#A2B1C6",
            "ticks": ""
           },
           "bgcolor": "white",
           "caxis": {
            "gridcolor": "#DFE8F3",
            "linecolor": "#A2B1C6",
            "ticks": ""
           }
          },
          "title": {
           "x": 0.05
          },
          "xaxis": {
           "automargin": true,
           "gridcolor": "#EBF0F8",
           "linecolor": "black",
           "mirror": true,
           "showline": true,
           "ticks": "outside",
           "title": {
            "standoff": 15
           },
           "zerolinecolor": "#EBF0F8",
           "zerolinewidth": 2
          },
          "yaxis": {
           "automargin": true,
           "gridcolor": "#EBF0F8",
           "linecolor": "black",
           "mirror": true,
           "showline": true,
           "ticks": "outside",
           "title": {
            "standoff": 15
           },
           "zerolinecolor": "#EBF0F8",
           "zerolinewidth": 2
          }
         }
        },
        "title": {
         "text": "The Stormlight Archive"
        },
        "width": 600,
        "xaxis": {
         "anchor": "y",
         "domain": [
          0,
          1
         ],
         "title": {
          "text": "Series Volume"
         }
        },
        "yaxis": {
         "anchor": "x",
         "domain": [
          0,
          1
         ],
         "range": [
          1,
          5
         ],
         "title": {
          "text": "Average rating"
         }
        }
       }
      }
     },
     "metadata": {},
     "output_type": "display_data"
    }
   ],
   "source": [
    "fig_stormlight.add_trace(\n",
    "    go.Scatter(\n",
    "        x=sanderson_sagas_df.query('series_name == \"The Stormlight Archive\"')['series_n'],\n",
    "        y=sanderson_sagas_df.query('series_name == \"The Stormlight Archive\"')['hist_rating'],\n",
    "        mode = 'lines+markers', showlegend=False\n",
    "    )\n",
    ")"
   ]
  },
  {
   "cell_type": "code",
   "execution_count": 62,
   "metadata": {},
   "outputs": [
    {
     "data": {
      "application/vnd.plotly.v1+json": {
       "config": {
        "plotlyServerURL": "https://plot.ly"
       },
       "data": [
        {
         "alignmentgroup": "True",
         "customdata": [
          [
           "The Way of Kings"
          ],
          [
           "Words of Radiance"
          ],
          [
           "Oathbringer"
          ],
          [
           "Rhythm of War"
          ]
         ],
         "hovertemplate": "series_n=%{x}<br>average_rating=%{y}<br>title=%{customdata[0]}<br>num_ratings=%{marker.color}<extra></extra>",
         "legendgroup": "",
         "marker": {
          "color": [
           378925,
           263111,
           174939,
           84523
          ],
          "coloraxis": "coloraxis",
          "pattern": {
           "shape": ""
          }
         },
         "name": "",
         "offsetgroup": "",
         "orientation": "v",
         "showlegend": false,
         "textposition": "auto",
         "type": "bar",
         "x": [
          1,
          2,
          3,
          4
         ],
         "xaxis": "x",
         "y": [
          4.64,
          4.75,
          4.6,
          4.62
         ],
         "yaxis": "y"
        },
        {
         "mode": "lines+markers",
         "showlegend": false,
         "type": "scatter",
         "x": [
          1,
          2,
          3,
          4
         ],
         "y": [
          4.64,
          4.685078796204574,
          4.666860858655405,
          4.662467260049385
         ]
        }
       ],
       "layout": {
        "barmode": "relative",
        "coloraxis": {
         "colorbar": {
          "title": {
           "text": "Number<br>of ratings"
          }
         },
         "colorscale": [
          [
           0,
           "rgb(209, 238, 234)"
          ],
          [
           0.16666666666666666,
           "rgb(168, 219, 217)"
          ],
          [
           0.3333333333333333,
           "rgb(133, 196, 201)"
          ],
          [
           0.5,
           "rgb(104, 171, 184)"
          ],
          [
           0.6666666666666666,
           "rgb(79, 144, 166)"
          ],
          [
           0.8333333333333334,
           "rgb(59, 115, 143)"
          ],
          [
           1,
           "rgb(42, 86, 116)"
          ]
         ]
        },
        "height": 300,
        "legend": {
         "tracegroupgap": 0
        },
        "margin": {
         "t": 60
        },
        "template": {
         "data": {
          "bar": [
           {
            "error_x": {
             "color": "#2a3f5f"
            },
            "error_y": {
             "color": "#2a3f5f"
            },
            "marker": {
             "line": {
              "color": "white",
              "width": 0.5
             },
             "pattern": {
              "fillmode": "overlay",
              "size": 10,
              "solidity": 0.2
             }
            },
            "type": "bar"
           }
          ],
          "barpolar": [
           {
            "marker": {
             "line": {
              "color": "white",
              "width": 0.5
             },
             "pattern": {
              "fillmode": "overlay",
              "size": 10,
              "solidity": 0.2
             }
            },
            "type": "barpolar"
           }
          ],
          "carpet": [
           {
            "aaxis": {
             "endlinecolor": "#2a3f5f",
             "gridcolor": "#C8D4E3",
             "linecolor": "#C8D4E3",
             "minorgridcolor": "#C8D4E3",
             "startlinecolor": "#2a3f5f"
            },
            "baxis": {
             "endlinecolor": "#2a3f5f",
             "gridcolor": "#C8D4E3",
             "linecolor": "#C8D4E3",
             "minorgridcolor": "#C8D4E3",
             "startlinecolor": "#2a3f5f"
            },
            "type": "carpet"
           }
          ],
          "choropleth": [
           {
            "colorbar": {
             "outlinewidth": 0,
             "ticks": ""
            },
            "type": "choropleth"
           }
          ],
          "contour": [
           {
            "colorbar": {
             "outlinewidth": 0,
             "ticks": ""
            },
            "colorscale": [
             [
              0,
              "#0d0887"
             ],
             [
              0.1111111111111111,
              "#46039f"
             ],
             [
              0.2222222222222222,
              "#7201a8"
             ],
             [
              0.3333333333333333,
              "#9c179e"
             ],
             [
              0.4444444444444444,
              "#bd3786"
             ],
             [
              0.5555555555555556,
              "#d8576b"
             ],
             [
              0.6666666666666666,
              "#ed7953"
             ],
             [
              0.7777777777777778,
              "#fb9f3a"
             ],
             [
              0.8888888888888888,
              "#fdca26"
             ],
             [
              1,
              "#f0f921"
             ]
            ],
            "type": "contour"
           }
          ],
          "contourcarpet": [
           {
            "colorbar": {
             "outlinewidth": 0,
             "ticks": ""
            },
            "type": "contourcarpet"
           }
          ],
          "heatmap": [
           {
            "colorbar": {
             "outlinewidth": 0,
             "ticks": ""
            },
            "colorscale": [
             [
              0,
              "#0d0887"
             ],
             [
              0.1111111111111111,
              "#46039f"
             ],
             [
              0.2222222222222222,
              "#7201a8"
             ],
             [
              0.3333333333333333,
              "#9c179e"
             ],
             [
              0.4444444444444444,
              "#bd3786"
             ],
             [
              0.5555555555555556,
              "#d8576b"
             ],
             [
              0.6666666666666666,
              "#ed7953"
             ],
             [
              0.7777777777777778,
              "#fb9f3a"
             ],
             [
              0.8888888888888888,
              "#fdca26"
             ],
             [
              1,
              "#f0f921"
             ]
            ],
            "type": "heatmap"
           }
          ],
          "heatmapgl": [
           {
            "colorbar": {
             "outlinewidth": 0,
             "ticks": ""
            },
            "colorscale": [
             [
              0,
              "#0d0887"
             ],
             [
              0.1111111111111111,
              "#46039f"
             ],
             [
              0.2222222222222222,
              "#7201a8"
             ],
             [
              0.3333333333333333,
              "#9c179e"
             ],
             [
              0.4444444444444444,
              "#bd3786"
             ],
             [
              0.5555555555555556,
              "#d8576b"
             ],
             [
              0.6666666666666666,
              "#ed7953"
             ],
             [
              0.7777777777777778,
              "#fb9f3a"
             ],
             [
              0.8888888888888888,
              "#fdca26"
             ],
             [
              1,
              "#f0f921"
             ]
            ],
            "type": "heatmapgl"
           }
          ],
          "histogram": [
           {
            "marker": {
             "pattern": {
              "fillmode": "overlay",
              "size": 10,
              "solidity": 0.2
             }
            },
            "type": "histogram"
           }
          ],
          "histogram2d": [
           {
            "colorbar": {
             "outlinewidth": 0,
             "ticks": ""
            },
            "colorscale": [
             [
              0,
              "#0d0887"
             ],
             [
              0.1111111111111111,
              "#46039f"
             ],
             [
              0.2222222222222222,
              "#7201a8"
             ],
             [
              0.3333333333333333,
              "#9c179e"
             ],
             [
              0.4444444444444444,
              "#bd3786"
             ],
             [
              0.5555555555555556,
              "#d8576b"
             ],
             [
              0.6666666666666666,
              "#ed7953"
             ],
             [
              0.7777777777777778,
              "#fb9f3a"
             ],
             [
              0.8888888888888888,
              "#fdca26"
             ],
             [
              1,
              "#f0f921"
             ]
            ],
            "type": "histogram2d"
           }
          ],
          "histogram2dcontour": [
           {
            "colorbar": {
             "outlinewidth": 0,
             "ticks": ""
            },
            "colorscale": [
             [
              0,
              "#0d0887"
             ],
             [
              0.1111111111111111,
              "#46039f"
             ],
             [
              0.2222222222222222,
              "#7201a8"
             ],
             [
              0.3333333333333333,
              "#9c179e"
             ],
             [
              0.4444444444444444,
              "#bd3786"
             ],
             [
              0.5555555555555556,
              "#d8576b"
             ],
             [
              0.6666666666666666,
              "#ed7953"
             ],
             [
              0.7777777777777778,
              "#fb9f3a"
             ],
             [
              0.8888888888888888,
              "#fdca26"
             ],
             [
              1,
              "#f0f921"
             ]
            ],
            "type": "histogram2dcontour"
           }
          ],
          "mesh3d": [
           {
            "colorbar": {
             "outlinewidth": 0,
             "ticks": ""
            },
            "type": "mesh3d"
           }
          ],
          "parcoords": [
           {
            "line": {
             "colorbar": {
              "outlinewidth": 0,
              "ticks": ""
             }
            },
            "type": "parcoords"
           }
          ],
          "pie": [
           {
            "automargin": true,
            "type": "pie"
           }
          ],
          "scatter": [
           {
            "marker": {
             "colorbar": {
              "outlinewidth": 0,
              "ticks": ""
             }
            },
            "type": "scatter"
           }
          ],
          "scatter3d": [
           {
            "line": {
             "colorbar": {
              "outlinewidth": 0,
              "ticks": ""
             }
            },
            "marker": {
             "colorbar": {
              "outlinewidth": 0,
              "ticks": ""
             }
            },
            "type": "scatter3d"
           }
          ],
          "scattercarpet": [
           {
            "marker": {
             "colorbar": {
              "outlinewidth": 0,
              "ticks": ""
             }
            },
            "type": "scattercarpet"
           }
          ],
          "scattergeo": [
           {
            "marker": {
             "colorbar": {
              "outlinewidth": 0,
              "ticks": ""
             }
            },
            "type": "scattergeo"
           }
          ],
          "scattergl": [
           {
            "marker": {
             "colorbar": {
              "outlinewidth": 0,
              "ticks": ""
             }
            },
            "type": "scattergl"
           }
          ],
          "scattermapbox": [
           {
            "marker": {
             "colorbar": {
              "outlinewidth": 0,
              "ticks": ""
             }
            },
            "type": "scattermapbox"
           }
          ],
          "scatterpolar": [
           {
            "marker": {
             "colorbar": {
              "outlinewidth": 0,
              "ticks": ""
             }
            },
            "type": "scatterpolar"
           }
          ],
          "scatterpolargl": [
           {
            "marker": {
             "colorbar": {
              "outlinewidth": 0,
              "ticks": ""
             }
            },
            "type": "scatterpolargl"
           }
          ],
          "scatterternary": [
           {
            "marker": {
             "colorbar": {
              "outlinewidth": 0,
              "ticks": ""
             }
            },
            "type": "scatterternary"
           }
          ],
          "surface": [
           {
            "colorbar": {
             "outlinewidth": 0,
             "ticks": ""
            },
            "colorscale": [
             [
              0,
              "#0d0887"
             ],
             [
              0.1111111111111111,
              "#46039f"
             ],
             [
              0.2222222222222222,
              "#7201a8"
             ],
             [
              0.3333333333333333,
              "#9c179e"
             ],
             [
              0.4444444444444444,
              "#bd3786"
             ],
             [
              0.5555555555555556,
              "#d8576b"
             ],
             [
              0.6666666666666666,
              "#ed7953"
             ],
             [
              0.7777777777777778,
              "#fb9f3a"
             ],
             [
              0.8888888888888888,
              "#fdca26"
             ],
             [
              1,
              "#f0f921"
             ]
            ],
            "type": "surface"
           }
          ],
          "table": [
           {
            "cells": {
             "fill": {
              "color": "#EBF0F8"
             },
             "line": {
              "color": "white"
             }
            },
            "header": {
             "fill": {
              "color": "#C8D4E3"
             },
             "line": {
              "color": "white"
             }
            },
            "type": "table"
           }
          ]
         },
         "layout": {
          "annotationdefaults": {
           "arrowcolor": "#2a3f5f",
           "arrowhead": 0,
           "arrowwidth": 1
          },
          "autotypenumbers": "strict",
          "coloraxis": {
           "colorbar": {
            "outlinewidth": 0,
            "ticks": ""
           }
          },
          "colorscale": {
           "diverging": [
            [
             0,
             "#8e0152"
            ],
            [
             0.1,
             "#c51b7d"
            ],
            [
             0.2,
             "#de77ae"
            ],
            [
             0.3,
             "#f1b6da"
            ],
            [
             0.4,
             "#fde0ef"
            ],
            [
             0.5,
             "#f7f7f7"
            ],
            [
             0.6,
             "#e6f5d0"
            ],
            [
             0.7,
             "#b8e186"
            ],
            [
             0.8,
             "#7fbc41"
            ],
            [
             0.9,
             "#4d9221"
            ],
            [
             1,
             "#276419"
            ]
           ],
           "sequential": [
            [
             0,
             "#0d0887"
            ],
            [
             0.1111111111111111,
             "#46039f"
            ],
            [
             0.2222222222222222,
             "#7201a8"
            ],
            [
             0.3333333333333333,
             "#9c179e"
            ],
            [
             0.4444444444444444,
             "#bd3786"
            ],
            [
             0.5555555555555556,
             "#d8576b"
            ],
            [
             0.6666666666666666,
             "#ed7953"
            ],
            [
             0.7777777777777778,
             "#fb9f3a"
            ],
            [
             0.8888888888888888,
             "#fdca26"
            ],
            [
             1,
             "#f0f921"
            ]
           ],
           "sequentialminus": [
            [
             0,
             "#0d0887"
            ],
            [
             0.1111111111111111,
             "#46039f"
            ],
            [
             0.2222222222222222,
             "#7201a8"
            ],
            [
             0.3333333333333333,
             "#9c179e"
            ],
            [
             0.4444444444444444,
             "#bd3786"
            ],
            [
             0.5555555555555556,
             "#d8576b"
            ],
            [
             0.6666666666666666,
             "#ed7953"
            ],
            [
             0.7777777777777778,
             "#fb9f3a"
            ],
            [
             0.8888888888888888,
             "#fdca26"
            ],
            [
             1,
             "#f0f921"
            ]
           ]
          },
          "colorway": [
           "#636efa",
           "#EF553B",
           "#00cc96",
           "#ab63fa",
           "#FFA15A",
           "#19d3f3",
           "#FF6692",
           "#B6E880",
           "#FF97FF",
           "#FECB52"
          ],
          "font": {
           "color": "#2a3f5f"
          },
          "geo": {
           "bgcolor": "white",
           "lakecolor": "white",
           "landcolor": "white",
           "showlakes": true,
           "showland": true,
           "subunitcolor": "#C8D4E3"
          },
          "hoverlabel": {
           "align": "left"
          },
          "hovermode": "closest",
          "mapbox": {
           "style": "light"
          },
          "paper_bgcolor": "white",
          "plot_bgcolor": "white",
          "polar": {
           "angularaxis": {
            "gridcolor": "#EBF0F8",
            "linecolor": "#EBF0F8",
            "ticks": ""
           },
           "bgcolor": "white",
           "radialaxis": {
            "gridcolor": "#EBF0F8",
            "linecolor": "#EBF0F8",
            "ticks": ""
           }
          },
          "scene": {
           "xaxis": {
            "backgroundcolor": "white",
            "gridcolor": "#DFE8F3",
            "gridwidth": 2,
            "linecolor": "#EBF0F8",
            "showbackground": true,
            "ticks": "",
            "zerolinecolor": "#EBF0F8"
           },
           "yaxis": {
            "backgroundcolor": "white",
            "gridcolor": "#DFE8F3",
            "gridwidth": 2,
            "linecolor": "#EBF0F8",
            "showbackground": true,
            "ticks": "",
            "zerolinecolor": "#EBF0F8"
           },
           "zaxis": {
            "backgroundcolor": "white",
            "gridcolor": "#DFE8F3",
            "gridwidth": 2,
            "linecolor": "#EBF0F8",
            "showbackground": true,
            "ticks": "",
            "zerolinecolor": "#EBF0F8"
           }
          },
          "shapedefaults": {
           "line": {
            "color": "#2a3f5f"
           }
          },
          "ternary": {
           "aaxis": {
            "gridcolor": "#DFE8F3",
            "linecolor": "#A2B1C6",
            "ticks": ""
           },
           "baxis": {
            "gridcolor": "#DFE8F3",
            "linecolor": "#A2B1C6",
            "ticks": ""
           },
           "bgcolor": "white",
           "caxis": {
            "gridcolor": "#DFE8F3",
            "linecolor": "#A2B1C6",
            "ticks": ""
           }
          },
          "title": {
           "x": 0.05
          },
          "xaxis": {
           "automargin": true,
           "gridcolor": "#EBF0F8",
           "linecolor": "black",
           "mirror": true,
           "showline": true,
           "ticks": "outside",
           "title": {
            "standoff": 15
           },
           "zerolinecolor": "#EBF0F8",
           "zerolinewidth": 2
          },
          "yaxis": {
           "automargin": true,
           "gridcolor": "#EBF0F8",
           "linecolor": "black",
           "mirror": true,
           "showline": true,
           "ticks": "outside",
           "title": {
            "standoff": 15
           },
           "zerolinecolor": "#EBF0F8",
           "zerolinewidth": 2
          }
         }
        },
        "title": {
         "text": "The Stormlight Archive"
        },
        "width": 600,
        "xaxis": {
         "anchor": "y",
         "domain": [
          0,
          1
         ],
         "title": {
          "text": "Series Volume"
         },
         "type": "category"
        },
        "yaxis": {
         "anchor": "x",
         "domain": [
          0,
          1
         ],
         "range": [
          1,
          5
         ],
         "title": {
          "text": "Average rating"
         }
        }
       }
      }
     },
     "metadata": {},
     "output_type": "display_data"
    }
   ],
   "source": [
    "fig_stormlight.update_layout(\n",
    "    xaxis = {'type':'category'}\n",
    ")"
   ]
  },
  {
   "cell_type": "markdown",
   "metadata": {},
   "source": [
    "#### Example 2.2 Facetted barplot\n",
    "The easiest option would be to specify `facet_row` instead of `facet_col`. That way, we would not have to specify `facet_col_wrap=1` (only one chart per row/the `width` of each column is only 1 chart). But when we use `facet_row` the title of each subplot appears to the left and rotated 90 degrees. Using `facet_col`+`facet_col_wrap=1` is a trick to easily get the title on top."
   ]
  },
  {
   "cell_type": "code",
   "execution_count": 63,
   "metadata": {},
   "outputs": [
    {
     "data": {
      "application/vnd.plotly.v1+json": {
       "config": {
        "plotlyServerURL": "https://plot.ly"
       },
       "data": [
        {
         "alignmentgroup": "True",
         "customdata": [
          [
           "The Final Empire",
           506701,
           4.46
          ],
          [
           "The Well of Ascension",
           351248,
           4.423153614026008
          ],
          [
           "The Hero of Ages",
           323920,
           4.444215238744734
          ],
          [
           "The Alloy of Law",
           165193,
           4.415492939448964
          ],
          [
           "Shadows of Self",
           105732,
           4.406359766078329
          ],
          [
           "The Bands of Mourning",
           94533,
           4.406582163951124
          ],
          [
           "The Lost Metal",
           1725,
           4.406519154941216
          ]
         ],
         "hovertemplate": "series_name=The Mistborn Saga<br>series_n=%{x}<br>average_rating=%{y}<br>title=%{customdata[0]}<br>num_ratings=%{marker.color}<br>hist_rating=%{customdata[2]}<extra></extra>",
         "legendgroup": "",
         "marker": {
          "color": [
           506701,
           351248,
           323920,
           165193,
           105732,
           94533,
           1725
          ],
          "coloraxis": "coloraxis",
          "pattern": {
           "shape": ""
          }
         },
         "name": "",
         "offsetgroup": "",
         "orientation": "v",
         "showlegend": false,
         "textposition": "auto",
         "type": "bar",
         "x": [
          1,
          2,
          3,
          4,
          5,
          6,
          7
         ],
         "xaxis": "x5",
         "y": [
          4.46,
          4.37,
          4.5,
          4.21,
          4.29,
          4.41,
          4.35
         ],
         "yaxis": "y5"
        },
        {
         "alignmentgroup": "True",
         "customdata": [
          [
           "The Way of Kings",
           378925,
           4.64
          ],
          [
           "Words of Radiance",
           263111,
           4.685078796204574
          ],
          [
           "Oathbringer",
           174939,
           4.666860858655405
          ],
          [
           "Rhythm of War",
           84523,
           4.662467260049385
          ]
         ],
         "hovertemplate": "series_name=The Stormlight Archive<br>series_n=%{x}<br>average_rating=%{y}<br>title=%{customdata[0]}<br>num_ratings=%{marker.color}<br>hist_rating=%{customdata[2]}<extra></extra>",
         "legendgroup": "",
         "marker": {
          "color": [
           378925,
           263111,
           174939,
           84523
          ],
          "coloraxis": "coloraxis",
          "pattern": {
           "shape": ""
          }
         },
         "name": "",
         "offsetgroup": "",
         "orientation": "v",
         "showlegend": false,
         "textposition": "auto",
         "type": "bar",
         "x": [
          1,
          2,
          3,
          4
         ],
         "xaxis": "x4",
         "y": [
          4.64,
          4.75,
          4.6,
          4.62
         ],
         "yaxis": "y4"
        },
        {
         "alignmentgroup": "True",
         "customdata": [
          [
           "Warbreaker",
           149065,
           4.29
          ],
          [
           "Nightblood",
           166,
           4.289977752611723
          ]
         ],
         "hovertemplate": "series_name=Warbreaker<br>series_n=%{x}<br>average_rating=%{y}<br>title=%{customdata[0]}<br>num_ratings=%{marker.color}<br>hist_rating=%{customdata[2]}<extra></extra>",
         "legendgroup": "",
         "marker": {
          "color": [
           149065,
           166
          ],
          "coloraxis": "coloraxis",
          "pattern": {
           "shape": ""
          }
         },
         "name": "",
         "offsetgroup": "",
         "orientation": "v",
         "showlegend": false,
         "textposition": "auto",
         "type": "bar",
         "x": [
          1,
          2
         ],
         "xaxis": "x3",
         "y": [
          4.29,
          4.27
         ],
         "yaxis": "y3"
        },
        {
         "alignmentgroup": "True",
         "customdata": [
          [
           "Skyward",
           100952,
           4.5
          ],
          [
           "Starsight",
           62540,
           4.4655726274068455
          ],
          [
           "Cytonic",
           21546,
           4.425333823322777
          ],
          [
           "Defiant",
           49,
           4.425382711913857
          ]
         ],
         "hovertemplate": "series_name=Skyward<br>series_n=%{x}<br>average_rating=%{y}<br>title=%{customdata[0]}<br>num_ratings=%{marker.color}<br>hist_rating=%{customdata[2]}<extra></extra>",
         "legendgroup": "",
         "marker": {
          "color": [
           100952,
           62540,
           21546,
           49
          ],
          "coloraxis": "coloraxis",
          "pattern": {
           "shape": ""
          }
         },
         "name": "",
         "offsetgroup": "",
         "orientation": "v",
         "showlegend": false,
         "textposition": "auto",
         "type": "bar",
         "x": [
          1,
          2,
          3,
          4
         ],
         "xaxis": "x2",
         "y": [
          4.5,
          4.41,
          4.12,
          4.61
         ],
         "yaxis": "y2"
        },
        {
         "alignmentgroup": "True",
         "customdata": [
          [
           "Steelheart",
           166384,
           4.14
          ],
          [
           "Firefight",
           90993,
           4.182424769890083
          ],
          [
           "Calamity",
           70664,
           4.18405656609997
          ],
          [
           "Lux",
           1818,
           4.182876804937868
          ]
         ],
         "hovertemplate": "series_name=The Reckoners<br>series_n=%{x}<br>average_rating=%{y}<br>title=%{customdata[0]}<br>num_ratings=%{marker.color}<br>hist_rating=%{customdata[2]}<extra></extra>",
         "legendgroup": "",
         "marker": {
          "color": [
           166384,
           90993,
           70664,
           1818
          ],
          "coloraxis": "coloraxis",
          "pattern": {
           "shape": ""
          }
         },
         "name": "",
         "offsetgroup": "",
         "orientation": "v",
         "showlegend": false,
         "textposition": "auto",
         "type": "bar",
         "x": [
          1,
          2,
          3,
          4
         ],
         "xaxis": "x",
         "y": [
          4.14,
          4.26,
          4.19,
          3.97
         ],
         "yaxis": "y"
        }
       ],
       "layout": {
        "annotations": [
         {
          "font": {},
          "showarrow": false,
          "text": "series_name=The Reckoners",
          "x": 0.5,
          "xanchor": "center",
          "xref": "paper",
          "y": 0.144,
          "yanchor": "bottom",
          "yref": "paper"
         },
         {
          "font": {},
          "showarrow": false,
          "text": "series_name=Skyward",
          "x": 0.5,
          "xanchor": "center",
          "xref": "paper",
          "y": 0.358,
          "yanchor": "bottom",
          "yref": "paper"
         },
         {
          "font": {},
          "showarrow": false,
          "text": "series_name=Warbreaker",
          "x": 0.5,
          "xanchor": "center",
          "xref": "paper",
          "y": 0.572,
          "yanchor": "bottom",
          "yref": "paper"
         },
         {
          "font": {},
          "showarrow": false,
          "text": "series_name=The Stormlight Archive",
          "x": 0.5,
          "xanchor": "center",
          "xref": "paper",
          "y": 0.7859999999999999,
          "yanchor": "bottom",
          "yref": "paper"
         },
         {
          "font": {},
          "showarrow": false,
          "text": "series_name=The Mistborn Saga",
          "x": 0.5,
          "xanchor": "center",
          "xref": "paper",
          "y": 1,
          "yanchor": "bottom",
          "yref": "paper"
         }
        ],
        "barmode": "relative",
        "coloraxis": {
         "colorbar": {
          "title": {
           "text": "num_ratings"
          }
         },
         "colorscale": [
          [
           0,
           "rgb(209, 238, 234)"
          ],
          [
           0.16666666666666666,
           "rgb(168, 219, 217)"
          ],
          [
           0.3333333333333333,
           "rgb(133, 196, 201)"
          ],
          [
           0.5,
           "rgb(104, 171, 184)"
          ],
          [
           0.6666666666666666,
           "rgb(79, 144, 166)"
          ],
          [
           0.8333333333333334,
           "rgb(59, 115, 143)"
          ],
          [
           1,
           "rgb(42, 86, 116)"
          ]
         ]
        },
        "height": 700,
        "legend": {
         "tracegroupgap": 0
        },
        "margin": {
         "t": 60
        },
        "template": {
         "data": {
          "bar": [
           {
            "error_x": {
             "color": "#2a3f5f"
            },
            "error_y": {
             "color": "#2a3f5f"
            },
            "marker": {
             "line": {
              "color": "#E5ECF6",
              "width": 0.5
             },
             "pattern": {
              "fillmode": "overlay",
              "size": 10,
              "solidity": 0.2
             }
            },
            "type": "bar"
           }
          ],
          "barpolar": [
           {
            "marker": {
             "line": {
              "color": "#E5ECF6",
              "width": 0.5
             },
             "pattern": {
              "fillmode": "overlay",
              "size": 10,
              "solidity": 0.2
             }
            },
            "type": "barpolar"
           }
          ],
          "carpet": [
           {
            "aaxis": {
             "endlinecolor": "#2a3f5f",
             "gridcolor": "white",
             "linecolor": "white",
             "minorgridcolor": "white",
             "startlinecolor": "#2a3f5f"
            },
            "baxis": {
             "endlinecolor": "#2a3f5f",
             "gridcolor": "white",
             "linecolor": "white",
             "minorgridcolor": "white",
             "startlinecolor": "#2a3f5f"
            },
            "type": "carpet"
           }
          ],
          "choropleth": [
           {
            "colorbar": {
             "outlinewidth": 0,
             "ticks": ""
            },
            "type": "choropleth"
           }
          ],
          "contour": [
           {
            "colorbar": {
             "outlinewidth": 0,
             "ticks": ""
            },
            "colorscale": [
             [
              0,
              "#0d0887"
             ],
             [
              0.1111111111111111,
              "#46039f"
             ],
             [
              0.2222222222222222,
              "#7201a8"
             ],
             [
              0.3333333333333333,
              "#9c179e"
             ],
             [
              0.4444444444444444,
              "#bd3786"
             ],
             [
              0.5555555555555556,
              "#d8576b"
             ],
             [
              0.6666666666666666,
              "#ed7953"
             ],
             [
              0.7777777777777778,
              "#fb9f3a"
             ],
             [
              0.8888888888888888,
              "#fdca26"
             ],
             [
              1,
              "#f0f921"
             ]
            ],
            "type": "contour"
           }
          ],
          "contourcarpet": [
           {
            "colorbar": {
             "outlinewidth": 0,
             "ticks": ""
            },
            "type": "contourcarpet"
           }
          ],
          "heatmap": [
           {
            "colorbar": {
             "outlinewidth": 0,
             "ticks": ""
            },
            "colorscale": [
             [
              0,
              "#0d0887"
             ],
             [
              0.1111111111111111,
              "#46039f"
             ],
             [
              0.2222222222222222,
              "#7201a8"
             ],
             [
              0.3333333333333333,
              "#9c179e"
             ],
             [
              0.4444444444444444,
              "#bd3786"
             ],
             [
              0.5555555555555556,
              "#d8576b"
             ],
             [
              0.6666666666666666,
              "#ed7953"
             ],
             [
              0.7777777777777778,
              "#fb9f3a"
             ],
             [
              0.8888888888888888,
              "#fdca26"
             ],
             [
              1,
              "#f0f921"
             ]
            ],
            "type": "heatmap"
           }
          ],
          "heatmapgl": [
           {
            "colorbar": {
             "outlinewidth": 0,
             "ticks": ""
            },
            "colorscale": [
             [
              0,
              "#0d0887"
             ],
             [
              0.1111111111111111,
              "#46039f"
             ],
             [
              0.2222222222222222,
              "#7201a8"
             ],
             [
              0.3333333333333333,
              "#9c179e"
             ],
             [
              0.4444444444444444,
              "#bd3786"
             ],
             [
              0.5555555555555556,
              "#d8576b"
             ],
             [
              0.6666666666666666,
              "#ed7953"
             ],
             [
              0.7777777777777778,
              "#fb9f3a"
             ],
             [
              0.8888888888888888,
              "#fdca26"
             ],
             [
              1,
              "#f0f921"
             ]
            ],
            "type": "heatmapgl"
           }
          ],
          "histogram": [
           {
            "marker": {
             "pattern": {
              "fillmode": "overlay",
              "size": 10,
              "solidity": 0.2
             }
            },
            "type": "histogram"
           }
          ],
          "histogram2d": [
           {
            "colorbar": {
             "outlinewidth": 0,
             "ticks": ""
            },
            "colorscale": [
             [
              0,
              "#0d0887"
             ],
             [
              0.1111111111111111,
              "#46039f"
             ],
             [
              0.2222222222222222,
              "#7201a8"
             ],
             [
              0.3333333333333333,
              "#9c179e"
             ],
             [
              0.4444444444444444,
              "#bd3786"
             ],
             [
              0.5555555555555556,
              "#d8576b"
             ],
             [
              0.6666666666666666,
              "#ed7953"
             ],
             [
              0.7777777777777778,
              "#fb9f3a"
             ],
             [
              0.8888888888888888,
              "#fdca26"
             ],
             [
              1,
              "#f0f921"
             ]
            ],
            "type": "histogram2d"
           }
          ],
          "histogram2dcontour": [
           {
            "colorbar": {
             "outlinewidth": 0,
             "ticks": ""
            },
            "colorscale": [
             [
              0,
              "#0d0887"
             ],
             [
              0.1111111111111111,
              "#46039f"
             ],
             [
              0.2222222222222222,
              "#7201a8"
             ],
             [
              0.3333333333333333,
              "#9c179e"
             ],
             [
              0.4444444444444444,
              "#bd3786"
             ],
             [
              0.5555555555555556,
              "#d8576b"
             ],
             [
              0.6666666666666666,
              "#ed7953"
             ],
             [
              0.7777777777777778,
              "#fb9f3a"
             ],
             [
              0.8888888888888888,
              "#fdca26"
             ],
             [
              1,
              "#f0f921"
             ]
            ],
            "type": "histogram2dcontour"
           }
          ],
          "mesh3d": [
           {
            "colorbar": {
             "outlinewidth": 0,
             "ticks": ""
            },
            "type": "mesh3d"
           }
          ],
          "parcoords": [
           {
            "line": {
             "colorbar": {
              "outlinewidth": 0,
              "ticks": ""
             }
            },
            "type": "parcoords"
           }
          ],
          "pie": [
           {
            "automargin": true,
            "type": "pie"
           }
          ],
          "scatter": [
           {
            "marker": {
             "colorbar": {
              "outlinewidth": 0,
              "ticks": ""
             }
            },
            "type": "scatter"
           }
          ],
          "scatter3d": [
           {
            "line": {
             "colorbar": {
              "outlinewidth": 0,
              "ticks": ""
             }
            },
            "marker": {
             "colorbar": {
              "outlinewidth": 0,
              "ticks": ""
             }
            },
            "type": "scatter3d"
           }
          ],
          "scattercarpet": [
           {
            "marker": {
             "colorbar": {
              "outlinewidth": 0,
              "ticks": ""
             }
            },
            "type": "scattercarpet"
           }
          ],
          "scattergeo": [
           {
            "marker": {
             "colorbar": {
              "outlinewidth": 0,
              "ticks": ""
             }
            },
            "type": "scattergeo"
           }
          ],
          "scattergl": [
           {
            "marker": {
             "colorbar": {
              "outlinewidth": 0,
              "ticks": ""
             }
            },
            "type": "scattergl"
           }
          ],
          "scattermapbox": [
           {
            "marker": {
             "colorbar": {
              "outlinewidth": 0,
              "ticks": ""
             }
            },
            "type": "scattermapbox"
           }
          ],
          "scatterpolar": [
           {
            "marker": {
             "colorbar": {
              "outlinewidth": 0,
              "ticks": ""
             }
            },
            "type": "scatterpolar"
           }
          ],
          "scatterpolargl": [
           {
            "marker": {
             "colorbar": {
              "outlinewidth": 0,
              "ticks": ""
             }
            },
            "type": "scatterpolargl"
           }
          ],
          "scatterternary": [
           {
            "marker": {
             "colorbar": {
              "outlinewidth": 0,
              "ticks": ""
             }
            },
            "type": "scatterternary"
           }
          ],
          "surface": [
           {
            "colorbar": {
             "outlinewidth": 0,
             "ticks": ""
            },
            "colorscale": [
             [
              0,
              "#0d0887"
             ],
             [
              0.1111111111111111,
              "#46039f"
             ],
             [
              0.2222222222222222,
              "#7201a8"
             ],
             [
              0.3333333333333333,
              "#9c179e"
             ],
             [
              0.4444444444444444,
              "#bd3786"
             ],
             [
              0.5555555555555556,
              "#d8576b"
             ],
             [
              0.6666666666666666,
              "#ed7953"
             ],
             [
              0.7777777777777778,
              "#fb9f3a"
             ],
             [
              0.8888888888888888,
              "#fdca26"
             ],
             [
              1,
              "#f0f921"
             ]
            ],
            "type": "surface"
           }
          ],
          "table": [
           {
            "cells": {
             "fill": {
              "color": "#EBF0F8"
             },
             "line": {
              "color": "white"
             }
            },
            "header": {
             "fill": {
              "color": "#C8D4E3"
             },
             "line": {
              "color": "white"
             }
            },
            "type": "table"
           }
          ]
         },
         "layout": {
          "annotationdefaults": {
           "arrowcolor": "#2a3f5f",
           "arrowhead": 0,
           "arrowwidth": 1
          },
          "autotypenumbers": "strict",
          "coloraxis": {
           "colorbar": {
            "outlinewidth": 0,
            "ticks": ""
           }
          },
          "colorscale": {
           "diverging": [
            [
             0,
             "#8e0152"
            ],
            [
             0.1,
             "#c51b7d"
            ],
            [
             0.2,
             "#de77ae"
            ],
            [
             0.3,
             "#f1b6da"
            ],
            [
             0.4,
             "#fde0ef"
            ],
            [
             0.5,
             "#f7f7f7"
            ],
            [
             0.6,
             "#e6f5d0"
            ],
            [
             0.7,
             "#b8e186"
            ],
            [
             0.8,
             "#7fbc41"
            ],
            [
             0.9,
             "#4d9221"
            ],
            [
             1,
             "#276419"
            ]
           ],
           "sequential": [
            [
             0,
             "#0d0887"
            ],
            [
             0.1111111111111111,
             "#46039f"
            ],
            [
             0.2222222222222222,
             "#7201a8"
            ],
            [
             0.3333333333333333,
             "#9c179e"
            ],
            [
             0.4444444444444444,
             "#bd3786"
            ],
            [
             0.5555555555555556,
             "#d8576b"
            ],
            [
             0.6666666666666666,
             "#ed7953"
            ],
            [
             0.7777777777777778,
             "#fb9f3a"
            ],
            [
             0.8888888888888888,
             "#fdca26"
            ],
            [
             1,
             "#f0f921"
            ]
           ],
           "sequentialminus": [
            [
             0,
             "#0d0887"
            ],
            [
             0.1111111111111111,
             "#46039f"
            ],
            [
             0.2222222222222222,
             "#7201a8"
            ],
            [
             0.3333333333333333,
             "#9c179e"
            ],
            [
             0.4444444444444444,
             "#bd3786"
            ],
            [
             0.5555555555555556,
             "#d8576b"
            ],
            [
             0.6666666666666666,
             "#ed7953"
            ],
            [
             0.7777777777777778,
             "#fb9f3a"
            ],
            [
             0.8888888888888888,
             "#fdca26"
            ],
            [
             1,
             "#f0f921"
            ]
           ]
          },
          "colorway": [
           "#636efa",
           "#EF553B",
           "#00cc96",
           "#ab63fa",
           "#FFA15A",
           "#19d3f3",
           "#FF6692",
           "#B6E880",
           "#FF97FF",
           "#FECB52"
          ],
          "font": {
           "color": "#2a3f5f"
          },
          "geo": {
           "bgcolor": "white",
           "lakecolor": "white",
           "landcolor": "#E5ECF6",
           "showlakes": true,
           "showland": true,
           "subunitcolor": "white"
          },
          "hoverlabel": {
           "align": "left"
          },
          "hovermode": "closest",
          "mapbox": {
           "style": "light"
          },
          "paper_bgcolor": "white",
          "plot_bgcolor": "#E5ECF6",
          "polar": {
           "angularaxis": {
            "gridcolor": "white",
            "linecolor": "white",
            "ticks": ""
           },
           "bgcolor": "#E5ECF6",
           "radialaxis": {
            "gridcolor": "white",
            "linecolor": "white",
            "ticks": ""
           }
          },
          "scene": {
           "xaxis": {
            "backgroundcolor": "#E5ECF6",
            "gridcolor": "white",
            "gridwidth": 2,
            "linecolor": "white",
            "showbackground": true,
            "ticks": "",
            "zerolinecolor": "white"
           },
           "yaxis": {
            "backgroundcolor": "#E5ECF6",
            "gridcolor": "white",
            "gridwidth": 2,
            "linecolor": "white",
            "showbackground": true,
            "ticks": "",
            "zerolinecolor": "white"
           },
           "zaxis": {
            "backgroundcolor": "#E5ECF6",
            "gridcolor": "white",
            "gridwidth": 2,
            "linecolor": "white",
            "showbackground": true,
            "ticks": "",
            "zerolinecolor": "white"
           }
          },
          "shapedefaults": {
           "line": {
            "color": "#2a3f5f"
           }
          },
          "ternary": {
           "aaxis": {
            "gridcolor": "white",
            "linecolor": "white",
            "ticks": ""
           },
           "baxis": {
            "gridcolor": "white",
            "linecolor": "white",
            "ticks": ""
           },
           "bgcolor": "#E5ECF6",
           "caxis": {
            "gridcolor": "white",
            "linecolor": "white",
            "ticks": ""
           }
          },
          "title": {
           "x": 0.05
          },
          "xaxis": {
           "automargin": true,
           "gridcolor": "white",
           "linecolor": "white",
           "ticks": "",
           "title": {
            "standoff": 15
           },
           "zerolinecolor": "white",
           "zerolinewidth": 2
          },
          "yaxis": {
           "automargin": true,
           "gridcolor": "white",
           "linecolor": "white",
           "ticks": "",
           "title": {
            "standoff": 15
           },
           "zerolinecolor": "white",
           "zerolinewidth": 2
          }
         }
        },
        "width": 600,
        "xaxis": {
         "anchor": "y",
         "domain": [
          0,
          1
         ],
         "title": {
          "text": "series_n"
         }
        },
        "xaxis2": {
         "anchor": "y2",
         "domain": [
          0,
          1
         ],
         "matches": "x",
         "showticklabels": false
        },
        "xaxis3": {
         "anchor": "y3",
         "domain": [
          0,
          1
         ],
         "matches": "x",
         "showticklabels": false
        },
        "xaxis4": {
         "anchor": "y4",
         "domain": [
          0,
          1
         ],
         "matches": "x",
         "showticklabels": false
        },
        "xaxis5": {
         "anchor": "y5",
         "domain": [
          0,
          1
         ],
         "matches": "x",
         "showticklabels": false
        },
        "yaxis": {
         "anchor": "x",
         "domain": [
          0,
          0.144
         ],
         "title": {
          "text": "average_rating"
         }
        },
        "yaxis2": {
         "anchor": "x2",
         "domain": [
          0.214,
          0.358
         ],
         "matches": "y",
         "title": {
          "text": "average_rating"
         }
        },
        "yaxis3": {
         "anchor": "x3",
         "domain": [
          0.428,
          0.572
         ],
         "matches": "y",
         "title": {
          "text": "average_rating"
         }
        },
        "yaxis4": {
         "anchor": "x4",
         "domain": [
          0.6419999999999999,
          0.7859999999999999
         ],
         "matches": "y",
         "title": {
          "text": "average_rating"
         }
        },
        "yaxis5": {
         "anchor": "x5",
         "domain": [
          0.856,
          1
         ],
         "matches": "y",
         "title": {
          "text": "average_rating"
         }
        }
       }
      }
     },
     "metadata": {},
     "output_type": "display_data"
    }
   ],
   "source": [
    "fig_sanderson = px.bar(\n",
    "    sanderson_sagas_df, \n",
    "    x='series_n', y='average_rating', \n",
    "    facet_col='series_name', facet_col_wrap=1,\n",
    "    color = 'num_ratings',\n",
    "    color_continuous_scale = px.colors.sequential.Teal,\n",
    "    hover_data = ['title', 'num_ratings', 'hist_rating'],\n",
    "    width = 600, height = 700)\n",
    "\n",
    "fig_sanderson.show()"
   ]
  },
  {
   "cell_type": "code",
   "execution_count": 64,
   "metadata": {},
   "outputs": [
    {
     "data": {
      "application/vnd.plotly.v1+json": {
       "config": {
        "plotlyServerURL": "https://plot.ly"
       },
       "data": [
        {
         "alignmentgroup": "True",
         "customdata": [
          [
           "The Final Empire",
           506701,
           4.46
          ],
          [
           "The Well of Ascension",
           351248,
           4.423153614026008
          ],
          [
           "The Hero of Ages",
           323920,
           4.444215238744734
          ],
          [
           "The Alloy of Law",
           165193,
           4.415492939448964
          ],
          [
           "Shadows of Self",
           105732,
           4.406359766078329
          ],
          [
           "The Bands of Mourning",
           94533,
           4.406582163951124
          ],
          [
           "The Lost Metal",
           1725,
           4.406519154941216
          ]
         ],
         "hovertemplate": "series_name=The Mistborn Saga<br>series_n=%{x}<br>average_rating=%{y}<br>title=%{customdata[0]}<br>num_ratings=%{marker.color}<br>hist_rating=%{customdata[2]}<extra></extra>",
         "legendgroup": "",
         "marker": {
          "color": [
           506701,
           351248,
           323920,
           165193,
           105732,
           94533,
           1725
          ],
          "coloraxis": "coloraxis",
          "pattern": {
           "shape": ""
          }
         },
         "name": "",
         "offsetgroup": "",
         "orientation": "v",
         "showlegend": false,
         "textposition": "auto",
         "type": "bar",
         "x": [
          1,
          2,
          3,
          4,
          5,
          6,
          7
         ],
         "xaxis": "x5",
         "y": [
          4.46,
          4.37,
          4.5,
          4.21,
          4.29,
          4.41,
          4.35
         ],
         "yaxis": "y5"
        },
        {
         "alignmentgroup": "True",
         "customdata": [
          [
           "The Way of Kings",
           378925,
           4.64
          ],
          [
           "Words of Radiance",
           263111,
           4.685078796204574
          ],
          [
           "Oathbringer",
           174939,
           4.666860858655405
          ],
          [
           "Rhythm of War",
           84523,
           4.662467260049385
          ]
         ],
         "hovertemplate": "series_name=The Stormlight Archive<br>series_n=%{x}<br>average_rating=%{y}<br>title=%{customdata[0]}<br>num_ratings=%{marker.color}<br>hist_rating=%{customdata[2]}<extra></extra>",
         "legendgroup": "",
         "marker": {
          "color": [
           378925,
           263111,
           174939,
           84523
          ],
          "coloraxis": "coloraxis",
          "pattern": {
           "shape": ""
          }
         },
         "name": "",
         "offsetgroup": "",
         "orientation": "v",
         "showlegend": false,
         "textposition": "auto",
         "type": "bar",
         "x": [
          1,
          2,
          3,
          4
         ],
         "xaxis": "x4",
         "y": [
          4.64,
          4.75,
          4.6,
          4.62
         ],
         "yaxis": "y4"
        },
        {
         "alignmentgroup": "True",
         "customdata": [
          [
           "Warbreaker",
           149065,
           4.29
          ],
          [
           "Nightblood",
           166,
           4.289977752611723
          ]
         ],
         "hovertemplate": "series_name=Warbreaker<br>series_n=%{x}<br>average_rating=%{y}<br>title=%{customdata[0]}<br>num_ratings=%{marker.color}<br>hist_rating=%{customdata[2]}<extra></extra>",
         "legendgroup": "",
         "marker": {
          "color": [
           149065,
           166
          ],
          "coloraxis": "coloraxis",
          "pattern": {
           "shape": ""
          }
         },
         "name": "",
         "offsetgroup": "",
         "orientation": "v",
         "showlegend": false,
         "textposition": "auto",
         "type": "bar",
         "x": [
          1,
          2
         ],
         "xaxis": "x3",
         "y": [
          4.29,
          4.27
         ],
         "yaxis": "y3"
        },
        {
         "alignmentgroup": "True",
         "customdata": [
          [
           "Skyward",
           100952,
           4.5
          ],
          [
           "Starsight",
           62540,
           4.4655726274068455
          ],
          [
           "Cytonic",
           21546,
           4.425333823322777
          ],
          [
           "Defiant",
           49,
           4.425382711913857
          ]
         ],
         "hovertemplate": "series_name=Skyward<br>series_n=%{x}<br>average_rating=%{y}<br>title=%{customdata[0]}<br>num_ratings=%{marker.color}<br>hist_rating=%{customdata[2]}<extra></extra>",
         "legendgroup": "",
         "marker": {
          "color": [
           100952,
           62540,
           21546,
           49
          ],
          "coloraxis": "coloraxis",
          "pattern": {
           "shape": ""
          }
         },
         "name": "",
         "offsetgroup": "",
         "orientation": "v",
         "showlegend": false,
         "textposition": "auto",
         "type": "bar",
         "x": [
          1,
          2,
          3,
          4
         ],
         "xaxis": "x2",
         "y": [
          4.5,
          4.41,
          4.12,
          4.61
         ],
         "yaxis": "y2"
        },
        {
         "alignmentgroup": "True",
         "customdata": [
          [
           "Steelheart",
           166384,
           4.14
          ],
          [
           "Firefight",
           90993,
           4.182424769890083
          ],
          [
           "Calamity",
           70664,
           4.18405656609997
          ],
          [
           "Lux",
           1818,
           4.182876804937868
          ]
         ],
         "hovertemplate": "series_name=The Reckoners<br>series_n=%{x}<br>average_rating=%{y}<br>title=%{customdata[0]}<br>num_ratings=%{marker.color}<br>hist_rating=%{customdata[2]}<extra></extra>",
         "legendgroup": "",
         "marker": {
          "color": [
           166384,
           90993,
           70664,
           1818
          ],
          "coloraxis": "coloraxis",
          "pattern": {
           "shape": ""
          }
         },
         "name": "",
         "offsetgroup": "",
         "orientation": "v",
         "showlegend": false,
         "textposition": "auto",
         "type": "bar",
         "x": [
          1,
          2,
          3,
          4
         ],
         "xaxis": "x",
         "y": [
          4.14,
          4.26,
          4.19,
          3.97
         ],
         "yaxis": "y"
        }
       ],
       "layout": {
        "annotations": [
         {
          "font": {},
          "showarrow": false,
          "text": "series_name=The Reckoners",
          "textangle": 90,
          "x": 0.98,
          "xanchor": "left",
          "xref": "paper",
          "y": 0.08800000000000001,
          "yanchor": "middle",
          "yref": "paper"
         },
         {
          "font": {},
          "showarrow": false,
          "text": "series_name=Skyward",
          "textangle": 90,
          "x": 0.98,
          "xanchor": "left",
          "xref": "paper",
          "y": 0.29400000000000004,
          "yanchor": "middle",
          "yref": "paper"
         },
         {
          "font": {},
          "showarrow": false,
          "text": "series_name=Warbreaker",
          "textangle": 90,
          "x": 0.98,
          "xanchor": "left",
          "xref": "paper",
          "y": 0.5,
          "yanchor": "middle",
          "yref": "paper"
         },
         {
          "font": {},
          "showarrow": false,
          "text": "series_name=The Stormlight Archive",
          "textangle": 90,
          "x": 0.98,
          "xanchor": "left",
          "xref": "paper",
          "y": 0.706,
          "yanchor": "middle",
          "yref": "paper"
         },
         {
          "font": {},
          "showarrow": false,
          "text": "series_name=The Mistborn Saga",
          "textangle": 90,
          "x": 0.98,
          "xanchor": "left",
          "xref": "paper",
          "y": 0.912,
          "yanchor": "middle",
          "yref": "paper"
         }
        ],
        "barmode": "relative",
        "coloraxis": {
         "colorbar": {
          "title": {
           "text": "num_ratings"
          }
         },
         "colorscale": [
          [
           0,
           "rgb(209, 238, 234)"
          ],
          [
           0.16666666666666666,
           "rgb(168, 219, 217)"
          ],
          [
           0.3333333333333333,
           "rgb(133, 196, 201)"
          ],
          [
           0.5,
           "rgb(104, 171, 184)"
          ],
          [
           0.6666666666666666,
           "rgb(79, 144, 166)"
          ],
          [
           0.8333333333333334,
           "rgb(59, 115, 143)"
          ],
          [
           1,
           "rgb(42, 86, 116)"
          ]
         ]
        },
        "height": 700,
        "legend": {
         "tracegroupgap": 0
        },
        "margin": {
         "t": 60
        },
        "template": {
         "data": {
          "bar": [
           {
            "error_x": {
             "color": "#2a3f5f"
            },
            "error_y": {
             "color": "#2a3f5f"
            },
            "marker": {
             "line": {
              "color": "#E5ECF6",
              "width": 0.5
             },
             "pattern": {
              "fillmode": "overlay",
              "size": 10,
              "solidity": 0.2
             }
            },
            "type": "bar"
           }
          ],
          "barpolar": [
           {
            "marker": {
             "line": {
              "color": "#E5ECF6",
              "width": 0.5
             },
             "pattern": {
              "fillmode": "overlay",
              "size": 10,
              "solidity": 0.2
             }
            },
            "type": "barpolar"
           }
          ],
          "carpet": [
           {
            "aaxis": {
             "endlinecolor": "#2a3f5f",
             "gridcolor": "white",
             "linecolor": "white",
             "minorgridcolor": "white",
             "startlinecolor": "#2a3f5f"
            },
            "baxis": {
             "endlinecolor": "#2a3f5f",
             "gridcolor": "white",
             "linecolor": "white",
             "minorgridcolor": "white",
             "startlinecolor": "#2a3f5f"
            },
            "type": "carpet"
           }
          ],
          "choropleth": [
           {
            "colorbar": {
             "outlinewidth": 0,
             "ticks": ""
            },
            "type": "choropleth"
           }
          ],
          "contour": [
           {
            "colorbar": {
             "outlinewidth": 0,
             "ticks": ""
            },
            "colorscale": [
             [
              0,
              "#0d0887"
             ],
             [
              0.1111111111111111,
              "#46039f"
             ],
             [
              0.2222222222222222,
              "#7201a8"
             ],
             [
              0.3333333333333333,
              "#9c179e"
             ],
             [
              0.4444444444444444,
              "#bd3786"
             ],
             [
              0.5555555555555556,
              "#d8576b"
             ],
             [
              0.6666666666666666,
              "#ed7953"
             ],
             [
              0.7777777777777778,
              "#fb9f3a"
             ],
             [
              0.8888888888888888,
              "#fdca26"
             ],
             [
              1,
              "#f0f921"
             ]
            ],
            "type": "contour"
           }
          ],
          "contourcarpet": [
           {
            "colorbar": {
             "outlinewidth": 0,
             "ticks": ""
            },
            "type": "contourcarpet"
           }
          ],
          "heatmap": [
           {
            "colorbar": {
             "outlinewidth": 0,
             "ticks": ""
            },
            "colorscale": [
             [
              0,
              "#0d0887"
             ],
             [
              0.1111111111111111,
              "#46039f"
             ],
             [
              0.2222222222222222,
              "#7201a8"
             ],
             [
              0.3333333333333333,
              "#9c179e"
             ],
             [
              0.4444444444444444,
              "#bd3786"
             ],
             [
              0.5555555555555556,
              "#d8576b"
             ],
             [
              0.6666666666666666,
              "#ed7953"
             ],
             [
              0.7777777777777778,
              "#fb9f3a"
             ],
             [
              0.8888888888888888,
              "#fdca26"
             ],
             [
              1,
              "#f0f921"
             ]
            ],
            "type": "heatmap"
           }
          ],
          "heatmapgl": [
           {
            "colorbar": {
             "outlinewidth": 0,
             "ticks": ""
            },
            "colorscale": [
             [
              0,
              "#0d0887"
             ],
             [
              0.1111111111111111,
              "#46039f"
             ],
             [
              0.2222222222222222,
              "#7201a8"
             ],
             [
              0.3333333333333333,
              "#9c179e"
             ],
             [
              0.4444444444444444,
              "#bd3786"
             ],
             [
              0.5555555555555556,
              "#d8576b"
             ],
             [
              0.6666666666666666,
              "#ed7953"
             ],
             [
              0.7777777777777778,
              "#fb9f3a"
             ],
             [
              0.8888888888888888,
              "#fdca26"
             ],
             [
              1,
              "#f0f921"
             ]
            ],
            "type": "heatmapgl"
           }
          ],
          "histogram": [
           {
            "marker": {
             "pattern": {
              "fillmode": "overlay",
              "size": 10,
              "solidity": 0.2
             }
            },
            "type": "histogram"
           }
          ],
          "histogram2d": [
           {
            "colorbar": {
             "outlinewidth": 0,
             "ticks": ""
            },
            "colorscale": [
             [
              0,
              "#0d0887"
             ],
             [
              0.1111111111111111,
              "#46039f"
             ],
             [
              0.2222222222222222,
              "#7201a8"
             ],
             [
              0.3333333333333333,
              "#9c179e"
             ],
             [
              0.4444444444444444,
              "#bd3786"
             ],
             [
              0.5555555555555556,
              "#d8576b"
             ],
             [
              0.6666666666666666,
              "#ed7953"
             ],
             [
              0.7777777777777778,
              "#fb9f3a"
             ],
             [
              0.8888888888888888,
              "#fdca26"
             ],
             [
              1,
              "#f0f921"
             ]
            ],
            "type": "histogram2d"
           }
          ],
          "histogram2dcontour": [
           {
            "colorbar": {
             "outlinewidth": 0,
             "ticks": ""
            },
            "colorscale": [
             [
              0,
              "#0d0887"
             ],
             [
              0.1111111111111111,
              "#46039f"
             ],
             [
              0.2222222222222222,
              "#7201a8"
             ],
             [
              0.3333333333333333,
              "#9c179e"
             ],
             [
              0.4444444444444444,
              "#bd3786"
             ],
             [
              0.5555555555555556,
              "#d8576b"
             ],
             [
              0.6666666666666666,
              "#ed7953"
             ],
             [
              0.7777777777777778,
              "#fb9f3a"
             ],
             [
              0.8888888888888888,
              "#fdca26"
             ],
             [
              1,
              "#f0f921"
             ]
            ],
            "type": "histogram2dcontour"
           }
          ],
          "mesh3d": [
           {
            "colorbar": {
             "outlinewidth": 0,
             "ticks": ""
            },
            "type": "mesh3d"
           }
          ],
          "parcoords": [
           {
            "line": {
             "colorbar": {
              "outlinewidth": 0,
              "ticks": ""
             }
            },
            "type": "parcoords"
           }
          ],
          "pie": [
           {
            "automargin": true,
            "type": "pie"
           }
          ],
          "scatter": [
           {
            "marker": {
             "colorbar": {
              "outlinewidth": 0,
              "ticks": ""
             }
            },
            "type": "scatter"
           }
          ],
          "scatter3d": [
           {
            "line": {
             "colorbar": {
              "outlinewidth": 0,
              "ticks": ""
             }
            },
            "marker": {
             "colorbar": {
              "outlinewidth": 0,
              "ticks": ""
             }
            },
            "type": "scatter3d"
           }
          ],
          "scattercarpet": [
           {
            "marker": {
             "colorbar": {
              "outlinewidth": 0,
              "ticks": ""
             }
            },
            "type": "scattercarpet"
           }
          ],
          "scattergeo": [
           {
            "marker": {
             "colorbar": {
              "outlinewidth": 0,
              "ticks": ""
             }
            },
            "type": "scattergeo"
           }
          ],
          "scattergl": [
           {
            "marker": {
             "colorbar": {
              "outlinewidth": 0,
              "ticks": ""
             }
            },
            "type": "scattergl"
           }
          ],
          "scattermapbox": [
           {
            "marker": {
             "colorbar": {
              "outlinewidth": 0,
              "ticks": ""
             }
            },
            "type": "scattermapbox"
           }
          ],
          "scatterpolar": [
           {
            "marker": {
             "colorbar": {
              "outlinewidth": 0,
              "ticks": ""
             }
            },
            "type": "scatterpolar"
           }
          ],
          "scatterpolargl": [
           {
            "marker": {
             "colorbar": {
              "outlinewidth": 0,
              "ticks": ""
             }
            },
            "type": "scatterpolargl"
           }
          ],
          "scatterternary": [
           {
            "marker": {
             "colorbar": {
              "outlinewidth": 0,
              "ticks": ""
             }
            },
            "type": "scatterternary"
           }
          ],
          "surface": [
           {
            "colorbar": {
             "outlinewidth": 0,
             "ticks": ""
            },
            "colorscale": [
             [
              0,
              "#0d0887"
             ],
             [
              0.1111111111111111,
              "#46039f"
             ],
             [
              0.2222222222222222,
              "#7201a8"
             ],
             [
              0.3333333333333333,
              "#9c179e"
             ],
             [
              0.4444444444444444,
              "#bd3786"
             ],
             [
              0.5555555555555556,
              "#d8576b"
             ],
             [
              0.6666666666666666,
              "#ed7953"
             ],
             [
              0.7777777777777778,
              "#fb9f3a"
             ],
             [
              0.8888888888888888,
              "#fdca26"
             ],
             [
              1,
              "#f0f921"
             ]
            ],
            "type": "surface"
           }
          ],
          "table": [
           {
            "cells": {
             "fill": {
              "color": "#EBF0F8"
             },
             "line": {
              "color": "white"
             }
            },
            "header": {
             "fill": {
              "color": "#C8D4E3"
             },
             "line": {
              "color": "white"
             }
            },
            "type": "table"
           }
          ]
         },
         "layout": {
          "annotationdefaults": {
           "arrowcolor": "#2a3f5f",
           "arrowhead": 0,
           "arrowwidth": 1
          },
          "autotypenumbers": "strict",
          "coloraxis": {
           "colorbar": {
            "outlinewidth": 0,
            "ticks": ""
           }
          },
          "colorscale": {
           "diverging": [
            [
             0,
             "#8e0152"
            ],
            [
             0.1,
             "#c51b7d"
            ],
            [
             0.2,
             "#de77ae"
            ],
            [
             0.3,
             "#f1b6da"
            ],
            [
             0.4,
             "#fde0ef"
            ],
            [
             0.5,
             "#f7f7f7"
            ],
            [
             0.6,
             "#e6f5d0"
            ],
            [
             0.7,
             "#b8e186"
            ],
            [
             0.8,
             "#7fbc41"
            ],
            [
             0.9,
             "#4d9221"
            ],
            [
             1,
             "#276419"
            ]
           ],
           "sequential": [
            [
             0,
             "#0d0887"
            ],
            [
             0.1111111111111111,
             "#46039f"
            ],
            [
             0.2222222222222222,
             "#7201a8"
            ],
            [
             0.3333333333333333,
             "#9c179e"
            ],
            [
             0.4444444444444444,
             "#bd3786"
            ],
            [
             0.5555555555555556,
             "#d8576b"
            ],
            [
             0.6666666666666666,
             "#ed7953"
            ],
            [
             0.7777777777777778,
             "#fb9f3a"
            ],
            [
             0.8888888888888888,
             "#fdca26"
            ],
            [
             1,
             "#f0f921"
            ]
           ],
           "sequentialminus": [
            [
             0,
             "#0d0887"
            ],
            [
             0.1111111111111111,
             "#46039f"
            ],
            [
             0.2222222222222222,
             "#7201a8"
            ],
            [
             0.3333333333333333,
             "#9c179e"
            ],
            [
             0.4444444444444444,
             "#bd3786"
            ],
            [
             0.5555555555555556,
             "#d8576b"
            ],
            [
             0.6666666666666666,
             "#ed7953"
            ],
            [
             0.7777777777777778,
             "#fb9f3a"
            ],
            [
             0.8888888888888888,
             "#fdca26"
            ],
            [
             1,
             "#f0f921"
            ]
           ]
          },
          "colorway": [
           "#636efa",
           "#EF553B",
           "#00cc96",
           "#ab63fa",
           "#FFA15A",
           "#19d3f3",
           "#FF6692",
           "#B6E880",
           "#FF97FF",
           "#FECB52"
          ],
          "font": {
           "color": "#2a3f5f"
          },
          "geo": {
           "bgcolor": "white",
           "lakecolor": "white",
           "landcolor": "#E5ECF6",
           "showlakes": true,
           "showland": true,
           "subunitcolor": "white"
          },
          "hoverlabel": {
           "align": "left"
          },
          "hovermode": "closest",
          "mapbox": {
           "style": "light"
          },
          "paper_bgcolor": "white",
          "plot_bgcolor": "#E5ECF6",
          "polar": {
           "angularaxis": {
            "gridcolor": "white",
            "linecolor": "white",
            "ticks": ""
           },
           "bgcolor": "#E5ECF6",
           "radialaxis": {
            "gridcolor": "white",
            "linecolor": "white",
            "ticks": ""
           }
          },
          "scene": {
           "xaxis": {
            "backgroundcolor": "#E5ECF6",
            "gridcolor": "white",
            "gridwidth": 2,
            "linecolor": "white",
            "showbackground": true,
            "ticks": "",
            "zerolinecolor": "white"
           },
           "yaxis": {
            "backgroundcolor": "#E5ECF6",
            "gridcolor": "white",
            "gridwidth": 2,
            "linecolor": "white",
            "showbackground": true,
            "ticks": "",
            "zerolinecolor": "white"
           },
           "zaxis": {
            "backgroundcolor": "#E5ECF6",
            "gridcolor": "white",
            "gridwidth": 2,
            "linecolor": "white",
            "showbackground": true,
            "ticks": "",
            "zerolinecolor": "white"
           }
          },
          "shapedefaults": {
           "line": {
            "color": "#2a3f5f"
           }
          },
          "ternary": {
           "aaxis": {
            "gridcolor": "white",
            "linecolor": "white",
            "ticks": ""
           },
           "baxis": {
            "gridcolor": "white",
            "linecolor": "white",
            "ticks": ""
           },
           "bgcolor": "#E5ECF6",
           "caxis": {
            "gridcolor": "white",
            "linecolor": "white",
            "ticks": ""
           }
          },
          "title": {
           "x": 0.05
          },
          "xaxis": {
           "automargin": true,
           "gridcolor": "white",
           "linecolor": "white",
           "ticks": "",
           "title": {
            "standoff": 15
           },
           "zerolinecolor": "white",
           "zerolinewidth": 2
          },
          "yaxis": {
           "automargin": true,
           "gridcolor": "white",
           "linecolor": "white",
           "ticks": "",
           "title": {
            "standoff": 15
           },
           "zerolinecolor": "white",
           "zerolinewidth": 2
          }
         }
        },
        "width": 600,
        "xaxis": {
         "anchor": "y",
         "domain": [
          0,
          0.98
         ],
         "title": {
          "text": "series_n"
         }
        },
        "xaxis2": {
         "anchor": "y2",
         "domain": [
          0,
          0.98
         ],
         "matches": "x",
         "showticklabels": false
        },
        "xaxis3": {
         "anchor": "y3",
         "domain": [
          0,
          0.98
         ],
         "matches": "x",
         "showticklabels": false
        },
        "xaxis4": {
         "anchor": "y4",
         "domain": [
          0,
          0.98
         ],
         "matches": "x",
         "showticklabels": false
        },
        "xaxis5": {
         "anchor": "y5",
         "domain": [
          0,
          0.98
         ],
         "matches": "x",
         "showticklabels": false
        },
        "yaxis": {
         "anchor": "x",
         "domain": [
          0,
          0.17600000000000002
         ],
         "title": {
          "text": "average_rating"
         }
        },
        "yaxis2": {
         "anchor": "x2",
         "domain": [
          0.20600000000000002,
          0.382
         ],
         "matches": "y",
         "title": {
          "text": "average_rating"
         }
        },
        "yaxis3": {
         "anchor": "x3",
         "domain": [
          0.41200000000000003,
          0.5880000000000001
         ],
         "matches": "y",
         "title": {
          "text": "average_rating"
         }
        },
        "yaxis4": {
         "anchor": "x4",
         "domain": [
          0.618,
          0.794
         ],
         "matches": "y",
         "title": {
          "text": "average_rating"
         }
        },
        "yaxis5": {
         "anchor": "x5",
         "domain": [
          0.8240000000000001,
          1
         ],
         "matches": "y",
         "title": {
          "text": "average_rating"
         }
        }
       }
      }
     },
     "metadata": {},
     "output_type": "display_data"
    }
   ],
   "source": [
    "fig_sanderson_facet_row = px.bar(\n",
    "    sanderson_sagas_df, \n",
    "    x='series_n', y='average_rating', \n",
    "    facet_row='series_name', \n",
    "    color = 'num_ratings',\n",
    "    color_continuous_scale = px.colors.sequential.Teal,\n",
    "    hover_data = ['title', 'num_ratings', 'hist_rating'],\n",
    "    width = 600, height = 700)\n",
    "\n",
    "fig_sanderson_facet_row.show()"
   ]
  },
  {
   "cell_type": "markdown",
   "metadata": {},
   "source": [
    "When we create facet plots, other methods that we have not used before are useful, such as `.for_each_annotation()` (to reference all the titles and labels of legends) or `.for_each_yaxis()` (to reference the Y-axis of each subplot). By default, all plots share the same range, so we can change it with `.update_layout(yaxis_range=[1,5])`. However, the title is individual for each subplot and so we have to `.for_each_yaxis()`."
   ]
  },
  {
   "cell_type": "code",
   "execution_count": 65,
   "metadata": {},
   "outputs": [
    {
     "data": {
      "application/vnd.plotly.v1+json": {
       "config": {
        "plotlyServerURL": "https://plot.ly"
       },
       "data": [
        {
         "alignmentgroup": "True",
         "customdata": [
          [
           "The Final Empire",
           506701,
           4.46
          ],
          [
           "The Well of Ascension",
           351248,
           4.423153614026008
          ],
          [
           "The Hero of Ages",
           323920,
           4.444215238744734
          ],
          [
           "The Alloy of Law",
           165193,
           4.415492939448964
          ],
          [
           "Shadows of Self",
           105732,
           4.406359766078329
          ],
          [
           "The Bands of Mourning",
           94533,
           4.406582163951124
          ],
          [
           "The Lost Metal",
           1725,
           4.406519154941216
          ]
         ],
         "hovertemplate": "<b>%{customdata[0]}</b><br>Num. ratings: %{customdata[1]:.0f} <br>Avg. rating: %{y:.2f}<br>Saga rating: %{customdata[2]:.2f}",
         "legendgroup": "",
         "marker": {
          "color": [
           506701,
           351248,
           323920,
           165193,
           105732,
           94533,
           1725
          ],
          "coloraxis": "coloraxis",
          "pattern": {
           "shape": ""
          }
         },
         "name": "",
         "offsetgroup": "",
         "orientation": "v",
         "showlegend": false,
         "textposition": "auto",
         "type": "bar",
         "x": [
          1,
          2,
          3,
          4,
          5,
          6,
          7
         ],
         "xaxis": "x5",
         "y": [
          4.46,
          4.37,
          4.5,
          4.21,
          4.29,
          4.41,
          4.35
         ],
         "yaxis": "y5"
        },
        {
         "alignmentgroup": "True",
         "customdata": [
          [
           "The Way of Kings",
           378925,
           4.64
          ],
          [
           "Words of Radiance",
           263111,
           4.685078796204574
          ],
          [
           "Oathbringer",
           174939,
           4.666860858655405
          ],
          [
           "Rhythm of War",
           84523,
           4.662467260049385
          ]
         ],
         "hovertemplate": "<b>%{customdata[0]}</b><br>Num. ratings: %{customdata[1]:.0f} <br>Avg. rating: %{y:.2f}<br>Saga rating: %{customdata[2]:.2f}",
         "legendgroup": "",
         "marker": {
          "color": [
           378925,
           263111,
           174939,
           84523
          ],
          "coloraxis": "coloraxis",
          "pattern": {
           "shape": ""
          }
         },
         "name": "",
         "offsetgroup": "",
         "orientation": "v",
         "showlegend": false,
         "textposition": "auto",
         "type": "bar",
         "x": [
          1,
          2,
          3,
          4
         ],
         "xaxis": "x4",
         "y": [
          4.64,
          4.75,
          4.6,
          4.62
         ],
         "yaxis": "y4"
        },
        {
         "alignmentgroup": "True",
         "customdata": [
          [
           "Warbreaker",
           149065,
           4.29
          ],
          [
           "Nightblood",
           166,
           4.289977752611723
          ]
         ],
         "hovertemplate": "<b>%{customdata[0]}</b><br>Num. ratings: %{customdata[1]:.0f} <br>Avg. rating: %{y:.2f}<br>Saga rating: %{customdata[2]:.2f}",
         "legendgroup": "",
         "marker": {
          "color": [
           149065,
           166
          ],
          "coloraxis": "coloraxis",
          "pattern": {
           "shape": ""
          }
         },
         "name": "",
         "offsetgroup": "",
         "orientation": "v",
         "showlegend": false,
         "textposition": "auto",
         "type": "bar",
         "x": [
          1,
          2
         ],
         "xaxis": "x3",
         "y": [
          4.29,
          4.27
         ],
         "yaxis": "y3"
        },
        {
         "alignmentgroup": "True",
         "customdata": [
          [
           "Skyward",
           100952,
           4.5
          ],
          [
           "Starsight",
           62540,
           4.4655726274068455
          ],
          [
           "Cytonic",
           21546,
           4.425333823322777
          ],
          [
           "Defiant",
           49,
           4.425382711913857
          ]
         ],
         "hovertemplate": "<b>%{customdata[0]}</b><br>Num. ratings: %{customdata[1]:.0f} <br>Avg. rating: %{y:.2f}<br>Saga rating: %{customdata[2]:.2f}",
         "legendgroup": "",
         "marker": {
          "color": [
           100952,
           62540,
           21546,
           49
          ],
          "coloraxis": "coloraxis",
          "pattern": {
           "shape": ""
          }
         },
         "name": "",
         "offsetgroup": "",
         "orientation": "v",
         "showlegend": false,
         "textposition": "auto",
         "type": "bar",
         "x": [
          1,
          2,
          3,
          4
         ],
         "xaxis": "x2",
         "y": [
          4.5,
          4.41,
          4.12,
          4.61
         ],
         "yaxis": "y2"
        },
        {
         "alignmentgroup": "True",
         "customdata": [
          [
           "Steelheart",
           166384,
           4.14
          ],
          [
           "Firefight",
           90993,
           4.182424769890083
          ],
          [
           "Calamity",
           70664,
           4.18405656609997
          ],
          [
           "Lux",
           1818,
           4.182876804937868
          ]
         ],
         "hovertemplate": "<b>%{customdata[0]}</b><br>Num. ratings: %{customdata[1]:.0f} <br>Avg. rating: %{y:.2f}<br>Saga rating: %{customdata[2]:.2f}",
         "legendgroup": "",
         "marker": {
          "color": [
           166384,
           90993,
           70664,
           1818
          ],
          "coloraxis": "coloraxis",
          "pattern": {
           "shape": ""
          }
         },
         "name": "",
         "offsetgroup": "",
         "orientation": "v",
         "showlegend": false,
         "textposition": "auto",
         "type": "bar",
         "x": [
          1,
          2,
          3,
          4
         ],
         "xaxis": "x",
         "y": [
          4.14,
          4.26,
          4.19,
          3.97
         ],
         "yaxis": "y"
        }
       ],
       "layout": {
        "annotations": [
         {
          "showarrow": false,
          "text": "The Reckoners",
          "x": 0.5,
          "xanchor": "center",
          "xref": "paper",
          "y": 0.144,
          "yanchor": "bottom",
          "yref": "paper"
         },
         {
          "showarrow": false,
          "text": "Skyward",
          "x": 0.5,
          "xanchor": "center",
          "xref": "paper",
          "y": 0.358,
          "yanchor": "bottom",
          "yref": "paper"
         },
         {
          "showarrow": false,
          "text": "Warbreaker",
          "x": 0.5,
          "xanchor": "center",
          "xref": "paper",
          "y": 0.572,
          "yanchor": "bottom",
          "yref": "paper"
         },
         {
          "showarrow": false,
          "text": "The Stormlight Archive",
          "x": 0.5,
          "xanchor": "center",
          "xref": "paper",
          "y": 0.7859999999999999,
          "yanchor": "bottom",
          "yref": "paper"
         },
         {
          "showarrow": false,
          "text": "The Mistborn Saga",
          "x": 0.5,
          "xanchor": "center",
          "xref": "paper",
          "y": 1,
          "yanchor": "bottom",
          "yref": "paper"
         },
         {
          "showarrow": false,
          "text": "Average rating",
          "textangle": -90,
          "x": -0.11,
          "xref": "paper",
          "y": 0.5,
          "yref": "paper"
         }
        ],
        "barmode": "relative",
        "coloraxis": {
         "colorbar": {
          "title": {
           "text": "Number<br>of ratings"
          }
         },
         "colorscale": [
          [
           0,
           "rgb(209, 238, 234)"
          ],
          [
           0.16666666666666666,
           "rgb(168, 219, 217)"
          ],
          [
           0.3333333333333333,
           "rgb(133, 196, 201)"
          ],
          [
           0.5,
           "rgb(104, 171, 184)"
          ],
          [
           0.6666666666666666,
           "rgb(79, 144, 166)"
          ],
          [
           0.8333333333333334,
           "rgb(59, 115, 143)"
          ],
          [
           1,
           "rgb(42, 86, 116)"
          ]
         ]
        },
        "height": 700,
        "legend": {
         "tracegroupgap": 0
        },
        "margin": {
         "t": 60
        },
        "template": {
         "data": {
          "bar": [
           {
            "error_x": {
             "color": "#2a3f5f"
            },
            "error_y": {
             "color": "#2a3f5f"
            },
            "marker": {
             "line": {
              "color": "white",
              "width": 0.5
             },
             "pattern": {
              "fillmode": "overlay",
              "size": 10,
              "solidity": 0.2
             }
            },
            "type": "bar"
           }
          ],
          "barpolar": [
           {
            "marker": {
             "line": {
              "color": "white",
              "width": 0.5
             },
             "pattern": {
              "fillmode": "overlay",
              "size": 10,
              "solidity": 0.2
             }
            },
            "type": "barpolar"
           }
          ],
          "carpet": [
           {
            "aaxis": {
             "endlinecolor": "#2a3f5f",
             "gridcolor": "#C8D4E3",
             "linecolor": "#C8D4E3",
             "minorgridcolor": "#C8D4E3",
             "startlinecolor": "#2a3f5f"
            },
            "baxis": {
             "endlinecolor": "#2a3f5f",
             "gridcolor": "#C8D4E3",
             "linecolor": "#C8D4E3",
             "minorgridcolor": "#C8D4E3",
             "startlinecolor": "#2a3f5f"
            },
            "type": "carpet"
           }
          ],
          "choropleth": [
           {
            "colorbar": {
             "outlinewidth": 0,
             "ticks": ""
            },
            "type": "choropleth"
           }
          ],
          "contour": [
           {
            "colorbar": {
             "outlinewidth": 0,
             "ticks": ""
            },
            "colorscale": [
             [
              0,
              "#0d0887"
             ],
             [
              0.1111111111111111,
              "#46039f"
             ],
             [
              0.2222222222222222,
              "#7201a8"
             ],
             [
              0.3333333333333333,
              "#9c179e"
             ],
             [
              0.4444444444444444,
              "#bd3786"
             ],
             [
              0.5555555555555556,
              "#d8576b"
             ],
             [
              0.6666666666666666,
              "#ed7953"
             ],
             [
              0.7777777777777778,
              "#fb9f3a"
             ],
             [
              0.8888888888888888,
              "#fdca26"
             ],
             [
              1,
              "#f0f921"
             ]
            ],
            "type": "contour"
           }
          ],
          "contourcarpet": [
           {
            "colorbar": {
             "outlinewidth": 0,
             "ticks": ""
            },
            "type": "contourcarpet"
           }
          ],
          "heatmap": [
           {
            "colorbar": {
             "outlinewidth": 0,
             "ticks": ""
            },
            "colorscale": [
             [
              0,
              "#0d0887"
             ],
             [
              0.1111111111111111,
              "#46039f"
             ],
             [
              0.2222222222222222,
              "#7201a8"
             ],
             [
              0.3333333333333333,
              "#9c179e"
             ],
             [
              0.4444444444444444,
              "#bd3786"
             ],
             [
              0.5555555555555556,
              "#d8576b"
             ],
             [
              0.6666666666666666,
              "#ed7953"
             ],
             [
              0.7777777777777778,
              "#fb9f3a"
             ],
             [
              0.8888888888888888,
              "#fdca26"
             ],
             [
              1,
              "#f0f921"
             ]
            ],
            "type": "heatmap"
           }
          ],
          "heatmapgl": [
           {
            "colorbar": {
             "outlinewidth": 0,
             "ticks": ""
            },
            "colorscale": [
             [
              0,
              "#0d0887"
             ],
             [
              0.1111111111111111,
              "#46039f"
             ],
             [
              0.2222222222222222,
              "#7201a8"
             ],
             [
              0.3333333333333333,
              "#9c179e"
             ],
             [
              0.4444444444444444,
              "#bd3786"
             ],
             [
              0.5555555555555556,
              "#d8576b"
             ],
             [
              0.6666666666666666,
              "#ed7953"
             ],
             [
              0.7777777777777778,
              "#fb9f3a"
             ],
             [
              0.8888888888888888,
              "#fdca26"
             ],
             [
              1,
              "#f0f921"
             ]
            ],
            "type": "heatmapgl"
           }
          ],
          "histogram": [
           {
            "marker": {
             "pattern": {
              "fillmode": "overlay",
              "size": 10,
              "solidity": 0.2
             }
            },
            "type": "histogram"
           }
          ],
          "histogram2d": [
           {
            "colorbar": {
             "outlinewidth": 0,
             "ticks": ""
            },
            "colorscale": [
             [
              0,
              "#0d0887"
             ],
             [
              0.1111111111111111,
              "#46039f"
             ],
             [
              0.2222222222222222,
              "#7201a8"
             ],
             [
              0.3333333333333333,
              "#9c179e"
             ],
             [
              0.4444444444444444,
              "#bd3786"
             ],
             [
              0.5555555555555556,
              "#d8576b"
             ],
             [
              0.6666666666666666,
              "#ed7953"
             ],
             [
              0.7777777777777778,
              "#fb9f3a"
             ],
             [
              0.8888888888888888,
              "#fdca26"
             ],
             [
              1,
              "#f0f921"
             ]
            ],
            "type": "histogram2d"
           }
          ],
          "histogram2dcontour": [
           {
            "colorbar": {
             "outlinewidth": 0,
             "ticks": ""
            },
            "colorscale": [
             [
              0,
              "#0d0887"
             ],
             [
              0.1111111111111111,
              "#46039f"
             ],
             [
              0.2222222222222222,
              "#7201a8"
             ],
             [
              0.3333333333333333,
              "#9c179e"
             ],
             [
              0.4444444444444444,
              "#bd3786"
             ],
             [
              0.5555555555555556,
              "#d8576b"
             ],
             [
              0.6666666666666666,
              "#ed7953"
             ],
             [
              0.7777777777777778,
              "#fb9f3a"
             ],
             [
              0.8888888888888888,
              "#fdca26"
             ],
             [
              1,
              "#f0f921"
             ]
            ],
            "type": "histogram2dcontour"
           }
          ],
          "mesh3d": [
           {
            "colorbar": {
             "outlinewidth": 0,
             "ticks": ""
            },
            "type": "mesh3d"
           }
          ],
          "parcoords": [
           {
            "line": {
             "colorbar": {
              "outlinewidth": 0,
              "ticks": ""
             }
            },
            "type": "parcoords"
           }
          ],
          "pie": [
           {
            "automargin": true,
            "type": "pie"
           }
          ],
          "scatter": [
           {
            "marker": {
             "colorbar": {
              "outlinewidth": 0,
              "ticks": ""
             }
            },
            "type": "scatter"
           }
          ],
          "scatter3d": [
           {
            "line": {
             "colorbar": {
              "outlinewidth": 0,
              "ticks": ""
             }
            },
            "marker": {
             "colorbar": {
              "outlinewidth": 0,
              "ticks": ""
             }
            },
            "type": "scatter3d"
           }
          ],
          "scattercarpet": [
           {
            "marker": {
             "colorbar": {
              "outlinewidth": 0,
              "ticks": ""
             }
            },
            "type": "scattercarpet"
           }
          ],
          "scattergeo": [
           {
            "marker": {
             "colorbar": {
              "outlinewidth": 0,
              "ticks": ""
             }
            },
            "type": "scattergeo"
           }
          ],
          "scattergl": [
           {
            "marker": {
             "colorbar": {
              "outlinewidth": 0,
              "ticks": ""
             }
            },
            "type": "scattergl"
           }
          ],
          "scattermapbox": [
           {
            "marker": {
             "colorbar": {
              "outlinewidth": 0,
              "ticks": ""
             }
            },
            "type": "scattermapbox"
           }
          ],
          "scatterpolar": [
           {
            "marker": {
             "colorbar": {
              "outlinewidth": 0,
              "ticks": ""
             }
            },
            "type": "scatterpolar"
           }
          ],
          "scatterpolargl": [
           {
            "marker": {
             "colorbar": {
              "outlinewidth": 0,
              "ticks": ""
             }
            },
            "type": "scatterpolargl"
           }
          ],
          "scatterternary": [
           {
            "marker": {
             "colorbar": {
              "outlinewidth": 0,
              "ticks": ""
             }
            },
            "type": "scatterternary"
           }
          ],
          "surface": [
           {
            "colorbar": {
             "outlinewidth": 0,
             "ticks": ""
            },
            "colorscale": [
             [
              0,
              "#0d0887"
             ],
             [
              0.1111111111111111,
              "#46039f"
             ],
             [
              0.2222222222222222,
              "#7201a8"
             ],
             [
              0.3333333333333333,
              "#9c179e"
             ],
             [
              0.4444444444444444,
              "#bd3786"
             ],
             [
              0.5555555555555556,
              "#d8576b"
             ],
             [
              0.6666666666666666,
              "#ed7953"
             ],
             [
              0.7777777777777778,
              "#fb9f3a"
             ],
             [
              0.8888888888888888,
              "#fdca26"
             ],
             [
              1,
              "#f0f921"
             ]
            ],
            "type": "surface"
           }
          ],
          "table": [
           {
            "cells": {
             "fill": {
              "color": "#EBF0F8"
             },
             "line": {
              "color": "white"
             }
            },
            "header": {
             "fill": {
              "color": "#C8D4E3"
             },
             "line": {
              "color": "white"
             }
            },
            "type": "table"
           }
          ]
         },
         "layout": {
          "annotationdefaults": {
           "arrowcolor": "#2a3f5f",
           "arrowhead": 0,
           "arrowwidth": 1
          },
          "autotypenumbers": "strict",
          "coloraxis": {
           "colorbar": {
            "outlinewidth": 0,
            "ticks": ""
           }
          },
          "colorscale": {
           "diverging": [
            [
             0,
             "#8e0152"
            ],
            [
             0.1,
             "#c51b7d"
            ],
            [
             0.2,
             "#de77ae"
            ],
            [
             0.3,
             "#f1b6da"
            ],
            [
             0.4,
             "#fde0ef"
            ],
            [
             0.5,
             "#f7f7f7"
            ],
            [
             0.6,
             "#e6f5d0"
            ],
            [
             0.7,
             "#b8e186"
            ],
            [
             0.8,
             "#7fbc41"
            ],
            [
             0.9,
             "#4d9221"
            ],
            [
             1,
             "#276419"
            ]
           ],
           "sequential": [
            [
             0,
             "#0d0887"
            ],
            [
             0.1111111111111111,
             "#46039f"
            ],
            [
             0.2222222222222222,
             "#7201a8"
            ],
            [
             0.3333333333333333,
             "#9c179e"
            ],
            [
             0.4444444444444444,
             "#bd3786"
            ],
            [
             0.5555555555555556,
             "#d8576b"
            ],
            [
             0.6666666666666666,
             "#ed7953"
            ],
            [
             0.7777777777777778,
             "#fb9f3a"
            ],
            [
             0.8888888888888888,
             "#fdca26"
            ],
            [
             1,
             "#f0f921"
            ]
           ],
           "sequentialminus": [
            [
             0,
             "#0d0887"
            ],
            [
             0.1111111111111111,
             "#46039f"
            ],
            [
             0.2222222222222222,
             "#7201a8"
            ],
            [
             0.3333333333333333,
             "#9c179e"
            ],
            [
             0.4444444444444444,
             "#bd3786"
            ],
            [
             0.5555555555555556,
             "#d8576b"
            ],
            [
             0.6666666666666666,
             "#ed7953"
            ],
            [
             0.7777777777777778,
             "#fb9f3a"
            ],
            [
             0.8888888888888888,
             "#fdca26"
            ],
            [
             1,
             "#f0f921"
            ]
           ]
          },
          "colorway": [
           "#636efa",
           "#EF553B",
           "#00cc96",
           "#ab63fa",
           "#FFA15A",
           "#19d3f3",
           "#FF6692",
           "#B6E880",
           "#FF97FF",
           "#FECB52"
          ],
          "font": {
           "color": "#2a3f5f"
          },
          "geo": {
           "bgcolor": "white",
           "lakecolor": "white",
           "landcolor": "white",
           "showlakes": true,
           "showland": true,
           "subunitcolor": "#C8D4E3"
          },
          "hoverlabel": {
           "align": "left"
          },
          "hovermode": "closest",
          "mapbox": {
           "style": "light"
          },
          "paper_bgcolor": "white",
          "plot_bgcolor": "white",
          "polar": {
           "angularaxis": {
            "gridcolor": "#EBF0F8",
            "linecolor": "#EBF0F8",
            "ticks": ""
           },
           "bgcolor": "white",
           "radialaxis": {
            "gridcolor": "#EBF0F8",
            "linecolor": "#EBF0F8",
            "ticks": ""
           }
          },
          "scene": {
           "xaxis": {
            "backgroundcolor": "white",
            "gridcolor": "#DFE8F3",
            "gridwidth": 2,
            "linecolor": "#EBF0F8",
            "showbackground": true,
            "ticks": "",
            "zerolinecolor": "#EBF0F8"
           },
           "yaxis": {
            "backgroundcolor": "white",
            "gridcolor": "#DFE8F3",
            "gridwidth": 2,
            "linecolor": "#EBF0F8",
            "showbackground": true,
            "ticks": "",
            "zerolinecolor": "#EBF0F8"
           },
           "zaxis": {
            "backgroundcolor": "white",
            "gridcolor": "#DFE8F3",
            "gridwidth": 2,
            "linecolor": "#EBF0F8",
            "showbackground": true,
            "ticks": "",
            "zerolinecolor": "#EBF0F8"
           }
          },
          "shapedefaults": {
           "line": {
            "color": "#2a3f5f"
           }
          },
          "ternary": {
           "aaxis": {
            "gridcolor": "#DFE8F3",
            "linecolor": "#A2B1C6",
            "ticks": ""
           },
           "baxis": {
            "gridcolor": "#DFE8F3",
            "linecolor": "#A2B1C6",
            "ticks": ""
           },
           "bgcolor": "white",
           "caxis": {
            "gridcolor": "#DFE8F3",
            "linecolor": "#A2B1C6",
            "ticks": ""
           }
          },
          "title": {
           "x": 0.05
          },
          "xaxis": {
           "automargin": true,
           "gridcolor": "#EBF0F8",
           "linecolor": "black",
           "mirror": true,
           "showline": true,
           "ticks": "outside",
           "title": {
            "standoff": 15
           },
           "zerolinecolor": "#EBF0F8",
           "zerolinewidth": 2
          },
          "yaxis": {
           "automargin": true,
           "gridcolor": "#EBF0F8",
           "linecolor": "black",
           "mirror": true,
           "showline": true,
           "ticks": "outside",
           "title": {
            "standoff": 15
           },
           "zerolinecolor": "#EBF0F8",
           "zerolinewidth": 2
          }
         }
        },
        "width": 600,
        "xaxis": {
         "anchor": "y",
         "domain": [
          0,
          1
         ],
         "title": {
          "text": "Series Volume"
         }
        },
        "xaxis2": {
         "anchor": "y2",
         "domain": [
          0,
          1
         ],
         "matches": "x",
         "showticklabels": false
        },
        "xaxis3": {
         "anchor": "y3",
         "domain": [
          0,
          1
         ],
         "matches": "x",
         "showticklabels": false
        },
        "xaxis4": {
         "anchor": "y4",
         "domain": [
          0,
          1
         ],
         "matches": "x",
         "showticklabels": false
        },
        "xaxis5": {
         "anchor": "y5",
         "domain": [
          0,
          1
         ],
         "matches": "x",
         "showticklabels": false
        },
        "yaxis": {
         "anchor": "x",
         "domain": [
          0,
          0.144
         ],
         "range": [
          1,
          5
         ],
         "title": {}
        },
        "yaxis2": {
         "anchor": "x2",
         "domain": [
          0.214,
          0.358
         ],
         "matches": "y",
         "title": {}
        },
        "yaxis3": {
         "anchor": "x3",
         "domain": [
          0.428,
          0.572
         ],
         "matches": "y",
         "title": {}
        },
        "yaxis4": {
         "anchor": "x4",
         "domain": [
          0.6419999999999999,
          0.7859999999999999
         ],
         "matches": "y",
         "title": {}
        },
        "yaxis5": {
         "anchor": "x5",
         "domain": [
          0.856,
          1
         ],
         "matches": "y",
         "title": {}
        }
       }
      }
     },
     "metadata": {},
     "output_type": "display_data"
    }
   ],
   "source": [
    "fig_sanderson.update_layout(\n",
    "    coloraxis_colorbar = {'title':'Number<br>of ratings'}, \n",
    "    xaxis = {'title':'Series Volume'},\n",
    "    yaxis = {'range':[1,5]},\n",
    "    template = 'plotly_white+borders'\n",
    ")\n",
    "fig_sanderson.for_each_annotation(lambda a: a.update(text=a.text.split(\"=\")[-1]))\n",
    "\n",
    "fig_sanderson.for_each_yaxis(lambda yaxis: yaxis.update(title=None))\n",
    "\n",
    "fig_sanderson.add_annotation(\n",
    "    text='Average rating', \n",
    "    x=-0.11, y=0.5,\n",
    "    xref=\"paper\", yref=\"paper\",\n",
    "    textangle=-90, showarrow=False\n",
    "    )\n",
    "    \n",
    "fig_sanderson.update_traces(\n",
    "    # https://plotly.com/python/hover-text-and-formatting/\n",
    "    hovertemplate = '<b>%{customdata[0]}</b><br>Num. ratings: %{customdata[1]:.0f} <br>Avg. rating: %{y:.2f}<br>Saga rating: %{customdata[2]:.2f}'\n",
    ")"
   ]
  },
  {
   "cell_type": "markdown",
   "metadata": {},
   "source": [
    "`sanderson_sagas` is a list of the titles of all the sagas that appear in the plot. We use `[::-1]` to reverse the order because in facet plots, the row count starts from the bottom. That is, the numbers in each of the plots would be, from top to bottom: (row=5, col=1), (row=4, col=1), (row=3, col=1), (row=2, col=1), (row=1, col=1).\n",
    "Writing `fig_sanderson.show()` inside the loop allows us see how the rows are added from the bottom to the top. \n",
    "\n",
    "On the other hand, what we are doing in each turn of the loop is adding a new trace to the `data` list of the Figure. Each trace is created with `go.Scatter()`, the `go` function for creating point traces. Plotly also has go.Line, go.Bar, etc. functions. However, to create lines we usually use go.Scatter instead of go.Line because it is more versatile and, by specifying `mode='lines'` or `mode='lines+markers'` the result is the same.\n",
    "\n",
    "https://plotly.com/python/facet-plots/#adding-lines-and-rectangles-to-facet-plots"
   ]
  },
  {
   "cell_type": "code",
   "execution_count": 66,
   "metadata": {},
   "outputs": [
    {
     "data": {
      "application/vnd.plotly.v1+json": {
       "config": {
        "plotlyServerURL": "https://plot.ly"
       },
       "data": [
        {
         "alignmentgroup": "True",
         "customdata": [
          [
           "The Final Empire",
           506701,
           4.46
          ],
          [
           "The Well of Ascension",
           351248,
           4.423153614026008
          ],
          [
           "The Hero of Ages",
           323920,
           4.444215238744734
          ],
          [
           "The Alloy of Law",
           165193,
           4.415492939448964
          ],
          [
           "Shadows of Self",
           105732,
           4.406359766078329
          ],
          [
           "The Bands of Mourning",
           94533,
           4.406582163951124
          ],
          [
           "The Lost Metal",
           1725,
           4.406519154941216
          ]
         ],
         "hovertemplate": "<b>%{customdata[0]}</b><br>Num. ratings: %{customdata[1]:.0f} <br>Avg. rating: %{y:.2f}<br>Saga rating: %{customdata[2]:.2f}",
         "legendgroup": "",
         "marker": {
          "color": [
           506701,
           351248,
           323920,
           165193,
           105732,
           94533,
           1725
          ],
          "coloraxis": "coloraxis",
          "pattern": {
           "shape": ""
          }
         },
         "name": "",
         "offsetgroup": "",
         "orientation": "v",
         "showlegend": false,
         "textposition": "auto",
         "type": "bar",
         "x": [
          1,
          2,
          3,
          4,
          5,
          6,
          7
         ],
         "xaxis": "x5",
         "y": [
          4.46,
          4.37,
          4.5,
          4.21,
          4.29,
          4.41,
          4.35
         ],
         "yaxis": "y5"
        },
        {
         "alignmentgroup": "True",
         "customdata": [
          [
           "The Way of Kings",
           378925,
           4.64
          ],
          [
           "Words of Radiance",
           263111,
           4.685078796204574
          ],
          [
           "Oathbringer",
           174939,
           4.666860858655405
          ],
          [
           "Rhythm of War",
           84523,
           4.662467260049385
          ]
         ],
         "hovertemplate": "<b>%{customdata[0]}</b><br>Num. ratings: %{customdata[1]:.0f} <br>Avg. rating: %{y:.2f}<br>Saga rating: %{customdata[2]:.2f}",
         "legendgroup": "",
         "marker": {
          "color": [
           378925,
           263111,
           174939,
           84523
          ],
          "coloraxis": "coloraxis",
          "pattern": {
           "shape": ""
          }
         },
         "name": "",
         "offsetgroup": "",
         "orientation": "v",
         "showlegend": false,
         "textposition": "auto",
         "type": "bar",
         "x": [
          1,
          2,
          3,
          4
         ],
         "xaxis": "x4",
         "y": [
          4.64,
          4.75,
          4.6,
          4.62
         ],
         "yaxis": "y4"
        },
        {
         "alignmentgroup": "True",
         "customdata": [
          [
           "Warbreaker",
           149065,
           4.29
          ],
          [
           "Nightblood",
           166,
           4.289977752611723
          ]
         ],
         "hovertemplate": "<b>%{customdata[0]}</b><br>Num. ratings: %{customdata[1]:.0f} <br>Avg. rating: %{y:.2f}<br>Saga rating: %{customdata[2]:.2f}",
         "legendgroup": "",
         "marker": {
          "color": [
           149065,
           166
          ],
          "coloraxis": "coloraxis",
          "pattern": {
           "shape": ""
          }
         },
         "name": "",
         "offsetgroup": "",
         "orientation": "v",
         "showlegend": false,
         "textposition": "auto",
         "type": "bar",
         "x": [
          1,
          2
         ],
         "xaxis": "x3",
         "y": [
          4.29,
          4.27
         ],
         "yaxis": "y3"
        },
        {
         "alignmentgroup": "True",
         "customdata": [
          [
           "Skyward",
           100952,
           4.5
          ],
          [
           "Starsight",
           62540,
           4.4655726274068455
          ],
          [
           "Cytonic",
           21546,
           4.425333823322777
          ],
          [
           "Defiant",
           49,
           4.425382711913857
          ]
         ],
         "hovertemplate": "<b>%{customdata[0]}</b><br>Num. ratings: %{customdata[1]:.0f} <br>Avg. rating: %{y:.2f}<br>Saga rating: %{customdata[2]:.2f}",
         "legendgroup": "",
         "marker": {
          "color": [
           100952,
           62540,
           21546,
           49
          ],
          "coloraxis": "coloraxis",
          "pattern": {
           "shape": ""
          }
         },
         "name": "",
         "offsetgroup": "",
         "orientation": "v",
         "showlegend": false,
         "textposition": "auto",
         "type": "bar",
         "x": [
          1,
          2,
          3,
          4
         ],
         "xaxis": "x2",
         "y": [
          4.5,
          4.41,
          4.12,
          4.61
         ],
         "yaxis": "y2"
        },
        {
         "alignmentgroup": "True",
         "customdata": [
          [
           "Steelheart",
           166384,
           4.14
          ],
          [
           "Firefight",
           90993,
           4.182424769890083
          ],
          [
           "Calamity",
           70664,
           4.18405656609997
          ],
          [
           "Lux",
           1818,
           4.182876804937868
          ]
         ],
         "hovertemplate": "<b>%{customdata[0]}</b><br>Num. ratings: %{customdata[1]:.0f} <br>Avg. rating: %{y:.2f}<br>Saga rating: %{customdata[2]:.2f}",
         "legendgroup": "",
         "marker": {
          "color": [
           166384,
           90993,
           70664,
           1818
          ],
          "coloraxis": "coloraxis",
          "pattern": {
           "shape": ""
          }
         },
         "name": "",
         "offsetgroup": "",
         "orientation": "v",
         "showlegend": false,
         "textposition": "auto",
         "type": "bar",
         "x": [
          1,
          2,
          3,
          4
         ],
         "xaxis": "x",
         "y": [
          4.14,
          4.26,
          4.19,
          3.97
         ],
         "yaxis": "y"
        },
        {
         "hoverinfo": "none",
         "line": {
          "color": "black"
         },
         "mode": "lines+markers",
         "showlegend": false,
         "type": "scatter",
         "x": [
          1,
          2,
          3,
          4
         ],
         "xaxis": "x",
         "y": [
          4.14,
          4.182424769890083,
          4.18405656609997,
          4.182876804937868
         ],
         "yaxis": "y"
        },
        {
         "hoverinfo": "none",
         "line": {
          "color": "black"
         },
         "mode": "lines+markers",
         "showlegend": false,
         "type": "scatter",
         "x": [
          1,
          2,
          3,
          4
         ],
         "xaxis": "x2",
         "y": [
          4.5,
          4.4655726274068455,
          4.425333823322777,
          4.425382711913857
         ],
         "yaxis": "y2"
        },
        {
         "hoverinfo": "none",
         "line": {
          "color": "black"
         },
         "mode": "lines+markers",
         "showlegend": false,
         "type": "scatter",
         "x": [
          1,
          2
         ],
         "xaxis": "x3",
         "y": [
          4.29,
          4.289977752611723
         ],
         "yaxis": "y3"
        },
        {
         "hoverinfo": "none",
         "line": {
          "color": "black"
         },
         "mode": "lines+markers",
         "showlegend": false,
         "type": "scatter",
         "x": [
          1,
          2,
          3,
          4
         ],
         "xaxis": "x4",
         "y": [
          4.64,
          4.685078796204574,
          4.666860858655405,
          4.662467260049385
         ],
         "yaxis": "y4"
        },
        {
         "hoverinfo": "none",
         "line": {
          "color": "black"
         },
         "mode": "lines+markers",
         "showlegend": false,
         "type": "scatter",
         "x": [
          1,
          2,
          3,
          4,
          5,
          6,
          7
         ],
         "xaxis": "x5",
         "y": [
          4.46,
          4.423153614026008,
          4.444215238744734,
          4.415492939448964,
          4.406359766078329,
          4.406582163951124,
          4.406519154941216
         ],
         "yaxis": "y5"
        }
       ],
       "layout": {
        "annotations": [
         {
          "showarrow": false,
          "text": "The Reckoners",
          "x": 0.5,
          "xanchor": "center",
          "xref": "paper",
          "y": 0.144,
          "yanchor": "bottom",
          "yref": "paper"
         },
         {
          "showarrow": false,
          "text": "Skyward",
          "x": 0.5,
          "xanchor": "center",
          "xref": "paper",
          "y": 0.358,
          "yanchor": "bottom",
          "yref": "paper"
         },
         {
          "showarrow": false,
          "text": "Warbreaker",
          "x": 0.5,
          "xanchor": "center",
          "xref": "paper",
          "y": 0.572,
          "yanchor": "bottom",
          "yref": "paper"
         },
         {
          "showarrow": false,
          "text": "The Stormlight Archive",
          "x": 0.5,
          "xanchor": "center",
          "xref": "paper",
          "y": 0.7859999999999999,
          "yanchor": "bottom",
          "yref": "paper"
         },
         {
          "showarrow": false,
          "text": "The Mistborn Saga",
          "x": 0.5,
          "xanchor": "center",
          "xref": "paper",
          "y": 1,
          "yanchor": "bottom",
          "yref": "paper"
         },
         {
          "showarrow": false,
          "text": "Average rating",
          "textangle": -90,
          "x": -0.11,
          "xref": "paper",
          "y": 0.5,
          "yref": "paper"
         }
        ],
        "barmode": "relative",
        "coloraxis": {
         "colorbar": {
          "title": {
           "text": "Number<br>of ratings"
          }
         },
         "colorscale": [
          [
           0,
           "rgb(209, 238, 234)"
          ],
          [
           0.16666666666666666,
           "rgb(168, 219, 217)"
          ],
          [
           0.3333333333333333,
           "rgb(133, 196, 201)"
          ],
          [
           0.5,
           "rgb(104, 171, 184)"
          ],
          [
           0.6666666666666666,
           "rgb(79, 144, 166)"
          ],
          [
           0.8333333333333334,
           "rgb(59, 115, 143)"
          ],
          [
           1,
           "rgb(42, 86, 116)"
          ]
         ]
        },
        "height": 700,
        "legend": {
         "tracegroupgap": 0
        },
        "margin": {
         "t": 60
        },
        "template": {
         "data": {
          "bar": [
           {
            "error_x": {
             "color": "#2a3f5f"
            },
            "error_y": {
             "color": "#2a3f5f"
            },
            "marker": {
             "line": {
              "color": "white",
              "width": 0.5
             },
             "pattern": {
              "fillmode": "overlay",
              "size": 10,
              "solidity": 0.2
             }
            },
            "type": "bar"
           }
          ],
          "barpolar": [
           {
            "marker": {
             "line": {
              "color": "white",
              "width": 0.5
             },
             "pattern": {
              "fillmode": "overlay",
              "size": 10,
              "solidity": 0.2
             }
            },
            "type": "barpolar"
           }
          ],
          "carpet": [
           {
            "aaxis": {
             "endlinecolor": "#2a3f5f",
             "gridcolor": "#C8D4E3",
             "linecolor": "#C8D4E3",
             "minorgridcolor": "#C8D4E3",
             "startlinecolor": "#2a3f5f"
            },
            "baxis": {
             "endlinecolor": "#2a3f5f",
             "gridcolor": "#C8D4E3",
             "linecolor": "#C8D4E3",
             "minorgridcolor": "#C8D4E3",
             "startlinecolor": "#2a3f5f"
            },
            "type": "carpet"
           }
          ],
          "choropleth": [
           {
            "colorbar": {
             "outlinewidth": 0,
             "ticks": ""
            },
            "type": "choropleth"
           }
          ],
          "contour": [
           {
            "colorbar": {
             "outlinewidth": 0,
             "ticks": ""
            },
            "colorscale": [
             [
              0,
              "#0d0887"
             ],
             [
              0.1111111111111111,
              "#46039f"
             ],
             [
              0.2222222222222222,
              "#7201a8"
             ],
             [
              0.3333333333333333,
              "#9c179e"
             ],
             [
              0.4444444444444444,
              "#bd3786"
             ],
             [
              0.5555555555555556,
              "#d8576b"
             ],
             [
              0.6666666666666666,
              "#ed7953"
             ],
             [
              0.7777777777777778,
              "#fb9f3a"
             ],
             [
              0.8888888888888888,
              "#fdca26"
             ],
             [
              1,
              "#f0f921"
             ]
            ],
            "type": "contour"
           }
          ],
          "contourcarpet": [
           {
            "colorbar": {
             "outlinewidth": 0,
             "ticks": ""
            },
            "type": "contourcarpet"
           }
          ],
          "heatmap": [
           {
            "colorbar": {
             "outlinewidth": 0,
             "ticks": ""
            },
            "colorscale": [
             [
              0,
              "#0d0887"
             ],
             [
              0.1111111111111111,
              "#46039f"
             ],
             [
              0.2222222222222222,
              "#7201a8"
             ],
             [
              0.3333333333333333,
              "#9c179e"
             ],
             [
              0.4444444444444444,
              "#bd3786"
             ],
             [
              0.5555555555555556,
              "#d8576b"
             ],
             [
              0.6666666666666666,
              "#ed7953"
             ],
             [
              0.7777777777777778,
              "#fb9f3a"
             ],
             [
              0.8888888888888888,
              "#fdca26"
             ],
             [
              1,
              "#f0f921"
             ]
            ],
            "type": "heatmap"
           }
          ],
          "heatmapgl": [
           {
            "colorbar": {
             "outlinewidth": 0,
             "ticks": ""
            },
            "colorscale": [
             [
              0,
              "#0d0887"
             ],
             [
              0.1111111111111111,
              "#46039f"
             ],
             [
              0.2222222222222222,
              "#7201a8"
             ],
             [
              0.3333333333333333,
              "#9c179e"
             ],
             [
              0.4444444444444444,
              "#bd3786"
             ],
             [
              0.5555555555555556,
              "#d8576b"
             ],
             [
              0.6666666666666666,
              "#ed7953"
             ],
             [
              0.7777777777777778,
              "#fb9f3a"
             ],
             [
              0.8888888888888888,
              "#fdca26"
             ],
             [
              1,
              "#f0f921"
             ]
            ],
            "type": "heatmapgl"
           }
          ],
          "histogram": [
           {
            "marker": {
             "pattern": {
              "fillmode": "overlay",
              "size": 10,
              "solidity": 0.2
             }
            },
            "type": "histogram"
           }
          ],
          "histogram2d": [
           {
            "colorbar": {
             "outlinewidth": 0,
             "ticks": ""
            },
            "colorscale": [
             [
              0,
              "#0d0887"
             ],
             [
              0.1111111111111111,
              "#46039f"
             ],
             [
              0.2222222222222222,
              "#7201a8"
             ],
             [
              0.3333333333333333,
              "#9c179e"
             ],
             [
              0.4444444444444444,
              "#bd3786"
             ],
             [
              0.5555555555555556,
              "#d8576b"
             ],
             [
              0.6666666666666666,
              "#ed7953"
             ],
             [
              0.7777777777777778,
              "#fb9f3a"
             ],
             [
              0.8888888888888888,
              "#fdca26"
             ],
             [
              1,
              "#f0f921"
             ]
            ],
            "type": "histogram2d"
           }
          ],
          "histogram2dcontour": [
           {
            "colorbar": {
             "outlinewidth": 0,
             "ticks": ""
            },
            "colorscale": [
             [
              0,
              "#0d0887"
             ],
             [
              0.1111111111111111,
              "#46039f"
             ],
             [
              0.2222222222222222,
              "#7201a8"
             ],
             [
              0.3333333333333333,
              "#9c179e"
             ],
             [
              0.4444444444444444,
              "#bd3786"
             ],
             [
              0.5555555555555556,
              "#d8576b"
             ],
             [
              0.6666666666666666,
              "#ed7953"
             ],
             [
              0.7777777777777778,
              "#fb9f3a"
             ],
             [
              0.8888888888888888,
              "#fdca26"
             ],
             [
              1,
              "#f0f921"
             ]
            ],
            "type": "histogram2dcontour"
           }
          ],
          "mesh3d": [
           {
            "colorbar": {
             "outlinewidth": 0,
             "ticks": ""
            },
            "type": "mesh3d"
           }
          ],
          "parcoords": [
           {
            "line": {
             "colorbar": {
              "outlinewidth": 0,
              "ticks": ""
             }
            },
            "type": "parcoords"
           }
          ],
          "pie": [
           {
            "automargin": true,
            "type": "pie"
           }
          ],
          "scatter": [
           {
            "marker": {
             "colorbar": {
              "outlinewidth": 0,
              "ticks": ""
             }
            },
            "type": "scatter"
           }
          ],
          "scatter3d": [
           {
            "line": {
             "colorbar": {
              "outlinewidth": 0,
              "ticks": ""
             }
            },
            "marker": {
             "colorbar": {
              "outlinewidth": 0,
              "ticks": ""
             }
            },
            "type": "scatter3d"
           }
          ],
          "scattercarpet": [
           {
            "marker": {
             "colorbar": {
              "outlinewidth": 0,
              "ticks": ""
             }
            },
            "type": "scattercarpet"
           }
          ],
          "scattergeo": [
           {
            "marker": {
             "colorbar": {
              "outlinewidth": 0,
              "ticks": ""
             }
            },
            "type": "scattergeo"
           }
          ],
          "scattergl": [
           {
            "marker": {
             "colorbar": {
              "outlinewidth": 0,
              "ticks": ""
             }
            },
            "type": "scattergl"
           }
          ],
          "scattermapbox": [
           {
            "marker": {
             "colorbar": {
              "outlinewidth": 0,
              "ticks": ""
             }
            },
            "type": "scattermapbox"
           }
          ],
          "scatterpolar": [
           {
            "marker": {
             "colorbar": {
              "outlinewidth": 0,
              "ticks": ""
             }
            },
            "type": "scatterpolar"
           }
          ],
          "scatterpolargl": [
           {
            "marker": {
             "colorbar": {
              "outlinewidth": 0,
              "ticks": ""
             }
            },
            "type": "scatterpolargl"
           }
          ],
          "scatterternary": [
           {
            "marker": {
             "colorbar": {
              "outlinewidth": 0,
              "ticks": ""
             }
            },
            "type": "scatterternary"
           }
          ],
          "surface": [
           {
            "colorbar": {
             "outlinewidth": 0,
             "ticks": ""
            },
            "colorscale": [
             [
              0,
              "#0d0887"
             ],
             [
              0.1111111111111111,
              "#46039f"
             ],
             [
              0.2222222222222222,
              "#7201a8"
             ],
             [
              0.3333333333333333,
              "#9c179e"
             ],
             [
              0.4444444444444444,
              "#bd3786"
             ],
             [
              0.5555555555555556,
              "#d8576b"
             ],
             [
              0.6666666666666666,
              "#ed7953"
             ],
             [
              0.7777777777777778,
              "#fb9f3a"
             ],
             [
              0.8888888888888888,
              "#fdca26"
             ],
             [
              1,
              "#f0f921"
             ]
            ],
            "type": "surface"
           }
          ],
          "table": [
           {
            "cells": {
             "fill": {
              "color": "#EBF0F8"
             },
             "line": {
              "color": "white"
             }
            },
            "header": {
             "fill": {
              "color": "#C8D4E3"
             },
             "line": {
              "color": "white"
             }
            },
            "type": "table"
           }
          ]
         },
         "layout": {
          "annotationdefaults": {
           "arrowcolor": "#2a3f5f",
           "arrowhead": 0,
           "arrowwidth": 1
          },
          "autotypenumbers": "strict",
          "coloraxis": {
           "colorbar": {
            "outlinewidth": 0,
            "ticks": ""
           }
          },
          "colorscale": {
           "diverging": [
            [
             0,
             "#8e0152"
            ],
            [
             0.1,
             "#c51b7d"
            ],
            [
             0.2,
             "#de77ae"
            ],
            [
             0.3,
             "#f1b6da"
            ],
            [
             0.4,
             "#fde0ef"
            ],
            [
             0.5,
             "#f7f7f7"
            ],
            [
             0.6,
             "#e6f5d0"
            ],
            [
             0.7,
             "#b8e186"
            ],
            [
             0.8,
             "#7fbc41"
            ],
            [
             0.9,
             "#4d9221"
            ],
            [
             1,
             "#276419"
            ]
           ],
           "sequential": [
            [
             0,
             "#0d0887"
            ],
            [
             0.1111111111111111,
             "#46039f"
            ],
            [
             0.2222222222222222,
             "#7201a8"
            ],
            [
             0.3333333333333333,
             "#9c179e"
            ],
            [
             0.4444444444444444,
             "#bd3786"
            ],
            [
             0.5555555555555556,
             "#d8576b"
            ],
            [
             0.6666666666666666,
             "#ed7953"
            ],
            [
             0.7777777777777778,
             "#fb9f3a"
            ],
            [
             0.8888888888888888,
             "#fdca26"
            ],
            [
             1,
             "#f0f921"
            ]
           ],
           "sequentialminus": [
            [
             0,
             "#0d0887"
            ],
            [
             0.1111111111111111,
             "#46039f"
            ],
            [
             0.2222222222222222,
             "#7201a8"
            ],
            [
             0.3333333333333333,
             "#9c179e"
            ],
            [
             0.4444444444444444,
             "#bd3786"
            ],
            [
             0.5555555555555556,
             "#d8576b"
            ],
            [
             0.6666666666666666,
             "#ed7953"
            ],
            [
             0.7777777777777778,
             "#fb9f3a"
            ],
            [
             0.8888888888888888,
             "#fdca26"
            ],
            [
             1,
             "#f0f921"
            ]
           ]
          },
          "colorway": [
           "#636efa",
           "#EF553B",
           "#00cc96",
           "#ab63fa",
           "#FFA15A",
           "#19d3f3",
           "#FF6692",
           "#B6E880",
           "#FF97FF",
           "#FECB52"
          ],
          "font": {
           "color": "#2a3f5f"
          },
          "geo": {
           "bgcolor": "white",
           "lakecolor": "white",
           "landcolor": "white",
           "showlakes": true,
           "showland": true,
           "subunitcolor": "#C8D4E3"
          },
          "hoverlabel": {
           "align": "left"
          },
          "hovermode": "closest",
          "mapbox": {
           "style": "light"
          },
          "paper_bgcolor": "white",
          "plot_bgcolor": "white",
          "polar": {
           "angularaxis": {
            "gridcolor": "#EBF0F8",
            "linecolor": "#EBF0F8",
            "ticks": ""
           },
           "bgcolor": "white",
           "radialaxis": {
            "gridcolor": "#EBF0F8",
            "linecolor": "#EBF0F8",
            "ticks": ""
           }
          },
          "scene": {
           "xaxis": {
            "backgroundcolor": "white",
            "gridcolor": "#DFE8F3",
            "gridwidth": 2,
            "linecolor": "#EBF0F8",
            "showbackground": true,
            "ticks": "",
            "zerolinecolor": "#EBF0F8"
           },
           "yaxis": {
            "backgroundcolor": "white",
            "gridcolor": "#DFE8F3",
            "gridwidth": 2,
            "linecolor": "#EBF0F8",
            "showbackground": true,
            "ticks": "",
            "zerolinecolor": "#EBF0F8"
           },
           "zaxis": {
            "backgroundcolor": "white",
            "gridcolor": "#DFE8F3",
            "gridwidth": 2,
            "linecolor": "#EBF0F8",
            "showbackground": true,
            "ticks": "",
            "zerolinecolor": "#EBF0F8"
           }
          },
          "shapedefaults": {
           "line": {
            "color": "#2a3f5f"
           }
          },
          "ternary": {
           "aaxis": {
            "gridcolor": "#DFE8F3",
            "linecolor": "#A2B1C6",
            "ticks": ""
           },
           "baxis": {
            "gridcolor": "#DFE8F3",
            "linecolor": "#A2B1C6",
            "ticks": ""
           },
           "bgcolor": "white",
           "caxis": {
            "gridcolor": "#DFE8F3",
            "linecolor": "#A2B1C6",
            "ticks": ""
           }
          },
          "title": {
           "x": 0.05
          },
          "xaxis": {
           "automargin": true,
           "gridcolor": "#EBF0F8",
           "linecolor": "black",
           "mirror": true,
           "showline": true,
           "ticks": "outside",
           "title": {
            "standoff": 15
           },
           "zerolinecolor": "#EBF0F8",
           "zerolinewidth": 2
          },
          "yaxis": {
           "automargin": true,
           "gridcolor": "#EBF0F8",
           "linecolor": "black",
           "mirror": true,
           "showline": true,
           "ticks": "outside",
           "title": {
            "standoff": 15
           },
           "zerolinecolor": "#EBF0F8",
           "zerolinewidth": 2
          }
         }
        },
        "width": 600,
        "xaxis": {
         "anchor": "y",
         "domain": [
          0,
          1
         ],
         "title": {
          "text": "Series Volume"
         }
        },
        "xaxis2": {
         "anchor": "y2",
         "domain": [
          0,
          1
         ],
         "matches": "x",
         "showticklabels": false
        },
        "xaxis3": {
         "anchor": "y3",
         "domain": [
          0,
          1
         ],
         "matches": "x",
         "showticklabels": false
        },
        "xaxis4": {
         "anchor": "y4",
         "domain": [
          0,
          1
         ],
         "matches": "x",
         "showticklabels": false
        },
        "xaxis5": {
         "anchor": "y5",
         "domain": [
          0,
          1
         ],
         "matches": "x",
         "showticklabels": false
        },
        "yaxis": {
         "anchor": "x",
         "domain": [
          0,
          0.144
         ],
         "range": [
          1,
          5
         ],
         "title": {}
        },
        "yaxis2": {
         "anchor": "x2",
         "domain": [
          0.214,
          0.358
         ],
         "matches": "y",
         "title": {}
        },
        "yaxis3": {
         "anchor": "x3",
         "domain": [
          0.428,
          0.572
         ],
         "matches": "y",
         "title": {}
        },
        "yaxis4": {
         "anchor": "x4",
         "domain": [
          0.6419999999999999,
          0.7859999999999999
         ],
         "matches": "y",
         "title": {}
        },
        "yaxis5": {
         "anchor": "x5",
         "domain": [
          0.856,
          1
         ],
         "matches": "y",
         "title": {}
        }
       }
      }
     },
     "metadata": {},
     "output_type": "display_data"
    }
   ],
   "source": [
    "sanderson_sagas = sanderson_sagas_df.series_name.unique()\n",
    "\n",
    "for i, saga in enumerate(sanderson_sagas[::-1]):\n",
    "    df_i = sanderson_sagas_df.query(f'series_name == \"{saga}\"')\n",
    "    fig_sanderson.add_trace(\n",
    "        go.Scatter(\n",
    "            x=df_i['series_n'], y=df_i['hist_rating'], \n",
    "            mode='lines+markers', line_color='black',\n",
    "            showlegend=False, hoverinfo='none'\n",
    "            ),\n",
    "        row=i+1, col=1)\n",
    "    #Uncomment these two lines under this one to see how the plot changes in each iteration of the loop\n",
    "    #print(len(fig_sanderson.data))\n",
    "    #fig_sanderson.show()\n",
    "\n",
    "fig_sanderson.show()\n"
   ]
  },
  {
   "cell_type": "markdown",
   "metadata": {},
   "source": [
    "We can also add a `rangeslider`, so that users can easily modify the X-axis range. The downside of this option is that it fixes the Y-axis, so it can no longer be zoomed. This option is often useful for charts where the X-axis represents dates. "
   ]
  },
  {
   "cell_type": "code",
   "execution_count": 67,
   "metadata": {},
   "outputs": [
    {
     "data": {
      "application/vnd.plotly.v1+json": {
       "config": {
        "plotlyServerURL": "https://plot.ly"
       },
       "data": [
        {
         "alignmentgroup": "True",
         "customdata": [
          [
           "The Final Empire",
           506701,
           4.46
          ],
          [
           "The Well of Ascension",
           351248,
           4.423153614026008
          ],
          [
           "The Hero of Ages",
           323920,
           4.444215238744734
          ],
          [
           "The Alloy of Law",
           165193,
           4.415492939448964
          ],
          [
           "Shadows of Self",
           105732,
           4.406359766078329
          ],
          [
           "The Bands of Mourning",
           94533,
           4.406582163951124
          ],
          [
           "The Lost Metal",
           1725,
           4.406519154941216
          ]
         ],
         "hovertemplate": "<b>%{customdata[0]}</b><br>Num. ratings: %{customdata[1]:.0f} <br>Avg. rating: %{y:.2f}<br>Saga rating: %{customdata[2]:.2f}",
         "legendgroup": "",
         "marker": {
          "color": [
           506701,
           351248,
           323920,
           165193,
           105732,
           94533,
           1725
          ],
          "coloraxis": "coloraxis",
          "pattern": {
           "shape": ""
          }
         },
         "name": "",
         "offsetgroup": "",
         "orientation": "v",
         "showlegend": false,
         "textposition": "auto",
         "type": "bar",
         "x": [
          1,
          2,
          3,
          4,
          5,
          6,
          7
         ],
         "xaxis": "x5",
         "y": [
          4.46,
          4.37,
          4.5,
          4.21,
          4.29,
          4.41,
          4.35
         ],
         "yaxis": "y5"
        },
        {
         "alignmentgroup": "True",
         "customdata": [
          [
           "The Way of Kings",
           378925,
           4.64
          ],
          [
           "Words of Radiance",
           263111,
           4.685078796204574
          ],
          [
           "Oathbringer",
           174939,
           4.666860858655405
          ],
          [
           "Rhythm of War",
           84523,
           4.662467260049385
          ]
         ],
         "hovertemplate": "<b>%{customdata[0]}</b><br>Num. ratings: %{customdata[1]:.0f} <br>Avg. rating: %{y:.2f}<br>Saga rating: %{customdata[2]:.2f}",
         "legendgroup": "",
         "marker": {
          "color": [
           378925,
           263111,
           174939,
           84523
          ],
          "coloraxis": "coloraxis",
          "pattern": {
           "shape": ""
          }
         },
         "name": "",
         "offsetgroup": "",
         "orientation": "v",
         "showlegend": false,
         "textposition": "auto",
         "type": "bar",
         "x": [
          1,
          2,
          3,
          4
         ],
         "xaxis": "x4",
         "y": [
          4.64,
          4.75,
          4.6,
          4.62
         ],
         "yaxis": "y4"
        },
        {
         "alignmentgroup": "True",
         "customdata": [
          [
           "Warbreaker",
           149065,
           4.29
          ],
          [
           "Nightblood",
           166,
           4.289977752611723
          ]
         ],
         "hovertemplate": "<b>%{customdata[0]}</b><br>Num. ratings: %{customdata[1]:.0f} <br>Avg. rating: %{y:.2f}<br>Saga rating: %{customdata[2]:.2f}",
         "legendgroup": "",
         "marker": {
          "color": [
           149065,
           166
          ],
          "coloraxis": "coloraxis",
          "pattern": {
           "shape": ""
          }
         },
         "name": "",
         "offsetgroup": "",
         "orientation": "v",
         "showlegend": false,
         "textposition": "auto",
         "type": "bar",
         "x": [
          1,
          2
         ],
         "xaxis": "x3",
         "y": [
          4.29,
          4.27
         ],
         "yaxis": "y3"
        },
        {
         "alignmentgroup": "True",
         "customdata": [
          [
           "Skyward",
           100952,
           4.5
          ],
          [
           "Starsight",
           62540,
           4.4655726274068455
          ],
          [
           "Cytonic",
           21546,
           4.425333823322777
          ],
          [
           "Defiant",
           49,
           4.425382711913857
          ]
         ],
         "hovertemplate": "<b>%{customdata[0]}</b><br>Num. ratings: %{customdata[1]:.0f} <br>Avg. rating: %{y:.2f}<br>Saga rating: %{customdata[2]:.2f}",
         "legendgroup": "",
         "marker": {
          "color": [
           100952,
           62540,
           21546,
           49
          ],
          "coloraxis": "coloraxis",
          "pattern": {
           "shape": ""
          }
         },
         "name": "",
         "offsetgroup": "",
         "orientation": "v",
         "showlegend": false,
         "textposition": "auto",
         "type": "bar",
         "x": [
          1,
          2,
          3,
          4
         ],
         "xaxis": "x2",
         "y": [
          4.5,
          4.41,
          4.12,
          4.61
         ],
         "yaxis": "y2"
        },
        {
         "alignmentgroup": "True",
         "customdata": [
          [
           "Steelheart",
           166384,
           4.14
          ],
          [
           "Firefight",
           90993,
           4.182424769890083
          ],
          [
           "Calamity",
           70664,
           4.18405656609997
          ],
          [
           "Lux",
           1818,
           4.182876804937868
          ]
         ],
         "hovertemplate": "<b>%{customdata[0]}</b><br>Num. ratings: %{customdata[1]:.0f} <br>Avg. rating: %{y:.2f}<br>Saga rating: %{customdata[2]:.2f}",
         "legendgroup": "",
         "marker": {
          "color": [
           166384,
           90993,
           70664,
           1818
          ],
          "coloraxis": "coloraxis",
          "pattern": {
           "shape": ""
          }
         },
         "name": "",
         "offsetgroup": "",
         "orientation": "v",
         "showlegend": false,
         "textposition": "auto",
         "type": "bar",
         "x": [
          1,
          2,
          3,
          4
         ],
         "xaxis": "x",
         "y": [
          4.14,
          4.26,
          4.19,
          3.97
         ],
         "yaxis": "y"
        },
        {
         "hoverinfo": "none",
         "line": {
          "color": "black"
         },
         "mode": "lines+markers",
         "showlegend": false,
         "type": "scatter",
         "x": [
          1,
          2,
          3,
          4
         ],
         "xaxis": "x",
         "y": [
          4.14,
          4.182424769890083,
          4.18405656609997,
          4.182876804937868
         ],
         "yaxis": "y"
        },
        {
         "hoverinfo": "none",
         "line": {
          "color": "black"
         },
         "mode": "lines+markers",
         "showlegend": false,
         "type": "scatter",
         "x": [
          1,
          2,
          3,
          4
         ],
         "xaxis": "x2",
         "y": [
          4.5,
          4.4655726274068455,
          4.425333823322777,
          4.425382711913857
         ],
         "yaxis": "y2"
        },
        {
         "hoverinfo": "none",
         "line": {
          "color": "black"
         },
         "mode": "lines+markers",
         "showlegend": false,
         "type": "scatter",
         "x": [
          1,
          2
         ],
         "xaxis": "x3",
         "y": [
          4.29,
          4.289977752611723
         ],
         "yaxis": "y3"
        },
        {
         "hoverinfo": "none",
         "line": {
          "color": "black"
         },
         "mode": "lines+markers",
         "showlegend": false,
         "type": "scatter",
         "x": [
          1,
          2,
          3,
          4
         ],
         "xaxis": "x4",
         "y": [
          4.64,
          4.685078796204574,
          4.666860858655405,
          4.662467260049385
         ],
         "yaxis": "y4"
        },
        {
         "hoverinfo": "none",
         "line": {
          "color": "black"
         },
         "mode": "lines+markers",
         "showlegend": false,
         "type": "scatter",
         "x": [
          1,
          2,
          3,
          4,
          5,
          6,
          7
         ],
         "xaxis": "x5",
         "y": [
          4.46,
          4.423153614026008,
          4.444215238744734,
          4.415492939448964,
          4.406359766078329,
          4.406582163951124,
          4.406519154941216
         ],
         "yaxis": "y5"
        }
       ],
       "layout": {
        "annotations": [
         {
          "showarrow": false,
          "text": "The Reckoners",
          "x": 0.5,
          "xanchor": "center",
          "xref": "paper",
          "y": 0.144,
          "yanchor": "bottom",
          "yref": "paper"
         },
         {
          "showarrow": false,
          "text": "Skyward",
          "x": 0.5,
          "xanchor": "center",
          "xref": "paper",
          "y": 0.358,
          "yanchor": "bottom",
          "yref": "paper"
         },
         {
          "showarrow": false,
          "text": "Warbreaker",
          "x": 0.5,
          "xanchor": "center",
          "xref": "paper",
          "y": 0.572,
          "yanchor": "bottom",
          "yref": "paper"
         },
         {
          "showarrow": false,
          "text": "The Stormlight Archive",
          "x": 0.5,
          "xanchor": "center",
          "xref": "paper",
          "y": 0.7859999999999999,
          "yanchor": "bottom",
          "yref": "paper"
         },
         {
          "showarrow": false,
          "text": "The Mistborn Saga",
          "x": 0.5,
          "xanchor": "center",
          "xref": "paper",
          "y": 1,
          "yanchor": "bottom",
          "yref": "paper"
         },
         {
          "showarrow": false,
          "text": "Average rating",
          "textangle": -90,
          "x": -0.11,
          "xref": "paper",
          "y": 0.5,
          "yref": "paper"
         }
        ],
        "barmode": "relative",
        "coloraxis": {
         "colorbar": {
          "title": {
           "text": "Number<br>of ratings"
          }
         },
         "colorscale": [
          [
           0,
           "rgb(209, 238, 234)"
          ],
          [
           0.16666666666666666,
           "rgb(168, 219, 217)"
          ],
          [
           0.3333333333333333,
           "rgb(133, 196, 201)"
          ],
          [
           0.5,
           "rgb(104, 171, 184)"
          ],
          [
           0.6666666666666666,
           "rgb(79, 144, 166)"
          ],
          [
           0.8333333333333334,
           "rgb(59, 115, 143)"
          ],
          [
           1,
           "rgb(42, 86, 116)"
          ]
         ]
        },
        "height": 700,
        "legend": {
         "tracegroupgap": 0
        },
        "margin": {
         "t": 60
        },
        "template": {
         "data": {
          "bar": [
           {
            "error_x": {
             "color": "#2a3f5f"
            },
            "error_y": {
             "color": "#2a3f5f"
            },
            "marker": {
             "line": {
              "color": "white",
              "width": 0.5
             },
             "pattern": {
              "fillmode": "overlay",
              "size": 10,
              "solidity": 0.2
             }
            },
            "type": "bar"
           }
          ],
          "barpolar": [
           {
            "marker": {
             "line": {
              "color": "white",
              "width": 0.5
             },
             "pattern": {
              "fillmode": "overlay",
              "size": 10,
              "solidity": 0.2
             }
            },
            "type": "barpolar"
           }
          ],
          "carpet": [
           {
            "aaxis": {
             "endlinecolor": "#2a3f5f",
             "gridcolor": "#C8D4E3",
             "linecolor": "#C8D4E3",
             "minorgridcolor": "#C8D4E3",
             "startlinecolor": "#2a3f5f"
            },
            "baxis": {
             "endlinecolor": "#2a3f5f",
             "gridcolor": "#C8D4E3",
             "linecolor": "#C8D4E3",
             "minorgridcolor": "#C8D4E3",
             "startlinecolor": "#2a3f5f"
            },
            "type": "carpet"
           }
          ],
          "choropleth": [
           {
            "colorbar": {
             "outlinewidth": 0,
             "ticks": ""
            },
            "type": "choropleth"
           }
          ],
          "contour": [
           {
            "colorbar": {
             "outlinewidth": 0,
             "ticks": ""
            },
            "colorscale": [
             [
              0,
              "#0d0887"
             ],
             [
              0.1111111111111111,
              "#46039f"
             ],
             [
              0.2222222222222222,
              "#7201a8"
             ],
             [
              0.3333333333333333,
              "#9c179e"
             ],
             [
              0.4444444444444444,
              "#bd3786"
             ],
             [
              0.5555555555555556,
              "#d8576b"
             ],
             [
              0.6666666666666666,
              "#ed7953"
             ],
             [
              0.7777777777777778,
              "#fb9f3a"
             ],
             [
              0.8888888888888888,
              "#fdca26"
             ],
             [
              1,
              "#f0f921"
             ]
            ],
            "type": "contour"
           }
          ],
          "contourcarpet": [
           {
            "colorbar": {
             "outlinewidth": 0,
             "ticks": ""
            },
            "type": "contourcarpet"
           }
          ],
          "heatmap": [
           {
            "colorbar": {
             "outlinewidth": 0,
             "ticks": ""
            },
            "colorscale": [
             [
              0,
              "#0d0887"
             ],
             [
              0.1111111111111111,
              "#46039f"
             ],
             [
              0.2222222222222222,
              "#7201a8"
             ],
             [
              0.3333333333333333,
              "#9c179e"
             ],
             [
              0.4444444444444444,
              "#bd3786"
             ],
             [
              0.5555555555555556,
              "#d8576b"
             ],
             [
              0.6666666666666666,
              "#ed7953"
             ],
             [
              0.7777777777777778,
              "#fb9f3a"
             ],
             [
              0.8888888888888888,
              "#fdca26"
             ],
             [
              1,
              "#f0f921"
             ]
            ],
            "type": "heatmap"
           }
          ],
          "heatmapgl": [
           {
            "colorbar": {
             "outlinewidth": 0,
             "ticks": ""
            },
            "colorscale": [
             [
              0,
              "#0d0887"
             ],
             [
              0.1111111111111111,
              "#46039f"
             ],
             [
              0.2222222222222222,
              "#7201a8"
             ],
             [
              0.3333333333333333,
              "#9c179e"
             ],
             [
              0.4444444444444444,
              "#bd3786"
             ],
             [
              0.5555555555555556,
              "#d8576b"
             ],
             [
              0.6666666666666666,
              "#ed7953"
             ],
             [
              0.7777777777777778,
              "#fb9f3a"
             ],
             [
              0.8888888888888888,
              "#fdca26"
             ],
             [
              1,
              "#f0f921"
             ]
            ],
            "type": "heatmapgl"
           }
          ],
          "histogram": [
           {
            "marker": {
             "pattern": {
              "fillmode": "overlay",
              "size": 10,
              "solidity": 0.2
             }
            },
            "type": "histogram"
           }
          ],
          "histogram2d": [
           {
            "colorbar": {
             "outlinewidth": 0,
             "ticks": ""
            },
            "colorscale": [
             [
              0,
              "#0d0887"
             ],
             [
              0.1111111111111111,
              "#46039f"
             ],
             [
              0.2222222222222222,
              "#7201a8"
             ],
             [
              0.3333333333333333,
              "#9c179e"
             ],
             [
              0.4444444444444444,
              "#bd3786"
             ],
             [
              0.5555555555555556,
              "#d8576b"
             ],
             [
              0.6666666666666666,
              "#ed7953"
             ],
             [
              0.7777777777777778,
              "#fb9f3a"
             ],
             [
              0.8888888888888888,
              "#fdca26"
             ],
             [
              1,
              "#f0f921"
             ]
            ],
            "type": "histogram2d"
           }
          ],
          "histogram2dcontour": [
           {
            "colorbar": {
             "outlinewidth": 0,
             "ticks": ""
            },
            "colorscale": [
             [
              0,
              "#0d0887"
             ],
             [
              0.1111111111111111,
              "#46039f"
             ],
             [
              0.2222222222222222,
              "#7201a8"
             ],
             [
              0.3333333333333333,
              "#9c179e"
             ],
             [
              0.4444444444444444,
              "#bd3786"
             ],
             [
              0.5555555555555556,
              "#d8576b"
             ],
             [
              0.6666666666666666,
              "#ed7953"
             ],
             [
              0.7777777777777778,
              "#fb9f3a"
             ],
             [
              0.8888888888888888,
              "#fdca26"
             ],
             [
              1,
              "#f0f921"
             ]
            ],
            "type": "histogram2dcontour"
           }
          ],
          "mesh3d": [
           {
            "colorbar": {
             "outlinewidth": 0,
             "ticks": ""
            },
            "type": "mesh3d"
           }
          ],
          "parcoords": [
           {
            "line": {
             "colorbar": {
              "outlinewidth": 0,
              "ticks": ""
             }
            },
            "type": "parcoords"
           }
          ],
          "pie": [
           {
            "automargin": true,
            "type": "pie"
           }
          ],
          "scatter": [
           {
            "marker": {
             "colorbar": {
              "outlinewidth": 0,
              "ticks": ""
             }
            },
            "type": "scatter"
           }
          ],
          "scatter3d": [
           {
            "line": {
             "colorbar": {
              "outlinewidth": 0,
              "ticks": ""
             }
            },
            "marker": {
             "colorbar": {
              "outlinewidth": 0,
              "ticks": ""
             }
            },
            "type": "scatter3d"
           }
          ],
          "scattercarpet": [
           {
            "marker": {
             "colorbar": {
              "outlinewidth": 0,
              "ticks": ""
             }
            },
            "type": "scattercarpet"
           }
          ],
          "scattergeo": [
           {
            "marker": {
             "colorbar": {
              "outlinewidth": 0,
              "ticks": ""
             }
            },
            "type": "scattergeo"
           }
          ],
          "scattergl": [
           {
            "marker": {
             "colorbar": {
              "outlinewidth": 0,
              "ticks": ""
             }
            },
            "type": "scattergl"
           }
          ],
          "scattermapbox": [
           {
            "marker": {
             "colorbar": {
              "outlinewidth": 0,
              "ticks": ""
             }
            },
            "type": "scattermapbox"
           }
          ],
          "scatterpolar": [
           {
            "marker": {
             "colorbar": {
              "outlinewidth": 0,
              "ticks": ""
             }
            },
            "type": "scatterpolar"
           }
          ],
          "scatterpolargl": [
           {
            "marker": {
             "colorbar": {
              "outlinewidth": 0,
              "ticks": ""
             }
            },
            "type": "scatterpolargl"
           }
          ],
          "scatterternary": [
           {
            "marker": {
             "colorbar": {
              "outlinewidth": 0,
              "ticks": ""
             }
            },
            "type": "scatterternary"
           }
          ],
          "surface": [
           {
            "colorbar": {
             "outlinewidth": 0,
             "ticks": ""
            },
            "colorscale": [
             [
              0,
              "#0d0887"
             ],
             [
              0.1111111111111111,
              "#46039f"
             ],
             [
              0.2222222222222222,
              "#7201a8"
             ],
             [
              0.3333333333333333,
              "#9c179e"
             ],
             [
              0.4444444444444444,
              "#bd3786"
             ],
             [
              0.5555555555555556,
              "#d8576b"
             ],
             [
              0.6666666666666666,
              "#ed7953"
             ],
             [
              0.7777777777777778,
              "#fb9f3a"
             ],
             [
              0.8888888888888888,
              "#fdca26"
             ],
             [
              1,
              "#f0f921"
             ]
            ],
            "type": "surface"
           }
          ],
          "table": [
           {
            "cells": {
             "fill": {
              "color": "#EBF0F8"
             },
             "line": {
              "color": "white"
             }
            },
            "header": {
             "fill": {
              "color": "#C8D4E3"
             },
             "line": {
              "color": "white"
             }
            },
            "type": "table"
           }
          ]
         },
         "layout": {
          "annotationdefaults": {
           "arrowcolor": "#2a3f5f",
           "arrowhead": 0,
           "arrowwidth": 1
          },
          "autotypenumbers": "strict",
          "coloraxis": {
           "colorbar": {
            "outlinewidth": 0,
            "ticks": ""
           }
          },
          "colorscale": {
           "diverging": [
            [
             0,
             "#8e0152"
            ],
            [
             0.1,
             "#c51b7d"
            ],
            [
             0.2,
             "#de77ae"
            ],
            [
             0.3,
             "#f1b6da"
            ],
            [
             0.4,
             "#fde0ef"
            ],
            [
             0.5,
             "#f7f7f7"
            ],
            [
             0.6,
             "#e6f5d0"
            ],
            [
             0.7,
             "#b8e186"
            ],
            [
             0.8,
             "#7fbc41"
            ],
            [
             0.9,
             "#4d9221"
            ],
            [
             1,
             "#276419"
            ]
           ],
           "sequential": [
            [
             0,
             "#0d0887"
            ],
            [
             0.1111111111111111,
             "#46039f"
            ],
            [
             0.2222222222222222,
             "#7201a8"
            ],
            [
             0.3333333333333333,
             "#9c179e"
            ],
            [
             0.4444444444444444,
             "#bd3786"
            ],
            [
             0.5555555555555556,
             "#d8576b"
            ],
            [
             0.6666666666666666,
             "#ed7953"
            ],
            [
             0.7777777777777778,
             "#fb9f3a"
            ],
            [
             0.8888888888888888,
             "#fdca26"
            ],
            [
             1,
             "#f0f921"
            ]
           ],
           "sequentialminus": [
            [
             0,
             "#0d0887"
            ],
            [
             0.1111111111111111,
             "#46039f"
            ],
            [
             0.2222222222222222,
             "#7201a8"
            ],
            [
             0.3333333333333333,
             "#9c179e"
            ],
            [
             0.4444444444444444,
             "#bd3786"
            ],
            [
             0.5555555555555556,
             "#d8576b"
            ],
            [
             0.6666666666666666,
             "#ed7953"
            ],
            [
             0.7777777777777778,
             "#fb9f3a"
            ],
            [
             0.8888888888888888,
             "#fdca26"
            ],
            [
             1,
             "#f0f921"
            ]
           ]
          },
          "colorway": [
           "#636efa",
           "#EF553B",
           "#00cc96",
           "#ab63fa",
           "#FFA15A",
           "#19d3f3",
           "#FF6692",
           "#B6E880",
           "#FF97FF",
           "#FECB52"
          ],
          "font": {
           "color": "#2a3f5f"
          },
          "geo": {
           "bgcolor": "white",
           "lakecolor": "white",
           "landcolor": "white",
           "showlakes": true,
           "showland": true,
           "subunitcolor": "#C8D4E3"
          },
          "hoverlabel": {
           "align": "left"
          },
          "hovermode": "closest",
          "mapbox": {
           "style": "light"
          },
          "paper_bgcolor": "white",
          "plot_bgcolor": "white",
          "polar": {
           "angularaxis": {
            "gridcolor": "#EBF0F8",
            "linecolor": "#EBF0F8",
            "ticks": ""
           },
           "bgcolor": "white",
           "radialaxis": {
            "gridcolor": "#EBF0F8",
            "linecolor": "#EBF0F8",
            "ticks": ""
           }
          },
          "scene": {
           "xaxis": {
            "backgroundcolor": "white",
            "gridcolor": "#DFE8F3",
            "gridwidth": 2,
            "linecolor": "#EBF0F8",
            "showbackground": true,
            "ticks": "",
            "zerolinecolor": "#EBF0F8"
           },
           "yaxis": {
            "backgroundcolor": "white",
            "gridcolor": "#DFE8F3",
            "gridwidth": 2,
            "linecolor": "#EBF0F8",
            "showbackground": true,
            "ticks": "",
            "zerolinecolor": "#EBF0F8"
           },
           "zaxis": {
            "backgroundcolor": "white",
            "gridcolor": "#DFE8F3",
            "gridwidth": 2,
            "linecolor": "#EBF0F8",
            "showbackground": true,
            "ticks": "",
            "zerolinecolor": "#EBF0F8"
           }
          },
          "shapedefaults": {
           "line": {
            "color": "#2a3f5f"
           }
          },
          "ternary": {
           "aaxis": {
            "gridcolor": "#DFE8F3",
            "linecolor": "#A2B1C6",
            "ticks": ""
           },
           "baxis": {
            "gridcolor": "#DFE8F3",
            "linecolor": "#A2B1C6",
            "ticks": ""
           },
           "bgcolor": "white",
           "caxis": {
            "gridcolor": "#DFE8F3",
            "linecolor": "#A2B1C6",
            "ticks": ""
           }
          },
          "title": {
           "x": 0.05
          },
          "xaxis": {
           "automargin": true,
           "gridcolor": "#EBF0F8",
           "linecolor": "black",
           "mirror": true,
           "showline": true,
           "ticks": "outside",
           "title": {
            "standoff": 15
           },
           "zerolinecolor": "#EBF0F8",
           "zerolinewidth": 2
          },
          "yaxis": {
           "automargin": true,
           "gridcolor": "#EBF0F8",
           "linecolor": "black",
           "mirror": true,
           "showline": true,
           "ticks": "outside",
           "title": {
            "standoff": 15
           },
           "zerolinecolor": "#EBF0F8",
           "zerolinewidth": 2
          }
         }
        },
        "width": 600,
        "xaxis": {
         "anchor": "y",
         "domain": [
          0,
          1
         ],
         "rangeslider": {
          "autorange": true,
          "visible": true
         },
         "title": {
          "text": "Series Volume"
         }
        },
        "xaxis2": {
         "anchor": "y2",
         "domain": [
          0,
          1
         ],
         "matches": "x",
         "showticklabels": false
        },
        "xaxis3": {
         "anchor": "y3",
         "domain": [
          0,
          1
         ],
         "matches": "x",
         "showticklabels": false
        },
        "xaxis4": {
         "anchor": "y4",
         "domain": [
          0,
          1
         ],
         "matches": "x",
         "showticklabels": false
        },
        "xaxis5": {
         "anchor": "y5",
         "domain": [
          0,
          1
         ],
         "matches": "x",
         "showticklabels": false
        },
        "yaxis": {
         "anchor": "x",
         "domain": [
          0,
          0.144
         ],
         "range": [
          1,
          5
         ],
         "title": {}
        },
        "yaxis2": {
         "anchor": "x2",
         "domain": [
          0.214,
          0.358
         ],
         "matches": "y",
         "title": {}
        },
        "yaxis3": {
         "anchor": "x3",
         "domain": [
          0.428,
          0.572
         ],
         "matches": "y",
         "title": {}
        },
        "yaxis4": {
         "anchor": "x4",
         "domain": [
          0.6419999999999999,
          0.7859999999999999
         ],
         "matches": "y",
         "title": {}
        },
        "yaxis5": {
         "anchor": "x5",
         "domain": [
          0.856,
          1
         ],
         "matches": "y",
         "title": {}
        }
       }
      }
     },
     "metadata": {},
     "output_type": "display_data"
    }
   ],
   "source": [
    "# https://plotly.com/python/range-slider/\n",
    "fig_sanderson.update_layout(\n",
    "    xaxis = {\n",
    "        'rangeslider':{\n",
    "            'autorange':True,\n",
    "            'visible':True\n",
    "        }\n",
    "    }\n",
    ")"
   ]
  },
  {
   "cell_type": "code",
   "execution_count": null,
   "metadata": {},
   "outputs": [],
   "source": []
  }
 ],
 "metadata": {
  "interpreter": {
   "hash": "aee8b7b246df8f9039afb4144a1f6fd8d2ca17a180786b69acc140d282b71a49"
  },
  "kernelspec": {
   "display_name": "Python 3.10.2 64-bit",
   "language": "python",
   "name": "python3"
  },
  "language_info": {
   "codemirror_mode": {
    "name": "ipython",
    "version": 3
   },
   "file_extension": ".py",
   "mimetype": "text/x-python",
   "name": "python",
   "nbconvert_exporter": "python",
   "pygments_lexer": "ipython3",
   "version": "3.10.2"
  },
  "orig_nbformat": 4
 },
 "nbformat": 4,
 "nbformat_minor": 2
}
